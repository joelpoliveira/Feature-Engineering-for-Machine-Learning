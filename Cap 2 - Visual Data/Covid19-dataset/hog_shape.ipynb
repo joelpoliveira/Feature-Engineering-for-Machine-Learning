{
 "cells": [
  {
   "cell_type": "code",
   "execution_count": 36,
   "id": "2d4b7c1b-c3f1-49a1-9559-1c2bae3d9819",
   "metadata": {
    "tags": []
   },
   "outputs": [],
   "source": [
    "%reload_ext autoreload\n",
    "%autoreload 2\n",
    "import os\n",
    "import ray\n",
    "import numpy as np\n",
    "\n",
    "from skimage.feature import hog\n",
    "from util import *\n",
    "\n",
    "from sklearn.svm import SVC\n",
    "from sklearn.metrics import confusion_matrix, ConfusionMatrixDisplay, classification_report"
   ]
  },
  {
   "cell_type": "code",
   "execution_count": 13,
   "id": "cb7bb0f2-cba4-4730-89c9-d53bddf26140",
   "metadata": {
    "tags": []
   },
   "outputs": [],
   "source": [
    "PATH = \"train/\"\n",
    "files = []\n",
    "classes = []\n",
    "for direc in os.listdir(PATH):\n",
    "    for file in os.listdir(PATH + direc):\n",
    "        files.append(direc + \"/\" + file)\n",
    "        if direc==\"Covid\":\n",
    "            classes.append(1)\n",
    "        else:\n",
    "            classes.append(0)"
   ]
  },
  {
   "cell_type": "code",
   "execution_count": 20,
   "id": "ad355ff6-2713-40ca-b896-1f067f9f592e",
   "metadata": {
    "tags": []
   },
   "outputs": [],
   "source": [
    "images = []\n",
    "for file in files:\n",
    "    img = read_image(PATH, file)\n",
    "    try:\n",
    "        temp = hog(img, channel_axis=2)\n",
    "    except:\n",
    "        temp = hog(img)\n",
    "    finally:\n",
    "        images.append(temp)"
   ]
  },
  {
   "cell_type": "code",
   "execution_count": 22,
   "id": "3761075f-6676-43dd-a41d-6f15532d0230",
   "metadata": {
    "tags": []
   },
   "outputs": [],
   "source": [
    "images = np.array(images)"
   ]
  },
  {
   "cell_type": "code",
   "execution_count": 23,
   "id": "36b9a610-8112-4e5b-84e8-94261dc4c631",
   "metadata": {
    "tags": []
   },
   "outputs": [
    {
     "data": {
      "text/plain": [
       "(251, 72900)"
      ]
     },
     "execution_count": 23,
     "metadata": {},
     "output_type": "execute_result"
    }
   ],
   "source": [
    "images.shape"
   ]
  },
  {
   "cell_type": "code",
   "execution_count": 25,
   "id": "5dda77b6-f1e0-48f0-8d18-c616293f11af",
   "metadata": {
    "tags": []
   },
   "outputs": [
    {
     "data": {
      "text/plain": [
       "(251, 251)"
      ]
     },
     "execution_count": 25,
     "metadata": {},
     "output_type": "execute_result"
    }
   ],
   "source": [
    "len(files), len(classes)"
   ]
  },
  {
   "cell_type": "code",
   "execution_count": 45,
   "id": "7a1b0327-08c6-4352-8545-335916068383",
   "metadata": {
    "tags": []
   },
   "outputs": [],
   "source": [
    "model = SVC(kernel=\"linear\", degree=2).fit(\n",
    "    X=images,\n",
    "    y=classes\n",
    ")"
   ]
  },
  {
   "cell_type": "code",
   "execution_count": 46,
   "id": "a8e5c445-e9e7-4b44-ab9f-2e5f41f44447",
   "metadata": {
    "tags": []
   },
   "outputs": [
    {
     "data": {
      "text/plain": [
       "1.0"
      ]
     },
     "execution_count": 46,
     "metadata": {},
     "output_type": "execute_result"
    }
   ],
   "source": [
    "model.score(images, classes)"
   ]
  },
  {
   "cell_type": "code",
   "execution_count": 30,
   "id": "8eb3fc22-0586-410c-a853-bbc35e4270fc",
   "metadata": {
    "tags": []
   },
   "outputs": [],
   "source": [
    "test_files = []\n",
    "test_classes = []\n",
    "TEST_PATH=\"test/\"\n",
    "for direc in os.listdir(TEST_PATH):\n",
    "    for file in os.listdir(TEST_PATH + direc):\n",
    "        test_files.append(direc + \"/\" + file)\n",
    "        if direc==\"Covid\":\n",
    "            test_classes.append(1)\n",
    "        else:\n",
    "            test_classes.append(0)"
   ]
  },
  {
   "cell_type": "code",
   "execution_count": 31,
   "id": "7c034fd7-f443-413f-acac-437d3154e8e9",
   "metadata": {
    "tags": []
   },
   "outputs": [],
   "source": [
    "test_images = []\n",
    "for file in test_files:\n",
    "    img = read_image(TEST_PATH, file)\n",
    "    try:\n",
    "        temp = hog(img, channel_axis=2)\n",
    "    except:\n",
    "        temp = hog(img)\n",
    "    finally:\n",
    "        test_images.append(temp)\n"
   ]
  },
  {
   "cell_type": "code",
   "execution_count": 32,
   "id": "0ebb0480-d110-4904-85e6-c6c30d2f7cb8",
   "metadata": {
    "tags": []
   },
   "outputs": [],
   "source": [
    "test_images = np.array(test_images)"
   ]
  },
  {
   "cell_type": "code",
   "execution_count": 47,
   "id": "650bbd20-671e-4153-ac09-53172d43840f",
   "metadata": {
    "tags": []
   },
   "outputs": [
    {
     "data": {
      "text/plain": [
       "0.9696969696969697"
      ]
     },
     "execution_count": 47,
     "metadata": {},
     "output_type": "execute_result"
    }
   ],
   "source": [
    "model.score(test_images, test_classes)"
   ]
  },
  {
   "cell_type": "code",
   "execution_count": 48,
   "id": "ef1c7db9-d265-43c5-9e97-d6df47c3f774",
   "metadata": {
    "tags": []
   },
   "outputs": [],
   "source": [
    "preds = model.predict(test_images)"
   ]
  },
  {
   "cell_type": "code",
   "execution_count": 49,
   "id": "ded13c6a-d6c1-4853-a980-1067a62c8f7a",
   "metadata": {
    "tags": []
   },
   "outputs": [
    {
     "name": "stdout",
     "output_type": "stream",
     "text": [
      "              precision    recall  f1-score   support\n",
      "\n",
      "           0       0.97      0.97      0.97        40\n",
      "           1       0.96      0.96      0.96        26\n",
      "\n",
      "    accuracy                           0.97        66\n",
      "   macro avg       0.97      0.97      0.97        66\n",
      "weighted avg       0.97      0.97      0.97        66\n",
      "\n"
     ]
    }
   ],
   "source": [
    "print(classification_report(test_classes,preds))"
   ]
  },
  {
   "cell_type": "code",
   "execution_count": 50,
   "id": "ab0d01ac-99aa-474b-b0f6-98e3b4e8e8b0",
   "metadata": {
    "tags": []
   },
   "outputs": [
    {
     "data": {
      "text/plain": [
       "<sklearn.metrics._plot.confusion_matrix.ConfusionMatrixDisplay at 0x2c2cb248280>"
      ]
     },
     "execution_count": 50,
     "metadata": {},
     "output_type": "execute_result"
    },
    {
     "data": {
      "image/png": "[encoded data removed]",
      "text/plain": [
       "<Figure size 640x480 with 2 Axes>"
      ]
     },
     "metadata": {},
     "output_type": "display_data"
    }
   ],
   "source": [
    "ConfusionMatrixDisplay(\n",
    "    confusion_matrix(test_classes, preds)\n",
    ").plot()"
   ]
  },
  {
   "cell_type": "markdown",
   "id": "bcb1e6fe-24cf-4376-8d69-94717eca178e",
   "metadata": {},
   "source": [
    "Even for a svm with a linear kernel, explendid results"
   ]
  }
 ],
 "metadata": {
  "kernelspec": {
   "display_name": "Python 3 (ipykernel)",
   "language": "python",
   "name": "python3"
  },
  "language_info": {
   "codemirror_mode": {
    "name": "ipython",
    "version": 3
   },
   "file_extension": ".py",
   "mimetype": "text/x-python",
   "name": "python",
   "nbconvert_exporter": "python",
   "pygments_lexer": "ipython3",
   "version": "3.9.7"
  }
 },
 "nbformat": 4,
 "nbformat_minor": 5
}
