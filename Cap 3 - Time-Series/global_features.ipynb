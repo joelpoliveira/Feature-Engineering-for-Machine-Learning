{
 "cells": [
  {
   "cell_type": "code",
   "execution_count": 77,
   "id": "125330c5-ffb9-4f46-948f-3fe0c23a5b18",
   "metadata": {
    "tags": []
   },
   "outputs": [],
   "source": [
    "import numpy as np\n",
    "import pandas as pd\n",
    "import seaborn as sns\n",
    "import matplotlib.pyplot as plt \n",
    "\n",
    "from scipy import stats\n",
    "from scipy import signal\n",
    "from scipy.spatial.distance import euclidean\n",
    "\n",
    "from sklearn.model_selection import train_test_split"
   ]
  },
  {
   "cell_type": "code",
   "execution_count": 16,
   "id": "3d8aa9cd-1865-4f5a-a70c-887990924694",
   "metadata": {
    "tags": []
   },
   "outputs": [],
   "source": [
    "ecgs = np.loadtxt(\"ecg.csv\", delimiter=\",\")"
   ]
  },
  {
   "cell_type": "code",
   "execution_count": 17,
   "id": "c7d8c63c-f6e4-4e8b-94d8-e44c50150dd7",
   "metadata": {
    "tags": []
   },
   "outputs": [],
   "source": [
    "X, y = ecgs[:,:-1], ecgs[:, -1]"
   ]
  },
  {
   "cell_type": "code",
   "execution_count": 11,
   "id": "a946006e-89a2-46af-b7a9-9891ce315a00",
   "metadata": {
    "tags": []
   },
   "outputs": [],
   "source": [
    "X_train, X_test, y_train, y_test = train_test_split(X, y, test_size=0.2, random_state=23)"
   ]
  },
  {
   "cell_type": "code",
   "execution_count": 13,
   "id": "c53ed1a4-192d-4bd7-ba34-de8a9d92eabd",
   "metadata": {
    "tags": []
   },
   "outputs": [
    {
     "data": {
      "text/plain": [
       "(array([0., 1.]), array([408, 592], dtype=int64))"
      ]
     },
     "execution_count": 13,
     "metadata": {},
     "output_type": "execute_result"
    }
   ],
   "source": [
    "np.unique(y_test, return_counts=True)"
   ]
  },
  {
   "cell_type": "markdown",
   "id": "aa3e31ff-ae76-4241-843b-bbfa7d21c952",
   "metadata": {},
   "source": [
    "### Unbiased Variance"
   ]
  },
  {
   "cell_type": "code",
   "execution_count": 49,
   "id": "764c6b79-78db-4ff8-9a6e-d3446c0d8f83",
   "metadata": {
    "tags": []
   },
   "outputs": [
    {
     "data": {
      "text/plain": [
       "1.0000000027371407"
      ]
     },
     "execution_count": 49,
     "metadata": {},
     "output_type": "execute_result"
    }
   ],
   "source": [
    "stats.tvar(X_train[0])"
   ]
  },
  {
   "cell_type": "code",
   "execution_count": 20,
   "id": "cdbadd3d-4493-43bc-8f03-99dab8a83d8b",
   "metadata": {
    "tags": []
   },
   "outputs": [],
   "source": [
    "def unbiased_var(ts):\n",
    "    mean = ts.mean()\n",
    "    N = len(ts)\n",
    "    return ((ts-mean)**2).sum()/(N-1)"
   ]
  },
  {
   "cell_type": "code",
   "execution_count": 21,
   "id": "8b9df7b3-104a-473d-b33f-585e33ae1e46",
   "metadata": {
    "tags": []
   },
   "outputs": [
    {
     "data": {
      "text/plain": [
       "1.0000000027371407"
      ]
     },
     "execution_count": 21,
     "metadata": {},
     "output_type": "execute_result"
    }
   ],
   "source": [
    "unbiased_var(X_train[0])"
   ]
  },
  {
   "cell_type": "code",
   "execution_count": 57,
   "id": "41cef4d4-61bd-44be-ae09-9d429d49644c",
   "metadata": {
    "tags": []
   },
   "outputs": [
    {
     "data": {
      "text/plain": [
       "(1.0000000000106128, 4.4183772525699564e-09)"
      ]
     },
     "execution_count": 57,
     "metadata": {},
     "output_type": "execute_result"
    }
   ],
   "source": [
    "ecg_neg = np.array(list(map(unbiased_var, X_train[y_train==0])))\n",
    "ecg_neg.mean(), ecg_neg.std()"
   ]
  },
  {
   "cell_type": "code",
   "execution_count": 56,
   "id": "8788c13f-4ddf-416f-b44a-ed10342e7960",
   "metadata": {
    "tags": []
   },
   "outputs": [
    {
     "data": {
      "text/plain": [
       "(0.9999999998953338, 4.376717097350575e-09)"
      ]
     },
     "execution_count": 56,
     "metadata": {},
     "output_type": "execute_result"
    }
   ],
   "source": [
    "ecg_pos = np.array(list(map(unbiased_var, X_train[y_train==1])))\n",
    "ecg_pos.mean(), ecg_pos.std()"
   ]
  },
  {
   "cell_type": "markdown",
   "id": "02d26c61-23e7-486d-86f7-f555b7113226",
   "metadata": {},
   "source": [
    "No major differences when using unbiased variance"
   ]
  },
  {
   "cell_type": "markdown",
   "id": "d06433ce-573c-4e4c-9e27-6368d667b371",
   "metadata": {},
   "source": [
    "### Stationary Average"
   ]
  },
  {
   "cell_type": "code",
   "execution_count": 36,
   "id": "cb59ecf4-a350-4f57-84ac-988377609010",
   "metadata": {
    "tags": []
   },
   "outputs": [],
   "source": [
    "def stat_av(ts, wsize=10):\n",
    "    windows = np.concatenate([\n",
    "        ts[i:i+wsize].reshape(1, -1) for i in range(0, len(ts)-wsize, wsize)\n",
    "    ])\n",
    "    windows_mean=windows.mean(axis=1)\n",
    "    return windows.std() / ts.std()"
   ]
  },
  {
   "cell_type": "code",
   "execution_count": 208,
   "id": "08a4e3b2-1948-4caa-8cfd-cf543afcfa17",
   "metadata": {
    "tags": []
   },
   "outputs": [
    {
     "data": {
      "text/plain": [
       "(0.7388373774143807, 0.13877193858522335)"
      ]
     },
     "execution_count": 208,
     "metadata": {},
     "output_type": "execute_result"
    }
   ],
   "source": [
    "ecg_neg = np.array(list(map(lambda x: stat_av(x, 10), X_train[y_train==0])))\n",
    "ecg_neg.mean(), ecg_neg.std()"
   ]
  },
  {
   "cell_type": "code",
   "execution_count": 209,
   "id": "21e29610-666b-4e9f-83aa-f06685b25a27",
   "metadata": {
    "tags": []
   },
   "outputs": [
    {
     "data": {
      "text/plain": [
       "(0.9814639840907462, 0.031065589103469963)"
      ]
     },
     "execution_count": 209,
     "metadata": {},
     "output_type": "execute_result"
    }
   ],
   "source": [
    "ecg_pos = np.array(list(map(lambda x: stat_av(x, 10), X_train[y_train==1])))\n",
    "ecg_pos.mean(), ecg_pos.std()"
   ]
  },
  {
   "cell_type": "code",
   "execution_count": 210,
   "id": "4b6aad71-bfd4-4eb0-8b85-ee0311327877",
   "metadata": {
    "tags": []
   },
   "outputs": [
    {
     "data": {
      "text/plain": [
       "(0.11357571211587675, 1.1374435465414394)"
      ]
     },
     "execution_count": 210,
     "metadata": {},
     "output_type": "execute_result"
    },
    {
     "data": {
      "image/png": "[encoded data removed]",
      "text/plain": [
       "<Figure size 800x400 with 2 Axes>"
      ]
     },
     "metadata": {},
     "output_type": "display_data"
    }
   ],
   "source": [
    "f,ax  = plt.subplots(1,2, figsize=(8,4))\n",
    "low, high = min(ecg_pos.min(), ecg_neg.min()) - 0.1, max(ecg_pos.max(), ecg_neg.max()) +0.1\n",
    "ax[0].boxplot(ecg_pos);\n",
    "ax[0].set_ylim(low,high)\n",
    "ax[1].boxplot(ecg_neg);\n",
    "ax[1].set_ylim(low,high)"
   ]
  },
  {
   "cell_type": "markdown",
   "id": "0e12fe39-f33d-4500-83cf-c1523405b374",
   "metadata": {},
   "source": [
    "We can see that this global feature may already separate a few of the classes"
   ]
  },
  {
   "cell_type": "markdown",
   "id": "2e79925e-b873-4673-86e2-11222c641a07",
   "metadata": {},
   "source": [
    "### Autocorrelation"
   ]
  },
  {
   "cell_type": "code",
   "execution_count": 42,
   "id": "b4521531-4c4c-4e2b-ad27-e6cb4e6a1802",
   "metadata": {
    "tags": []
   },
   "outputs": [],
   "source": [
    "def autocorrelation(ts, lag):\n",
    "    N = len(ts)\n",
    "    mean = ts.mean()\n",
    "    \n",
    "    return ((ts[:-lag] - mean) * (ts[lag:] - mean)).sum() / (unbiased_var(ts) * (N - lag))"
   ]
  },
  {
   "cell_type": "code",
   "execution_count": 41,
   "id": "6af9fc17-6edc-4a14-8a30-a7c4fdb7f941",
   "metadata": {
    "tags": []
   },
   "outputs": [
    {
     "data": {
      "text/plain": [
       "0.05629236270173407"
      ]
     },
     "execution_count": 41,
     "metadata": {},
     "output_type": "execute_result"
    }
   ],
   "source": [
    "autocorrelation(X_train[0], 10)"
   ]
  },
  {
   "cell_type": "code",
   "execution_count": 48,
   "id": "9d87b2ef-caf2-49c3-8a10-299e8e3782c5",
   "metadata": {
    "tags": []
   },
   "outputs": [
    {
     "data": {
      "text/plain": [
       "array([0.05629236])"
      ]
     },
     "execution_count": 48,
     "metadata": {},
     "output_type": "execute_result"
    }
   ],
   "source": [
    "np.correlate(X_train[0, :-10], X_train[0, 10:]) / (unbiased_var(X_train[0]) * 130)"
   ]
  },
  {
   "cell_type": "code",
   "execution_count": 85,
   "id": "c9fab61d-a958-44c2-907b-2aa26b80db00",
   "metadata": {
    "tags": []
   },
   "outputs": [],
   "source": [
    "best = None\n",
    "max_dist = -1\n",
    "for lag in range(1, 25):\n",
    "    ecg_neg = np.array(list(map(lambda x: autocorrelation(x,lag), X_train[y_train==0])))\n",
    "    ecg_pos = np.array(list(map(lambda x: autocorrelation(x,lag), X_train[y_train==1])))\n",
    "\n",
    "    dist = euclidean(\n",
    "        np.array([ecg_neg.mean(), ecg_neg.std()]),\n",
    "        np.array([ecg_pos.mean(), ecg_pos.std()])\n",
    "    )\n",
    "    if dist > max_dist:\n",
    "        best = lag\n",
    "        max_dist = dist"
   ]
  },
  {
   "cell_type": "code",
   "execution_count": 86,
   "id": "84315408-4906-4f4a-b14a-d7acea728581",
   "metadata": {
    "tags": []
   },
   "outputs": [
    {
     "data": {
      "text/plain": [
       "24"
      ]
     },
     "execution_count": 86,
     "metadata": {},
     "output_type": "execute_result"
    }
   ],
   "source": [
    "best"
   ]
  },
  {
   "cell_type": "code",
   "execution_count": 87,
   "id": "20043435-989e-429c-a7bc-6395a942ac8d",
   "metadata": {
    "tags": []
   },
   "outputs": [],
   "source": [
    "ecg_neg = np.array(list(map(lambda x: autocorrelation(x, best), X_train[y_train==0])))\n",
    "ecg_pos = np.array(list(map(lambda x: autocorrelation(x, best), X_train[y_train==1])))"
   ]
  },
  {
   "cell_type": "code",
   "execution_count": 88,
   "id": "f4f2ddb9-ad4f-4cbb-86f5-59e452054320",
   "metadata": {
    "tags": []
   },
   "outputs": [
    {
     "data": {
      "text/plain": [
       "(-0.05465197459033898, 0.11672098874877967)"
      ]
     },
     "execution_count": 88,
     "metadata": {},
     "output_type": "execute_result"
    }
   ],
   "source": [
    "ecg_neg.mean(), ecg_neg.std()"
   ]
  },
  {
   "cell_type": "code",
   "execution_count": 89,
   "id": "e047e8e7-4de3-4ab6-a36a-bbed1f5ae737",
   "metadata": {
    "tags": []
   },
   "outputs": [
    {
     "data": {
      "text/plain": [
       "(0.2560348291427112, 0.12315647895669421)"
      ]
     },
     "execution_count": 89,
     "metadata": {},
     "output_type": "execute_result"
    }
   ],
   "source": [
    "ecg_pos.mean(), ecg_pos.std()"
   ]
  },
  {
   "cell_type": "code",
   "execution_count": 90,
   "id": "1768072e-b2f7-4881-a890-d5ebec8ab028",
   "metadata": {
    "tags": []
   },
   "outputs": [
    {
     "data": {
      "text/plain": [
       "(-0.6754801860936801, 0.6895186345359028)"
      ]
     },
     "execution_count": 90,
     "metadata": {},
     "output_type": "execute_result"
    },
    {
     "data": {
      "image/png": "[encoded data removed]",
      "text/plain": [
       "<Figure size 800x400 with 2 Axes>"
      ]
     },
     "metadata": {},
     "output_type": "display_data"
    }
   ],
   "source": [
    "f,ax  = plt.subplots(1,2, figsize=(8,4))\n",
    "low, high = min(ecg_pos.min(), ecg_neg.min()) - 0.1, max(ecg_pos.max(), ecg_neg.max()) +0.1\n",
    "ax[0].boxplot(ecg_pos);\n",
    "ax[0].set_ylim(low,high)\n",
    "ax[1].boxplot(ecg_neg);\n",
    "ax[1].set_ylim(low,high)"
   ]
  },
  {
   "cell_type": "markdown",
   "id": "938dd42a-4424-4fb0-9959-0dbe3be20033",
   "metadata": {},
   "source": [
    "Although not as clear, we can see some differences between the two classes with autocorrelation"
   ]
  },
  {
   "cell_type": "markdown",
   "id": "0cd236ab-9ef8-4408-8363-d247f22ab52d",
   "metadata": {},
   "source": [
    "### Aproximate Entropy"
   ]
  },
  {
   "cell_type": "code",
   "execution_count": null,
   "id": "89d87a69-bcde-47a9-8d66-5f9f4c30463e",
   "metadata": {},
   "outputs": [],
   "source": []
  },
  {
   "cell_type": "code",
   "execution_count": null,
   "id": "9f798497-c971-4494-8f61-8463b9bb6fbf",
   "metadata": {},
   "outputs": [],
   "source": []
  },
  {
   "cell_type": "markdown",
   "id": "e4cc819a-3522-4b27-9081-6603b4fcb4e1",
   "metadata": {},
   "source": [
    "### Using global features to predict ecg \"normal\" vs \"abnormal\""
   ]
  },
  {
   "cell_type": "code",
   "execution_count": 223,
   "id": "ee4c0ca4-1a2b-4dec-b5e7-2035416bdc64",
   "metadata": {
    "tags": []
   },
   "outputs": [],
   "source": [
    "from sklearn.linear_model import LogisticRegression\n",
    "from sklearn.metrics import classification_report, ConfusionMatrixDisplay, confusion_matrix, matthews_corrcoef"
   ]
  },
  {
   "cell_type": "code",
   "execution_count": 219,
   "id": "27913706-b640-49e4-9faa-6a50a06fe878",
   "metadata": {
    "tags": []
   },
   "outputs": [],
   "source": [
    "def to_feat_vec(X):\n",
    "    X = np.concatenate((\n",
    "        np.array(list(map(stat_av, X))).reshape(-1,1),\n",
    "        np.array(list(map(lambda x: autocorrelation(x, 24), X))).reshape(-1,1)\n",
    "    ), axis=1)\n",
    "    \n",
    "    return X"
   ]
  },
  {
   "cell_type": "code",
   "execution_count": 221,
   "id": "e5043709-f2cc-4737-9a92-08d47fcce526",
   "metadata": {
    "tags": []
   },
   "outputs": [
    {
     "data": {
      "text/plain": [
       "0.935967983991996"
      ]
     },
     "execution_count": 221,
     "metadata": {},
     "output_type": "execute_result"
    }
   ],
   "source": [
    "lr = LogisticRegression().fit(to_feat_vec(X_train), y_train)\n",
    "lr.score(to_feat_vec(X_train), y_train)"
   ]
  },
  {
   "cell_type": "code",
   "execution_count": 222,
   "id": "22c9452c-ebd4-4aae-bc62-26c4e1a4668e",
   "metadata": {
    "tags": []
   },
   "outputs": [
    {
     "data": {
      "text/plain": [
       "0.926"
      ]
     },
     "execution_count": 222,
     "metadata": {},
     "output_type": "execute_result"
    }
   ],
   "source": [
    "lr.score(to_feat_vec(X_test), y_test)"
   ]
  },
  {
   "cell_type": "code",
   "execution_count": 224,
   "id": "9a81643c-aa74-45ee-90ad-26d3e07f4f75",
   "metadata": {
    "tags": []
   },
   "outputs": [],
   "source": [
    "preds = lr.predict(to_feat_vec(X_test))"
   ]
  },
  {
   "cell_type": "code",
   "execution_count": 226,
   "id": "f353fc82-d565-4e6c-b7b2-1f9b52bd86e3",
   "metadata": {
    "tags": []
   },
   "outputs": [
    {
     "name": "stdout",
     "output_type": "stream",
     "text": [
      "0.8478483882896178\n",
      "              precision    recall  f1-score   support\n",
      "\n",
      "         0.0       0.96      0.86      0.90       408\n",
      "         1.0       0.91      0.97      0.94       592\n",
      "\n",
      "    accuracy                           0.93      1000\n",
      "   macro avg       0.93      0.92      0.92      1000\n",
      "weighted avg       0.93      0.93      0.93      1000\n",
      "\n"
     ]
    }
   ],
   "source": [
    "print(matthews_corrcoef(y_test,preds))\n",
    "print(classification_report(y_test,preds))"
   ]
  },
  {
   "cell_type": "code",
   "execution_count": 227,
   "id": "927370db-e5ae-4fad-bb93-cf9a939640a3",
   "metadata": {
    "tags": []
   },
   "outputs": [
    {
     "data": {
      "text/plain": [
       "<sklearn.metrics._plot.confusion_matrix.ConfusionMatrixDisplay at 0x267a8b3ca60>"
      ]
     },
     "execution_count": 227,
     "metadata": {},
     "output_type": "execute_result"
    },
    {
     "data": {
      "image/png": "[encoded data removed]",
      "text/plain": [
       "<Figure size 640x480 with 2 Axes>"
      ]
     },
     "metadata": {},
     "output_type": "display_data"
    }
   ],
   "source": [
    "ConfusionMatrixDisplay(\n",
    "    confusion_matrix(y_test,preds)\n",
    ").plot()"
   ]
  },
  {
   "cell_type": "markdown",
   "id": "71abc8ad-41e0-4371-9cee-4ddc77c58100",
   "metadata": {},
   "source": [
    "With only 2 global features we could fit a simple *Logistic Regression* model that obtained very good results for binary *ECG* classification."
   ]
  }
 ],
 "metadata": {
  "kernelspec": {
   "display_name": "Python 3 (ipykernel)",
   "language": "python",
   "name": "python3"
  },
  "language_info": {
   "codemirror_mode": {
    "name": "ipython",
    "version": 3
   },
   "file_extension": ".py",
   "mimetype": "text/x-python",
   "name": "python",
   "nbconvert_exporter": "python",
   "pygments_lexer": "ipython3",
   "version": "3.9.7"
  }
 },
 "nbformat": 4,
 "nbformat_minor": 5
}
