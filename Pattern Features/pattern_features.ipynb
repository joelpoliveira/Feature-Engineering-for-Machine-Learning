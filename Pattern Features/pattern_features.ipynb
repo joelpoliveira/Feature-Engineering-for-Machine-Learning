{
 "cells": [
  {
   "cell_type": "code",
   "execution_count": 1,
   "id": "cfdb6db1-792b-4777-b5fd-f8f8626cf125",
   "metadata": {
    "tags": []
   },
   "outputs": [],
   "source": [
    "import numpy as np\n",
    "import pandas as pd\n",
    "\n",
    "from scipy.sparse import dok_matrix\n",
    "from sklearn.datasets import load_breast_cancer\n",
    "from sklearn.model_selection import train_test_split\n",
    "from pattern_mining import VectorToTransactions, FrequentPattern"
   ]
  },
  {
   "cell_type": "code",
   "execution_count": 2,
   "id": "70b26171-7e01-4970-ad08-9fa8417935c6",
   "metadata": {
    "tags": []
   },
   "outputs": [],
   "source": [
    "X, y = load_breast_cancer(return_X_y=True, as_frame=True)"
   ]
  },
  {
   "cell_type": "code",
   "execution_count": 3,
   "id": "d50a72c3-4ac4-4d3f-929f-170b94b1630f",
   "metadata": {
    "tags": []
   },
   "outputs": [],
   "source": [
    "X_train, X_test, y_train, y_test = train_test_split(X, y, test_size=0.2, random_state=123)"
   ]
  },
  {
   "cell_type": "code",
   "execution_count": 4,
   "id": "ca4ce5f2-959f-4173-9ee4-90cb0e5d81fa",
   "metadata": {
    "tags": []
   },
   "outputs": [
    {
     "data": {
      "text/html": [
       "<div>\n",
       "<style scoped>\n",
       "    .dataframe tbody tr th:only-of-type {\n",
       "        vertical-align: middle;\n",
       "    }\n",
       "\n",
       "    .dataframe tbody tr th {\n",
       "        vertical-align: top;\n",
       "    }\n",
       "\n",
       "    .dataframe thead th {\n",
       "        text-align: right;\n",
       "    }\n",
       "</style>\n",
       "<table border=\"1\" class=\"dataframe\">\n",
       "  <thead>\n",
       "    <tr style=\"text-align: right;\">\n",
       "      <th></th>\n",
       "      <th>mean radius</th>\n",
       "      <th>mean texture</th>\n",
       "      <th>mean perimeter</th>\n",
       "      <th>mean area</th>\n",
       "      <th>mean smoothness</th>\n",
       "      <th>mean compactness</th>\n",
       "      <th>mean concavity</th>\n",
       "      <th>mean concave points</th>\n",
       "      <th>mean symmetry</th>\n",
       "      <th>mean fractal dimension</th>\n",
       "      <th>...</th>\n",
       "      <th>worst texture</th>\n",
       "      <th>worst perimeter</th>\n",
       "      <th>worst area</th>\n",
       "      <th>worst smoothness</th>\n",
       "      <th>worst compactness</th>\n",
       "      <th>worst concavity</th>\n",
       "      <th>worst concave points</th>\n",
       "      <th>worst symmetry</th>\n",
       "      <th>worst fractal dimension</th>\n",
       "      <th>target</th>\n",
       "    </tr>\n",
       "  </thead>\n",
       "  <tbody>\n",
       "    <tr>\n",
       "      <th>190</th>\n",
       "      <td>14.22</td>\n",
       "      <td>23.12</td>\n",
       "      <td>94.37</td>\n",
       "      <td>609.9</td>\n",
       "      <td>0.10750</td>\n",
       "      <td>0.24130</td>\n",
       "      <td>0.19810</td>\n",
       "      <td>0.066180</td>\n",
       "      <td>0.2384</td>\n",
       "      <td>0.07542</td>\n",
       "      <td>...</td>\n",
       "      <td>37.18</td>\n",
       "      <td>106.40</td>\n",
       "      <td>762.4</td>\n",
       "      <td>0.1533</td>\n",
       "      <td>0.93270</td>\n",
       "      <td>0.84880</td>\n",
       "      <td>0.17720</td>\n",
       "      <td>0.5166</td>\n",
       "      <td>0.14460</td>\n",
       "      <td>0</td>\n",
       "    </tr>\n",
       "    <tr>\n",
       "      <th>134</th>\n",
       "      <td>18.45</td>\n",
       "      <td>21.91</td>\n",
       "      <td>120.20</td>\n",
       "      <td>1075.0</td>\n",
       "      <td>0.09430</td>\n",
       "      <td>0.09709</td>\n",
       "      <td>0.11530</td>\n",
       "      <td>0.068470</td>\n",
       "      <td>0.1692</td>\n",
       "      <td>0.05727</td>\n",
       "      <td>...</td>\n",
       "      <td>31.39</td>\n",
       "      <td>145.60</td>\n",
       "      <td>1590.0</td>\n",
       "      <td>0.1465</td>\n",
       "      <td>0.22750</td>\n",
       "      <td>0.39650</td>\n",
       "      <td>0.13790</td>\n",
       "      <td>0.3109</td>\n",
       "      <td>0.07610</td>\n",
       "      <td>0</td>\n",
       "    </tr>\n",
       "    <tr>\n",
       "      <th>386</th>\n",
       "      <td>12.21</td>\n",
       "      <td>14.09</td>\n",
       "      <td>78.78</td>\n",
       "      <td>462.0</td>\n",
       "      <td>0.08108</td>\n",
       "      <td>0.07823</td>\n",
       "      <td>0.06839</td>\n",
       "      <td>0.025340</td>\n",
       "      <td>0.1646</td>\n",
       "      <td>0.06154</td>\n",
       "      <td>...</td>\n",
       "      <td>19.29</td>\n",
       "      <td>87.65</td>\n",
       "      <td>529.9</td>\n",
       "      <td>0.1026</td>\n",
       "      <td>0.24310</td>\n",
       "      <td>0.30760</td>\n",
       "      <td>0.09140</td>\n",
       "      <td>0.2677</td>\n",
       "      <td>0.08824</td>\n",
       "      <td>1</td>\n",
       "    </tr>\n",
       "    <tr>\n",
       "      <th>118</th>\n",
       "      <td>15.78</td>\n",
       "      <td>22.91</td>\n",
       "      <td>105.70</td>\n",
       "      <td>782.6</td>\n",
       "      <td>0.11550</td>\n",
       "      <td>0.17520</td>\n",
       "      <td>0.21330</td>\n",
       "      <td>0.094790</td>\n",
       "      <td>0.2096</td>\n",
       "      <td>0.07331</td>\n",
       "      <td>...</td>\n",
       "      <td>30.50</td>\n",
       "      <td>130.30</td>\n",
       "      <td>1272.0</td>\n",
       "      <td>0.1855</td>\n",
       "      <td>0.49250</td>\n",
       "      <td>0.73560</td>\n",
       "      <td>0.20340</td>\n",
       "      <td>0.3274</td>\n",
       "      <td>0.12520</td>\n",
       "      <td>0</td>\n",
       "    </tr>\n",
       "    <tr>\n",
       "      <th>316</th>\n",
       "      <td>12.18</td>\n",
       "      <td>14.08</td>\n",
       "      <td>77.25</td>\n",
       "      <td>461.4</td>\n",
       "      <td>0.07734</td>\n",
       "      <td>0.03212</td>\n",
       "      <td>0.01123</td>\n",
       "      <td>0.005051</td>\n",
       "      <td>0.1673</td>\n",
       "      <td>0.05649</td>\n",
       "      <td>...</td>\n",
       "      <td>16.47</td>\n",
       "      <td>81.60</td>\n",
       "      <td>513.1</td>\n",
       "      <td>0.1001</td>\n",
       "      <td>0.05332</td>\n",
       "      <td>0.04116</td>\n",
       "      <td>0.01852</td>\n",
       "      <td>0.2293</td>\n",
       "      <td>0.06037</td>\n",
       "      <td>1</td>\n",
       "    </tr>\n",
       "  </tbody>\n",
       "</table>\n",
       "<p>5 rows × 31 columns</p>\n",
       "</div>"
      ],
      "text/plain": [
       "     mean radius  mean texture  mean perimeter  mean area  mean smoothness  \\\n",
       "190        14.22         23.12           94.37      609.9          0.10750   \n",
       "134        18.45         21.91          120.20     1075.0          0.09430   \n",
       "386        12.21         14.09           78.78      462.0          0.08108   \n",
       "118        15.78         22.91          105.70      782.6          0.11550   \n",
       "316        12.18         14.08           77.25      461.4          0.07734   \n",
       "\n",
       "     mean compactness  mean concavity  mean concave points  mean symmetry  \\\n",
       "190           0.24130         0.19810             0.066180         0.2384   \n",
       "134           0.09709         0.11530             0.068470         0.1692   \n",
       "386           0.07823         0.06839             0.025340         0.1646   \n",
       "118           0.17520         0.21330             0.094790         0.2096   \n",
       "316           0.03212         0.01123             0.005051         0.1673   \n",
       "\n",
       "     mean fractal dimension  ...  worst texture  worst perimeter  worst area  \\\n",
       "190                 0.07542  ...          37.18           106.40       762.4   \n",
       "134                 0.05727  ...          31.39           145.60      1590.0   \n",
       "386                 0.06154  ...          19.29            87.65       529.9   \n",
       "118                 0.07331  ...          30.50           130.30      1272.0   \n",
       "316                 0.05649  ...          16.47            81.60       513.1   \n",
       "\n",
       "     worst smoothness  worst compactness  worst concavity  \\\n",
       "190            0.1533            0.93270          0.84880   \n",
       "134            0.1465            0.22750          0.39650   \n",
       "386            0.1026            0.24310          0.30760   \n",
       "118            0.1855            0.49250          0.73560   \n",
       "316            0.1001            0.05332          0.04116   \n",
       "\n",
       "     worst concave points  worst symmetry  worst fractal dimension  target  \n",
       "190               0.17720          0.5166                  0.14460       0  \n",
       "134               0.13790          0.3109                  0.07610       0  \n",
       "386               0.09140          0.2677                  0.08824       1  \n",
       "118               0.20340          0.3274                  0.12520       0  \n",
       "316               0.01852          0.2293                  0.06037       1  \n",
       "\n",
       "[5 rows x 31 columns]"
      ]
     },
     "execution_count": 4,
     "metadata": {},
     "output_type": "execute_result"
    }
   ],
   "source": [
    "train_set = pd.concat((X_train, y_train), axis=1)\n",
    "test_set = pd.concat((X_test, y_test), axis=1)\n",
    "\n",
    "train_set.head()"
   ]
  },
  {
   "cell_type": "code",
   "execution_count": 5,
   "id": "d3283ba3-f811-4ac3-b2cd-56f2a40683dc",
   "metadata": {
    "tags": []
   },
   "outputs": [],
   "source": [
    "vec2trans = VectorToTransactions(5).fit(train_set)"
   ]
  },
  {
   "cell_type": "code",
   "execution_count": 6,
   "id": "ddd5487a-fefa-413f-9f49-eb7f4ae4b799",
   "metadata": {
    "tags": []
   },
   "outputs": [],
   "source": [
    "train_set_trans = vec2trans.transform(train_set.drop(columns=\"target\"))"
   ]
  },
  {
   "cell_type": "code",
   "execution_count": 7,
   "id": "469e715e-4c72-4886-bfaf-02c344202487",
   "metadata": {
    "tags": []
   },
   "outputs": [],
   "source": [
    "fp = FrequentPattern(train_set_trans, 0.15)"
   ]
  },
  {
   "cell_type": "code",
   "execution_count": 9,
   "id": "cd1df86b-d3a2-4668-9fbd-7fc86dc3ec78",
   "metadata": {
    "tags": []
   },
   "outputs": [
    {
     "data": {
      "text/plain": [
       "False"
      ]
     },
     "execution_count": 9,
     "metadata": {},
     "output_type": "execute_result"
    }
   ],
   "source": [
    "fp.get_maximal().loc[42, \"itemsets\"].issubset(train_set_trans[0])"
   ]
  },
  {
   "cell_type": "code",
   "execution_count": 18,
   "id": "0c610f82-b94a-404e-b326-5c79b6c4d377",
   "metadata": {
    "tags": []
   },
   "outputs": [],
   "source": [
    "class PatternFeatureGenerator:\n",
    "    def __init__(self):\n",
    "        pass\n",
    "    \n",
    "    def fit(self, patterns):\n",
    "        self.patterns = list(patterns)\n",
    "        return self\n",
    "    \n",
    "    def transform(self, data):\n",
    "        N = len(data)\n",
    "        transformation = dok_matrix( (N, len(self.patterns)) )\n",
    "        \n",
    "        for i, transaction in enumerate(data):\n",
    "            for j, pattern in enumerate(self.patterns):\n",
    "                if pattern.issubset(transaction):\n",
    "                    transformation[i,j]=1\n",
    "                    \n",
    "        return transformation"
   ]
  },
  {
   "cell_type": "code",
   "execution_count": 19,
   "id": "0a51c2d6-e433-4620-94d8-44a713957faa",
   "metadata": {
    "tags": []
   },
   "outputs": [],
   "source": [
    "pfg = PatternFeatureGenerator().fit(fp.get_maximal().itemsets)"
   ]
  },
  {
   "cell_type": "code",
   "execution_count": 20,
   "id": "df78e0da-363e-464e-b6e4-34a62e8908ac",
   "metadata": {
    "tags": []
   },
   "outputs": [],
   "source": [
    "train_patterns = pfg.transform(train_set_trans)"
   ]
  },
  {
   "cell_type": "code",
   "execution_count": 21,
   "id": "38d35d13-cb25-4474-b2da-64ad0fd04fc1",
   "metadata": {
    "tags": []
   },
   "outputs": [
    {
     "data": {
      "text/plain": [
       "<455x826 sparse matrix of type '<class 'numpy.float64'>'\n",
       "\twith 59671 stored elements in Dictionary Of Keys format>"
      ]
     },
     "execution_count": 21,
     "metadata": {},
     "output_type": "execute_result"
    }
   ],
   "source": [
    "train_patterns"
   ]
  },
  {
   "cell_type": "code",
   "execution_count": 23,
   "id": "3d8d5092-f7c9-48f4-af2c-d4788d5fc4f0",
   "metadata": {
    "tags": []
   },
   "outputs": [],
   "source": [
    "from sklearn.linear_model import LogisticRegression"
   ]
  },
  {
   "cell_type": "code",
   "execution_count": 24,
   "id": "a7c9c649-e8d5-4372-bae2-068da9d82108",
   "metadata": {
    "tags": []
   },
   "outputs": [
    {
     "data": {
      "text/plain": [
       "1.0"
      ]
     },
     "execution_count": 24,
     "metadata": {},
     "output_type": "execute_result"
    }
   ],
   "source": [
    "LogisticRegression().fit(train_patterns, y_train).score(train_patterns, y_train)"
   ]
  },
  {
   "cell_type": "code",
   "execution_count": 25,
   "id": "83e17f00-c05e-4689-9fa9-e4d032109822",
   "metadata": {
    "tags": []
   },
   "outputs": [
    {
     "data": {
      "text/plain": [
       "0.956140350877193"
      ]
     },
     "execution_count": 25,
     "metadata": {},
     "output_type": "execute_result"
    }
   ],
   "source": [
    "LogisticRegression().fit(train_patterns, y_train).score(\n",
    "    pfg.transform(\n",
    "        vec2trans.transform(test_set.drop(columns=\"target\"))\n",
    "    ), y_test)"
   ]
  },
  {
   "cell_type": "markdown",
   "id": "56369816-0533-41d2-8582-22d1cc45e475",
   "metadata": {},
   "source": [
    "Good pattern features were generated in an unsupervised manner, so that a simple Linear Model can obtain good performance"
   ]
  }
 ],
 "metadata": {
  "kernelspec": {
   "display_name": "Python 3 (ipykernel)",
   "language": "python",
   "name": "python3"
  },
  "language_info": {
   "codemirror_mode": {
    "name": "ipython",
    "version": 3
   },
   "file_extension": ".py",
   "mimetype": "text/x-python",
   "name": "python",
   "nbconvert_exporter": "python",
   "pygments_lexer": "ipython3",
   "version": "3.9.7"
  }
 },
 "nbformat": 4,
 "nbformat_minor": 5
}
