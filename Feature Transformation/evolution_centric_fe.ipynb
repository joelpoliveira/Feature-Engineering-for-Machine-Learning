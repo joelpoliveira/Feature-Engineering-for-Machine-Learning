{
 "cells": [
  {
   "cell_type": "code",
   "execution_count": 1,
   "id": "a14e10c8-de20-42b4-9796-fce93400ff3c",
   "metadata": {
    "tags": []
   },
   "outputs": [],
   "source": [
    "import numpy as np\n",
    "import pandas as pd\n",
    "\n",
    "from sklearn.linear_model import LinearRegression\n",
    "from sklearn.model_selection import train_test_split, cross_val_score\n",
    "from sklearn.feature_selection import SelectKBest\n",
    "from sklearn.metrics import mean_squared_error\n",
    "from sklearn.datasets import load_diabetes"
   ]
  },
  {
   "cell_type": "code",
   "execution_count": 2,
   "id": "214753c9-8bea-4283-a35a-f10ad26296e3",
   "metadata": {
    "tags": []
   },
   "outputs": [],
   "source": [
    "X,y = load_diabetes(return_X_y=True, as_frame=True)"
   ]
  },
  {
   "cell_type": "code",
   "execution_count": 3,
   "id": "fba965f2-a648-4bb9-9e3a-b4f9f4b5b5ab",
   "metadata": {
    "tags": []
   },
   "outputs": [
    {
     "data": {
      "text/plain": [
       "(442, 10)"
      ]
     },
     "execution_count": 3,
     "metadata": {},
     "output_type": "execute_result"
    }
   ],
   "source": [
    "X.shape"
   ]
  },
  {
   "cell_type": "code",
   "execution_count": 4,
   "id": "1f69eca5-1d69-49f2-9c6c-e23b9b9bf60b",
   "metadata": {
    "tags": []
   },
   "outputs": [],
   "source": [
    "t1 = np.square\n",
    "t2 = np.tan\n",
    "t3 = lambda x: np.log(\n",
    "    np.clip(x, 1e-4, None)\n",
    ")\n",
    "\n",
    "ts = (t1,t2,t3)"
   ]
  },
  {
   "cell_type": "code",
   "execution_count": 5,
   "id": "1bdd1c30-e115-49d7-aa56-b25f3f1095f8",
   "metadata": {
    "tags": []
   },
   "outputs": [],
   "source": [
    "X_train, X_test, y_train, y_test = train_test_split(X, y, test_size=0.2, random_state=123)"
   ]
  },
  {
   "cell_type": "code",
   "execution_count": 6,
   "id": "ebf344fa-7387-403d-8d4c-67106b7186d7",
   "metadata": {
    "tags": []
   },
   "outputs": [
    {
     "data": {
      "text/plain": [
       "0.5015516188475683"
      ]
     },
     "execution_count": 6,
     "metadata": {},
     "output_type": "execute_result"
    }
   ],
   "source": [
    "LinearRegression().fit(X_train, y_train).score(X_train, y_train)"
   ]
  },
  {
   "cell_type": "code",
   "execution_count": 7,
   "id": "f2a88aa2-0d4c-4f70-b9f5-ae2da8c3b15c",
   "metadata": {},
   "outputs": [
    {
     "data": {
      "text/plain": [
       "0.5675895725793205"
      ]
     },
     "execution_count": 7,
     "metadata": {},
     "output_type": "execute_result"
    }
   ],
   "source": [
    "LinearRegression().fit(X_train, y_train).score(X_test, y_test)"
   ]
  },
  {
   "cell_type": "code",
   "execution_count": 8,
   "id": "6c7d1724-e737-41d5-9f79-a4271609739f",
   "metadata": {
    "tags": []
   },
   "outputs": [
    {
     "data": {
      "text/plain": [
       "55.62131982131099"
      ]
     },
     "execution_count": 8,
     "metadata": {},
     "output_type": "execute_result"
    }
   ],
   "source": [
    "best_score = -cross_val_score(LinearRegression(), X_train, y_train, cv=5, scoring=\"neg_root_mean_squared_error\").mean()\n",
    "best_score"
   ]
  },
  {
   "cell_type": "code",
   "execution_count": 9,
   "id": "fac75dea-9096-4983-8607-9359cb1d9884",
   "metadata": {
    "tags": []
   },
   "outputs": [],
   "source": [
    "to_add = None\n",
    "transformations = []\n",
    "for t in ts:\n",
    "    tX = t(X_train)\n",
    "    filter_ = SelectKBest(k=\"all\").fit(X_train, y_train)\n",
    "    cols = X_train.columns[ filter_.pvalues_ <= 0.05]\n",
    "    \n",
    "    if to_add is None:\n",
    "        to_add = t(X_train[cols])\n",
    "    else:\n",
    "        to_add = pd.concat(\n",
    "            (to_add, t(X_train[cols])) , axis=1\n",
    "        )\n",
    "    transformations.append(cols)\n",
    "        "
   ]
  },
  {
   "cell_type": "code",
   "execution_count": 10,
   "id": "02f259c7-b09d-40fa-8dea-dd5ac00fb635",
   "metadata": {
    "tags": []
   },
   "outputs": [
    {
     "data": {
      "text/plain": [
       "(353, 15)"
      ]
     },
     "execution_count": 10,
     "metadata": {},
     "output_type": "execute_result"
    }
   ],
   "source": [
    "to_add.shape"
   ]
  },
  {
   "cell_type": "code",
   "execution_count": 11,
   "id": "2cc2d113-e758-4410-83a7-e4ee3c49b601",
   "metadata": {
    "tags": []
   },
   "outputs": [
    {
     "data": {
      "text/plain": [
       "[Index(['bmi', 'bp', 's3', 's4', 's5'], dtype='object'),\n",
       " Index(['bmi', 'bp', 's3', 's4', 's5'], dtype='object'),\n",
       " Index(['bmi', 'bp', 's3', 's4', 's5'], dtype='object')]"
      ]
     },
     "execution_count": 11,
     "metadata": {},
     "output_type": "execute_result"
    }
   ],
   "source": [
    "transformations"
   ]
  },
  {
   "cell_type": "code",
   "execution_count": 12,
   "id": "7348cb39-a838-4091-9691-4ae778cd6c19",
   "metadata": {
    "tags": []
   },
   "outputs": [],
   "source": [
    "X_train = pd.concat((X_train, to_add), axis=1)"
   ]
  },
  {
   "cell_type": "code",
   "execution_count": 13,
   "id": "5cfc4aab-411c-4f2c-9a73-810f841288b7",
   "metadata": {
    "tags": []
   },
   "outputs": [
    {
     "data": {
      "text/plain": [
       "0.5256439936785254"
      ]
     },
     "execution_count": 13,
     "metadata": {},
     "output_type": "execute_result"
    }
   ],
   "source": [
    "lr = LinearRegression().fit(X_train, y_train)\n",
    "lr.score(X_train, y_train)"
   ]
  },
  {
   "cell_type": "code",
   "execution_count": 14,
   "id": "54d5acaf-2ce5-4ab2-bf7b-5584856149a4",
   "metadata": {
    "tags": []
   },
   "outputs": [],
   "source": [
    "X_test = pd.concat( \n",
    "    (X_test,) + tuple( t(X_test[cols]) for t, cols in zip(ts, transformations) ), axis=1\n",
    ")"
   ]
  },
  {
   "cell_type": "code",
   "execution_count": 15,
   "id": "e01268ba-6f27-471e-8f36-8c7bff9ce3b8",
   "metadata": {
    "tags": []
   },
   "outputs": [
    {
     "data": {
      "text/plain": [
       "0.5842822784567175"
      ]
     },
     "execution_count": 15,
     "metadata": {},
     "output_type": "execute_result"
    }
   ],
   "source": [
    "lr.score(X_test, y_test)"
   ]
  }
 ],
 "metadata": {
  "kernelspec": {
   "display_name": "Python 3 (ipykernel)",
   "language": "python",
   "name": "python3"
  },
  "language_info": {
   "codemirror_mode": {
    "name": "ipython",
    "version": 3
   },
   "file_extension": ".py",
   "mimetype": "text/x-python",
   "name": "python",
   "nbconvert_exporter": "python",
   "pygments_lexer": "ipython3",
   "version": "3.9.7"
  }
 },
 "nbformat": 4,
 "nbformat_minor": 5
}
