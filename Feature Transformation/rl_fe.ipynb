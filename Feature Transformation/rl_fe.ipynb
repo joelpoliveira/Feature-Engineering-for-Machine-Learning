{
 "cells": [
  {
   "cell_type": "code",
   "execution_count": 1,
   "id": "812b9031-67ce-4ee2-9a30-1c105e4f3814",
   "metadata": {
    "tags": []
   },
   "outputs": [],
   "source": [
    "import numpy as np\n",
    "import pandas as pd\n",
    "from tqdm.notebook import tqdm\n",
    "\n",
    "from sklearn.linear_model import LinearRegression\n",
    "from sklearn.model_selection import train_test_split, cross_val_score\n",
    "from sklearn.metrics import mean_squared_error\n",
    "from sklearn.datasets import load_diabetes\n",
    "\n",
    "from itertools import combinations\n",
    "from collections import deque"
   ]
  },
  {
   "cell_type": "code",
   "execution_count": 2,
   "id": "a8a4eae2-4f97-4fdb-b3e5-62229eae1590",
   "metadata": {
    "tags": []
   },
   "outputs": [],
   "source": [
    "X,y = load_diabetes(return_X_y=True, as_frame=True)"
   ]
  },
  {
   "cell_type": "code",
   "execution_count": 3,
   "id": "b44daa8f-fc4f-4f11-8604-7bb7b0c4524a",
   "metadata": {
    "tags": []
   },
   "outputs": [],
   "source": [
    "t1 = np.square\n",
    "t2 = np.sin\n",
    "t3 = lambda x: np.log(\n",
    "    np.clip(x, 1e-4, None)\n",
    ")\n",
    "    \n",
    "ts = (t1,t2,t3)"
   ]
  },
  {
   "cell_type": "code",
   "execution_count": 4,
   "id": "e0f2fa9f-eb12-45a9-b9c9-75bf4ce4cb3b",
   "metadata": {
    "tags": []
   },
   "outputs": [],
   "source": [
    "X_train, X_test, y_train, y_test = train_test_split(X, y, test_size=0.2, random_state=123)"
   ]
  },
  {
   "cell_type": "code",
   "execution_count": 5,
   "id": "c49cd7d7-214c-4669-bf3e-d494eaad7882",
   "metadata": {
    "tags": []
   },
   "outputs": [
    {
     "name": "stdout",
     "output_type": "stream",
     "text": [
      "0.5015516188475683\n",
      "0.5675895725793205\n"
     ]
    }
   ],
   "source": [
    "print(\n",
    "    LinearRegression().fit(X_train, y_train).score(X_train, y_train),\n",
    "    LinearRegression().fit(X_train, y_train).score(X_test, y_test),\n",
    "    sep=\"\\n\")"
   ]
  },
  {
   "cell_type": "code",
   "execution_count": 6,
   "id": "964e1dc7-43e4-44b3-aefb-7168c3082a35",
   "metadata": {},
   "outputs": [],
   "source": [
    "def softmax(w):\n",
    "    exp = np.exp(w) + 1e-4\n",
    "    return exp/(exp.sum())"
   ]
  },
  {
   "cell_type": "code",
   "execution_count": 7,
   "id": "9eea1ab4-6e93-4660-8c39-465b52f0ea9c",
   "metadata": {},
   "outputs": [],
   "source": [
    "class Node:\n",
    "    def __init__(self, level, pipeline, n_features, children = {}, parent=None):\n",
    "        self.level = level\n",
    "        self.pipeline = pipeline\n",
    "        self.children = children\n",
    "        self.parent = parent\n",
    "        self.n_columns = n_features\n",
    "        self.score = None\n",
    "    \n",
    "    def get_columns(self):\n",
    "        n_cols = np.random.randint(1, self.n_columns)\n",
    "        cols = np.random.choice(\n",
    "            list(range(self.n_columns)), size=n_cols, replace=False\n",
    "        )\n",
    "        \n",
    "        return cols\n",
    "    \n",
    "    def get_data(self, X):\n",
    "        temp = X.copy()\n",
    "        for t in self.pipeline:\n",
    "            if type(t) == tuple:\n",
    "                temp = temp[:, t[1]]\n",
    "            else:\n",
    "                temp = ts[t](temp)\n",
    "        return temp\n",
    "    \n",
    "    def evaluate(self, model, X, y):\n",
    "        if self.score==None:\n",
    "            tempX = self.get_data(X)\n",
    "            model = model.fit(tempX, y)\n",
    "            self.score = cross_val_score(\n",
    "                model,\n",
    "                tempX, \n",
    "                y,\n",
    "                scoring=\"r2\",\n",
    "                cv=5,\n",
    "                n_jobs=-1\n",
    "            ).mean()\n",
    "        return self.score\n",
    "        \n",
    "    def get_child(self, ϵ, model, X, y):\n",
    "        if len(self.children)==0:\n",
    "            node = self.expand(model, X, y)\n",
    "            \n",
    "        else:\n",
    "            if (1 - ϵ) > np.random.rand():\n",
    "                node = self.select()\n",
    "            else:\n",
    "                node = self.expand(model, X, y)\n",
    "        return node\n",
    "    \n",
    "    def expand(self, model, X, y):\n",
    "        if self.n_columns > 1:\n",
    "            op = np.random.randint(0,4)\n",
    "        else:\n",
    "            op = np.random.randint(0,3)\n",
    "        if op in self.children:\n",
    "            if op!=3:\n",
    "                return self.children[op]\n",
    "            else:\n",
    "                cols = self.get_columns()\n",
    "                cols = tuple(list(cols))\n",
    "                return self.children[cols]\n",
    "        \n",
    "        else:\n",
    "            if op!=3:\n",
    "                node = Node(\n",
    "                    self.level+1, \n",
    "                    self.pipeline + [op],\n",
    "                    self.n_columns, \n",
    "                    children={},\n",
    "                    parent=self\n",
    "                )\n",
    "                node.evaluate(model, X, y)\n",
    "                self.add_child(op,node)\n",
    "                return node\n",
    "            else:\n",
    "                cols = self.get_columns()\n",
    "                cols = tuple(list(cols))\n",
    "                \n",
    "                node = Node(\n",
    "                    self.level+1, \n",
    "                    self.pipeline + [(op, cols)], \n",
    "                    len(cols),\n",
    "                    children={},\n",
    "                    parent=self\n",
    "                )\n",
    "                node.evaluate(model, X, y)\n",
    "                self.add_child(cols, node)\n",
    "                return node\n",
    "                \n",
    "    def select(self):\n",
    "        probs = softmax(\n",
    "            list(map(lambda node: node.score, self.children.values()))\n",
    "        )\n",
    "        \n",
    "        try:\n",
    "            selected_node = np.random.choice(\n",
    "                list(self.children.values()), size=1, p=probs\n",
    "            )[0]\n",
    "        except:\n",
    "            return self\n",
    "\n",
    "        return selected_node\n",
    "        \n",
    "    def add_child(self, operation, child_node):\n",
    "        self.children[operation] = child_node"
   ]
  },
  {
   "cell_type": "code",
   "execution_count": 8,
   "id": "92d3d213-1fab-4d06-bd32-de8a9709ce79",
   "metadata": {},
   "outputs": [],
   "source": [
    "def rl_fe(X, y, n_iters, max_depth):\n",
    "    root = Node(0, [], X.shape[1])\n",
    "    root.evaluate(LinearRegression(), X, y)\n",
    "    best_score = root.score\n",
    "    best_node = root\n",
    "    \n",
    "    for i in tqdm(range(n_iters)):\n",
    "        node = root\n",
    "        depth = 0\n",
    "        ϵ = (n_iters - i)/n_iters\n",
    "        while depth < max_depth:\n",
    "            node = node.get_child(ϵ, LinearRegression(), X, y)\n",
    "            \n",
    "            if best_score<node.score:\n",
    "                best_score = node.score\n",
    "                best_node = node\n",
    "            \n",
    "            if node.level==depth:\n",
    "                print(\"erro\")\n",
    "                return node\n",
    "            depth = node.level\n",
    "            \n",
    "            \n",
    "    return best_score, best_node"
   ]
  },
  {
   "cell_type": "code",
   "execution_count": 9,
   "id": "a69a5533-3c15-401f-ba46-13004e13058b",
   "metadata": {
    "tags": []
   },
   "outputs": [],
   "source": [
    "res = rl_fe(X_train.to_numpy(), y_train, 10000, 15)"
   ]
  },
  {
   "cell_type": "code",
   "execution_count": 10,
   "id": "070a281a-98c5-4b72-93c6-e19d7fd66060",
   "metadata": {
    "tags": []
   },
   "outputs": [],
   "source": [
    "root = res[1]\n",
    "while root.parent!=None:\n",
    "    root = root.parent"
   ]
  },
  {
   "cell_type": "code",
   "execution_count": 11,
   "id": "27992169-d03b-439e-ac21-701805667cb2",
   "metadata": {
    "tags": []
   },
   "outputs": [
    {
     "data": {
      "text/plain": [
       "100681"
      ]
     },
     "execution_count": 11,
     "metadata": {},
     "output_type": "execute_result"
    }
   ],
   "source": [
    "n_nodes = 0\n",
    "\n",
    "queue = deque([root])\n",
    "while len(queue)>0:\n",
    "    node = queue.popleft()\n",
    "    n_nodes+=1\n",
    "    queue += deque(node.children.values())\n",
    "\n",
    "n_nodes"
   ]
  },
  {
   "cell_type": "code",
   "execution_count": 12,
   "id": "82816c6f-4726-4fa0-bcff-1df88d5f0c01",
   "metadata": {
    "tags": []
   },
   "outputs": [
    {
     "data": {
      "text/plain": [
       "[(3, (3, 4, 2, 8, 1, 9, 5)), 1, 1, 1]"
      ]
     },
     "execution_count": 12,
     "metadata": {},
     "output_type": "execute_result"
    }
   ],
   "source": [
    "res[1].pipeline"
   ]
  },
  {
   "cell_type": "code",
   "execution_count": 13,
   "id": "7d554f39-1909-4ccf-b38a-dc8148cac237",
   "metadata": {
    "tags": []
   },
   "outputs": [
    {
     "data": {
      "text/plain": [
       "array([[ 0.01154306,  0.06434306, -0.02559818, ...,  0.05061513,\n",
       "         0.01962905,  0.04841984],\n",
       "       [ 0.06648191, -0.05103663, -0.01805894, ...,  0.05061513,\n",
       "        -0.01350279, -0.01665584],\n",
       "       [ 0.00121528, -0.03731772, -0.02236754, ...,  0.05061513,\n",
       "        -0.01764338, -0.02635659],\n",
       "       ...,\n",
       "       [ 0.06193125,  0.02456673,  0.06157903, ...,  0.05061513,\n",
       "         0.08149213, -0.0360499 ],\n",
       "       [-0.02287869, -0.02357765,  0.06050725, ..., -0.0445972 ,\n",
       "         0.03617756, -0.07252007],\n",
       "       [-0.01255513,  0.00943824, -0.03851172, ..., -0.0445972 ,\n",
       "         0.09785998,  0.00526217]])"
      ]
     },
     "execution_count": 13,
     "metadata": {},
     "output_type": "execute_result"
    }
   ],
   "source": [
    "res[1].get_data(X_train.to_numpy())"
   ]
  },
  {
   "cell_type": "code",
   "execution_count": 14,
   "id": "4c828524-2785-49c9-a394-7d2eeb4937c4",
   "metadata": {
    "tags": []
   },
   "outputs": [
    {
     "data": {
      "text/plain": [
       "0.5751092434324445"
      ]
     },
     "execution_count": 14,
     "metadata": {},
     "output_type": "execute_result"
    }
   ],
   "source": [
    "lr = LinearRegression().fit(res[1].get_data(X_train.to_numpy()), y_train)\n",
    "lr.score(res[1].get_data(X_test.to_numpy()), y_test)"
   ]
  }
 ],
 "metadata": {
  "kernelspec": {
   "display_name": "Python 3 (ipykernel)",
   "language": "python",
   "name": "python3"
  },
  "language_info": {
   "codemirror_mode": {
    "name": "ipython",
    "version": 3
   },
   "file_extension": ".py",
   "mimetype": "text/x-python",
   "name": "python",
   "nbconvert_exporter": "python",
   "pygments_lexer": "ipython3",
   "version": "3.9.7"
  }
 },
 "nbformat": 4,
 "nbformat_minor": 5
}
