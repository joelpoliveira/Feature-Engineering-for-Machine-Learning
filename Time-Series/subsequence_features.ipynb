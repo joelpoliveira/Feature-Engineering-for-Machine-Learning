{
 "cells": [
  {
   "cell_type": "code",
   "execution_count": 181,
   "id": "7b13891d-f5f9-4c7a-8a8a-ccb3f7d83025",
   "metadata": {
    "tags": []
   },
   "outputs": [],
   "source": [
    "import numpy as np\n",
    "import pandas as pd\n",
    "import matplotlib.pyplot as plt \n",
    "\n",
    "from tqdm import tqdm\n",
    "from scipy import stats\n",
    "from scipy import signal\n",
    "from scipy.spatial.distance import euclidean\n",
    "\n",
    "from sklearn.model_selection import train_test_split\n",
    "from sklearn.ensemble import RandomForestClassifier\n",
    "from sklearn.linear_model import LogisticRegression\n",
    "from sklearn.tree import DecisionTreeClassifier\n",
    "\n",
    "from sklearn.metrics import matthews_corrcoef, classification_report, ConfusionMatrixDisplay,  confusion_matrix"
   ]
  },
  {
   "cell_type": "code",
   "execution_count": 2,
   "id": "ee6d568d-d41b-4a9d-861f-7d05a051a9ab",
   "metadata": {
    "tags": []
   },
   "outputs": [],
   "source": [
    "ecg = np.loadtxt(\"ecg.csv\", delimiter=\",\")"
   ]
  },
  {
   "cell_type": "code",
   "execution_count": 4,
   "id": "af0405af-1b95-40c0-8097-f9deef5368ed",
   "metadata": {
    "tags": []
   },
   "outputs": [],
   "source": [
    "X, y = ecg[:,:-1], ecg[:, -1]"
   ]
  },
  {
   "cell_type": "code",
   "execution_count": 5,
   "id": "52716f1e-7403-4607-9c18-e3410cd27b3e",
   "metadata": {
    "tags": []
   },
   "outputs": [],
   "source": [
    "X_train, X_test, y_train, y_test = train_test_split(X, y, test_size=0.2, random_state=23)"
   ]
  },
  {
   "cell_type": "code",
   "execution_count": 81,
   "id": "bd1a5885-d2b1-4256-b515-e3a2e2980637",
   "metadata": {
    "tags": []
   },
   "outputs": [
    {
     "data": {
      "text/plain": [
       "(3998, 140)"
      ]
     },
     "execution_count": 81,
     "metadata": {},
     "output_type": "execute_result"
    }
   ],
   "source": [
    "X_train.shape"
   ]
  },
  {
   "cell_type": "markdown",
   "id": "ec9c8610-4731-481d-bade-1478ebc9ba7d",
   "metadata": {},
   "source": [
    "## Mean, Standard Deviation and Slope"
   ]
  },
  {
   "cell_type": "code",
   "execution_count": 35,
   "id": "dc8f567a-6d93-4e61-8250-94fb2aa21bbb",
   "metadata": {
    "tags": []
   },
   "outputs": [],
   "source": [
    "def get_subsequence(X, wsize=20):\n",
    "    N = X.shape[1]\n",
    "    sub_seq_X = np.zeros(shape=(X.shape[0], N//wsize, 3))\n",
    "    xx = np.arange(wsize)\n",
    "    \n",
    "    for idx, i in tqdm(enumerate(range(0, N-wsize+1, wsize))):\n",
    "        m = X[:, i:i+wsize].mean(axis=1).reshape(-1,1)\n",
    "        s = X[:, i:i+wsize].std(axis=1).reshape(-1,1)\n",
    "        a = np.array([\n",
    "            np.polyfit(xx, ts[i:i+wsize], deg=1)[1] for ts in X\n",
    "        ]).reshape(-1,1)\n",
    "\n",
    "        sub_seq_X[:, idx] = np.concatenate((m,s,a), axis=1)\n",
    "    return sub_seq_X"
   ]
  },
  {
   "cell_type": "markdown",
   "id": "f8d31624-b9b5-46e9-ae12-76138e59ed5e",
   "metadata": {},
   "source": [
    "Generate subsequences of size *wsize* for each sample on the training set"
   ]
  },
  {
   "cell_type": "code",
   "execution_count": 79,
   "id": "8a295926-27d7-4b1b-a380-9d1df99242e4",
   "metadata": {
    "tags": []
   },
   "outputs": [
    {
     "name": "stderr",
     "output_type": "stream",
     "text": [
      "14it [00:03,  4.09it/s]\n",
      "14it [00:00, 16.98it/s]\n"
     ]
    }
   ],
   "source": [
    "wsize=10\n",
    "subX = get_subsequence(X_train, wsize)\n",
    "subTest = get_subsequence(X_test, wsize)"
   ]
  },
  {
   "cell_type": "code",
   "execution_count": 59,
   "id": "3d90a9c5-438d-4381-9bd8-ecb2417e3590",
   "metadata": {
    "tags": []
   },
   "outputs": [
    {
     "data": {
      "text/plain": [
       "(3998, 14, 3)"
      ]
     },
     "execution_count": 59,
     "metadata": {},
     "output_type": "execute_result"
    }
   ],
   "source": [
    "subX.shape"
   ]
  },
  {
   "cell_type": "markdown",
   "id": "849f77aa-75e4-4cd3-aeb9-5d8071b91c9d",
   "metadata": {},
   "source": [
    "Separate each subsequence to consider it as a standalone dataset"
   ]
  },
  {
   "cell_type": "code",
   "execution_count": 80,
   "id": "2f5e2ce9-5727-4298-b608-8b3cea61fcbd",
   "metadata": {
    "tags": []
   },
   "outputs": [],
   "source": [
    "subX = [subX[:, i, :] for i in range(subX.shape[1])]\n",
    "subTest = [subTest[:, i, :] for i in range(subTest.shape[1])]"
   ]
  },
  {
   "cell_type": "markdown",
   "id": "34864e45-4508-4cff-bffe-6456d76e317c",
   "metadata": {},
   "source": [
    "Extract feature importances and test scores for each of the subsamples"
   ]
  },
  {
   "cell_type": "code",
   "execution_count": 89,
   "id": "d6217f71-e75a-4b43-bb01-5419777929a3",
   "metadata": {
    "tags": []
   },
   "outputs": [
    {
     "name": "stderr",
     "output_type": "stream",
     "text": [
      "14it [00:05,  2.69it/s]\n"
     ]
    }
   ],
   "source": [
    "results = pd.DataFrame(columns = [\"Mean\", \"Std\", \"Slope\", \"Score\"])\n",
    "for i, sub in tqdm(enumerate(subX)):\n",
    "    sub_train, sub_test, suby_train, suby_test= train_test_split(\n",
    "        sub,\n",
    "        y_train, \n",
    "        test_size=0.2\n",
    "    )\n",
    "    \n",
    "    rf = RandomForestClassifier().fit(sub_train, suby_train)\n",
    "    \n",
    "    results.loc[i] = dict(\n",
    "        zip([\"Mean\", \"Std\", \"Slope\"], rf.feature_importances_)\n",
    "    ) | {\"Score\": rf.score(sub_test, suby_test)}"
   ]
  },
  {
   "cell_type": "markdown",
   "id": "f6032ea6-deea-49cb-b470-b60880b4c1c1",
   "metadata": {},
   "source": [
    "We can now have an overview of which **Subsequence** has the most relevant information, due to the score, and which of the **Features** is related to that score, due to the feature score of the *Random Forest Model*"
   ]
  },
  {
   "cell_type": "code",
   "execution_count": 91,
   "id": "c0f88375-ff7a-40e7-bb8e-886a85b4f35c",
   "metadata": {
    "tags": []
   },
   "outputs": [
    {
     "data": {
      "text/html": [
       "<div>\n",
       "<style scoped>\n",
       "    .dataframe tbody tr th:only-of-type {\n",
       "        vertical-align: middle;\n",
       "    }\n",
       "\n",
       "    .dataframe tbody tr th {\n",
       "        vertical-align: top;\n",
       "    }\n",
       "\n",
       "    .dataframe thead th {\n",
       "        text-align: right;\n",
       "    }\n",
       "</style>\n",
       "<table border=\"1\" class=\"dataframe\">\n",
       "  <thead>\n",
       "    <tr style=\"text-align: right;\">\n",
       "      <th></th>\n",
       "      <th>Mean</th>\n",
       "      <th>Std</th>\n",
       "      <th>Slope</th>\n",
       "      <th>Score</th>\n",
       "    </tr>\n",
       "  </thead>\n",
       "  <tbody>\n",
       "    <tr>\n",
       "      <th>0</th>\n",
       "      <td>0.231393</td>\n",
       "      <td>0.504355</td>\n",
       "      <td>0.264253</td>\n",
       "      <td>0.95500</td>\n",
       "    </tr>\n",
       "    <tr>\n",
       "      <th>1</th>\n",
       "      <td>0.151083</td>\n",
       "      <td>0.500683</td>\n",
       "      <td>0.348234</td>\n",
       "      <td>0.93375</td>\n",
       "    </tr>\n",
       "    <tr>\n",
       "      <th>2</th>\n",
       "      <td>0.315788</td>\n",
       "      <td>0.363641</td>\n",
       "      <td>0.320570</td>\n",
       "      <td>0.93375</td>\n",
       "    </tr>\n",
       "    <tr>\n",
       "      <th>3</th>\n",
       "      <td>0.396301</td>\n",
       "      <td>0.191538</td>\n",
       "      <td>0.412161</td>\n",
       "      <td>0.91125</td>\n",
       "    </tr>\n",
       "    <tr>\n",
       "      <th>4</th>\n",
       "      <td>0.217517</td>\n",
       "      <td>0.463257</td>\n",
       "      <td>0.319226</td>\n",
       "      <td>0.94250</td>\n",
       "    </tr>\n",
       "    <tr>\n",
       "      <th>9</th>\n",
       "      <td>0.157501</td>\n",
       "      <td>0.395142</td>\n",
       "      <td>0.447357</td>\n",
       "      <td>0.92625</td>\n",
       "    </tr>\n",
       "    <tr>\n",
       "      <th>10</th>\n",
       "      <td>0.371394</td>\n",
       "      <td>0.346060</td>\n",
       "      <td>0.282546</td>\n",
       "      <td>0.97000</td>\n",
       "    </tr>\n",
       "    <tr>\n",
       "      <th>11</th>\n",
       "      <td>0.408893</td>\n",
       "      <td>0.362179</td>\n",
       "      <td>0.228928</td>\n",
       "      <td>0.95500</td>\n",
       "    </tr>\n",
       "    <tr>\n",
       "      <th>12</th>\n",
       "      <td>0.185711</td>\n",
       "      <td>0.161452</td>\n",
       "      <td>0.652837</td>\n",
       "      <td>0.97125</td>\n",
       "    </tr>\n",
       "    <tr>\n",
       "      <th>13</th>\n",
       "      <td>0.505915</td>\n",
       "      <td>0.187030</td>\n",
       "      <td>0.307055</td>\n",
       "      <td>0.95875</td>\n",
       "    </tr>\n",
       "  </tbody>\n",
       "</table>\n",
       "</div>"
      ],
      "text/plain": [
       "        Mean       Std     Slope    Score\n",
       "0   0.231393  0.504355  0.264253  0.95500\n",
       "1   0.151083  0.500683  0.348234  0.93375\n",
       "2   0.315788  0.363641  0.320570  0.93375\n",
       "3   0.396301  0.191538  0.412161  0.91125\n",
       "4   0.217517  0.463257  0.319226  0.94250\n",
       "9   0.157501  0.395142  0.447357  0.92625\n",
       "10  0.371394  0.346060  0.282546  0.97000\n",
       "11  0.408893  0.362179  0.228928  0.95500\n",
       "12  0.185711  0.161452  0.652837  0.97125\n",
       "13  0.505915  0.187030  0.307055  0.95875"
      ]
     },
     "execution_count": 91,
     "metadata": {},
     "output_type": "execute_result"
    }
   ],
   "source": [
    "results[results.Score>0.9]"
   ]
  },
  {
   "cell_type": "markdown",
   "id": "118ccacd-9dd5-4d08-a692-f8cc1579c937",
   "metadata": {},
   "source": [
    "We can see that *subsequence $12$* seems to be the more promissing, having a **high score** with a **very high** feature importance in the **slope**"
   ]
  },
  {
   "cell_type": "code",
   "execution_count": 92,
   "id": "63c58693-31ed-46a8-9551-3e7876535454",
   "metadata": {
    "tags": []
   },
   "outputs": [],
   "source": [
    "subX_train = subsequences[12][:,-1:]\n",
    "subX_test = test_sub[12][:,-1:]"
   ]
  },
  {
   "cell_type": "code",
   "execution_count": 93,
   "id": "27998525-dd44-48fe-adf8-5340b5ed69d7",
   "metadata": {
    "tags": []
   },
   "outputs": [
    {
     "data": {
      "text/plain": [
       "0.9394697348674337"
      ]
     },
     "execution_count": 93,
     "metadata": {},
     "output_type": "execute_result"
    }
   ],
   "source": [
    "lr = LogisticRegression().fit(subX_train, y_train)\n",
    "lr.score(subX_train, y_train)"
   ]
  },
  {
   "cell_type": "code",
   "execution_count": 94,
   "id": "b8c8ee7a-a81d-4b66-af77-999f657048bc",
   "metadata": {
    "tags": []
   },
   "outputs": [
    {
     "data": {
      "text/plain": [
       "0.927"
      ]
     },
     "execution_count": 94,
     "metadata": {},
     "output_type": "execute_result"
    }
   ],
   "source": [
    "lr.score(subX_test, y_test)"
   ]
  },
  {
   "cell_type": "code",
   "execution_count": 183,
   "id": "7107aeba-fddf-425c-a0cd-3ccbbedb5813",
   "metadata": {
    "tags": []
   },
   "outputs": [],
   "source": [
    "preds = lr.predict(subX_test)"
   ]
  },
  {
   "cell_type": "code",
   "execution_count": 186,
   "id": "01938405-76cf-4fb5-a1f0-9a56d0b19eb1",
   "metadata": {
    "tags": []
   },
   "outputs": [
    {
     "data": {
      "text/plain": [
       "0.8489431654413917"
      ]
     },
     "execution_count": 186,
     "metadata": {},
     "output_type": "execute_result"
    }
   ],
   "source": [
    "matthews_corrcoef(y_test, preds)"
   ]
  },
  {
   "cell_type": "code",
   "execution_count": 185,
   "id": "c4e3b20c-6587-4a03-8bf6-e2d497b112b8",
   "metadata": {
    "tags": []
   },
   "outputs": [
    {
     "name": "stdout",
     "output_type": "stream",
     "text": [
      "              precision    recall  f1-score   support\n",
      "\n",
      "         0.0       0.91      0.91      0.91       408\n",
      "         1.0       0.94      0.94      0.94       592\n",
      "\n",
      "    accuracy                           0.93      1000\n",
      "   macro avg       0.92      0.92      0.92      1000\n",
      "weighted avg       0.93      0.93      0.93      1000\n",
      "\n"
     ]
    }
   ],
   "source": [
    "print(classification_report(y_test, preds))"
   ]
  },
  {
   "cell_type": "code",
   "execution_count": 187,
   "id": "6f431a9d-a58f-4d29-aa27-a3403f4e0421",
   "metadata": {
    "tags": []
   },
   "outputs": [
    {
     "data": {
      "text/plain": [
       "<sklearn.metrics._plot.confusion_matrix.ConfusionMatrixDisplay at 0x293335d0a60>"
      ]
     },
     "execution_count": 187,
     "metadata": {},
     "output_type": "execute_result"
    },
    {
     "data": {
      "image/png": "[encoded data removed]",
      "text/plain": [
       "<Figure size 640x480 with 2 Axes>"
      ]
     },
     "metadata": {},
     "output_type": "display_data"
    }
   ],
   "source": [
    "ConfusionMatrixDisplay(\n",
    "    confusion_matrix(y_test, preds)\n",
    ").plot()"
   ]
  },
  {
   "cell_type": "markdown",
   "id": "ea20cb79-d5c7-44e7-9e68-9b4cf61ff271",
   "metadata": {},
   "source": [
    "Good results with a small subsequence of the data, using a single, and easy to calculate, feature. This with a transparent model, with high explainability."
   ]
  },
  {
   "cell_type": "markdown",
   "id": "c39d7aa4-d890-4d4d-9fb4-a3fb8cda8571",
   "metadata": {},
   "source": [
    "Other method would be to fit a decision tree for each of the subsequences, and have a majority vote"
   ]
  },
  {
   "cell_type": "code",
   "execution_count": 174,
   "id": "85813b8a-0cbc-4652-be22-158f9daf81c3",
   "metadata": {
    "tags": []
   },
   "outputs": [],
   "source": [
    "class DummyRF:\n",
    "    def __init__(self):\n",
    "        self.trees = []\n",
    "    \n",
    "    def predict(self, subsequences):\n",
    "        subsequences = np.array(subsequences)\n",
    "        votes = []\n",
    "        \n",
    "        for i, sub in tqdm(enumerate(subsequences)):\n",
    "            votes.append(\n",
    "                self.trees[i].predict(sub).reshape(-1,1)\n",
    "            )\n",
    "        \n",
    "        votes = np.concatenate(votes, axis=1)\n",
    "        votes = list(map(lambda x: np.unique(x, return_counts=True), votes))\n",
    "        votes = list(map(lambda x: x[0][np.argmax(x[1])], votes))\n",
    "        return np.array(votes).astype(int)\n",
    "\n",
    "    def fit(self, subsequences, y):\n",
    "        self.trees=[]\n",
    "        for sub in subsequences:\n",
    "            dt = DecisionTreeClassifier().fit(sub, y)\n",
    "            self.trees.append(dt)\n",
    "        return self\n",
    "    \n",
    "    def score(self, subsequences, y):\n",
    "        acc = 0\n",
    "        for i, sub in tqdm(enumerate(subsequences)):\n",
    "            acc+=self.trees[i].score(sub, y)\n",
    "        return acc/len(self.trees)"
   ]
  },
  {
   "cell_type": "code",
   "execution_count": 175,
   "id": "e6ba5092-cf2f-411e-821a-d7e43f4fad65",
   "metadata": {
    "tags": []
   },
   "outputs": [],
   "source": [
    "rf = DummyRF().fit(subX, y_train)"
   ]
  },
  {
   "cell_type": "code",
   "execution_count": 176,
   "id": "4e7fca28-7818-41a7-b569-3652f645d830",
   "metadata": {
    "tags": []
   },
   "outputs": [
    {
     "name": "stderr",
     "output_type": "stream",
     "text": [
      "14it [00:00, 789.61it/s]\n"
     ]
    },
    {
     "data": {
      "text/plain": [
       "1.0"
      ]
     },
     "execution_count": 176,
     "metadata": {},
     "output_type": "execute_result"
    }
   ],
   "source": [
    "rf.score(subX, y_train)"
   ]
  },
  {
   "cell_type": "code",
   "execution_count": 177,
   "id": "f2291977-4f06-4c28-8980-cf6070e62bc2",
   "metadata": {
    "tags": []
   },
   "outputs": [
    {
     "name": "stderr",
     "output_type": "stream",
     "text": [
      "14it [00:00, 895.99it/s]\n"
     ]
    },
    {
     "data": {
      "text/plain": [
       "0.8655"
      ]
     },
     "execution_count": 177,
     "metadata": {},
     "output_type": "execute_result"
    }
   ],
   "source": [
    "rf.score(subTest, y_test)"
   ]
  },
  {
   "cell_type": "code",
   "execution_count": 188,
   "id": "299594fe-72c8-421d-ab3c-0ee9f23f94b9",
   "metadata": {
    "tags": []
   },
   "outputs": [
    {
     "name": "stderr",
     "output_type": "stream",
     "text": [
      "14it [00:00, 6902.58it/s]\n"
     ]
    }
   ],
   "source": [
    "preds = rf.predict(subTest)"
   ]
  },
  {
   "cell_type": "code",
   "execution_count": 189,
   "id": "fdbea061-2576-49ad-ac6e-c0d1ddc84ae8",
   "metadata": {
    "tags": []
   },
   "outputs": [
    {
     "name": "stdout",
     "output_type": "stream",
     "text": [
      "0.946226862846162\n"
     ]
    }
   ],
   "source": [
    "print(matthews_corrcoef(y_test, preds))"
   ]
  },
  {
   "cell_type": "code",
   "execution_count": 190,
   "id": "bce9e938-0d67-4052-8317-7aecb1f49c3f",
   "metadata": {
    "tags": []
   },
   "outputs": [
    {
     "name": "stdout",
     "output_type": "stream",
     "text": [
      "              precision    recall  f1-score   support\n",
      "\n",
      "         0.0       0.97      0.97      0.97       408\n",
      "         1.0       0.98      0.98      0.98       592\n",
      "\n",
      "    accuracy                           0.97      1000\n",
      "   macro avg       0.97      0.97      0.97      1000\n",
      "weighted avg       0.97      0.97      0.97      1000\n",
      "\n"
     ]
    }
   ],
   "source": [
    "print(classification_report(y_test, preds))"
   ]
  },
  {
   "cell_type": "code",
   "execution_count": 191,
   "id": "7e880c3c-5181-4351-b7c5-84db9b5d1782",
   "metadata": {
    "tags": []
   },
   "outputs": [
    {
     "data": {
      "text/plain": [
       "<sklearn.metrics._plot.confusion_matrix.ConfusionMatrixDisplay at 0x29333ab4340>"
      ]
     },
     "execution_count": 191,
     "metadata": {},
     "output_type": "execute_result"
    },
    {
     "data": {
      "image/png": "[encoded data removed]",
      "text/plain": [
       "<Figure size 640x480 with 2 Axes>"
      ]
     },
     "metadata": {},
     "output_type": "display_data"
    }
   ],
   "source": [
    "ConfusionMatrixDisplay(\n",
    "    confusion_matrix(y_test, preds)\n",
    ").plot()"
   ]
  },
  {
   "cell_type": "markdown",
   "id": "94b0d402-10f2-484b-a720-765ef7b3f3e5",
   "metadata": {},
   "source": [
    "Even better results using an Ensemble model with every subsequence. Still using a transparent model for each interval has a high interpretability."
   ]
  }
 ],
 "metadata": {
  "kernelspec": {
   "display_name": "Python 3 (ipykernel)",
   "language": "python",
   "name": "python3"
  },
  "language_info": {
   "codemirror_mode": {
    "name": "ipython",
    "version": 3
   },
   "file_extension": ".py",
   "mimetype": "text/x-python",
   "name": "python",
   "nbconvert_exporter": "python",
   "pygments_lexer": "ipython3",
   "version": "3.9.7"
  }
 },
 "nbformat": 4,
 "nbformat_minor": 5
}
