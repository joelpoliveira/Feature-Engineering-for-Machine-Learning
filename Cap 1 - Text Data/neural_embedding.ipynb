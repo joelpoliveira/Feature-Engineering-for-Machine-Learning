{
 "cells": [
  {
   "cell_type": "code",
   "execution_count": 1,
   "id": "3e35ffed-b026-400b-8d93-3a79605608ae",
   "metadata": {},
   "outputs": [],
   "source": [
    "import pickle\n",
    "import numpy as np\n",
    "import pandas as pd\n",
    "import nltk\n",
    "import string\n",
    "import sys\n",
    "import tensorflow as tf\n",
    "import matplotlib.pyplot as plt\n",
    "import tqdm\n",
    "\n",
    "from math import log2\n",
    "from random import choices\n",
    "from scipy.sparse import dok_matrix, csr_matrix, dok_array, hstack, vstack\n",
    "from scipy.spatial.distance import cosine, euclidean\n",
    "from scipy.sparse.linalg import svds, inv\n",
    "\n",
    "from sklearn.decomposition import PCA\n",
    "\n",
    "from sklearn.cluster import MiniBatchKMeans, KMeans\n",
    "from sklearn.decomposition import TruncatedSVD, PCA\n",
    "\n",
    "from tensorflow.keras.layers import Input, Dot, Embedding, Dense, Flatten, Lambda, Concatenate, Reshape\n",
    "from tensorflow.keras.models import Model, Sequential\n",
    "from tensorflow.keras.optimizers import SGD"
   ]
  },
  {
   "cell_type": "markdown",
   "id": "edfbe6b7-c2d8-416e-a878-9dd0918b798a",
   "metadata": {
    "tags": []
   },
   "source": [
    "# GloVe Embedding"
   ]
  },
  {
   "cell_type": "code",
   "execution_count": 36,
   "id": "fa414454-d293-451b-a7bd-2aa17269630e",
   "metadata": {},
   "outputs": [],
   "source": [
    "all_words, docs = pickle.load(open(\"data/arxiv_abstracts_no_stopwords.pickle\", \"rb\"))\n",
    "rev_words = {item[1]:item[0] for item in all_words.items()}"
   ]
  },
  {
   "cell_type": "code",
   "execution_count": 37,
   "id": "6257f741-39d3-4f44-8349-579fa8400813",
   "metadata": {
    "tags": []
   },
   "outputs": [
    {
     "data": {
      "text/plain": [
       "100649"
      ]
     },
     "execution_count": 37,
     "metadata": {},
     "output_type": "execute_result"
    }
   ],
   "source": [
    "M = len(all_words)\n",
    "M"
   ]
  },
  {
   "cell_type": "code",
   "execution_count": 38,
   "id": "23539c63-43e2-455d-bf5c-fcbab1987abe",
   "metadata": {
    "tags": []
   },
   "outputs": [],
   "source": [
    "def word2int(word):\n",
    "    return all_words[word]\n",
    "\n",
    "def int2word(idx):\n",
    "    return rev_words[idx]"
   ]
  },
  {
   "cell_type": "markdown",
   "id": "31146af1-d862-478c-bfe2-9e65e568ec57",
   "metadata": {
    "tags": []
   },
   "source": [
    "## Computation of the co-ocurrence matrix"
   ]
  },
  {
   "cell_type": "code",
   "execution_count": 6,
   "id": "24b9ff8c-d8ec-43c9-b96f-082c3dc5814a",
   "metadata": {
    "tags": []
   },
   "outputs": [],
   "source": [
    "def count_word_coocurrence(docs, vocab, wsize=10):\n",
    "    term_term_dict = {}\n",
    "    for doc in docs:\n",
    "        N = len(doc)\n",
    "        \n",
    "        for i in range(wsize, N - wsize):\n",
    "            current_word = word2int(doc[i])\n",
    "            \n",
    "            for j in range(1,wsize + 1):\n",
    "                prev_word = word2int(doc[i - j])\n",
    "                future_word = word2int(doc[i + j])\n",
    "                \n",
    "                term_term_dict[ (prev_word, current_word) ] = term_term_dict.get(\n",
    "                    (prev_word, current_word),\n",
    "                    0\n",
    "                ) + 1\n",
    "                term_term_dict[ (future_word, current_word) ] = term_term_dict.get(\n",
    "                    (future_word, current_word),\n",
    "                    0\n",
    "                ) + 1\n",
    "                \n",
    "    M = len(vocab)\n",
    "    term_term_sparse = dok_matrix((M,M))\n",
    "    for idx, value in term_term_dict.items():\n",
    "        i, j = idx\n",
    "        term_term_sparse[i, j] = value\n",
    "        \n",
    "    return term_term_sparse"
   ]
  },
  {
   "cell_type": "code",
   "execution_count": 7,
   "id": "4fd6bd6a-b814-4c06-961c-ce0b1c7daefb",
   "metadata": {
    "tags": []
   },
   "outputs": [],
   "source": [
    "word_cooc_matrix = count_word_coocurrence(docs, all_words, wsize=5)"
   ]
  },
  {
   "cell_type": "markdown",
   "id": "a9b452b3-41f8-4267-8acf-04304230b1db",
   "metadata": {
    "tags": []
   },
   "source": [
    "## Creating GloVe neural network estimator"
   ]
  },
  {
   "cell_type": "code",
   "execution_count": 8,
   "id": "25887e3f-44f8-45db-89bf-38887ae64de6",
   "metadata": {
    "tags": []
   },
   "outputs": [],
   "source": [
    "def get_training_sets(cooc: dok_matrix):\n",
    "    X = np.array(\n",
    "        list(\n",
    "            cooc.keys()\n",
    "        )\n",
    "    )\n",
    "    y = np.array(\n",
    "        list(\n",
    "            cooc.values()\n",
    "        )\n",
    "    )\n",
    "    \n",
    "    return X, y"
   ]
  },
  {
   "cell_type": "code",
   "execution_count": 9,
   "id": "c8a62498-e815-4c47-8775-d3f58f191ed2",
   "metadata": {
    "tags": []
   },
   "outputs": [],
   "source": [
    "X, y = get_training_sets(word_cooc_matrix)"
   ]
  },
  {
   "cell_type": "code",
   "execution_count": 10,
   "id": "c226d2d0-e89f-4940-ad63-253f38e3c06a",
   "metadata": {
    "tags": []
   },
   "outputs": [
    {
     "data": {
      "text/plain": [
       "(6134986, 2)"
      ]
     },
     "execution_count": 10,
     "metadata": {},
     "output_type": "execute_result"
    }
   ],
   "source": [
    "X.shape"
   ]
  },
  {
   "cell_type": "code",
   "execution_count": 11,
   "id": "78175437-bce7-44ca-8a85-9566854f53ad",
   "metadata": {
    "tags": []
   },
   "outputs": [],
   "source": [
    "EMB_SIZE=50"
   ]
  },
  {
   "cell_type": "code",
   "execution_count": 12,
   "id": "1327724b-b43b-4f32-a2fc-ae6f7b89d010",
   "metadata": {
    "tags": []
   },
   "outputs": [],
   "source": [
    "target = Input(shape=1, name=\"context_input\")\n",
    "context = Input(shape=1, name=\"target_input\")\n",
    "\n",
    "embed_layer = Embedding(\n",
    "    input_dim=word_cooc_matrix.shape[0], \n",
    "    output_dim=EMB_SIZE, \n",
    "    name=\"embed\"\n",
    ")\n",
    "\n",
    "embed_target = embed_layer(target)\n",
    "embed_context = embed_layer(context)\n",
    "\n",
    "dot_layer = Dot(axes=2)( [ embed_target, embed_context ] )\n",
    "flat = Flatten()(dot_layer)\n",
    "\n",
    "model = Model(inputs=[ target, context ], outputs=flat)"
   ]
  },
  {
   "cell_type": "code",
   "execution_count": 13,
   "id": "5959c275-1bd8-4859-9e07-8f87fc07916c",
   "metadata": {
    "tags": []
   },
   "outputs": [],
   "source": [
    "@tf.function\n",
    "def loss(y_test, preds):\n",
    "    x_max = 100\n",
    "    α = 0.75\n",
    "    \n",
    "    G = tf.where(y_test < x_max, (y_test/x_max)**α, 1)\n",
    "    temp = tf.math.log(y_test)\n",
    "    \n",
    "    return tf.reduce_sum(\n",
    "      G *(preds - temp)**2  \n",
    "    )"
   ]
  },
  {
   "cell_type": "code",
   "execution_count": 14,
   "id": "ea821adb-9fd4-44e5-89d4-2fa42c813215",
   "metadata": {
    "tags": []
   },
   "outputs": [],
   "source": [
    "model.compile(optimizer=\"adam\", loss=loss)"
   ]
  },
  {
   "cell_type": "code",
   "execution_count": 20,
   "id": "f127aea2-1984-4f40-9489-5eeeda34786b",
   "metadata": {
    "tags": []
   },
   "outputs": [],
   "source": [
    "model.fit([ X[:,0], X[:,1] ], y, epochs=10, batch_size=64)"
   ]
  },
  {
   "cell_type": "code",
   "execution_count": 16,
   "id": "ca0e4eae-0f76-470a-a700-14be690ab329",
   "metadata": {
    "tags": []
   },
   "outputs": [],
   "source": [
    "embed_vectors = model.get_weights()[0]"
   ]
  },
  {
   "cell_type": "code",
   "execution_count": 17,
   "id": "a06c7d08-dd0b-4f3d-8bac-cbe18da1aefa",
   "metadata": {
    "tags": []
   },
   "outputs": [],
   "source": [
    "u = PCA().fit_transform(embed_vectors)"
   ]
  },
  {
   "cell_type": "code",
   "execution_count": 74,
   "id": "4371d582-f5e7-4dfc-9a84-1e59f4b9a139",
   "metadata": {
    "tags": []
   },
   "outputs": [
    {
     "data": {
      "text/plain": [
       "array([  992,   489,   488,    68,   450, 31480, 25362, 56725,  1063,\n",
       "       36925,  1292, 56726, 41913, 60365,  2767], dtype=int64)"
      ]
     },
     "execution_count": 74,
     "metadata": {},
     "output_type": "execute_result"
    }
   ],
   "source": [
    "np.argsort([\n",
    "    euclidean( \n",
    "        embed_vectors[word2int(\"cnn\")],\n",
    "        embed_vectors[i]\n",
    "    ) for i in range(embed_vectors.shape[0])\n",
    "])[:15]"
   ]
  },
  {
   "cell_type": "code",
   "execution_count": 92,
   "id": "9a653ca7-568a-4719-9db0-f91e885e21f9",
   "metadata": {
    "tags": []
   },
   "outputs": [
    {
     "data": {
      "image/png": "[encoded data removed]",
      "text/plain": [
       "<Figure size 1400x800 with 1 Axes>"
      ]
     },
     "metadata": {},
     "output_type": "display_data"
    }
   ],
   "source": [
    "prog_near = np.argsort([ \n",
    "    euclidean(\n",
    "        u[word2int(\"network\")], \n",
    "        u[i]\n",
    "    ) for i in range(len(u))\n",
    "])[:15]\n",
    "\n",
    "random = np.random.choice(list(range(len(u))), size=15, replace=False)\n",
    "\n",
    "plt.figure(figsize=(14,8))\n",
    "for i in prog_near:\n",
    "    plt.scatter(u[i,0], u[i,1], c=\"b\") #int2word(i))\n",
    "    plt.text(u[i,0], u[i,1],int2word(i))\n",
    "    \n",
    "for i in random:\n",
    "    plt.scatter(u[i,0], u[i,1], c=\"r\") \n",
    "    plt.text(u[i,0], u[i,1],int2word(i))"
   ]
  },
  {
   "cell_type": "code",
   "execution_count": 87,
   "id": "69f4ff7c-381d-4daa-83f1-b3230bdb4b3d",
   "metadata": {
    "tags": []
   },
   "outputs": [],
   "source": [
    "model.save(\"gloVe.h5\")"
   ]
  },
  {
   "cell_type": "markdown",
   "id": "ab9cb411-3a32-48fc-be54-8a75ea97f34d",
   "metadata": {},
   "source": [
    "# Word2Vec Embedding"
   ]
  },
  {
   "cell_type": "code",
   "execution_count": 2,
   "id": "6b9550de-034d-40b1-b6c3-df02862367f2",
   "metadata": {
    "tags": []
   },
   "outputs": [],
   "source": [
    "all_words, docs = pickle.load(open(\"data/arxiv_abstracts_no_stopwords.pickle\", \"rb\"))\n",
    "rev_words = {item[1]:item[0] for item in all_words.items()}"
   ]
  },
  {
   "cell_type": "code",
   "execution_count": 3,
   "id": "7b82be42-e854-4b81-93ad-581fb7582ac9",
   "metadata": {
    "tags": []
   },
   "outputs": [],
   "source": [
    "def word2int(word):\n",
    "    return all_words[word]\n",
    "\n",
    "def int2word(idx):\n",
    "    return rev_words[idx]"
   ]
  },
  {
   "cell_type": "markdown",
   "id": "5f108668-b435-4f6c-8076-33a7b5e386d0",
   "metadata": {
    "tags": []
   },
   "source": [
    "## CBOW"
   ]
  },
  {
   "cell_type": "code",
   "execution_count": 4,
   "id": "b10914f8-abf4-4ff2-bf1f-a2bcb0a18f3b",
   "metadata": {
    "tags": []
   },
   "outputs": [],
   "source": [
    "def get_dataset(docs, wsize=2):\n",
    "    dataset = {}\n",
    "    \n",
    "    for doc in docs:\n",
    "        N = len(doc)\n",
    "        \n",
    "        for i in range(wsize, N - wsize):\n",
    "            current_word = word2int(doc[i])\n",
    "            context_set = tuple()\n",
    "            for j in range(1,wsize + 1):\n",
    "                prev_word = word2int(doc[i - j])\n",
    "                future_word = word2int(doc[i + j])\n",
    "                \n",
    "                context_set = context_set + (prev_word, future_word)\n",
    "            context_set = tuple(sorted(context_set))\n",
    "            \n",
    "            dataset[context_set] = dataset.get(context_set, set()) | {current_word}\n",
    "    return dataset"
   ]
  },
  {
   "cell_type": "code",
   "execution_count": 5,
   "id": "5c7a7111-94d2-4d69-b8cf-a944b71958be",
   "metadata": {
    "tags": []
   },
   "outputs": [],
   "source": [
    "def unwind(dataset: dict):\n",
    "    X = []\n",
    "    y = []\n",
    "    \n",
    "    for item in dataset.items():\n",
    "        xsample, ysamples = item\n",
    "        for y_value in ysamples:\n",
    "            X.append(xsample)\n",
    "            y.append(y_value)\n",
    "    return np.array(X), np.array(y).reshape(-1,1)"
   ]
  },
  {
   "cell_type": "code",
   "execution_count": 6,
   "id": "dae6e5a7-e47e-4bd1-a597-eb1351221b99",
   "metadata": {
    "tags": []
   },
   "outputs": [],
   "source": [
    "def word2int(word):\n",
    "    return all_words[word]\n",
    "\n",
    "def int2word(idx):\n",
    "    return rev_words[idx]"
   ]
  },
  {
   "cell_type": "markdown",
   "id": "10e6da8b-066c-49c9-9ca5-1f15743c2144",
   "metadata": {
    "tags": []
   },
   "source": [
    "### Full dataset\n"
   ]
  },
  {
   "cell_type": "markdown",
   "id": "60c48eb7-3a7c-472c-a6a4-c5861cd80813",
   "metadata": {
    "tags": []
   },
   "source": [
    "#### 1. Testing CBOW with the default mode (predicting correct class)"
   ]
  },
  {
   "cell_type": "code",
   "execution_count": 7,
   "id": "866d7e18-d613-4f95-ba5e-7aa637ecbf21",
   "metadata": {
    "tags": []
   },
   "outputs": [],
   "source": [
    "M = len(all_words)"
   ]
  },
  {
   "cell_type": "code",
   "execution_count": 9,
   "id": "8b66f1af-9be9-47ee-a205-127a815c13cf",
   "metadata": {
    "tags": []
   },
   "outputs": [],
   "source": [
    "wsize=4"
   ]
  },
  {
   "cell_type": "code",
   "execution_count": 10,
   "id": "c6c64cca-4e69-40d7-9361-1c14aa714410",
   "metadata": {
    "tags": []
   },
   "outputs": [],
   "source": [
    "ds = get_dataset(docs, wsize)"
   ]
  },
  {
   "cell_type": "code",
   "execution_count": 11,
   "id": "9f971ef3-9b1a-4bbe-824c-418ac58df5c1",
   "metadata": {
    "tags": []
   },
   "outputs": [],
   "source": [
    "X,y = unwind(ds)"
   ]
  },
  {
   "cell_type": "code",
   "execution_count": 12,
   "id": "2f5f8726-2f82-4e1a-a9dc-b8d0b4f7e070",
   "metadata": {
    "tags": []
   },
   "outputs": [],
   "source": [
    "EMB_SIZE=50"
   ]
  },
  {
   "cell_type": "code",
   "execution_count": null,
   "id": "a4a7dbb6-f1e2-4b9b-af2c-5694b3587acf",
   "metadata": {
    "tags": []
   },
   "outputs": [],
   "source": [
    "model = Sequential([\n",
    "    Embedding(\n",
    "        input_dim=M, \n",
    "        output_dim=EMB_SIZE, \n",
    "        input_length=wsize*2,\n",
    "        name=\"embeding_layer\"),\n",
    "    Lambda(lambda x: tf.keras.backend.mean(x, axis=1), output_shape=EMB_SIZE, name=\"mean_layer\"),\n",
    "    Dense(units=M, activation=\"softmax\", name=\"activation_layer\")\n",
    "])\n",
    "    "
   ]
  },
  {
   "cell_type": "code",
   "execution_count": 48,
   "id": "7a1c8f60-6164-4d2d-aa18-8dbdfaadf55d",
   "metadata": {
    "tags": []
   },
   "outputs": [],
   "source": [
    "model.compile(\"adam\", loss=\"sparse_categorical_crossentropy\")"
   ]
  },
  {
   "cell_type": "code",
   "execution_count": null,
   "id": "5a6fb7a8-424e-4b35-b58b-7346c14e3b85",
   "metadata": {
    "tags": []
   },
   "outputs": [],
   "source": [
    "model.fit(x=X, y=y, batch_size=128, epochs=1)"
   ]
  },
  {
   "cell_type": "code",
   "execution_count": 23,
   "id": "9f9d0385-b077-4f36-a960-101b875d42fb",
   "metadata": {},
   "outputs": [],
   "source": [
    "model.save(\"cbow.h5\")"
   ]
  },
  {
   "cell_type": "code",
   "execution_count": 27,
   "id": "fa26feea-76f6-4e24-b3d5-bdbf1623399a",
   "metadata": {
    "tags": []
   },
   "outputs": [],
   "source": [
    "embed_vectors = model.get_weights()[0]"
   ]
  },
  {
   "cell_type": "code",
   "execution_count": 28,
   "id": "3f88197a-3c4e-4649-9bdb-b96819eccb9d",
   "metadata": {
    "tags": []
   },
   "outputs": [],
   "source": [
    "pca = PCA().fit_transform(embed_vectors)"
   ]
  },
  {
   "cell_type": "code",
   "execution_count": 57,
   "id": "5938a6bd-e0b6-4295-a537-df6ebb284470",
   "metadata": {
    "tags": []
   },
   "outputs": [
    {
     "data": {
      "text/plain": [
       "array([   11, 12934, 31193,  2919, 28473, 32610, 83848, 74653, 89796,\n",
       "        7153, 56906, 37408, 50647, 62902, 56907], dtype=int64)"
      ]
     },
     "execution_count": 57,
     "metadata": {},
     "output_type": "execute_result"
    }
   ],
   "source": [
    "np.argsort([ \n",
    "    euclidean(\n",
    "        pca[word2int(\"bridge\")], \n",
    "        pca[i]\n",
    "    ) for i in range(len(pca))\n",
    "])[:15]"
   ]
  },
  {
   "cell_type": "code",
   "execution_count": null,
   "id": "55c871c0-60e9-452c-99a1-03363b220e4d",
   "metadata": {},
   "outputs": [],
   "source": [
    "int2word(32610)"
   ]
  },
  {
   "cell_type": "code",
   "execution_count": 66,
   "id": "8df23283-8920-4f01-9970-01da186a6e92",
   "metadata": {
    "tags": []
   },
   "outputs": [
    {
     "data": {
      "text/plain": [
       "['endowed',\n",
       " 'boundary',\n",
       " 'artifacts',\n",
       " 'refining',\n",
       " 'contours',\n",
       " 'generation',\n",
       " 'final',\n",
       " 'codes',\n",
       " '//github.com/liqiokkk/fctl',\n",
       " '-dimensional',\n",
       " 'whereby',\n",
       " 'clustered',\n",
       " 'edge',\n",
       " 'general',\n",
       " 'probabilistic',\n",
       " 'mathematical',\n",
       " 'devised',\n",
       " 'thresholds',\n",
       " 'calculated',\n",
       " 'indicate',\n",
       " 'randomly-generated',\n",
       " 'points',\n",
       " 'projected',\n",
       " 'structures',\n",
       " 'partition']"
      ]
     },
     "execution_count": 66,
     "metadata": {},
     "output_type": "execute_result"
    }
   ],
   "source": [
    "list(all_words.keys())[1200:1225]"
   ]
  },
  {
   "cell_type": "code",
   "execution_count": 67,
   "id": "64729454-2ac4-431a-851d-97bb33d89ea5",
   "metadata": {
    "tags": []
   },
   "outputs": [
    {
     "data": {
      "image/png": "[encoded data removed]",
      "text/plain": [
       "<Figure size 1400x800 with 1 Axes>"
      ]
     },
     "metadata": {},
     "output_type": "display_data"
    }
   ],
   "source": [
    "k=5\n",
    "prog_near = np.argsort([ \n",
    "    euclidean(\n",
    "        pca[word2int(\"cluster\")], \n",
    "        pca[i]\n",
    "    ) for i in range(len(pca))\n",
    "])[:k]\n",
    "\n",
    "random = np.random.choice(list(range(len(pca))), size=k, replace=False)\n",
    "\n",
    "plt.figure(figsize=(14,8))\n",
    "for i in prog_near:\n",
    "    plt.scatter(pca[i,0], pca[i,1], c=\"b\") #int2word(i))\n",
    "    plt.text(pca[i,0], pca[i,1],int2word(i))\n",
    "    \n",
    "for i in random:\n",
    "    plt.scatter(pca[i,0], pca[i,1], c=\"r\") \n",
    "    plt.text(pca[i,0], pca[i,1],int2word(i))"
   ]
  },
  {
   "cell_type": "markdown",
   "id": "baab7785-9107-4132-a7e6-b40d3205b434",
   "metadata": {
    "tags": []
   },
   "source": [
    "#### 2. CBOW with negative sampling"
   ]
  },
  {
   "cell_type": "code",
   "execution_count": 6,
   "id": "53ed1576-20e3-492f-b188-20046be9ae49",
   "metadata": {
    "tags": []
   },
   "outputs": [],
   "source": [
    "wsize=4"
   ]
  },
  {
   "cell_type": "code",
   "execution_count": 7,
   "id": "d025e061-2afe-424c-9ac8-d4ae64013f8a",
   "metadata": {
    "tags": []
   },
   "outputs": [],
   "source": [
    "ds = get_dataset(docs, wsize)"
   ]
  },
  {
   "cell_type": "code",
   "execution_count": 8,
   "id": "33dae79f-5287-4b8b-9ede-4763e32cc16b",
   "metadata": {
    "tags": []
   },
   "outputs": [],
   "source": [
    "context_words, target_words = unwind(ds)"
   ]
  },
  {
   "cell_type": "code",
   "execution_count": 9,
   "id": "23d99261-82b5-4ee9-b672-59e76330d02b",
   "metadata": {
    "tags": []
   },
   "outputs": [
    {
     "data": {
      "text/plain": [
       "(1949427, 8)"
      ]
     },
     "execution_count": 9,
     "metadata": {},
     "output_type": "execute_result"
    }
   ],
   "source": [
    "context_words.shape"
   ]
  },
  {
   "cell_type": "code",
   "execution_count": 10,
   "id": "c3828723-ba14-43e6-9421-e706a49a9dcd",
   "metadata": {
    "tags": []
   },
   "outputs": [],
   "source": [
    "k=5\n",
    "M = len(all_words)\n",
    "EMB_DIM = 50"
   ]
  },
  {
   "cell_type": "code",
   "execution_count": 11,
   "id": "8036c0f4-cd1a-46de-b905-aa1e5507f1d8",
   "metadata": {
    "tags": []
   },
   "outputs": [],
   "source": [
    "context = Input(shape=wsize*2)\n",
    "target = Input(shape=1)\n",
    "n_targets = Input(shape=k)\n",
    "\n",
    "embedding_layer = Embedding(M, EMB_DIM, name=\"emb_layer\")\n",
    "mean_layer = Lambda(lambda x: tf.keras.backend.mean(x, axis=1), output_shape=(EMB_DIM))\n",
    "reshape_layer = Reshape((1, EMB_DIM))\n",
    "dot_layer = Dot(axes=2)\n",
    "concat = Concatenate()\n",
    "\n",
    "cemb = embedding_layer(context)\n",
    "cemb = mean_layer(cemb)\n",
    "cemb = reshape_layer(cemb)\n",
    "\n",
    "temb = embedding_layer(target)\n",
    "nemb = embedding_layer(n_targets)\n",
    "\n",
    "out = dot_layer([cemb, temb])\n",
    "n_out = dot_layer([-cemb, nemb])\n",
    "\n",
    "out = concat([out, n_out])\n",
    "\n",
    "model = Model(inputs=[context, target, n_targets], outputs=out)"
   ]
  },
  {
   "cell_type": "code",
   "execution_count": 12,
   "id": "2373b7bd-d71f-49d0-b2a5-6226d2548ab7",
   "metadata": {
    "tags": []
   },
   "outputs": [
    {
     "name": "stdout",
     "output_type": "stream",
     "text": [
      "Model: \"model\"\n",
      "__________________________________________________________________________________________________\n",
      " Layer (type)                   Output Shape         Param #     Connected to                     \n",
      "==================================================================================================\n",
      " input_1 (InputLayer)           [(None, 8)]          0           []                               \n",
      "                                                                                                  \n",
      " emb_layer (Embedding)          multiple             5032450     ['input_1[0][0]',                \n",
      "                                                                  'input_2[0][0]',                \n",
      "                                                                  'input_3[0][0]']                \n",
      "                                                                                                  \n",
      " lambda (Lambda)                (None, 50)           0           ['emb_layer[0][0]']              \n",
      "                                                                                                  \n",
      " reshape (Reshape)              (None, 1, 50)        0           ['lambda[0][0]']                 \n",
      "                                                                                                  \n",
      " input_2 (InputLayer)           [(None, 1)]          0           []                               \n",
      "                                                                                                  \n",
      " input_3 (InputLayer)           [(None, 5)]          0           []                               \n",
      "                                                                                                  \n",
      " tf.math.negative (TFOpLambda)  (None, 1, 50)        0           ['reshape[0][0]']                \n",
      "                                                                                                  \n",
      " dot (Dot)                      multiple             0           ['reshape[0][0]',                \n",
      "                                                                  'emb_layer[1][0]',              \n",
      "                                                                  'tf.math.negative[0][0]',       \n",
      "                                                                  'emb_layer[2][0]']              \n",
      "                                                                                                  \n",
      " concatenate (Concatenate)      (None, 1, 6)         0           ['dot[0][0]',                    \n",
      "                                                                  'dot[1][0]']                    \n",
      "                                                                                                  \n",
      "==================================================================================================\n",
      "Total params: 5,032,450\n",
      "Trainable params: 5,032,450\n",
      "Non-trainable params: 0\n",
      "__________________________________________________________________________________________________\n"
     ]
    }
   ],
   "source": [
    "model.summary()"
   ]
  },
  {
   "cell_type": "code",
   "execution_count": 13,
   "id": "7d35de99-3e73-4e94-8354-c27cbd76fd68",
   "metadata": {
    "tags": []
   },
   "outputs": [],
   "source": [
    "vocab = list(all_words.values())"
   ]
  },
  {
   "cell_type": "code",
   "execution_count": 18,
   "id": "88d23260-e706-41b2-9a3d-433d9e777689",
   "metadata": {
    "tags": []
   },
   "outputs": [],
   "source": [
    "def epochs_generator(context_words, target_words, n_nsamples, batch_size=1, epochs=1):\n",
    "    idx = np.arange(context_words.shape[0], dtype=int)\n",
    "    np.random.shuffle(idx)\n",
    "    context_words = context_words[idx]\n",
    "    target_words = target_words[idx]    \n",
    "    \n",
    "    i = 0\n",
    "    while i < int(context_words.shape[0]):\n",
    "        c = context_words[i:i+batch_size]\n",
    "        t = target_words[i:i+batch_size]\n",
    "        \n",
    "        new_shape = len(c)\n",
    "        \n",
    "        n_targets = np.array(\n",
    "            choices(vocab, k=n_nsamples*new_shape)\n",
    "        ).reshape(n_nsamples, new_shape)\n",
    "        \n",
    "        c = c.reshape(new_shape,-1)\n",
    "        t = t.reshape(new_shape,-1)\n",
    "        n = n_targets.reshape(new_shape,-1)\n",
    "\n",
    "        out = np.array([[1] + [0]*n_nsamples]*new_shape).reshape(new_shape,-1)\n",
    "        yield ([c, t, n], out)\n",
    "        i+=batch_size"
   ]
  },
  {
   "cell_type": "code",
   "execution_count": 27,
   "id": "fc822b05-d013-4b05-8a0a-bade03723513",
   "metadata": {
    "tags": []
   },
   "outputs": [],
   "source": [
    "@tf.function\n",
    "def cbow_loss(y_test, preds):\n",
    "    return -tf.reduce_sum(\n",
    "        tf.math.log_sigmoid(preds)\n",
    "    )"
   ]
  },
  {
   "cell_type": "code",
   "execution_count": 28,
   "id": "e6ec04e4-a40b-46ad-98a7-c301ca9f27b4",
   "metadata": {
    "tags": []
   },
   "outputs": [],
   "source": [
    "model.compile(\"adam\", cbow_loss)"
   ]
  },
  {
   "cell_type": "code",
   "execution_count": null,
   "id": "582796dd-1cbb-47f7-821d-a076b5629f91",
   "metadata": {
    "tags": []
   },
   "outputs": [
    {
     "name": "stdout",
     "output_type": "stream",
     "text": [
      "11523/60920 [====>.........................] - ETA: 10:27 - loss: 246198.7031"
     ]
    }
   ],
   "source": [
    "batch_size=32\n",
    "model.fit(\n",
    "    epochs_generator(context_words, target_words, k, batch_size), \n",
    "    steps_per_epoch=np.ceil(len(context_words)/batch_size)\n",
    ")"
   ]
  },
  {
   "cell_type": "code",
   "execution_count": 89,
   "id": "929f16ae-af19-41ef-bd4e-50e2df918f8b",
   "metadata": {
    "tags": []
   },
   "outputs": [],
   "source": [
    "model.save(\"models/cbow_negative_sampling.h5\")"
   ]
  },
  {
   "cell_type": "code",
   "execution_count": 22,
   "id": "3b2d7e43-3e40-465d-8114-4c39475aeda1",
   "metadata": {
    "tags": []
   },
   "outputs": [],
   "source": [
    "embed_vectors = model.get_weights()[0]"
   ]
  },
  {
   "cell_type": "code",
   "execution_count": 23,
   "id": "168b35da-e196-4b96-b9f4-32b8162f8573",
   "metadata": {
    "tags": []
   },
   "outputs": [],
   "source": [
    "pca = PCA().fit_transform(embed_vectors)"
   ]
  },
  {
   "cell_type": "code",
   "execution_count": 26,
   "id": "159f5318-2d49-48c9-b8e6-dfa921b96589",
   "metadata": {
    "tags": []
   },
   "outputs": [
    {
     "data": {
      "image/png": "[encoded data removed]",
      "text/plain": [
       "<Figure size 1400x800 with 1 Axes>"
      ]
     },
     "metadata": {},
     "output_type": "display_data"
    }
   ],
   "source": [
    "k=5\n",
    "prog_near = np.argsort([ \n",
    "    euclidean(\n",
    "        pca[word2int(\"research\")], \n",
    "        pca[i]\n",
    "    ) for i in range(len(pca))\n",
    "])[:k]\n",
    "\n",
    "random = np.random.choice(list(range(len(pca))), size=k, replace=False)\n",
    "\n",
    "plt.figure(figsize=(14,8))\n",
    "for i in prog_near:\n",
    "    plt.scatter(pca[i,0], pca[i,1], c=\"b\") #int2word(i))\n",
    "    plt.text(pca[i,0], pca[i,1],int2word(i))\n",
    "    \n",
    "for i in random:\n",
    "    plt.scatter(pca[i,0], pca[i,1], c=\"r\") \n",
    "    plt.text(pca[i,0], pca[i,1],int2word(i))"
   ]
  }
 ],
 "metadata": {
  "kernelspec": {
   "display_name": "Python 3 (ipykernel)",
   "language": "python",
   "name": "python3"
  },
  "language_info": {
   "codemirror_mode": {
    "name": "ipython",
    "version": 3
   },
   "file_extension": ".py",
   "mimetype": "text/x-python",
   "name": "python",
   "nbconvert_exporter": "python",
   "pygments_lexer": "ipython3",
   "version": "3.9.7"
  }
 },
 "nbformat": 4,
 "nbformat_minor": 5
}
