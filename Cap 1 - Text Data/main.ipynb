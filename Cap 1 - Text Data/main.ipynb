{
 "cells": [
  {
   "cell_type": "code",
   "execution_count": 179,
   "id": "73fda414-a487-4de9-b80d-04b65e75b240",
   "metadata": {},
   "outputs": [],
   "source": [
    "import pandas as pd\n",
    "import numpy as np\n",
    "import matplotlib.pyplot as plt\n",
    "import seaborn as sns\n",
    "\n",
    "import string\n",
    "import nltk\n",
    "\n",
    "from scipy.spatial.distance import minkowski, cosine\n",
    "from IPython.display import display"
   ]
  },
  {
   "cell_type": "code",
   "execution_count": 125,
   "id": "a8d3a943-5fb4-4f7c-ac5f-43a729469ece",
   "metadata": {},
   "outputs": [],
   "source": [
    "df = pd.read_csv(\"arxiv_data.csv\", nrows=500)"
   ]
  },
  {
   "cell_type": "code",
   "execution_count": 126,
   "id": "59927040-faec-4f4c-bd5e-f8437a657551",
   "metadata": {},
   "outputs": [
    {
     "data": {
      "text/html": [
       "<div>\n",
       "<style scoped>\n",
       "    .dataframe tbody tr th:only-of-type {\n",
       "        vertical-align: middle;\n",
       "    }\n",
       "\n",
       "    .dataframe tbody tr th {\n",
       "        vertical-align: top;\n",
       "    }\n",
       "\n",
       "    .dataframe thead th {\n",
       "        text-align: right;\n",
       "    }\n",
       "</style>\n",
       "<table border=\"1\" class=\"dataframe\">\n",
       "  <thead>\n",
       "    <tr style=\"text-align: right;\">\n",
       "      <th></th>\n",
       "      <th>titles</th>\n",
       "      <th>summaries</th>\n",
       "      <th>terms</th>\n",
       "    </tr>\n",
       "  </thead>\n",
       "  <tbody>\n",
       "    <tr>\n",
       "      <th>0</th>\n",
       "      <td>Survey on Semantic Stereo Matching / Semantic ...</td>\n",
       "      <td>Stereo matching is one of the widely used tech...</td>\n",
       "      <td>['cs.CV', 'cs.LG']</td>\n",
       "    </tr>\n",
       "    <tr>\n",
       "      <th>1</th>\n",
       "      <td>FUTURE-AI: Guiding Principles and Consensus Re...</td>\n",
       "      <td>The recent advancements in artificial intellig...</td>\n",
       "      <td>['cs.CV', 'cs.AI', 'cs.LG']</td>\n",
       "    </tr>\n",
       "    <tr>\n",
       "      <th>2</th>\n",
       "      <td>Enforcing Mutual Consistency of Hard Regions f...</td>\n",
       "      <td>In this paper, we proposed a novel mutual cons...</td>\n",
       "      <td>['cs.CV', 'cs.AI']</td>\n",
       "    </tr>\n",
       "    <tr>\n",
       "      <th>3</th>\n",
       "      <td>Parameter Decoupling Strategy for Semi-supervi...</td>\n",
       "      <td>Consistency training has proven to be an advan...</td>\n",
       "      <td>['cs.CV']</td>\n",
       "    </tr>\n",
       "    <tr>\n",
       "      <th>4</th>\n",
       "      <td>Background-Foreground Segmentation for Interio...</td>\n",
       "      <td>To ensure safety in automated driving, the cor...</td>\n",
       "      <td>['cs.CV', 'cs.LG']</td>\n",
       "    </tr>\n",
       "  </tbody>\n",
       "</table>\n",
       "</div>"
      ],
      "text/plain": [
       "                                              titles  \\\n",
       "0  Survey on Semantic Stereo Matching / Semantic ...   \n",
       "1  FUTURE-AI: Guiding Principles and Consensus Re...   \n",
       "2  Enforcing Mutual Consistency of Hard Regions f...   \n",
       "3  Parameter Decoupling Strategy for Semi-supervi...   \n",
       "4  Background-Foreground Segmentation for Interio...   \n",
       "\n",
       "                                           summaries  \\\n",
       "0  Stereo matching is one of the widely used tech...   \n",
       "1  The recent advancements in artificial intellig...   \n",
       "2  In this paper, we proposed a novel mutual cons...   \n",
       "3  Consistency training has proven to be an advan...   \n",
       "4  To ensure safety in automated driving, the cor...   \n",
       "\n",
       "                         terms  \n",
       "0           ['cs.CV', 'cs.LG']  \n",
       "1  ['cs.CV', 'cs.AI', 'cs.LG']  \n",
       "2           ['cs.CV', 'cs.AI']  \n",
       "3                    ['cs.CV']  \n",
       "4           ['cs.CV', 'cs.LG']  "
      ]
     },
     "execution_count": 126,
     "metadata": {},
     "output_type": "execute_result"
    }
   ],
   "source": [
    "df.head()"
   ]
  },
  {
   "cell_type": "markdown",
   "id": "63f624fd-3608-4d68-a2fb-45728f03a8b9",
   "metadata": {
    "tags": []
   },
   "source": [
    "# Bag of Words"
   ]
  },
  {
   "cell_type": "code",
   "execution_count": null,
   "id": "be64b8d6-8afb-419d-99c2-220f7932c456",
   "metadata": {},
   "outputs": [],
   "source": [
    "def get(index):\n",
    "    return df.loc[index, \"summaries\"]"
   ]
  },
  {
   "cell_type": "code",
   "execution_count": null,
   "id": "b65d3c9b-282d-412d-892e-8dd41e400eff",
   "metadata": {},
   "outputs": [],
   "source": [
    "def get_vocabulary(all_docs)->set:\n",
    "    vocab = set()\n",
    "    for doc in all_docs:\n",
    "        for word in nltk.word_tokenize(doc):\n",
    "            vocab|={word.lower()}\n",
    "    return vocab"
   ]
  },
  {
   "cell_type": "code",
   "execution_count": 167,
   "id": "7b87491f-f15c-47fd-bb55-64432d8c7126",
   "metadata": {},
   "outputs": [
    {
     "data": {
      "text/plain": [
       "7684"
      ]
     },
     "execution_count": 167,
     "metadata": {},
     "output_type": "execute_result"
    }
   ],
   "source": [
    "vocab = list(get_vocabulary(df[\"summaries\"]))\n",
    "len(vocab)"
   ]
  },
  {
   "cell_type": "code",
   "execution_count": 166,
   "id": "d8249217-486d-4d51-bb5a-47104bb2445b",
   "metadata": {},
   "outputs": [],
   "source": [
    "def bag_of_words(document: str, vocab: list):\n",
    "    bow = np.zeros(len(vocab))\n",
    "    loc = dict(map(lambda pair: (pair[1], pair[0]), enumerate(vocab)))\n",
    "    \n",
    "    for word in nltk.word_tokenize(document):\n",
    "        bow[loc[word.lower()]]=1\n",
    "        \n",
    "    return bow"
   ]
  },
  {
   "cell_type": "code",
   "execution_count": 180,
   "id": "3b295cc9-ecd6-4798-a86d-a76b354fd72a",
   "metadata": {},
   "outputs": [],
   "source": [
    "def get_similarity_mat(N, dist):\n",
    "    bows = [ bag_of_words(get(i), vocab) for i in range(N) ]\n",
    "    \n",
    "    sim_mat = np.zeros((n,n))\n",
    "    for i in range(n):\n",
    "        for j in range(i, n):\n",
    "            sim_mat[i,j] = dist(bows[i], bows[j])\n",
    "            sim_mat[j,i] = sim_mat[i,j]\n",
    "    display(pd.DataFrame(data = sim_mat, columns=range(n), index=range(n)).loc[0:5, 0:5])\n",
    "    return sim_mat"
   ]
  },
  {
   "cell_type": "code",
   "execution_count": 181,
   "id": "bff8092e-f85e-4ca2-8360-f5ebe2295497",
   "metadata": {},
   "outputs": [
    {
     "data": {
      "text/html": [
       "<div>\n",
       "<style scoped>\n",
       "    .dataframe tbody tr th:only-of-type {\n",
       "        vertical-align: middle;\n",
       "    }\n",
       "\n",
       "    .dataframe tbody tr th {\n",
       "        vertical-align: top;\n",
       "    }\n",
       "\n",
       "    .dataframe thead th {\n",
       "        text-align: right;\n",
       "    }\n",
       "</style>\n",
       "<table border=\"1\" class=\"dataframe\">\n",
       "  <thead>\n",
       "    <tr style=\"text-align: right;\">\n",
       "      <th></th>\n",
       "      <th>0</th>\n",
       "      <th>1</th>\n",
       "      <th>2</th>\n",
       "      <th>3</th>\n",
       "      <th>4</th>\n",
       "      <th>5</th>\n",
       "    </tr>\n",
       "  </thead>\n",
       "  <tbody>\n",
       "    <tr>\n",
       "      <th>0</th>\n",
       "      <td>0.000000</td>\n",
       "      <td>13.266499</td>\n",
       "      <td>13.304135</td>\n",
       "      <td>13.000000</td>\n",
       "      <td>13.638182</td>\n",
       "      <td>11.958261</td>\n",
       "    </tr>\n",
       "    <tr>\n",
       "      <th>1</th>\n",
       "      <td>13.266499</td>\n",
       "      <td>0.000000</td>\n",
       "      <td>15.132746</td>\n",
       "      <td>14.730920</td>\n",
       "      <td>15.556349</td>\n",
       "      <td>14.177447</td>\n",
       "    </tr>\n",
       "    <tr>\n",
       "      <th>2</th>\n",
       "      <td>13.304135</td>\n",
       "      <td>15.132746</td>\n",
       "      <td>0.000000</td>\n",
       "      <td>13.490738</td>\n",
       "      <td>15.264338</td>\n",
       "      <td>13.490738</td>\n",
       "    </tr>\n",
       "    <tr>\n",
       "      <th>3</th>\n",
       "      <td>13.000000</td>\n",
       "      <td>14.730920</td>\n",
       "      <td>13.490738</td>\n",
       "      <td>0.000000</td>\n",
       "      <td>15.000000</td>\n",
       "      <td>12.489996</td>\n",
       "    </tr>\n",
       "    <tr>\n",
       "      <th>4</th>\n",
       "      <td>13.638182</td>\n",
       "      <td>15.556349</td>\n",
       "      <td>15.264338</td>\n",
       "      <td>15.000000</td>\n",
       "      <td>0.000000</td>\n",
       "      <td>14.035669</td>\n",
       "    </tr>\n",
       "    <tr>\n",
       "      <th>5</th>\n",
       "      <td>11.958261</td>\n",
       "      <td>14.177447</td>\n",
       "      <td>13.490738</td>\n",
       "      <td>12.489996</td>\n",
       "      <td>14.035669</td>\n",
       "      <td>0.000000</td>\n",
       "    </tr>\n",
       "  </tbody>\n",
       "</table>\n",
       "</div>"
      ],
      "text/plain": [
       "           0          1          2          3          4          5\n",
       "0   0.000000  13.266499  13.304135  13.000000  13.638182  11.958261\n",
       "1  13.266499   0.000000  15.132746  14.730920  15.556349  14.177447\n",
       "2  13.304135  15.132746   0.000000  13.490738  15.264338  13.490738\n",
       "3  13.000000  14.730920  13.490738   0.000000  15.000000  12.489996\n",
       "4  13.638182  15.556349  15.264338  15.000000   0.000000  14.035669\n",
       "5  11.958261  14.177447  13.490738  12.489996  14.035669   0.000000"
      ]
     },
     "metadata": {},
     "output_type": "display_data"
    }
   ],
   "source": [
    "mat = get_similarity_mat(500, minkowski)"
   ]
  },
  {
   "cell_type": "code",
   "execution_count": 182,
   "id": "9b751ab0-c7d6-48e1-be0c-a9c612f485b7",
   "metadata": {},
   "outputs": [
    {
     "data": {
      "text/plain": [
       "'Stereo matching is one of the widely used techniques for inferring depth from\\nstereo images owing to its robustness and speed. It has become one of the major\\ntopics of research since it finds its applications in autonomous driving,\\nrobotic navigation, 3D reconstruction, and many other fields. Finding pixel\\ncorrespondences in non-textured, occluded and reflective areas is the major\\nchallenge in stereo matching. Recent developments have shown that semantic cues\\nfrom image segmentation can be used to improve the results of stereo matching.\\nMany deep neural network architectures have been proposed to leverage the\\nadvantages of semantic segmentation in stereo matching. This paper aims to give\\na comparison among the state of art networks both in terms of accuracy and in\\nterms of speed which are of higher importance in real-time applications.'"
      ]
     },
     "execution_count": 182,
     "metadata": {},
     "output_type": "execute_result"
    }
   ],
   "source": [
    "get(0)"
   ]
  },
  {
   "cell_type": "code",
   "execution_count": 184,
   "id": "91a03d39-5ec4-40a2-9e5b-aa2de97715b3",
   "metadata": {},
   "outputs": [
    {
     "data": {
      "text/plain": [
       "146"
      ]
     },
     "execution_count": 184,
     "metadata": {},
     "output_type": "execute_result"
    }
   ],
   "source": [
    "most_sim = mat[0,1:].argmin()\n",
    "most_sim"
   ]
  },
  {
   "cell_type": "code",
   "execution_count": 185,
   "id": "f3a3001f-6093-4670-bc86-5d8b48bf6e52",
   "metadata": {},
   "outputs": [
    {
     "data": {
      "text/plain": [
       "12.68857754044952"
      ]
     },
     "execution_count": 185,
     "metadata": {},
     "output_type": "execute_result"
    }
   ],
   "source": [
    "mat[0, most_sim]"
   ]
  },
  {
   "cell_type": "code",
   "execution_count": 186,
   "id": "2acf8f89-6eb5-4c97-b783-fa1bb4594c3e",
   "metadata": {},
   "outputs": [
    {
     "data": {
      "text/plain": [
       "'We present a Neural Network based Handwritten Text Recognition (HTR) model\\narchitecture that can be trained to recognize full pages of handwritten or\\nprinted text without image segmentation. Being based on Image to Sequence\\narchitecture, it can extract text present in an image and then sequence it\\ncorrectly without imposing any constraints regarding orientation, layout and\\nsize of text and non-text. Further, it can also be trained to generate\\nauxiliary markup related to formatting, layout and content. We use character\\nlevel vocabulary, thereby enabling language and terminology of any subject. The\\nmodel achieves a new state-of-art in paragraph level recognition on the IAM\\ndataset. When evaluated on scans of real world handwritten free form test\\nanswers - beset with curved and slanted lines, drawings, tables, math,\\nchemistry and other symbols - it performs better than all commercially\\navailable HTR cloud APIs. It is deployed in production as part of a commercial\\nweb application.'"
      ]
     },
     "execution_count": 186,
     "metadata": {},
     "output_type": "execute_result"
    }
   ],
   "source": [
    "get(most_sim)"
   ]
  },
  {
   "cell_type": "markdown",
   "id": "3996b672-560f-42a4-b1d8-d87250730666",
   "metadata": {},
   "source": [
    "## Term Weighting"
   ]
  },
  {
   "cell_type": "code",
   "execution_count": 187,
   "id": "f1f61ac8-4be4-4123-9619-c4a8a658118d",
   "metadata": {},
   "outputs": [],
   "source": [
    "def bag_of_words(document: str, vocab: list):\n",
    "    bow = np.zeros(len(vocab))\n",
    "    loc = dict(map(lambda pair: (pair[1], pair[0]), enumerate(vocab)))\n",
    "    \n",
    "    for word in nltk.word_tokenize(document):\n",
    "        bow[loc[word.lower()]]+=1\n",
    "        \n",
    "    return bow"
   ]
  },
  {
   "cell_type": "code",
   "execution_count": 188,
   "id": "a6a32fb3-2c47-47b3-92c5-83d589a7c6ba",
   "metadata": {},
   "outputs": [],
   "source": [
    "def get_similarity_mat(N, dist):\n",
    "    bows = [ bag_of_words(get(i), vocab) for i in range(N) ]\n",
    "    \n",
    "    sim_mat = np.zeros((n,n))\n",
    "    for i in range(n):\n",
    "        for j in range(i, n):\n",
    "            sim_mat[i,j] = dist(bows[i], bows[j])\n",
    "            sim_mat[j,i] = sim_mat[i,j]\n",
    "    display(pd.DataFrame(data = sim_mat, columns=range(n), index=range(n)).loc[0:5, 0:5])\n",
    "    return sim_mat"
   ]
  },
  {
   "cell_type": "code",
   "execution_count": 189,
   "id": "a7ae92a9-a8b4-47e1-ba1e-479f4df28ea7",
   "metadata": {},
   "outputs": [
    {
     "data": {
      "text/html": [
       "<div>\n",
       "<style scoped>\n",
       "    .dataframe tbody tr th:only-of-type {\n",
       "        vertical-align: middle;\n",
       "    }\n",
       "\n",
       "    .dataframe tbody tr th {\n",
       "        vertical-align: top;\n",
       "    }\n",
       "\n",
       "    .dataframe thead th {\n",
       "        text-align: right;\n",
       "    }\n",
       "</style>\n",
       "<table border=\"1\" class=\"dataframe\">\n",
       "  <thead>\n",
       "    <tr style=\"text-align: right;\">\n",
       "      <th></th>\n",
       "      <th>0</th>\n",
       "      <th>1</th>\n",
       "      <th>2</th>\n",
       "      <th>3</th>\n",
       "      <th>4</th>\n",
       "      <th>5</th>\n",
       "    </tr>\n",
       "  </thead>\n",
       "  <tbody>\n",
       "    <tr>\n",
       "      <th>0</th>\n",
       "      <td>0.000000</td>\n",
       "      <td>31.764760</td>\n",
       "      <td>25.806976</td>\n",
       "      <td>23.811762</td>\n",
       "      <td>33.970576</td>\n",
       "      <td>18.894444</td>\n",
       "    </tr>\n",
       "    <tr>\n",
       "      <th>1</th>\n",
       "      <td>31.764760</td>\n",
       "      <td>0.000000</td>\n",
       "      <td>33.151169</td>\n",
       "      <td>33.196385</td>\n",
       "      <td>32.326460</td>\n",
       "      <td>29.832868</td>\n",
       "    </tr>\n",
       "    <tr>\n",
       "      <th>2</th>\n",
       "      <td>25.806976</td>\n",
       "      <td>33.151169</td>\n",
       "      <td>0.000000</td>\n",
       "      <td>20.712315</td>\n",
       "      <td>30.659419</td>\n",
       "      <td>23.811762</td>\n",
       "    </tr>\n",
       "    <tr>\n",
       "      <th>3</th>\n",
       "      <td>23.811762</td>\n",
       "      <td>33.196385</td>\n",
       "      <td>20.712315</td>\n",
       "      <td>0.000000</td>\n",
       "      <td>28.930952</td>\n",
       "      <td>22.226111</td>\n",
       "    </tr>\n",
       "    <tr>\n",
       "      <th>4</th>\n",
       "      <td>33.970576</td>\n",
       "      <td>32.326460</td>\n",
       "      <td>30.659419</td>\n",
       "      <td>28.930952</td>\n",
       "      <td>0.000000</td>\n",
       "      <td>31.921779</td>\n",
       "    </tr>\n",
       "    <tr>\n",
       "      <th>5</th>\n",
       "      <td>18.894444</td>\n",
       "      <td>29.832868</td>\n",
       "      <td>23.811762</td>\n",
       "      <td>22.226111</td>\n",
       "      <td>31.921779</td>\n",
       "      <td>0.000000</td>\n",
       "    </tr>\n",
       "  </tbody>\n",
       "</table>\n",
       "</div>"
      ],
      "text/plain": [
       "           0          1          2          3          4          5\n",
       "0   0.000000  31.764760  25.806976  23.811762  33.970576  18.894444\n",
       "1  31.764760   0.000000  33.151169  33.196385  32.326460  29.832868\n",
       "2  25.806976  33.151169   0.000000  20.712315  30.659419  23.811762\n",
       "3  23.811762  33.196385  20.712315   0.000000  28.930952  22.226111\n",
       "4  33.970576  32.326460  30.659419  28.930952   0.000000  31.921779\n",
       "5  18.894444  29.832868  23.811762  22.226111  31.921779   0.000000"
      ]
     },
     "metadata": {},
     "output_type": "display_data"
    }
   ],
   "source": [
    "mat = get_similarity_mat(500, minkowski)  "
   ]
  },
  {
   "cell_type": "code",
   "execution_count": 190,
   "id": "5b47d638-d0f0-4e04-8ac5-801c238b06ef",
   "metadata": {},
   "outputs": [
    {
     "data": {
      "text/plain": [
       "'Stereo matching is one of the widely used techniques for inferring depth from\\nstereo images owing to its robustness and speed. It has become one of the major\\ntopics of research since it finds its applications in autonomous driving,\\nrobotic navigation, 3D reconstruction, and many other fields. Finding pixel\\ncorrespondences in non-textured, occluded and reflective areas is the major\\nchallenge in stereo matching. Recent developments have shown that semantic cues\\nfrom image segmentation can be used to improve the results of stereo matching.\\nMany deep neural network architectures have been proposed to leverage the\\nadvantages of semantic segmentation in stereo matching. This paper aims to give\\na comparison among the state of art networks both in terms of accuracy and in\\nterms of speed which are of higher importance in real-time applications.'"
      ]
     },
     "execution_count": 190,
     "metadata": {},
     "output_type": "execute_result"
    }
   ],
   "source": [
    "get(0)"
   ]
  },
  {
   "cell_type": "code",
   "execution_count": 191,
   "id": "946eb390-2869-4357-a59f-d3aff7280e3f",
   "metadata": {},
   "outputs": [
    {
     "data": {
      "text/plain": [
       "262"
      ]
     },
     "execution_count": 191,
     "metadata": {},
     "output_type": "execute_result"
    }
   ],
   "source": [
    "most_sim = mat[0,1:].argmin()\n",
    "most_sim"
   ]
  },
  {
   "cell_type": "code",
   "execution_count": 192,
   "id": "d3c2288f-9274-4e9c-8542-53978503a851",
   "metadata": {},
   "outputs": [
    {
     "data": {
      "text/plain": [
       "21.18962010041709"
      ]
     },
     "execution_count": 192,
     "metadata": {},
     "output_type": "execute_result"
    }
   ],
   "source": [
    "mat[0, most_sim]"
   ]
  },
  {
   "cell_type": "code",
   "execution_count": 193,
   "id": "e2ac99b5-951e-469f-a8d2-6843159571ab",
   "metadata": {},
   "outputs": [
    {
     "data": {
      "text/plain": [
       "'Image segmentation aims at identifying regions of interest within an image,\\nby grouping pixels according to their properties. This task resembles the\\nstatistical one of clustering, yet many standard clustering methods fail to\\nmeet the basic requirements of image segmentation: segment shapes are often\\nbiased toward predetermined shapes and their number is rarely determined\\nautomatically. Nonparametric clustering is, in principle, free from these\\nlimitations and turns out to be particularly suitable for the task of image\\nsegmentation. This is also witnessed by several operational analogies, as, for\\ninstance, the resort to topological data analysis and spatial tessellation in\\nboth the frameworks. We discuss the application of nonparametric clustering to\\nimage segmentation and provide an algorithm specific for this task. Pixel\\nsimilarity is evaluated in terms of density of the color representation and the\\nadjacency structure of the pixels is exploited to introduce a simple, yet\\neffective method to identify image segments as disconnected high-density\\nregions. The proposed method works both to segment an image and to detect its\\nboundaries and can be seen as a generalization to color images of the class of\\nthresholding methods.'"
      ]
     },
     "execution_count": 193,
     "metadata": {},
     "output_type": "execute_result"
    }
   ],
   "source": [
    "get(most_sim)"
   ]
  },
  {
   "cell_type": "markdown",
   "id": "870efb64-7e7f-4838-9be3-9b2b9546eda3",
   "metadata": {},
   "source": [
    "## Term Frequency Transformation"
   ]
  },
  {
   "cell_type": "code",
   "execution_count": null,
   "id": "8531d5c8-ca1a-4785-9292-e7938d013fbe",
   "metadata": {},
   "outputs": [],
   "source": []
  }
 ],
 "metadata": {
  "kernelspec": {
   "display_name": "Python 3 (ipykernel)",
   "language": "python",
   "name": "python3"
  },
  "language_info": {
   "codemirror_mode": {
    "name": "ipython",
    "version": 3
   },
   "file_extension": ".py",
   "mimetype": "text/x-python",
   "name": "python",
   "nbconvert_exporter": "python",
   "pygments_lexer": "ipython3",
   "version": "3.9.7"
  }
 },
 "nbformat": 4,
 "nbformat_minor": 5
}
