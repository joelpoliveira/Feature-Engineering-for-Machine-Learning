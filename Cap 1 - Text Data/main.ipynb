{
 "cells": [
  {
   "cell_type": "code",
   "execution_count": null,
   "id": "73fda414-a487-4de9-b80d-04b65e75b240",
   "metadata": {},
   "outputs": [],
   "source": [
    "import pandas as pd\n",
    "import numpy as np\n",
    "import matplotlib.pyplot as plt\n",
    "import seaborn as sns\n",
    "\n",
    "import string\n",
    "import nltk\n",
    "\n",
    "from scipy.spatial.distance import minkowski, cosine\n",
    "from IPython.display import display\n",
    "from typing import Sequence, Callable"
   ]
  },
  {
   "cell_type": "code",
   "execution_count": null,
   "id": "a8d3a943-5fb4-4f7c-ac5f-43a729469ece",
   "metadata": {},
   "outputs": [],
   "source": [
    "df = pd.read_csv(\"arxiv_data.csv\", nrows=500)"
   ]
  },
  {
   "cell_type": "code",
   "execution_count": null,
   "id": "59927040-faec-4f4c-bd5e-f8437a657551",
   "metadata": {},
   "outputs": [],
   "source": [
    "df.head()"
   ]
  },
  {
   "cell_type": "markdown",
   "id": "63f624fd-3608-4d68-a2fb-45728f03a8b9",
   "metadata": {
    "tags": []
   },
   "source": [
    "# Bag of Words"
   ]
  },
  {
   "cell_type": "code",
   "execution_count": null,
   "id": "be64b8d6-8afb-419d-99c2-220f7932c456",
   "metadata": {},
   "outputs": [],
   "source": [
    "def get(index):\n",
    "    return df.loc[index, \"summaries\"]"
   ]
  },
  {
   "cell_type": "code",
   "execution_count": null,
   "id": "b65d3c9b-282d-412d-892e-8dd41e400eff",
   "metadata": {},
   "outputs": [],
   "source": [
    "def get_vocabulary(all_docs)->set:\n",
    "    vocab = set()\n",
    "    for doc in all_docs:\n",
    "        for word in nltk.word_tokenize(doc):\n",
    "            vocab|={word.lower()}\n",
    "    return vocab"
   ]
  },
  {
   "cell_type": "code",
   "execution_count": null,
   "id": "7b87491f-f15c-47fd-bb55-64432d8c7126",
   "metadata": {},
   "outputs": [],
   "source": [
    "vocab = list(get_vocabulary(df[\"summaries\"]))\n",
    "len(vocab)"
   ]
  },
  {
   "cell_type": "code",
   "execution_count": null,
   "id": "69f22134-26cf-4c9f-84a8-d11610b5493a",
   "metadata": {},
   "outputs": [],
   "source": [
    "def get_stats(i: int):\n",
    "    most_sim = mat[i,1:].argmin()\n",
    "    print(f\"Min. Dist. Index = {most_sim}\")\n",
    "    print(f\"Min. Dist. = {mat[0, most_sim]}\\n\")\n",
    "    print(get(i))\n",
    "    print()\n",
    "    print(get(most_sim))"
   ]
  },
  {
   "cell_type": "markdown",
   "id": "50052f81-9aa6-42f0-b032-2f7e136e93c1",
   "metadata": {
    "jp-MarkdownHeadingCollapsed": true,
    "tags": []
   },
   "source": [
    "## Term Existence"
   ]
  },
  {
   "cell_type": "code",
   "execution_count": null,
   "id": "d8249217-486d-4d51-bb5a-47104bb2445b",
   "metadata": {},
   "outputs": [],
   "source": [
    "def bag_of_words(document: str, vocab: list):\n",
    "    bow = np.zeros(len(vocab))\n",
    "    loc = dict(map(lambda pair: (pair[1], pair[0]), enumerate(vocab)))\n",
    "    \n",
    "    for word in nltk.word_tokenize(document):\n",
    "        bow[loc[word.lower()]]=1\n",
    "        \n",
    "    return bow"
   ]
  },
  {
   "cell_type": "code",
   "execution_count": null,
   "id": "3b295cc9-ecd6-4798-a86d-a76b354fd72a",
   "metadata": {},
   "outputs": [],
   "source": [
    "def get_similarity_mat(N, dist):\n",
    "    bows = [ bag_of_words(get(i), vocab) for i in range(N) ]\n",
    "    \n",
    "    sim_mat = np.zeros((n,n))\n",
    "    for i in range(n):\n",
    "        for j in range(i, n):\n",
    "            sim_mat[i,j] = dist(bows[i], bows[j])\n",
    "            sim_mat[j,i] = sim_mat[i,j]\n",
    "    display(pd.DataFrame(data = sim_mat, columns=range(n), index=range(n)).loc[0:5, 0:5])\n",
    "    return sim_mat"
   ]
  },
  {
   "cell_type": "markdown",
   "id": "f8d676be-334d-4b07-8eb1-4e20eb95c118",
   "metadata": {
    "jp-MarkdownHeadingCollapsed": true,
    "tags": []
   },
   "source": [
    "### Euclidean Distance"
   ]
  },
  {
   "cell_type": "code",
   "execution_count": null,
   "id": "bff8092e-f85e-4ca2-8360-f5ebe2295497",
   "metadata": {},
   "outputs": [],
   "source": [
    "mat = get_similarity_mat(500, minkowski)"
   ]
  },
  {
   "cell_type": "code",
   "execution_count": null,
   "id": "a442070a-0085-4677-91b9-1487e4ca4a3a",
   "metadata": {},
   "outputs": [],
   "source": [
    "get_stats(0)"
   ]
  },
  {
   "cell_type": "markdown",
   "id": "80f1da64-f454-43a1-b250-6b2377a91226",
   "metadata": {},
   "source": [
    "> COMMENTS"
   ]
  },
  {
   "cell_type": "markdown",
   "id": "441b9fa3-4b13-41c7-ae78-44a5966c6ac4",
   "metadata": {
    "jp-MarkdownHeadingCollapsed": true,
    "tags": []
   },
   "source": [
    "### Cosine Distance"
   ]
  },
  {
   "cell_type": "code",
   "execution_count": null,
   "id": "bfe4d14d-3105-4024-89f0-d6b631c47fd6",
   "metadata": {},
   "outputs": [],
   "source": [
    "mat = get_similarity_mat(500, cosine)"
   ]
  },
  {
   "cell_type": "code",
   "execution_count": null,
   "id": "df6a991b-06e7-4bb3-b4cb-8d833849300c",
   "metadata": {},
   "outputs": [],
   "source": [
    "get_stats(0)"
   ]
  },
  {
   "cell_type": "markdown",
   "id": "f6319030-dec5-4751-a708-9b451c56f153",
   "metadata": {},
   "source": [
    "> COMMENT"
   ]
  },
  {
   "cell_type": "markdown",
   "id": "fc80ba6b-f820-494e-9f44-21491203c159",
   "metadata": {
    "jp-MarkdownHeadingCollapsed": true,
    "tags": []
   },
   "source": [
    "### Dot Product Distance"
   ]
  },
  {
   "cell_type": "code",
   "execution_count": null,
   "id": "32316402-3c99-4213-aebf-935be7ac80a9",
   "metadata": {},
   "outputs": [],
   "source": [
    "mat = get_similarity_mat(500, lambda a,b: 1/np.dot(a,b))"
   ]
  },
  {
   "cell_type": "code",
   "execution_count": null,
   "id": "0a0c8103-be34-434e-a995-d69982e46f9d",
   "metadata": {},
   "outputs": [],
   "source": [
    "get_stats(0)"
   ]
  },
  {
   "cell_type": "markdown",
   "id": "f09f6047-f114-4616-a2a6-40f2dcfc0b35",
   "metadata": {},
   "source": [
    "> Comments"
   ]
  },
  {
   "cell_type": "markdown",
   "id": "9f15985b-5cac-45ce-9e0f-bb63c1e8b30c",
   "metadata": {
    "tags": []
   },
   "source": [
    "> ## Final comments"
   ]
  },
  {
   "cell_type": "markdown",
   "id": "3996b672-560f-42a4-b1d8-d87250730666",
   "metadata": {
    "jp-MarkdownHeadingCollapsed": true,
    "tags": []
   },
   "source": [
    "## Term Weighting"
   ]
  },
  {
   "cell_type": "code",
   "execution_count": null,
   "id": "f1f61ac8-4be4-4123-9619-c4a8a658118d",
   "metadata": {},
   "outputs": [],
   "source": [
    "def bag_of_words(document: str, vocab: list):\n",
    "    bow = np.zeros(len(vocab))\n",
    "    loc = dict(map(lambda pair: (pair[1], pair[0]), enumerate(vocab)))\n",
    "    \n",
    "    for word in nltk.word_tokenize(document):\n",
    "        bow[loc[word.lower()]]+=1\n",
    "        \n",
    "    return bow"
   ]
  },
  {
   "cell_type": "code",
   "execution_count": null,
   "id": "a6a32fb3-2c47-47b3-92c5-83d589a7c6ba",
   "metadata": {},
   "outputs": [],
   "source": [
    "def get_similarity_mat(N, dist):\n",
    "    bows = [ bag_of_words(get(i), vocab) for i in range(N) ]\n",
    "    \n",
    "    sim_mat = np.zeros((n,n))\n",
    "    for i in range(n):\n",
    "        for j in range(i, n):\n",
    "            sim_mat[i,j] = dist(bows[i], bows[j])\n",
    "            sim_mat[j,i] = sim_mat[i,j]\n",
    "    display(pd.DataFrame(data = sim_mat, columns=range(n), index=range(n)).loc[0:5, 0:5])\n",
    "    return sim_mat"
   ]
  },
  {
   "cell_type": "markdown",
   "id": "0a40d07e-8b6f-476f-aa92-9d48099a3851",
   "metadata": {
    "jp-MarkdownHeadingCollapsed": true,
    "tags": []
   },
   "source": [
    "### Euclidean Distance"
   ]
  },
  {
   "cell_type": "code",
   "execution_count": null,
   "id": "a7ae92a9-a8b4-47e1-ba1e-479f4df28ea7",
   "metadata": {},
   "outputs": [],
   "source": [
    "mat = get_similarity_mat(500, minkowski)  "
   ]
  },
  {
   "cell_type": "code",
   "execution_count": null,
   "id": "5b47d638-d0f0-4e04-8ac5-801c238b06ef",
   "metadata": {},
   "outputs": [],
   "source": [
    "get_stats(0)"
   ]
  },
  {
   "cell_type": "markdown",
   "id": "dc495b8d-b14b-43aa-bd7c-ebb801786d00",
   "metadata": {},
   "source": [
    "> Comments"
   ]
  },
  {
   "cell_type": "markdown",
   "id": "72c7132d-c0ba-427e-ab56-30d29b1195ba",
   "metadata": {
    "jp-MarkdownHeadingCollapsed": true,
    "tags": []
   },
   "source": [
    "### Cosine Distance"
   ]
  },
  {
   "cell_type": "code",
   "execution_count": null,
   "id": "47257255-6224-44c6-b189-59b8bca87ab2",
   "metadata": {},
   "outputs": [],
   "source": [
    "mat = get_similarity_mat(500, cosine)  "
   ]
  },
  {
   "cell_type": "code",
   "execution_count": null,
   "id": "ab52bf0c-96f0-4664-a1ec-708dc3ea375d",
   "metadata": {},
   "outputs": [],
   "source": [
    "get_stats(0)"
   ]
  },
  {
   "cell_type": "markdown",
   "id": "4552c5e7-fa08-4507-bc43-438476eb6184",
   "metadata": {},
   "source": [
    "> comment"
   ]
  },
  {
   "cell_type": "markdown",
   "id": "d690e2c5-1bd2-491b-a9c5-222e86df470c",
   "metadata": {
    "jp-MarkdownHeadingCollapsed": true,
    "tags": []
   },
   "source": [
    "### Dot Product Distance"
   ]
  },
  {
   "cell_type": "code",
   "execution_count": null,
   "id": "6748f6e3-6a0e-43c1-9b8a-af25440d5817",
   "metadata": {},
   "outputs": [],
   "source": [
    "mat = get_similarity_mat(500, lambda a,b: 1/np.dot(a,b))"
   ]
  },
  {
   "cell_type": "code",
   "execution_count": null,
   "id": "7237633c-f90e-4f71-ad02-aa83e303063a",
   "metadata": {},
   "outputs": [],
   "source": [
    "get_stats(0)"
   ]
  },
  {
   "cell_type": "code",
   "execution_count": null,
   "id": "6e4545ee-f3d2-490f-8d50-76732069db0a",
   "metadata": {},
   "outputs": [],
   "source": []
  },
  {
   "cell_type": "markdown",
   "id": "870efb64-7e7f-4838-9be3-9b2b9546eda3",
   "metadata": {
    "tags": []
   },
   "source": [
    "## Term Frequency Transformation"
   ]
  },
  {
   "cell_type": "code",
   "execution_count": null,
   "id": "8531d5c8-ca1a-4785-9292-e7938d013fbe",
   "metadata": {},
   "outputs": [],
   "source": [
    "def bag_of_words(document: str, vocab: list, t: Callable) -> Sequence:\n",
    "    bow = np.zeros(len(vocab))\n",
    "    loc = dict(map(lambda pair: (pair[1], pair[0]), enumerate(vocab)))\n",
    "    \n",
    "    for word in nltk.word_tokenize(document):\n",
    "        bow[loc[word.lower()]]+=1\n",
    "    \n",
    "    return t(bow)"
   ]
  },
  {
   "cell_type": "code",
   "execution_count": null,
   "id": "c7ae5f9b-c4b5-4484-b9d8-3a3ffe15dc3c",
   "metadata": {},
   "outputs": [],
   "source": [
    "def get_similarity_mat(N: int, dist: Callable, t: Callable):\n",
    "    bows = [ bag_of_words(get(i), vocab, t) for i in range(N) ]\n",
    "    \n",
    "    sim_mat = np.zeros((n,n))\n",
    "    for i in range(n):\n",
    "        for j in range(i, n):\n",
    "            sim_mat[i,j] = dist(bows[i], bows[j])\n",
    "            sim_mat[j,i] = sim_mat[i,j]\n",
    "    display(pd.DataFrame(data = sim_mat, columns=range(n), index=range(n)).loc[0:5, 0:5])\n",
    "    return sim_mat"
   ]
  },
  {
   "cell_type": "code",
   "execution_count": null,
   "id": "3f29c7a3-49e4-40a9-8f30-000fe95f85e0",
   "metadata": {},
   "outputs": [],
   "source": [
    "t1 = lambda arr: np.log2(1+arr)\n",
    "t2 = lambda arr: np.log2(1 + t1(arr))\n",
    "t3 = lambda arr, k: (k+1)*arr/(arr+k)"
   ]
  },
  {
   "cell_type": "markdown",
   "id": "6b8061aa-9328-4b17-add2-4f7d9cb5ac9a",
   "metadata": {
    "tags": []
   },
   "source": [
    "#### Comparing effect of Different Frequency Transformers\n",
    "\n",
    "Given the fact that the book referenced vector dot product, that measure will be the one used for this step"
   ]
  },
  {
   "cell_type": "code",
   "execution_count": null,
   "id": "28f92c96-a676-4f8f-8ccd-64080e6eee2c",
   "metadata": {},
   "outputs": [],
   "source": [
    "dot_dist = lambda x, y: 1/np.dot(x,y)"
   ]
  },
  {
   "cell_type": "markdown",
   "id": "0ee0b071-4f01-4c49-bcc0-34d08cbfe044",
   "metadata": {
    "jp-MarkdownHeadingCollapsed": true,
    "tags": []
   },
   "source": [
    "### First Transform"
   ]
  },
  {
   "cell_type": "code",
   "execution_count": null,
   "id": "ee071cf8-9abc-4bea-bc8e-fb85b83a1dfe",
   "metadata": {},
   "outputs": [],
   "source": [
    "mat = get_similarity_mat(500, dot_dist, t1)"
   ]
  },
  {
   "cell_type": "code",
   "execution_count": null,
   "id": "33a2bc2b-2670-4cf7-98a8-fee6767759a3",
   "metadata": {},
   "outputs": [],
   "source": [
    "get_stats(0)"
   ]
  },
  {
   "cell_type": "markdown",
   "id": "78711d4b-97e0-4741-9402-5b30b1c5f3f6",
   "metadata": {
    "jp-MarkdownHeadingCollapsed": true,
    "tags": []
   },
   "source": [
    "### Second Transform"
   ]
  },
  {
   "cell_type": "code",
   "execution_count": null,
   "id": "3267d8bb-2783-482e-b069-b8d732619471",
   "metadata": {},
   "outputs": [],
   "source": [
    "mat = get_similarity_mat(500, dot_dist, t2)"
   ]
  },
  {
   "cell_type": "code",
   "execution_count": null,
   "id": "c2464205-b848-4239-baec-cf3c4b542151",
   "metadata": {},
   "outputs": [],
   "source": [
    "get_stats(0)"
   ]
  },
  {
   "cell_type": "markdown",
   "id": "1ad464ea-912e-43c7-ad41-e8922c991eb1",
   "metadata": {
    "jp-MarkdownHeadingCollapsed": true,
    "tags": []
   },
   "source": [
    "### Third Transform"
   ]
  },
  {
   "cell_type": "code",
   "execution_count": null,
   "id": "a0af1871-6e37-4813-823e-8a938909a038",
   "metadata": {},
   "outputs": [],
   "source": [
    "k=1.2\n",
    "t3_k = lambda arr: t3(arr, k)"
   ]
  },
  {
   "cell_type": "code",
   "execution_count": null,
   "id": "da20401e-91ba-44cf-b041-29d8a9ef3847",
   "metadata": {},
   "outputs": [],
   "source": [
    "mat = get_similarity_mat(500, dot_dist, t3_k)"
   ]
  },
  {
   "cell_type": "code",
   "execution_count": null,
   "id": "f4e8cdeb-7f38-45f6-8f5f-fff380b49309",
   "metadata": {},
   "outputs": [],
   "source": [
    "get_stats(0)"
   ]
  },
  {
   "cell_type": "code",
   "execution_count": null,
   "id": "18acf376-d04a-4d14-9b91-46e075786efd",
   "metadata": {},
   "outputs": [],
   "source": []
  }
 ],
 "metadata": {
  "kernelspec": {
   "display_name": "Python 3 (ipykernel)",
   "language": "python",
   "name": "python3"
  },
  "language_info": {
   "codemirror_mode": {
    "name": "ipython",
    "version": 3
   },
   "file_extension": ".py",
   "mimetype": "text/x-python",
   "name": "python",
   "nbconvert_exporter": "python",
   "pygments_lexer": "ipython3",
   "version": "3.9.7"
  }
 },
 "nbformat": 4,
 "nbformat_minor": 5
}
