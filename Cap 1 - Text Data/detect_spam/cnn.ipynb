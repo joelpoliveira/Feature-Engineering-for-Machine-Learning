{
 "cells": [
  {
   "cell_type": "code",
   "execution_count": 1,
   "id": "e4d00ac3-5a3d-4263-89d1-1d0c74f3e902",
   "metadata": {
    "tags": []
   },
   "outputs": [],
   "source": [
    "%reload_ext autoreload\n",
    "%autoreload 2\n",
    "\n",
    "import pandas as pd\n",
    "import string\n",
    "import nltk\n",
    "import numpy as np\n",
    "import tensorflow as tf\n",
    "import pickle \n",
    "\n",
    "from tqdm import tqdm\n",
    "from random import choices\n",
    "from tensorflow.keras import layers, models, losses, metrics, initializers\n",
    "\n",
    "from sklearn.model_selection import train_test_split\n",
    "from sklearn.metrics import classification_report, ConfusionMatrixDisplay, confusion_matrix\n",
    "\n",
    "from preprocessing import *"
   ]
  },
  {
   "cell_type": "code",
   "execution_count": 2,
   "id": "46c94ab6-fed9-413c-90d8-716a2868732d",
   "metadata": {
    "tags": []
   },
   "outputs": [],
   "source": [
    "df = pd.read_csv(\"data/emails.csv\")\n",
    "X = df.Text\n",
    "y = df.Spam\n",
    "X_train, X_test, y_train, y_test = train_test_split(X, y, test_size=0.2, random_state=0)"
   ]
  },
  {
   "cell_type": "markdown",
   "id": "6a25e2dd-a8fd-4917-992c-53998723734d",
   "metadata": {},
   "source": [
    "## Preprocessing\n",
    "- Get the vocabulary of the training set\n",
    "- Create functions to convert integers to respective words and vice-versa"
   ]
  },
  {
   "cell_type": "code",
   "execution_count": 3,
   "id": "18b679c7-5553-42f4-9201-d1c2bbf88421",
   "metadata": {
    "tags": []
   },
   "outputs": [
    {
     "name": "stderr",
     "output_type": "stream",
     "text": [
      "100%|███████████████████████████████████████████████████████████████████████████████████████████████████████████████████████████████████████████████████████████████████████| 4582/4582 [00:46<00:00, 98.59it/s]\n"
     ]
    }
   ],
   "source": [
    "all_words, emails = process_documents(X_train)\n",
    "all_words = {key:value+2 for key, value in all_words.items()}\n",
    "all_words[\"<PAD>\"]=0\n",
    "all_words[\"[UNK]\"]=1"
   ]
  },
  {
   "cell_type": "code",
   "execution_count": 4,
   "id": "e8afcf3c-9625-4339-a249-2daaba211fc1",
   "metadata": {
    "tags": []
   },
   "outputs": [],
   "source": [
    "rev_words = {item[1]:item[0] for item in all_words.items()}"
   ]
  },
  {
   "cell_type": "code",
   "execution_count": 5,
   "id": "7b776729-7f0f-484e-884b-c90b06a217e1",
   "metadata": {
    "tags": []
   },
   "outputs": [
    {
     "data": {
      "text/plain": [
       "30444"
      ]
     },
     "execution_count": 5,
     "metadata": {},
     "output_type": "execute_result"
    }
   ],
   "source": [
    "M = len(all_words)\n",
    "M"
   ]
  },
  {
   "cell_type": "code",
   "execution_count": 6,
   "id": "8fa01b68-d047-48c0-b59c-590fc942a22f",
   "metadata": {
    "tags": []
   },
   "outputs": [],
   "source": [
    "def word2int(word):\n",
    "    return all_words[word]\n",
    "\n",
    "def int2word(idx):\n",
    "    return rev_words[idx]"
   ]
  },
  {
   "cell_type": "markdown",
   "id": "104a6260-3d3c-4a2c-a2d3-bd7ffe19fabb",
   "metadata": {},
   "source": [
    "- Set each sentence into a tabular format of accepted indexes"
   ]
  },
  {
   "cell_type": "code",
   "execution_count": 7,
   "id": "5a4b1d36-feaf-4642-80d6-2194db817b26",
   "metadata": {
    "tags": []
   },
   "outputs": [
    {
     "name": "stderr",
     "output_type": "stream",
     "text": [
      "100%|███████████████████████████████████████████████████████████████████████████████████████████████████████████████████████████████████████████████████████████████████████| 4582/4582 [00:47<00:00, 96.90it/s]\n"
     ]
    }
   ],
   "source": [
    "emails = get_indexed_documents(X_train, all_words)"
   ]
  },
  {
   "cell_type": "code",
   "execution_count": 8,
   "id": "d0484844-ee84-4ef7-9e78-9b3552a06440",
   "metadata": {
    "tags": []
   },
   "outputs": [
    {
     "data": {
      "text/plain": [
       "4109"
      ]
     },
     "execution_count": 8,
     "metadata": {},
     "output_type": "execute_result"
    }
   ],
   "source": [
    "MAX_SQ_LEN = get_max_length(emails)\n",
    "MAX_SQ_LEN"
   ]
  },
  {
   "cell_type": "code",
   "execution_count": 9,
   "id": "540a0558-b808-498d-8139-a36f1e6e4310",
   "metadata": {
    "tags": []
   },
   "outputs": [],
   "source": [
    "emails = np.array(apply_padding(emails, MAX_SQ_LEN))"
   ]
  },
  {
   "cell_type": "code",
   "execution_count": 10,
   "id": "25cbc566-ec72-48c6-9b0b-5d210e079762",
   "metadata": {
    "tags": []
   },
   "outputs": [
    {
     "data": {
      "text/plain": [
       "(4582, 4109)"
      ]
     },
     "execution_count": 10,
     "metadata": {},
     "output_type": "execute_result"
    }
   ],
   "source": [
    "emails.shape"
   ]
  },
  {
   "cell_type": "markdown",
   "id": "e8305333-4f0b-48bf-8daf-4b48ccc05fcf",
   "metadata": {},
   "source": [
    "- Convert validation set to the same format"
   ]
  },
  {
   "cell_type": "code",
   "execution_count": 11,
   "id": "2880aa02-875c-4b93-ae95-10240a39345d",
   "metadata": {
    "tags": []
   },
   "outputs": [
    {
     "name": "stderr",
     "output_type": "stream",
     "text": [
      "100%|███████████████████████████████████████████████████████████████████████████████████████████████████████████████████████████████████████████████████████████████████████| 1146/1146 [00:11<00:00, 98.52it/s]\n"
     ]
    }
   ],
   "source": [
    "test_set_emails = get_indexed_documents(X_test, all_words)"
   ]
  },
  {
   "cell_type": "code",
   "execution_count": 13,
   "id": "f49cddb8-dd6f-4316-81e2-82f42d14438a",
   "metadata": {
    "tags": []
   },
   "outputs": [
    {
     "data": {
      "text/plain": [
       "1802"
      ]
     },
     "execution_count": 13,
     "metadata": {},
     "output_type": "execute_result"
    }
   ],
   "source": [
    "get_max_length(test_set_emails)"
   ]
  },
  {
   "cell_type": "code",
   "execution_count": 14,
   "id": "ac8e4d4b-4b29-4011-876e-aa8c202d7680",
   "metadata": {
    "tags": []
   },
   "outputs": [
    {
     "data": {
      "text/plain": [
       "(1146, 4109)"
      ]
     },
     "execution_count": 14,
     "metadata": {},
     "output_type": "execute_result"
    }
   ],
   "source": [
    "test_set_emails = np.array(apply_padding(test_set_emails, MAX_SQ_LEN))\n",
    "test_set_emails.shape"
   ]
  },
  {
   "cell_type": "markdown",
   "id": "1cb41375-87d9-4120-b577-6bdc2e081f0f",
   "metadata": {},
   "source": [
    "## Load Embedding Representation"
   ]
  },
  {
   "cell_type": "code",
   "execution_count": 15,
   "id": "5e18217d-0b7a-4ed0-b7ca-6e1c4c13cb96",
   "metadata": {
    "tags": []
   },
   "outputs": [],
   "source": [
    "embed_vectors=np.load(\"./data/glove_vectors.npy\")"
   ]
  },
  {
   "cell_type": "markdown",
   "id": "8684ff7c-cbe2-4646-a4e6-b1ba0b500d7b",
   "metadata": {},
   "source": [
    "- Need to add Vector for *Padding* and *Unkown* characters"
   ]
  },
  {
   "cell_type": "code",
   "execution_count": 16,
   "id": "2616b2ee-2053-4ef0-ba82-6dba9710d8d8",
   "metadata": {
    "tags": []
   },
   "outputs": [],
   "source": [
    "embed_vectors = np.concatenate((\n",
    "    np.zeros(shape=(2, embed_vectors.shape[1])),\n",
    "    embed_vectors\n",
    "))"
   ]
  },
  {
   "cell_type": "code",
   "execution_count": 17,
   "id": "ee1d4f5f-549e-4abb-a0a3-cae31d401905",
   "metadata": {
    "tags": []
   },
   "outputs": [
    {
     "data": {
      "text/plain": [
       "30444"
      ]
     },
     "execution_count": 17,
     "metadata": {},
     "output_type": "execute_result"
    }
   ],
   "source": [
    "len(embed_vectors)"
   ]
  },
  {
   "cell_type": "markdown",
   "id": "451e0ab7-5ba7-4033-a504-ae267db020fb",
   "metadata": {},
   "source": [
    "## Model Creation"
   ]
  },
  {
   "cell_type": "code",
   "execution_count": 25,
   "id": "127566fa-046e-4841-a853-7dea568e2513",
   "metadata": {
    "tags": []
   },
   "outputs": [],
   "source": [
    "cnn = models.Sequential([\n",
    "    layers.InputLayer(input_shape=MAX_SQ_LEN),\n",
    "    layers.Embedding(\n",
    "        input_dim=M,\n",
    "        output_dim=embed_vectors.shape[1],\n",
    "        embeddings_initializer=initializers.Constant(embed_vectors),\n",
    "        trainable=False\n",
    "    ),\n",
    "    layers.Conv1D(\n",
    "        filters=128,\n",
    "        kernel_size=5,\n",
    "        activation=\"relu\"\n",
    "    ),\n",
    "    layers.MaxPool1D(5),\n",
    "    layers.Conv1D(\n",
    "        filters=64,\n",
    "        kernel_size=5,\n",
    "        activation=\"relu\"\n",
    "    ),\n",
    "    layers.MaxPool1D(5),\n",
    "    layers.Conv1D(\n",
    "        filters=32,\n",
    "        kernel_size=5,\n",
    "        activation=\"relu\"\n",
    "    ),\n",
    "    layers.MaxPool1D(3),\n",
    "    layers.Conv1D(\n",
    "        filters=16,\n",
    "        kernel_size=5,\n",
    "        activation=\"relu\"\n",
    "    ),\n",
    "    layers.GlobalMaxPool1D(),\n",
    "    layers.Dense(\n",
    "        units=1,\n",
    "        activation=\"sigmoid\"\n",
    "    )\n",
    "    \n",
    "])"
   ]
  },
  {
   "cell_type": "code",
   "execution_count": 26,
   "id": "b3a38d50-4632-41a1-aebb-18bef8672959",
   "metadata": {
    "tags": []
   },
   "outputs": [],
   "source": [
    "cnn.compile(\"adam\", loss=\"binary_crossentropy\", metrics=[metrics.Recall()])"
   ]
  },
  {
   "cell_type": "code",
   "execution_count": 27,
   "id": "156ab1a7-7a48-4269-8be7-91fdc49f84d8",
   "metadata": {
    "tags": []
   },
   "outputs": [
    {
     "name": "stdout",
     "output_type": "stream",
     "text": [
      "Epoch 1/5\n",
      "287/287 [==============================] - 12s 38ms/step - loss: 0.2009 - recall_1: 0.6992 - val_loss: 0.0949 - val_recall_1: 0.9579\n",
      "Epoch 2/5\n",
      "287/287 [==============================] - 11s 37ms/step - loss: 0.0669 - recall_1: 0.9557 - val_loss: 0.0849 - val_recall_1: 0.9502\n",
      "Epoch 3/5\n",
      "287/287 [==============================] - 11s 38ms/step - loss: 0.0411 - recall_1: 0.9783 - val_loss: 0.0687 - val_recall_1: 0.9617\n",
      "Epoch 4/5\n",
      "287/287 [==============================] - 11s 38ms/step - loss: 0.0231 - recall_1: 0.9864 - val_loss: 0.0859 - val_recall_1: 0.9770\n",
      "Epoch 5/5\n",
      "287/287 [==============================] - 11s 40ms/step - loss: 0.0227 - recall_1: 0.9810 - val_loss: 0.0936 - val_recall_1: 0.9923\n"
     ]
    },
    {
     "data": {
      "text/plain": [
       "<keras.callbacks.History at 0x13c93393730>"
      ]
     },
     "execution_count": 27,
     "metadata": {},
     "output_type": "execute_result"
    }
   ],
   "source": [
    "cnn.fit(emails, y_train, epochs=5, batch_size=16, validation_data=(test_set_emails, y_test))"
   ]
  },
  {
   "cell_type": "code",
   "execution_count": 28,
   "id": "05fd6cf2-4a91-4f48-ac32-e7db7f9dd6ae",
   "metadata": {
    "tags": []
   },
   "outputs": [
    {
     "name": "stdout",
     "output_type": "stream",
     "text": [
      "36/36 [==============================] - 2s 27ms/step\n"
     ]
    }
   ],
   "source": [
    "preds = cnn.predict(test_set_emails)"
   ]
  },
  {
   "cell_type": "code",
   "execution_count": 31,
   "id": "d09733d0-7c86-4e47-925f-77ac8bd9f178",
   "metadata": {
    "tags": []
   },
   "outputs": [
    {
     "data": {
      "text/plain": [
       "array([[0],\n",
       "       [0],\n",
       "       [1],\n",
       "       ...,\n",
       "       [0],\n",
       "       [0],\n",
       "       [1]])"
      ]
     },
     "execution_count": 31,
     "metadata": {},
     "output_type": "execute_result"
    }
   ],
   "source": [
    "(preds>0.5)*1"
   ]
  },
  {
   "cell_type": "code",
   "execution_count": 34,
   "id": "785488b4-2c4f-490b-92bb-5f8d5bbaa759",
   "metadata": {
    "tags": []
   },
   "outputs": [
    {
     "name": "stdout",
     "output_type": "stream",
     "text": [
      "              precision    recall  f1-score   support\n",
      "\n",
      "           0       1.00      0.96      0.98       885\n",
      "           1       0.89      0.99      0.94       261\n",
      "\n",
      "    accuracy                           0.97      1146\n",
      "   macro avg       0.94      0.98      0.96      1146\n",
      "weighted avg       0.97      0.97      0.97      1146\n",
      "\n"
     ]
    }
   ],
   "source": [
    "print(classification_report(y_test, (preds>0.5)*1 ))"
   ]
  },
  {
   "cell_type": "code",
   "execution_count": 35,
   "id": "889be566-8c1e-424d-8cda-85bcec6b003a",
   "metadata": {
    "tags": []
   },
   "outputs": [
    {
     "data": {
      "text/plain": [
       "<sklearn.metrics._plot.confusion_matrix.ConfusionMatrixDisplay at 0x13cc167f6a0>"
      ]
     },
     "execution_count": 35,
     "metadata": {},
     "output_type": "execute_result"
    },
    {
     "data": {
      "image/png": "[encoded data removed]",
      "text/plain": [
       "<Figure size 640x480 with 2 Axes>"
      ]
     },
     "metadata": {},
     "output_type": "display_data"
    }
   ],
   "source": [
    "ConfusionMatrixDisplay(\n",
    "    confusion_matrix(y_test, (preds>0.5)*1)\n",
    ").plot()"
   ]
  }
 ],
 "metadata": {
  "kernelspec": {
   "display_name": "Python 3 (ipykernel)",
   "language": "python",
   "name": "python3"
  },
  "language_info": {
   "codemirror_mode": {
    "name": "ipython",
    "version": 3
   },
   "file_extension": ".py",
   "mimetype": "text/x-python",
   "name": "python",
   "nbconvert_exporter": "python",
   "pygments_lexer": "ipython3",
   "version": "3.9.7"
  }
 },
 "nbformat": 4,
 "nbformat_minor": 5
}
