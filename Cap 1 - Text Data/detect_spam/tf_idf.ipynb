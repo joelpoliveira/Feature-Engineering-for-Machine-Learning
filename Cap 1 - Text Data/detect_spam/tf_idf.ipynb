{
 "cells": [
  {
   "cell_type": "code",
   "execution_count": 1,
   "id": "9dcf8876-2ccd-4fec-822b-cdd9969b042e",
   "metadata": {
    "tags": []
   },
   "outputs": [],
   "source": [
    "import pickle\n",
    "import numpy as np\n",
    "import pandas as pd\n",
    "import nltk\n",
    "import string\n",
    "import sys\n",
    "import matplotlib.pyplot as plt\n",
    "\n",
    "from scipy.sparse import csr_matrix, dok_matrix\n",
    "from scipy.sparse.linalg import svds\n",
    "from sklearn.decomposition import LatentDirichletAllocation\n",
    "from sklearn.model_selection import train_test_split, cross_val_score\n",
    "from sklearn.svm import SVC\n",
    "from sklearn.ensemble import RandomForestClassifier\n",
    "from sklearn.linear_model import LogisticRegression\n",
    "from sklearn.metrics import ConfusionMatrixDisplay, confusion_matrix, matthews_corrcoef, classification_report"
   ]
  },
  {
   "cell_type": "markdown",
   "id": "4c2ebc3b-2cfe-4b8e-892a-93a31face358",
   "metadata": {},
   "source": [
    "#### First separate the data into a training and test set"
   ]
  },
  {
   "cell_type": "code",
   "execution_count": 2,
   "id": "f3acad1e-d594-44cf-8e25-18f4f980a36d",
   "metadata": {
    "tags": []
   },
   "outputs": [],
   "source": [
    "df = pd.read_csv(\"emails.csv\")\n",
    "X = df.Text\n",
    "y = df.Spam\n",
    "X_train, X_test, y_train, y_test = train_test_split(X, y, test_size=0.2, random_state=0)"
   ]
  },
  {
   "cell_type": "markdown",
   "id": "a38e6252-52b0-4782-bbde-a30fc550f7fb",
   "metadata": {},
   "source": [
    "#### Now we will process the data into a TF-IDF matrix format\n",
    "\n",
    "- Start with getting the set of all words, and pre-process the text strings into lists of words"
   ]
  },
  {
   "cell_type": "code",
   "execution_count": 3,
   "id": "2de5dcca-3a71-40d2-8a93-61071ce8da3f",
   "metadata": {
    "tags": []
   },
   "outputs": [],
   "source": [
    "def get_words(document: list[list[str]]):\n",
    "    for word in nltk.tokenize.word_tokenize(document):\n",
    "        if word not in string.punctuation:\n",
    "            yield word.lower()"
   ]
  },
  {
   "cell_type": "code",
   "execution_count": 4,
   "id": "900db163-ecf2-49b3-adfd-322c505ab764",
   "metadata": {
    "tags": []
   },
   "outputs": [],
   "source": [
    "def process_documents(data):\n",
    "    all_words = {}; index = 0\n",
    "    emails = []\n",
    "    \n",
    "    for email in data:\n",
    "        current = []\n",
    "        for word in get_words(email):\n",
    "            if word not in all_words:\n",
    "                all_words|= {word:index}\n",
    "                index+=1\n",
    "            current.append(word)\n",
    "        emails.append(current)\n",
    "    return all_words, emails\n",
    "\n",
    "\n",
    "def process_test_documents(data, all_words):\n",
    "    emails = []\n",
    "    for email in data:\n",
    "        current = []\n",
    "        for word in get_words(email):\n",
    "            if word in all_words:\n",
    "                current.append(word)\n",
    "        emails.append(current)\n",
    "    return emails"
   ]
  },
  {
   "cell_type": "code",
   "execution_count": 5,
   "id": "0e7be397-281a-4325-95fc-256e4853976d",
   "metadata": {
    "tags": []
   },
   "outputs": [],
   "source": [
    "all_words, emails = process_documents(X_train)"
   ]
  },
  {
   "cell_type": "markdown",
   "id": "5aea34bf-46f0-4b1f-96fa-a54dab2e6024",
   "metadata": {},
   "source": [
    "- With the data preprocessed we can easily compute the TF IDF with the following functions"
   ]
  },
  {
   "cell_type": "code",
   "execution_count": 6,
   "id": "c3e1b3f6-d2bc-4409-9880-8bc20d351eb6",
   "metadata": {
    "tags": []
   },
   "outputs": [],
   "source": [
    "def count_words(\n",
    "    words: list[str]\n",
    ") -> dict[str, int]:\n",
    "    \"\"\"\n",
    "    Counts the ocurrence of each word in the document corpus.\n",
    "    \"\"\"\n",
    "    return dict(zip(*np.unique(words, return_counts=True)))\n",
    "\n",
    "\n",
    "def tf(\n",
    "    word_counts: dict[str, int], \n",
    "    i: int,\n",
    "    all_words: dict[str, int], \n",
    "    TF_Matrix: dok_matrix\n",
    ") -> None:\n",
    "    \"\"\"\n",
    "    Computes the Term-Frequency vector of a document. \n",
    "    Operates in-memory in the Term-Frequency Matrix, receiving the index {i} that corresponds to the document.\n",
    "    \"\"\"\n",
    "    counts = word_counts.values()\n",
    "    if len(counts)==0: return {}\n",
    "    max_value = max(counts)\n",
    "    \n",
    "    for word, counts in word_counts.items():\n",
    "        TF_Matrix[i, all_words[word]] = counts/max_value\n",
    "    \n",
    "    \n",
    "def calc_sparse_tf_matrix(\n",
    "    docs: list[list[str]], \n",
    "    all_words: dict[str, int], \n",
    "    TF_Matrix:dok_matrix\n",
    ")->dok_matrix:\n",
    "    \"\"\"\n",
    "    Computes the Term-Frequency Matrix\n",
    "    \"\"\"\n",
    "    for i, doc in enumerate(docs):\n",
    "        word_counts = count_words(doc)\n",
    "        tf(word_counts, i, all_words, TF_Matrix)\n",
    "    return TF_Matrix"
   ]
  },
  {
   "cell_type": "code",
   "execution_count": 7,
   "id": "f254081f-f1d0-49ec-a4c5-df58d7fd9e65",
   "metadata": {
    "tags": []
   },
   "outputs": [],
   "source": [
    "def calc_idf(\n",
    "    documents: list[list[str]],\n",
    "    all_words: dict[str, int],\n",
    "    IDF_Matrix: dok_matrix\n",
    ") -> dok_matrix:\n",
    "    \"\"\"\n",
    "    Computes the Inverse Document Frequency in-memory.\n",
    "    \"\"\"\n",
    "    N = len(documents)\n",
    "    \n",
    "    for doc in documents:\n",
    "        for word in np.unique(doc):\n",
    "            IDF_Matrix[ 0, all_words[word] ] += 1\n",
    "    \n",
    "    for i in range(IDF_Matrix.shape[1]):\n",
    "        IDF_Matrix[0, i] = np.log2(N / (IDF_Matrix[0, i] + 1) ) + 1\n",
    "    return IDF_Matrix"
   ]
  },
  {
   "cell_type": "code",
   "execution_count": 8,
   "id": "e1309a78-7611-4636-9eb3-cd6a06da882b",
   "metadata": {
    "tags": []
   },
   "outputs": [],
   "source": [
    "def calc_tf_idf(\n",
    "    all_words: dict[str, int],\n",
    "    documents: list[list[str]]\n",
    ") -> dok_matrix :\n",
    "    \"\"\"\n",
    "    Calculates TF-IDF matrix\n",
    "    \"\"\"\n",
    "    N = len(documents)\n",
    "    M = len(all_words)\n",
    "    \n",
    "    TF = dok_matrix(np.zeros( (N, M) ))\n",
    "    IDF = dok_matrix(np.zeros( (1, M) ))\n",
    "    \n",
    "    TF = calc_sparse_tf_matrix(documents, all_words, TF).tocsr()\n",
    "    IDF = calc_idf(documents, all_words, IDF).tocsr()\n",
    "    \n",
    "    print(\"TF size =\", sys.getsizeof(pickle.dumps(TF))/1024**2, \"MB\")\n",
    "    print(\"IDF size =\", sys.getsizeof(pickle.dumps(IDF))/1024**2, \"MB\")\n",
    "    \n",
    "    TF_IDF = TF.multiply(IDF)\n",
    "    return TF_IDF"
   ]
  },
  {
   "cell_type": "code",
   "execution_count": 9,
   "id": "f2908ac4-aab3-45f3-a27e-a1d709ea4fa6",
   "metadata": {
    "tags": []
   },
   "outputs": [
    {
     "name": "stdout",
     "output_type": "stream",
     "text": [
      "TF size = 6.801630973815918 MB\n",
      "IDF size = 0.38732337951660156 MB\n"
     ]
    }
   ],
   "source": [
    "TF_IDF = calc_tf_idf(all_words, emails)"
   ]
  },
  {
   "cell_type": "markdown",
   "id": "1c7f8558-5521-4500-8998-0f5e53dfc0a3",
   "metadata": {
    "tags": []
   },
   "source": [
    "### Now we will train the model with the sparse matrix and check the results\n",
    "\n",
    "First we will use the full dataset\n",
    "\n",
    "Afterwards the data will be decomposed using SVD to reduce dimensionality and the process will be repeated\n"
   ]
  },
  {
   "cell_type": "markdown",
   "id": "036fe723-bf14-4142-a03c-42f7a2081b47",
   "metadata": {
    "jp-MarkdownHeadingCollapsed": true,
    "tags": []
   },
   "source": [
    "#### Using Full dataset\n",
    "    - SVM"
   ]
  },
  {
   "cell_type": "code",
   "execution_count": 92,
   "id": "9ed13ab6-2539-48cd-bf3d-a1eb081188a4",
   "metadata": {
    "tags": []
   },
   "outputs": [],
   "source": [
    "svm = SVC(kernel=\"linear\").fit(TF_IDF, y_train)"
   ]
  },
  {
   "cell_type": "code",
   "execution_count": 93,
   "id": "2d0a920b-d026-4ff9-91b9-8e45cfabfc5d",
   "metadata": {
    "tags": []
   },
   "outputs": [
    {
     "data": {
      "text/plain": [
       "1.0"
      ]
     },
     "execution_count": 93,
     "metadata": {},
     "output_type": "execute_result"
    }
   ],
   "source": [
    "svm.score(TF_IDF, y_train)"
   ]
  },
  {
   "cell_type": "code",
   "execution_count": 54,
   "id": "5d08bb3d-4dde-453b-a9c6-c8e6b1bf5802",
   "metadata": {
    "tags": []
   },
   "outputs": [],
   "source": [
    "test_words = process_test_documents(X_test, all_words)"
   ]
  },
  {
   "cell_type": "code",
   "execution_count": 55,
   "id": "feaf0aa7-0a62-4378-91b2-aee4c11ca341",
   "metadata": {
    "tags": []
   },
   "outputs": [
    {
     "name": "stdout",
     "output_type": "stream",
     "text": [
      "TF size = 1.6422529220581055 MB\n",
      "IDF size = 0.38732337951660156 MB\n"
     ]
    }
   ],
   "source": [
    "TF_IDF_test = calc_tf_idf(all_words, test_words)"
   ]
  },
  {
   "cell_type": "code",
   "execution_count": 94,
   "id": "75e28b0e-ab23-4ade-ab69-a10bd7119ef1",
   "metadata": {
    "tags": []
   },
   "outputs": [
    {
     "name": "stdout",
     "output_type": "stream",
     "text": [
      "MCC = 0.9751002951582475\n",
      "              precision    recall  f1-score   support\n",
      "\n",
      "           0       0.99      1.00      0.99       885\n",
      "           1       0.99      0.97      0.98       261\n",
      "\n",
      "    accuracy                           0.99      1146\n",
      "   macro avg       0.99      0.98      0.99      1146\n",
      "weighted avg       0.99      0.99      0.99      1146\n",
      "\n"
     ]
    },
    {
     "data": {
      "text/plain": [
       "<sklearn.metrics._plot.confusion_matrix.ConfusionMatrixDisplay at 0x1c4761834f0>"
      ]
     },
     "execution_count": 94,
     "metadata": {},
     "output_type": "execute_result"
    },
    {
     "data": {
      "image/png": "[encoded data removed]",
      "text/plain": [
       "<Figure size 640x480 with 2 Axes>"
      ]
     },
     "metadata": {},
     "output_type": "display_data"
    }
   ],
   "source": [
    "preds = svm.predict(TF_IDF_test)\n",
    "\n",
    "print(\"MCC =\", matthews_corrcoef(y_test, preds))\n",
    "print(classification_report(y_test,preds))\n",
    "ConfusionMatrixDisplay(\n",
    "    confusion_matrix(y_test, preds)\n",
    ").plot()"
   ]
  },
  {
   "cell_type": "markdown",
   "id": "79dc700c-f36d-448b-b69d-3e1c6aebf12c",
   "metadata": {},
   "source": [
    " - Random Forest"
   ]
  },
  {
   "cell_type": "code",
   "execution_count": 57,
   "id": "a10c44e9-3a18-4a39-8e43-1e68c6e4ffd8",
   "metadata": {
    "tags": []
   },
   "outputs": [
    {
     "data": {
      "text/plain": [
       "1.0"
      ]
     },
     "execution_count": 57,
     "metadata": {},
     "output_type": "execute_result"
    }
   ],
   "source": [
    "rfc = RandomForestClassifier().fit(TF_IDF, y_train)\n",
    "rfc.score(TF_IDF, y_train)"
   ]
  },
  {
   "cell_type": "code",
   "execution_count": 58,
   "id": "057e775d-9e89-48d0-a3ae-d6887767b7ba",
   "metadata": {
    "tags": []
   },
   "outputs": [
    {
     "name": "stdout",
     "output_type": "stream",
     "text": [
      "MCC = 0.8973280580543422\n",
      "              precision    recall  f1-score   support\n",
      "\n",
      "           0       0.96      1.00      0.98       885\n",
      "           1       1.00      0.85      0.92       261\n",
      "\n",
      "    accuracy                           0.96      1146\n",
      "   macro avg       0.98      0.92      0.95      1146\n",
      "weighted avg       0.97      0.96      0.96      1146\n",
      "\n"
     ]
    },
    {
     "data": {
      "text/plain": [
       "<sklearn.metrics._plot.confusion_matrix.ConfusionMatrixDisplay at 0x1c4767f6df0>"
      ]
     },
     "execution_count": 58,
     "metadata": {},
     "output_type": "execute_result"
    },
    {
     "data": {
      "image/png": "[encoded data removed]",
      "text/plain": [
       "<Figure size 640x480 with 2 Axes>"
      ]
     },
     "metadata": {},
     "output_type": "display_data"
    }
   ],
   "source": [
    "preds = rfc.predict(TF_IDF_test)\n",
    "\n",
    "print(\"MCC =\", matthews_corrcoef(y_test, preds))\n",
    "print(classification_report(y_test,preds))\n",
    "ConfusionMatrixDisplay(\n",
    "    confusion_matrix(y_test, preds)\n",
    ").plot()"
   ]
  },
  {
   "cell_type": "markdown",
   "id": "c74453a1-bea1-479d-b130-82e8bbee0bb4",
   "metadata": {
    "tags": []
   },
   "source": [
    "#### Dimensionality Reduction using SVD"
   ]
  },
  {
   "cell_type": "code",
   "execution_count": 37,
   "id": "82c1e68e-9159-4099-869d-646ae635db0c",
   "metadata": {
    "tags": []
   },
   "outputs": [
    {
     "data": {
      "text/plain": [
       "<4582x33811 sparse matrix of type '<class 'numpy.float64'>'\n",
       "\twith 588192 stored elements in Compressed Sparse Row format>"
      ]
     },
     "execution_count": 37,
     "metadata": {},
     "output_type": "execute_result"
    }
   ],
   "source": [
    "TF_IDF"
   ]
  },
  {
   "cell_type": "code",
   "execution_count": null,
   "id": "aff87322-cfdd-43e1-91b6-981f7d158408",
   "metadata": {},
   "outputs": [],
   "source": [
    "#s = np.linalg.svd(TF_IDF.toarray(), compute_uv=False)\n",
    "#diag_ratios = s**2 / (s**2).sum()\n",
    "\n",
    "#np.cumsum(diag_ratios)[1795]"
   ]
  },
  {
   "cell_type": "code",
   "execution_count": 99,
   "id": "e081c0aa-e4c2-4d53-9676-915a1b36f3ca",
   "metadata": {
    "tags": []
   },
   "outputs": [],
   "source": [
    "u,s,v = svds(TF_IDF, k=30)"
   ]
  },
  {
   "cell_type": "code",
   "execution_count": 100,
   "id": "ef4de6c9-b0a0-4520-a9b6-2d357a2a0fe2",
   "metadata": {
    "tags": []
   },
   "outputs": [
    {
     "data": {
      "text/plain": [
       "((4582, 30), (30,), (30, 33811))"
      ]
     },
     "execution_count": 100,
     "metadata": {},
     "output_type": "execute_result"
    }
   ],
   "source": [
    "u.shape, s.shape, v.shape"
   ]
  },
  {
   "cell_type": "markdown",
   "id": "5bad88b9-3a01-423d-8856-09459422fdb1",
   "metadata": {},
   "source": [
    "- SVM"
   ]
  },
  {
   "cell_type": "code",
   "execution_count": 101,
   "id": "1d923cf5-ba34-429f-b4e1-ddabe52424aa",
   "metadata": {
    "tags": []
   },
   "outputs": [
    {
     "data": {
      "text/plain": [
       "0.8020515058926233"
      ]
     },
     "execution_count": 101,
     "metadata": {},
     "output_type": "execute_result"
    }
   ],
   "source": [
    "svm = SVC(kernel=\"linear\").fit(u, y_train)\n",
    "svm.score(u, y_train)"
   ]
  },
  {
   "cell_type": "code",
   "execution_count": 102,
   "id": "e6a41f0a-e294-4cfc-8adb-aeafdeeac92d",
   "metadata": {
    "tags": []
   },
   "outputs": [
    {
     "data": {
      "text/plain": [
       "<1146x33811 sparse matrix of type '<class 'numpy.float64'>'\n",
       "\twith 143086 stored elements in Compressed Sparse Row format>"
      ]
     },
     "execution_count": 102,
     "metadata": {},
     "output_type": "execute_result"
    }
   ],
   "source": [
    "TF_IDF_test"
   ]
  },
  {
   "cell_type": "code",
   "execution_count": 103,
   "id": "742a8d41-592c-43b4-ba2d-44241f5b9b06",
   "metadata": {
    "tags": []
   },
   "outputs": [],
   "source": [
    "u_test =  TF_IDF_test @ v.T"
   ]
  },
  {
   "cell_type": "code",
   "execution_count": 104,
   "id": "449699d3-65a5-4a33-9819-17702a6d605d",
   "metadata": {
    "tags": []
   },
   "outputs": [
    {
     "name": "stdout",
     "output_type": "stream",
     "text": [
      "MCC = 0.7942740393431118\n",
      "              precision    recall  f1-score   support\n",
      "\n",
      "           0       0.99      0.89      0.94       885\n",
      "           1       0.73      0.98      0.84       261\n",
      "\n",
      "    accuracy                           0.91      1146\n",
      "   macro avg       0.86      0.94      0.89      1146\n",
      "weighted avg       0.93      0.91      0.92      1146\n",
      "\n"
     ]
    },
    {
     "data": {
      "text/plain": [
       "<sklearn.metrics._plot.confusion_matrix.ConfusionMatrixDisplay at 0x1c46474f760>"
      ]
     },
     "execution_count": 104,
     "metadata": {},
     "output_type": "execute_result"
    },
    {
     "data": {
      "image/png": "[encoded data removed]",
      "text/plain": [
       "<Figure size 640x480 with 2 Axes>"
      ]
     },
     "metadata": {},
     "output_type": "display_data"
    }
   ],
   "source": [
    "preds = svm.predict(u_test)\n",
    "\n",
    "print(\"MCC =\", matthews_corrcoef(y_test, preds))\n",
    "print(classification_report(y_test,preds))\n",
    "ConfusionMatrixDisplay(\n",
    "    confusion_matrix(y_test, preds)\n",
    ").plot()"
   ]
  },
  {
   "cell_type": "markdown",
   "id": "aec4a804-3625-42cb-b3e4-f10a0a59d0c0",
   "metadata": {},
   "source": [
    "By reducing the space to 30 dimensions only we worsen a bit our module but the impact it had in False positives was not much changed.\n",
    "\n",
    "What suffered more impact was the False Positives."
   ]
  },
  {
   "cell_type": "markdown",
   "id": "86dcaece-68af-409a-8ad9-6ef94398a37c",
   "metadata": {},
   "source": [
    "- Random Forest"
   ]
  },
  {
   "cell_type": "code",
   "execution_count": 105,
   "id": "e56577ce-9411-4be5-81f0-38eaa5098c29",
   "metadata": {
    "tags": []
   },
   "outputs": [
    {
     "data": {
      "text/plain": [
       "1.0"
      ]
     },
     "execution_count": 105,
     "metadata": {},
     "output_type": "execute_result"
    }
   ],
   "source": [
    "rfc = RandomForestClassifier().fit(u, y_train)\n",
    "rfc.score(u, y_train)"
   ]
  },
  {
   "cell_type": "code",
   "execution_count": 106,
   "id": "da4a3965-9079-4c77-97a8-d0f07d553198",
   "metadata": {
    "tags": []
   },
   "outputs": [
    {
     "name": "stdout",
     "output_type": "stream",
     "text": [
      "MCC = 0.5050242046095502\n",
      "              precision    recall  f1-score   support\n",
      "\n",
      "           0       0.99      0.62      0.76       885\n",
      "           1       0.43      0.98      0.60       261\n",
      "\n",
      "    accuracy                           0.70      1146\n",
      "   macro avg       0.71      0.80      0.68      1146\n",
      "weighted avg       0.86      0.70      0.72      1146\n",
      "\n"
     ]
    },
    {
     "data": {
      "text/plain": [
       "<sklearn.metrics._plot.confusion_matrix.ConfusionMatrixDisplay at 0x1c469162d90>"
      ]
     },
     "execution_count": 106,
     "metadata": {},
     "output_type": "execute_result"
    },
    {
     "data": {
      "image/png": "[encoded data removed]",
      "text/plain": [
       "<Figure size 640x480 with 2 Axes>"
      ]
     },
     "metadata": {},
     "output_type": "display_data"
    }
   ],
   "source": [
    "preds = rfc.predict(u_test)\n",
    "\n",
    "print(\"MCC =\", matthews_corrcoef(y_test, preds))\n",
    "print(classification_report(y_test,preds))\n",
    "ConfusionMatrixDisplay(\n",
    "    confusion_matrix(y_test, preds)\n",
    ").plot()"
   ]
  },
  {
   "cell_type": "code",
   "execution_count": null,
   "id": "a1621dba-d683-4870-a265-627bd933525f",
   "metadata": {},
   "outputs": [],
   "source": []
  }
 ],
 "metadata": {
  "kernelspec": {
   "display_name": "Python 3 (ipykernel)",
   "language": "python",
   "name": "python3"
  },
  "language_info": {
   "codemirror_mode": {
    "name": "ipython",
    "version": 3
   },
   "file_extension": ".py",
   "mimetype": "text/x-python",
   "name": "python",
   "nbconvert_exporter": "python",
   "pygments_lexer": "ipython3",
   "version": "3.9.7"
  }
 },
 "nbformat": 4,
 "nbformat_minor": 5
}
