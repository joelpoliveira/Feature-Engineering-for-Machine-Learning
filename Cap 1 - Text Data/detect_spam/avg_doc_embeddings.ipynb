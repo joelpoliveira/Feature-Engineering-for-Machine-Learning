{
 "cells": [
  {
   "cell_type": "code",
   "execution_count": 1,
   "id": "f6c0c64b-0944-4182-be7c-2eb1a92e6f56",
   "metadata": {
    "tags": []
   },
   "outputs": [],
   "source": [
    "import pandas as pd\n",
    "import string\n",
    "import nltk\n",
    "import numpy as np\n",
    "import tensorflow as tf\n",
    "import matplotlib.pyplot as plt\n",
    "import pickle \n",
    "\n",
    "from tqdm import tqdm\n",
    "from random import choices\n",
    "from scipy.sparse import dok_matrix\n",
    "from scipy.spatial.distance import euclidean\n",
    "from tensorflow.keras import layers, models, losses\n",
    "\n",
    "from sklearn.model_selection import train_test_split\n",
    "from sklearn.svm import SVC\n",
    "from sklearn.decomposition import PCA\n",
    "from sklearn.metrics import classification_report, ConfusionMatrixDisplay, confusion_matrix\n",
    "\n",
    "from preprocessing import *"
   ]
  },
  {
   "cell_type": "code",
   "execution_count": 2,
   "id": "934fc6ba-6bc1-4edd-9866-8073d3d062ea",
   "metadata": {
    "tags": []
   },
   "outputs": [],
   "source": [
    "df = pd.read_csv(\"data/emails.csv\")\n",
    "X = df.Text\n",
    "y = df.Spam\n",
    "X_train, X_test, y_train, y_test = train_test_split(X, y, test_size=0.2, random_state=0)"
   ]
  },
  {
   "cell_type": "markdown",
   "id": "c714e117-39ef-4d75-9544-4474d3e8fa0d",
   "metadata": {},
   "source": [
    "## Preprocessing\n",
    "- Get the vocabulary of the training set\n",
    "- Create functions to convert integers to respective words and vice-versa"
   ]
  },
  {
   "cell_type": "code",
   "execution_count": 3,
   "id": "92ae84ce-19ea-4e3f-8b5e-c1efbefd8555",
   "metadata": {
    "tags": []
   },
   "outputs": [
    {
     "name": "stderr",
     "output_type": "stream",
     "text": [
      "100%|██████████████████████████████████████████████████████████████████████████████████████████████████████████████████████████████████████████████████████████████████████| 4582/4582 [00:42<00:00, 108.08it/s]\n"
     ]
    }
   ],
   "source": [
    "all_words, emails = process_documents(X_train)"
   ]
  },
  {
   "cell_type": "code",
   "execution_count": 4,
   "id": "ed38e8f7-c2a9-41e0-bbc3-ec5b9344eb65",
   "metadata": {
    "tags": []
   },
   "outputs": [],
   "source": [
    "rev_words = {item[1]:item[0] for item in all_words.items()}"
   ]
  },
  {
   "cell_type": "code",
   "execution_count": 5,
   "id": "950de825-1b1e-4ac0-8723-dfc4d1e7cfed",
   "metadata": {
    "tags": []
   },
   "outputs": [],
   "source": [
    "M = len(all_words)"
   ]
  },
  {
   "cell_type": "code",
   "execution_count": 6,
   "id": "bfd711ed-01fe-4f30-89b2-688941d2fe5e",
   "metadata": {
    "tags": []
   },
   "outputs": [
    {
     "data": {
      "text/plain": [
       "30442"
      ]
     },
     "execution_count": 6,
     "metadata": {},
     "output_type": "execute_result"
    }
   ],
   "source": [
    "M"
   ]
  },
  {
   "cell_type": "code",
   "execution_count": 7,
   "id": "9bb6445d-c44b-4e4c-923a-0420b34284b4",
   "metadata": {
    "tags": []
   },
   "outputs": [],
   "source": [
    "def word2int(word):\n",
    "    return all_words[word]\n",
    "\n",
    "def int2word(idx):\n",
    "    return rev_words[idx]"
   ]
  },
  {
   "cell_type": "markdown",
   "id": "964bc273-19f4-43e8-ba64-62c0d5261d55",
   "metadata": {
    "jp-MarkdownHeadingCollapsed": true,
    "tags": []
   },
   "source": [
    "## GloVe Embedding\n",
    "- We will try to detect for ham or spam using GloVe representation\n",
    "\n",
    "First we need to create the word representations"
   ]
  },
  {
   "cell_type": "code",
   "execution_count": 8,
   "id": "5f5a97df-bb38-4d56-910d-efd35cd4cef4",
   "metadata": {
    "tags": []
   },
   "outputs": [],
   "source": [
    "def count_word_coocurrence(docs, vocab, wsize=10):\n",
    "    term_term_dict = {}\n",
    "    for doc in docs:\n",
    "        N = len(doc)\n",
    "        \n",
    "        for i in range(wsize, N - wsize):\n",
    "            current_word = word2int(doc[i])\n",
    "            \n",
    "            for j in range(1,wsize + 1):\n",
    "                prev_word = word2int(doc[i - j])\n",
    "                future_word = word2int(doc[i + j])\n",
    "                \n",
    "                term_term_dict[ (prev_word, current_word) ] = term_term_dict.get(\n",
    "                    (prev_word, current_word),\n",
    "                    0\n",
    "                ) + 1\n",
    "                term_term_dict[ (future_word, current_word) ] = term_term_dict.get(\n",
    "                    (future_word, current_word),\n",
    "                    0\n",
    "                ) + 1\n",
    "                \n",
    "    M = len(vocab)\n",
    "    term_term_sparse = dok_matrix((M,M))\n",
    "    for idx, value in term_term_dict.items():\n",
    "        i, j = idx\n",
    "        term_term_sparse[i, j] = value\n",
    "        \n",
    "    return term_term_sparse"
   ]
  },
  {
   "cell_type": "code",
   "execution_count": 9,
   "id": "a8fa91df-9585-4735-8833-de942fae3fcf",
   "metadata": {
    "tags": []
   },
   "outputs": [],
   "source": [
    "word_cooc_matrix = count_word_coocurrence(emails, all_words, wsize=5)"
   ]
  },
  {
   "cell_type": "code",
   "execution_count": 10,
   "id": "bcf2c830-8b9d-4742-b700-61f25c70ad14",
   "metadata": {
    "tags": []
   },
   "outputs": [],
   "source": [
    "def get_training_sets(cooc: dok_matrix):\n",
    "    X = np.array(\n",
    "        list(\n",
    "            cooc.keys()\n",
    "        )\n",
    "    )\n",
    "    y = np.array(\n",
    "        list(\n",
    "            cooc.values()\n",
    "        )\n",
    "    )\n",
    "    \n",
    "    return X, y"
   ]
  },
  {
   "cell_type": "code",
   "execution_count": 11,
   "id": "aac990ae-c983-4959-afd8-9dd393b1dfb4",
   "metadata": {
    "tags": []
   },
   "outputs": [],
   "source": [
    "X, y = get_training_sets(word_cooc_matrix)"
   ]
  },
  {
   "cell_type": "code",
   "execution_count": 12,
   "id": "46025cf3-953c-40a4-a7d6-57f6e36490e1",
   "metadata": {
    "tags": []
   },
   "outputs": [
    {
     "data": {
      "text/plain": [
       "(770585, 2)"
      ]
     },
     "execution_count": 12,
     "metadata": {},
     "output_type": "execute_result"
    }
   ],
   "source": [
    "X.shape"
   ]
  },
  {
   "cell_type": "code",
   "execution_count": 13,
   "id": "fd714f4f-95da-4022-a271-09503381a509",
   "metadata": {
    "tags": []
   },
   "outputs": [],
   "source": [
    "#small embedding dim since the dataset is small\n",
    "EMB_SIZE=50"
   ]
  },
  {
   "cell_type": "code",
   "execution_count": 14,
   "id": "1016ef7b-51c7-4d5c-915a-8db50dec7e2e",
   "metadata": {
    "tags": []
   },
   "outputs": [],
   "source": [
    "target = layers.Input(shape=1, name=\"context_input\")\n",
    "context = layers.Input(shape=1, name=\"target_input\")\n",
    "\n",
    "embed_layer = layers.Embedding(\n",
    "    input_dim=word_cooc_matrix.shape[0], \n",
    "    output_dim=EMB_SIZE, \n",
    "    name=\"embed\"\n",
    ")\n",
    "\n",
    "embed_target = embed_layer(target)\n",
    "embed_context = embed_layer(context)\n",
    "\n",
    "dot = layers.Dot(axes=2)( [ embed_target, embed_context ] )\n",
    "flat = layers.Flatten()(dot)\n",
    "\n",
    "model = models.Model(inputs=[ target, context ], outputs=flat)"
   ]
  },
  {
   "cell_type": "code",
   "execution_count": 15,
   "id": "a36a77c9-6d27-493d-aade-e5c8cd36cb74",
   "metadata": {
    "tags": []
   },
   "outputs": [],
   "source": [
    "@tf.function\n",
    "def loss(y_test, preds):\n",
    "    x_max = 100\n",
    "    α = 0.75\n",
    "    \n",
    "    G = tf.where(y_test < x_max, (y_test/x_max)**α, 1)\n",
    "    temp = tf.math.log(y_test)\n",
    "    \n",
    "    return tf.reduce_sum(\n",
    "      G *(preds - temp)**2  \n",
    "    )"
   ]
  },
  {
   "cell_type": "code",
   "execution_count": 16,
   "id": "5cf37280-68d3-4815-a9e0-e1bcd95f1ba2",
   "metadata": {
    "tags": []
   },
   "outputs": [],
   "source": [
    "model.compile(optimizer=\"adam\", loss=loss)"
   ]
  },
  {
   "cell_type": "code",
   "execution_count": 24,
   "id": "6365ca2d-9fee-4cba-9d9e-0479a0573b2e",
   "metadata": {
    "tags": []
   },
   "outputs": [
    {
     "name": "stdout",
     "output_type": "stream",
     "text": [
      "12041/12041 [==============================] - 76s 6ms/step - loss: 0.6544\n"
     ]
    },
    {
     "data": {
      "text/plain": [
       "<keras.callbacks.History at 0x23c09d5faf0>"
      ]
     },
     "execution_count": 24,
     "metadata": {},
     "output_type": "execute_result"
    }
   ],
   "source": [
    "model.fit([ X[:,0], X[:,1] ], y, epochs=1, batch_size=64)"
   ]
  },
  {
   "cell_type": "code",
   "execution_count": 25,
   "id": "cebc41aa-cc09-4059-91f8-89162dae91ed",
   "metadata": {
    "tags": []
   },
   "outputs": [],
   "source": [
    "embed_vectors = model.get_weights()[0]\n",
    "u = PCA().fit_transform(embed_vectors)"
   ]
  },
  {
   "cell_type": "code",
   "execution_count": 28,
   "id": "631be0de-25d4-494b-bb75-d48c10d700ab",
   "metadata": {
    "tags": []
   },
   "outputs": [
    {
     "data": {
      "image/png": "[encoded data removed]",
      "text/plain": [
       "<Figure size 1400x800 with 1 Axes>"
      ]
     },
     "metadata": {},
     "output_type": "display_data"
    }
   ],
   "source": [
    "prog_near = np.argsort([ \n",
    "    euclidean(\n",
    "        u[word2int(\"found\")], \n",
    "        u[i]\n",
    "    ) for i in range(len(u))\n",
    "])[:5]\n",
    "\n",
    "random = np.random.choice(list(range(len(u))), size=5, replace=False)\n",
    "\n",
    "plt.figure(figsize=(14,8))\n",
    "for i in prog_near:\n",
    "    plt.scatter(u[i,0], u[i,1], c=\"b\") #int2word(i))\n",
    "    plt.text(u[i,0], u[i,1],int2word(i))\n",
    "    \n",
    "for i in random:\n",
    "    plt.scatter(u[i,0], u[i,1], c=\"r\") \n",
    "    plt.text(u[i,0], u[i,1],int2word(i))"
   ]
  },
  {
   "cell_type": "code",
   "execution_count": 29,
   "id": "29efd60e-f6d6-448a-8f95-c220b74c7e95",
   "metadata": {
    "tags": []
   },
   "outputs": [],
   "source": [
    "np.save(\"./data/glove_vectors.npy\", embed_vectors)"
   ]
  },
  {
   "cell_type": "markdown",
   "id": "3b094709-3758-4612-87c5-b3ab5bdddb2b",
   "metadata": {
    "tags": []
   },
   "source": [
    "## Continuous Bag of Words Embedding"
   ]
  },
  {
   "cell_type": "code",
   "execution_count": 40,
   "id": "fdf05ad5-da29-4b7a-9689-811d563bbb1b",
   "metadata": {
    "tags": []
   },
   "outputs": [],
   "source": [
    "def get_dataset(docs, wsize=2):\n",
    "    dataset = {}\n",
    "    \n",
    "    for doc in docs:\n",
    "        N = len(doc)\n",
    "        \n",
    "        for i in range(wsize, N - wsize):\n",
    "            current_word = word2int(doc[i])\n",
    "            context_set = tuple()\n",
    "            for j in range(1,wsize + 1):\n",
    "                prev_word = word2int(doc[i - j])\n",
    "                future_word = word2int(doc[i + j])\n",
    "                \n",
    "                context_set = context_set + (prev_word, future_word)\n",
    "            context_set = tuple(sorted(context_set))\n",
    "            \n",
    "            dataset[context_set] = dataset.get(context_set, set()) | {current_word}\n",
    "    return dataset"
   ]
  },
  {
   "cell_type": "code",
   "execution_count": 41,
   "id": "57b374e2-2207-4b4d-880a-5380f18d553f",
   "metadata": {
    "tags": []
   },
   "outputs": [],
   "source": [
    "def unwind(dataset: dict):\n",
    "    X = []\n",
    "    y = []\n",
    "    \n",
    "    for item in dataset.items():\n",
    "        xsample, ysamples = item\n",
    "        for y_value in ysamples:\n",
    "            X.append(xsample)\n",
    "            y.append(y_value)\n",
    "    return np.array(X), np.array(y).reshape(-1,1)"
   ]
  },
  {
   "cell_type": "markdown",
   "id": "b322e823-ce54-4122-abb1-175992f640b9",
   "metadata": {
    "tags": []
   },
   "source": [
    "### Default CBOW"
   ]
  },
  {
   "cell_type": "code",
   "execution_count": 42,
   "id": "1b6f9702-c813-49a5-b745-95996bd3f049",
   "metadata": {
    "tags": []
   },
   "outputs": [],
   "source": [
    "wsize=5"
   ]
  },
  {
   "cell_type": "code",
   "execution_count": 43,
   "id": "e0894693-ca4c-4fef-a25c-c9bb75861730",
   "metadata": {
    "tags": []
   },
   "outputs": [],
   "source": [
    "ds = get_dataset(emails, wsize)"
   ]
  },
  {
   "cell_type": "code",
   "execution_count": 44,
   "id": "4600dcf6-0a08-4f57-9560-d6af5fcaba43",
   "metadata": {
    "tags": []
   },
   "outputs": [],
   "source": [
    "contexts, targets = unwind(ds)"
   ]
  },
  {
   "cell_type": "code",
   "execution_count": 45,
   "id": "ec17868e-5f82-41a4-83b8-71cdfb36afa1",
   "metadata": {
    "tags": []
   },
   "outputs": [],
   "source": [
    "EMB_SIZE=50"
   ]
  },
  {
   "cell_type": "code",
   "execution_count": 46,
   "id": "138333aa-1130-4a94-a796-a387bacea9c1",
   "metadata": {
    "tags": []
   },
   "outputs": [],
   "source": [
    "model = models.Sequential([\n",
    "    layers.Embedding(\n",
    "        input_dim=M, \n",
    "        output_dim=EMB_SIZE, \n",
    "        input_length=wsize*2,\n",
    "        name=\"embeding_layer\"),\n",
    "    layers.Lambda(lambda x: tf.keras.backend.mean(x, axis=1), output_shape=EMB_SIZE, name=\"mean_layer\"),\n",
    "    layers.Dense(units=M, activation=\"softmax\", name=\"activation_layer\")\n",
    "])\n",
    "    "
   ]
  },
  {
   "cell_type": "code",
   "execution_count": 47,
   "id": "26507d09-09dc-49a3-902c-b7039a973ccf",
   "metadata": {
    "tags": []
   },
   "outputs": [],
   "source": [
    "model.compile(\"adam\", loss=\"sparse_categorical_crossentropy\")"
   ]
  },
  {
   "cell_type": "code",
   "execution_count": 52,
   "id": "efeb5a37-a540-4cd5-83ad-204eeb0f4420",
   "metadata": {
    "tags": []
   },
   "outputs": [
    {
     "name": "stdout",
     "output_type": "stream",
     "text": [
      "Epoch 1/3\n",
      "2019/2019 [==============================] - 19s 9ms/step - loss: 6.6150\n",
      "Epoch 2/3\n",
      "2019/2019 [==============================] - 19s 9ms/step - loss: 6.3878\n",
      "Epoch 3/3\n",
      "2019/2019 [==============================] - 19s 9ms/step - loss: 6.1802\n"
     ]
    },
    {
     "data": {
      "text/plain": [
       "<keras.callbacks.History at 0x23c0acbee20>"
      ]
     },
     "execution_count": 52,
     "metadata": {},
     "output_type": "execute_result"
    }
   ],
   "source": [
    "model.fit(x=contexts, y=targets, batch_size=64, epochs=3)"
   ]
  },
  {
   "cell_type": "code",
   "execution_count": 53,
   "id": "42920b02-154b-47b6-b35b-02413a8a235b",
   "metadata": {
    "tags": []
   },
   "outputs": [],
   "source": [
    "embed_vectors = model.get_weights()[0]\n",
    "u = PCA().fit_transform(embed_vectors)"
   ]
  },
  {
   "cell_type": "code",
   "execution_count": 55,
   "id": "22db066f-56d1-4973-a463-e790635a7266",
   "metadata": {
    "tags": []
   },
   "outputs": [
    {
     "data": {
      "image/png": "[encoded data removed]",
      "text/plain": [
       "<Figure size 1400x800 with 1 Axes>"
      ]
     },
     "metadata": {},
     "output_type": "display_data"
    }
   ],
   "source": [
    "prog_near = np.argsort([ \n",
    "    euclidean(\n",
    "        u[word2int(\"discount\")], \n",
    "        u[i]\n",
    "    ) for i in range(len(u))\n",
    "])[:5]\n",
    "\n",
    "random = np.random.choice(list(range(len(u))), size=5, replace=False)\n",
    "\n",
    "plt.figure(figsize=(14,8))\n",
    "for i in prog_near:\n",
    "    plt.scatter(u[i,0], u[i,1], c=\"b\") #int2word(i))\n",
    "    plt.text(u[i,0], u[i,1],int2word(i))\n",
    "    \n",
    "for i in random:\n",
    "    plt.scatter(u[i,0], u[i,1], c=\"r\") \n",
    "    plt.text(u[i,0], u[i,1],int2word(i))"
   ]
  },
  {
   "cell_type": "code",
   "execution_count": 56,
   "id": "b718aed8-9c71-4134-9861-db3bce997d8f",
   "metadata": {
    "tags": []
   },
   "outputs": [],
   "source": [
    "np.save(\"./data/cbow_vectors.npy\", embed_vectors)"
   ]
  },
  {
   "cell_type": "markdown",
   "id": "cb3250f9-4401-4de3-b161-9e08a5efe1a4",
   "metadata": {
    "jp-MarkdownHeadingCollapsed": true,
    "tags": []
   },
   "source": [
    "### Negative Sampling Optimization"
   ]
  },
  {
   "cell_type": "code",
   "execution_count": 11,
   "id": "e477f93c-35fd-46a8-a8dd-fdf585d07ca9",
   "metadata": {
    "tags": []
   },
   "outputs": [],
   "source": [
    "wsize=4\n",
    "EMB_SIZE=50\n",
    "k=10\n",
    "vocab = list(all_words.values())"
   ]
  },
  {
   "cell_type": "code",
   "execution_count": 12,
   "id": "6a1b62cf-138a-4248-b6de-6d4c9f31ccb6",
   "metadata": {
    "tags": []
   },
   "outputs": [],
   "source": [
    "ds = get_dataset(emails, wsize)"
   ]
  },
  {
   "cell_type": "code",
   "execution_count": 13,
   "id": "0f4b4550-cb25-45fd-8d2b-e5a5701b56bd",
   "metadata": {
    "tags": []
   },
   "outputs": [],
   "source": [
    "context_words, target_words = unwind(ds)"
   ]
  },
  {
   "cell_type": "code",
   "execution_count": 14,
   "id": "774689d2-f49f-4200-b2fd-7c4d31b5e02b",
   "metadata": {
    "tags": []
   },
   "outputs": [
    {
     "data": {
      "text/plain": [
       "(204009, 8)"
      ]
     },
     "execution_count": 14,
     "metadata": {},
     "output_type": "execute_result"
    }
   ],
   "source": [
    "context_words.shape"
   ]
  },
  {
   "cell_type": "code",
   "execution_count": 15,
   "id": "fa427804-634f-47e2-942c-0245a4787652",
   "metadata": {
    "tags": []
   },
   "outputs": [],
   "source": [
    "def epochs_generator(context_words, target_words, n_nsamples, batch_size=1):\n",
    "    idx = np.arange(context_words.shape[0], dtype=int)\n",
    "    np.random.shuffle(idx)\n",
    "    context_words = context_words[idx]\n",
    "    target_words = target_words[idx]    \n",
    "    \n",
    "    i = 0\n",
    "    while i < int(context_words.shape[0]):\n",
    "        c = context_words[i:i+batch_size]\n",
    "        t = target_words[i:i+batch_size]\n",
    "        \n",
    "        new_shape = len(c)\n",
    "        \n",
    "        n_targets = np.array(\n",
    "            choices(vocab, k=n_nsamples*new_shape)\n",
    "        ).reshape(n_nsamples, new_shape)\n",
    "        \n",
    "        c = c.reshape(new_shape,-1)\n",
    "        t = t.reshape(new_shape,-1)\n",
    "        n = n_targets.reshape(new_shape,-1)\n",
    "\n",
    "        out = np.array([[1] + [0]*n_nsamples]*new_shape).reshape(new_shape,-1)\n",
    "        yield ([c, t, n], out)\n",
    "        i+=batch_size"
   ]
  },
  {
   "cell_type": "code",
   "execution_count": 107,
   "id": "c982e537-fddd-4b58-9b02-09987eae91ae",
   "metadata": {
    "tags": []
   },
   "outputs": [],
   "source": [
    "@tf.function\n",
    "def cbow_loss(y_test, preds):\n",
    "    return tf.reduce_sum(\n",
    "        tf.math.log_sigmoid(preds)\n",
    "    )"
   ]
  },
  {
   "cell_type": "code",
   "execution_count": 56,
   "id": "268f3d2b-07a3-4832-b833-a6f503b4778d",
   "metadata": {
    "tags": []
   },
   "outputs": [],
   "source": [
    "context = layers.Input(shape=wsize*2)\n",
    "target = layers.Input(shape=1)\n",
    "n_targets = layers.Input(shape=k)\n",
    "\n",
    "embedding_layer = layers.Embedding(M, EMB_SIZE, name=\"emb_layer\")\n",
    "mean_layer = layers.Lambda(lambda x: tf.keras.backend.mean(x, axis=1), output_shape=(EMB_SIZE))\n",
    "reshape_layer = layers.Reshape((1, EMB_SIZE))\n",
    "dot_layer = layers.Dot(axes=2)\n",
    "concat = layers.Concatenate()\n",
    "\n",
    "cemb = embedding_layer(context)\n",
    "cemb = mean_layer(cemb)\n",
    "cemb = reshape_layer(cemb)\n",
    "\n",
    "temb = embedding_layer(target)\n",
    "nemb = embedding_layer(n_targets)\n",
    "\n",
    "out = dot_layer([cemb, temb])\n",
    "n_out = dot_layer([-cemb, nemb])\n",
    "\n",
    "out = concat([out, n_out])\n",
    "\n",
    "model = models.Model(inputs=[context, target, n_targets], outputs=out)"
   ]
  },
  {
   "cell_type": "code",
   "execution_count": 108,
   "id": "5ab0ceb5-58ed-4a11-b866-3ad735276008",
   "metadata": {
    "tags": []
   },
   "outputs": [],
   "source": [
    "model.compile(\"adam\", cbow_loss)"
   ]
  },
  {
   "cell_type": "code",
   "execution_count": 129,
   "id": "8e89ae46-a610-4909-8c71-4ec21a092f9a",
   "metadata": {
    "tags": []
   },
   "outputs": [
    {
     "name": "stdout",
     "output_type": "stream",
     "text": [
      "25502/25502 [==============================] - 210s 8ms/step - loss: -17912.0898\n"
     ]
    },
    {
     "data": {
      "text/plain": [
       "<keras.callbacks.History at 0x240302814c0>"
      ]
     },
     "execution_count": 129,
     "metadata": {},
     "output_type": "execute_result"
    }
   ],
   "source": [
    "batch_size=8\n",
    "model.fit(\n",
    "    epochs_generator(context_words, target_words, k, batch_size),\n",
    "    steps_per_epoch=np.ceil(len(context_words)/batch_size),\n",
    "    epochs=1\n",
    ")"
   ]
  },
  {
   "cell_type": "code",
   "execution_count": 130,
   "id": "eb61daca-4205-4a87-8231-90489133c8c8",
   "metadata": {
    "tags": []
   },
   "outputs": [],
   "source": [
    "embed_vectors = model.get_weights()[0]"
   ]
  },
  {
   "cell_type": "code",
   "execution_count": 138,
   "id": "d19f0815-0b38-47f5-9d0c-c68001ed3942",
   "metadata": {
    "tags": []
   },
   "outputs": [],
   "source": [
    "np.save(\"./data/cbow_negative_vectors.npy\", embed_vectors)"
   ]
  },
  {
   "cell_type": "markdown",
   "id": "f40a4436-617c-4522-a22f-17ad8d50a229",
   "metadata": {},
   "source": [
    "## Document Representation\n",
    "- Each document will be reduced to a vector, which will be the mean of the words that appear in the document"
   ]
  },
  {
   "cell_type": "code",
   "execution_count": 30,
   "id": "0bb3a8cd-ebf6-4cd6-b17e-49e9791e6a6e",
   "metadata": {
    "tags": []
   },
   "outputs": [],
   "source": [
    "EMB_SIZE=50"
   ]
  },
  {
   "cell_type": "code",
   "execution_count": 31,
   "id": "1e271d68-4bd1-4e2e-b7da-247a0a72c044",
   "metadata": {
    "tags": []
   },
   "outputs": [],
   "source": [
    "def get_existing_words(document, vocab):\n",
    "    \"\"\"\n",
    "    Given a document, parses it's tokens, removing stopwords and punctuation;\n",
    "    It also filters words that are not in the vocabulary\n",
    "    \"\"\"\n",
    "    stopwords = set(map(str.lower, nltk.corpus.stopwords.words(\"english\")))\n",
    "    punctuation = set(string.punctuation)\n",
    "    for word in nltk.tokenize.word_tokenize(document):\n",
    "        word = word.lower()\n",
    "        if (word not in stopwords) and \\\n",
    "        (word not in punctuation) and \\\n",
    "        (word in vocab):\n",
    "            yield word"
   ]
  },
  {
   "cell_type": "code",
   "execution_count": 32,
   "id": "d359972c-5677-48f5-8663-b7ebeb9b707e",
   "metadata": {
    "tags": []
   },
   "outputs": [],
   "source": [
    "def get_doc_representation(corpus, emb_size, emb_vectors, vocab):\n",
    "    vectors = []\n",
    "    for doc in tqdm(corpus):\n",
    "        vec = np.zeros(emb_size)\n",
    "        wcount=0\n",
    "        for sentence in nltk.tokenize.sent_tokenize(doc):\n",
    "            for word in get_existing_words(sentence, vocab):\n",
    "                vec += emb_vectors[ word2int(word) ]\n",
    "                wcount+=1\n",
    "        \n",
    "        vectors.append(vec/wcount)\n",
    "    return vectors"
   ]
  },
  {
   "cell_type": "markdown",
   "id": "c6037bd9-8969-47ab-9c80-33c7d0556f13",
   "metadata": {
    "tags": []
   },
   "source": [
    "## Training/Testing the model\n",
    "\n",
    "Using SVM since they are very robust"
   ]
  },
  {
   "cell_type": "markdown",
   "id": "77570329-660a-4368-b306-ed4a2c8235b8",
   "metadata": {},
   "source": [
    "- GloVe Embeddingabs"
   ]
  },
  {
   "cell_type": "code",
   "execution_count": null,
   "id": "7b622988-877f-43e8-b481-180c28571cb6",
   "metadata": {},
   "outputs": [],
   "source": [
    "embed_vectors=np.load(\"./data/glove_vectors.npy\")\n",
    "train_vectors = np.array(\n",
    "    get_doc_representation(X_train, EMB_SIZE, embed_vectors, all_words)\n",
    ")\n",
    "test_vectors = np.array(\n",
    "    get_doc_representation(X_test, EMB_SIZE, embed_vectors, all_words)\n",
    ")"
   ]
  },
  {
   "cell_type": "code",
   "execution_count": null,
   "id": "45778d88-f443-40f2-a204-c257ca5c29c6",
   "metadata": {},
   "outputs": [],
   "source": [
    "classifier = SVC().fit(train_vectors, y_train)\n",
    "classifier.score(train_vectors, y_train)"
   ]
  },
  {
   "cell_type": "code",
   "execution_count": null,
   "id": "b25d986b-15c1-4800-8ee5-3612edbe3ecf",
   "metadata": {},
   "outputs": [],
   "source": [
    "preds = classifier.predict(test_vectors)"
   ]
  },
  {
   "cell_type": "code",
   "execution_count": 38,
   "id": "64feea98-8ce5-4f1d-88fa-058a2868bb3a",
   "metadata": {
    "tags": []
   },
   "outputs": [
    {
     "name": "stdout",
     "output_type": "stream",
     "text": [
      "              precision    recall  f1-score   support\n",
      "\n",
      "           0       0.97      0.96      0.97       885\n",
      "           1       0.88      0.90      0.89       261\n",
      "\n",
      "    accuracy                           0.95      1146\n",
      "   macro avg       0.93      0.93      0.93      1146\n",
      "weighted avg       0.95      0.95      0.95      1146\n",
      "\n"
     ]
    }
   ],
   "source": [
    "print(classification_report(y_test,preds))"
   ]
  },
  {
   "cell_type": "code",
   "execution_count": 39,
   "id": "bc8cac29-4238-4e5b-975f-5c1958f29975",
   "metadata": {
    "tags": []
   },
   "outputs": [
    {
     "data": {
      "text/plain": [
       "<sklearn.metrics._plot.confusion_matrix.ConfusionMatrixDisplay at 0x23c09de28e0>"
      ]
     },
     "execution_count": 39,
     "metadata": {},
     "output_type": "execute_result"
    },
    {
     "data": {
      "image/png": "[encoded data removed]",
      "text/plain": [
       "<Figure size 640x480 with 2 Axes>"
      ]
     },
     "metadata": {},
     "output_type": "display_data"
    }
   ],
   "source": [
    "ConfusionMatrixDisplay(\n",
    "    confusion_matrix(y_test,preds), display_labels=[\"Ham\", \"Spam\"]\n",
    ").plot()"
   ]
  },
  {
   "cell_type": "markdown",
   "id": "e3788ca1-e837-4e5f-941e-417c57deffaa",
   "metadata": {},
   "source": [
    "- CBOW Embedding"
   ]
  },
  {
   "cell_type": "code",
   "execution_count": 64,
   "id": "05ce451a-9560-498d-a5f4-7dc63016efcf",
   "metadata": {
    "tags": []
   },
   "outputs": [],
   "source": [
    "embed_vectors = np.load(\"./data/cbow_vectors.npy\")\n",
    "train_vectors = np.array(\n",
    "    get_doc_representation(X_train, EMB_SIZE, embed_vectors, all_words)\n",
    ")\n",
    "test_vectors = np.array(\n",
    "    get_doc_representation(X_test, EMB_SIZE, embed_vectors, all_words)\n",
    ")"
   ]
  },
  {
   "cell_type": "code",
   "execution_count": 59,
   "id": "9c2cb878-b3e1-4b96-ac69-f2d48f2c60b6",
   "metadata": {
    "tags": []
   },
   "outputs": [
    {
     "data": {
      "text/plain": [
       "0.9838498472282846"
      ]
     },
     "execution_count": 59,
     "metadata": {},
     "output_type": "execute_result"
    }
   ],
   "source": [
    "classifier = SVC().fit(train_vectors, y_train)\n",
    "classifier.score(train_vectors, y_train)"
   ]
  },
  {
   "cell_type": "code",
   "execution_count": 60,
   "id": "c5c2d098-79ec-471b-8881-1b66a95844c4",
   "metadata": {
    "tags": []
   },
   "outputs": [],
   "source": [
    "preds = classifier.predict(test_vectors)"
   ]
  },
  {
   "cell_type": "code",
   "execution_count": 61,
   "id": "a6157a47-0afd-4df6-b7c2-bc0378a9fc48",
   "metadata": {
    "tags": []
   },
   "outputs": [
    {
     "name": "stdout",
     "output_type": "stream",
     "text": [
      "              precision    recall  f1-score   support\n",
      "\n",
      "           0       0.99      0.98      0.98       885\n",
      "           1       0.93      0.95      0.94       261\n",
      "\n",
      "    accuracy                           0.97      1146\n",
      "   macro avg       0.96      0.96      0.96      1146\n",
      "weighted avg       0.97      0.97      0.97      1146\n",
      "\n"
     ]
    }
   ],
   "source": [
    "print(classification_report(y_test,preds))"
   ]
  },
  {
   "cell_type": "code",
   "execution_count": 62,
   "id": "aed18587-5151-41ec-8b6a-5f49c9982a1f",
   "metadata": {
    "tags": []
   },
   "outputs": [
    {
     "data": {
      "text/plain": [
       "<sklearn.metrics._plot.confusion_matrix.ConfusionMatrixDisplay at 0x23c260d9190>"
      ]
     },
     "execution_count": 62,
     "metadata": {},
     "output_type": "execute_result"
    },
    {
     "data": {
      "image/png": "[encoded data removed]",
      "text/plain": [
       "<Figure size 640x480 with 2 Axes>"
      ]
     },
     "metadata": {},
     "output_type": "display_data"
    }
   ],
   "source": [
    "ConfusionMatrixDisplay(\n",
    "    confusion_matrix(y_test,preds), display_labels=[\"Ham\", \"Spam\"]\n",
    ").plot()"
   ]
  },
  {
   "cell_type": "markdown",
   "id": "7978892e-a19d-4b89-98eb-169e8d3cf039",
   "metadata": {},
   "source": [
    "- CBOW Embedding with Negative Sampling"
   ]
  },
  {
   "cell_type": "code",
   "execution_count": 136,
   "id": "1dc7dbf1-267b-4914-85bd-9e723c22037a",
   "metadata": {
    "tags": []
   },
   "outputs": [
    {
     "name": "stdout",
     "output_type": "stream",
     "text": [
      "              precision    recall  f1-score   support\n",
      "\n",
      "           0       0.90      0.95      0.92       885\n",
      "           1       0.78      0.63      0.69       261\n",
      "\n",
      "    accuracy                           0.87      1146\n",
      "   macro avg       0.84      0.79      0.81      1146\n",
      "weighted avg       0.87      0.87      0.87      1146\n",
      "\n"
     ]
    }
   ],
   "source": [
    "print(classification_report(y_test,preds))"
   ]
  },
  {
   "cell_type": "code",
   "execution_count": 137,
   "id": "4375b94b-98bd-4e1a-8917-8ad6129b8995",
   "metadata": {
    "tags": []
   },
   "outputs": [
    {
     "data": {
      "text/plain": [
       "<sklearn.metrics._plot.confusion_matrix.ConfusionMatrixDisplay at 0x24030903370>"
      ]
     },
     "execution_count": 137,
     "metadata": {},
     "output_type": "execute_result"
    },
    {
     "data": {
      "image/png": "[encoded data removed]",
      "text/plain": [
       "<Figure size 640x480 with 2 Axes>"
      ]
     },
     "metadata": {},
     "output_type": "display_data"
    }
   ],
   "source": [
    "ConfusionMatrixDisplay(\n",
    "    confusion_matrix(y_test,preds), display_labels=[\"Ham\", \"Spam\"]\n",
    ").plot()"
   ]
  },
  {
   "cell_type": "code",
   "execution_count": null,
   "id": "b4a2cfba-ff0d-4395-b525-55f347c3ec09",
   "metadata": {},
   "outputs": [],
   "source": []
  }
 ],
 "metadata": {
  "kernelspec": {
   "display_name": "Python 3 (ipykernel)",
   "language": "python",
   "name": "python3"
  },
  "language_info": {
   "codemirror_mode": {
    "name": "ipython",
    "version": 3
   },
   "file_extension": ".py",
   "mimetype": "text/x-python",
   "name": "python",
   "nbconvert_exporter": "python",
   "pygments_lexer": "ipython3",
   "version": "3.9.7"
  }
 },
 "nbformat": 4,
 "nbformat_minor": 5
}
