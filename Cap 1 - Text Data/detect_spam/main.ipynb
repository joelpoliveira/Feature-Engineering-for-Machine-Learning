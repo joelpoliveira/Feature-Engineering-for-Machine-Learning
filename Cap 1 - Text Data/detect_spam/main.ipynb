{
 "cells": [
  {
   "cell_type": "code",
   "execution_count": 10,
   "id": "d58a17b7-f590-4993-8196-655cba906074",
   "metadata": {},
   "outputs": [],
   "source": [
    "import nltk\n",
    "import pandas as pd\n",
    "import numpy as np\n",
    "\n",
    "\n",
    "from sklearn.neighbors import KNeighborsClassifier\n",
    "from sklearn.model_selection import train_test_split\n",
    "from sklearn.metrics import (accuracy_score, recall_score, \n",
    "                             precision_score, f1_score, matthews_corrcoef, \n",
    "                             ConfusionMatrixDisplay, classification_report, confusion_matrix)\n",
    "from scipy.spatial.distance import cosine\n",
    "from typing import Callable, Sequence"
   ]
  },
  {
   "cell_type": "markdown",
   "id": "5c1ab815-9c99-45c5-ad16-75c17a9ec447",
   "metadata": {
    "tags": []
   },
   "source": [
    "# Detecting Spam Or Ham with Bag of words"
   ]
  },
  {
   "cell_type": "code",
   "execution_count": 3,
   "id": "4f722f1b-49e6-488a-aa09-18207ee94e57",
   "metadata": {},
   "outputs": [],
   "source": [
    "df = pd.read_csv(\"emails.csv\")\n",
    "train_set, test_set = train_test_split(df, test_size=0.2, random_state=0)"
   ]
  },
  {
   "cell_type": "code",
   "execution_count": 69,
   "id": "1c2375ff-b3d1-4495-9206-1b04191c8f0c",
   "metadata": {},
   "outputs": [],
   "source": [
    "class Model:\n",
    "    def __init__(self, \n",
    "                 encoder,\n",
    "                 estimator = KNeighborsClassifier(),\n",
    "                ):\n",
    "        self.encoder = encoder\n",
    "        self.estimator=estimator\n",
    "    \n",
    "    def get_vocabulary(self, all_docs)->set:\n",
    "        vocab = set()\n",
    "        for doc in all_docs:\n",
    "            for word in nltk.word_tokenize(doc):\n",
    "                vocab|={word.lower()}\n",
    "        return vocab\n",
    "    \n",
    "    def fit(self, X, y):\n",
    "        X, y = X.to_numpy(), y.to_numpy()\n",
    "        self.vocab = self.get_vocabulary(X)\n",
    "        \n",
    "        X = list(map(lambda x: self.encoder(x, self.vocab), X))\n",
    "        \n",
    "        self.X = X\n",
    "        self.y = y\n",
    "        self.estimator.fit(X,y)\n",
    "        return self\n",
    "    \n",
    "    def predict(self, X):\n",
    "        X = X.to_numpy()\n",
    "        X = list(map(lambda x: self.encoder(x, self.vocab), X))\n",
    "        return self.estimator.predict(X)"
   ]
  },
  {
   "cell_type": "code",
   "execution_count": 92,
   "id": "f657db57-01cb-48c3-bd83-cb39038a8c02",
   "metadata": {},
   "outputs": [],
   "source": [
    "class Model2:\n",
    "    def __init__(self, \n",
    "                 encoder,\n",
    "                 estimator = KNeighborsClassifier(),\n",
    "                ):\n",
    "        self.encoder = encoder\n",
    "        self.estimator=estimator\n",
    "    \n",
    "    def get_vocabulary_and_frequency(self, all_docs)->set:\n",
    "        vocab = dict()\n",
    "        for doc in all_docs:\n",
    "            current_words = dict()\n",
    "            for word in nltk.word_tokenize(doc):\n",
    "                try:\n",
    "                    current_words[word.lower()]\n",
    "                except:\n",
    "                    vocab[ word.lower() ] = vocab.get(word.lower(),  0) + 1\n",
    "                    current_words[ word.lower() ] = 1\n",
    "        return list(vocab.keys()), list(vocab.values())\n",
    "    \n",
    "    def fit(self, X, y):\n",
    "        X, y = X.to_numpy(), y.to_numpy()\n",
    "        self.vocab, self.doc_freq = self.get_vocabulary_and_frequency(X)\n",
    "        \n",
    "        X = list(map(lambda x: self.encoder(x, self.doc_freq, self.vocab), X))\n",
    "        \n",
    "        self.X = X\n",
    "        self.y = y\n",
    "        self.estimator.fit(X,y)\n",
    "        return self\n",
    "    \n",
    "    def predict(self, X):\n",
    "        X = X.to_numpy()\n",
    "        X = list(map(lambda x: self.encoder(x, self.doc_freq, self.vocab), X))\n",
    "        return self.estimator.predict(X)"
   ]
  },
  {
   "cell_type": "code",
   "execution_count": 47,
   "id": "3428c6c7-8da9-4d82-8cf3-3c79a69791b0",
   "metadata": {},
   "outputs": [],
   "source": [
    "def term_existence(document: str, vocab: list):\n",
    "    bow = np.zeros(len(vocab))\n",
    "    loc = dict(map(lambda pair: (pair[1], pair[0]), enumerate(vocab)))\n",
    "    \n",
    "    for word in nltk.word_tokenize(document):\n",
    "        try:\n",
    "            bow[loc[word.lower()]]=1\n",
    "        except:\n",
    "            continue\n",
    "        \n",
    "    return list(bow)"
   ]
  },
  {
   "cell_type": "code",
   "execution_count": 12,
   "id": "8136612e-b565-4fb8-bbea-ab957b897808",
   "metadata": {},
   "outputs": [],
   "source": [
    "def term_weighting(document: str, vocab: list):\n",
    "    bow = np.zeros(len(vocab))\n",
    "    loc = dict(map(lambda pair: (pair[1], pair[0]), enumerate(vocab)))\n",
    "    \n",
    "    for word in nltk.word_tokenize(document):\n",
    "        try:\n",
    "            bow[loc[word.lower()]]+=1\n",
    "        except:\n",
    "            continue\n",
    "    return bow"
   ]
  },
  {
   "cell_type": "code",
   "execution_count": 83,
   "id": "8aa934e6-ba19-4e8a-8a3c-cb65a8810d88",
   "metadata": {},
   "outputs": [],
   "source": [
    "def term_freq(\n",
    "        document: str, \n",
    "        vocab: list, \n",
    "        t = lambda x: np.log2(x+1)\n",
    "    ):\n",
    "    bow = np.zeros(len(vocab))\n",
    "    loc = dict(map(lambda pair: (pair[1], pair[0]), enumerate(vocab)))\n",
    "    \n",
    "    for word in nltk.word_tokenize(document):\n",
    "        try:\n",
    "            bow[loc[word.lower()]]+=1\n",
    "        except:\n",
    "            continue\n",
    "    return t(bow)"
   ]
  },
  {
   "cell_type": "code",
   "execution_count": 89,
   "id": "5859be3d-8b7c-4e99-aca1-1e1c5ff9c391",
   "metadata": {},
   "outputs": [],
   "source": [
    "def inv_term_freq(document: str, \n",
    "                  doc_freq: list, \n",
    "                  vocab: list, \n",
    "                  t=lambda x: np.log2(x+1)):\n",
    "    bow = np.zeros(len(vocab))\n",
    "    loc = dict(map(lambda pair: (pair[1], pair[0]), enumerate(vocab)))\n",
    "    \n",
    "    for word in nltk.word_tokenize(document):\n",
    "        try:\n",
    "            bow[loc[word.lower()]]+=1\n",
    "        except:\n",
    "            continue\n",
    "    bow = t(bow)\n",
    "    \n",
    "    for i, v in enumerate(bow):\n",
    "        if v!=0:\n",
    "            bow[i] = np.log((doc_freq[i] + 1) / bow[i])\n",
    "    return bow"
   ]
  },
  {
   "cell_type": "code",
   "execution_count": 19,
   "id": "51babfa0-05ed-4b35-b209-56d90f578062",
   "metadata": {},
   "outputs": [
    {
     "data": {
      "text/html": [
       "<div>\n",
       "<style scoped>\n",
       "    .dataframe tbody tr th:only-of-type {\n",
       "        vertical-align: middle;\n",
       "    }\n",
       "\n",
       "    .dataframe tbody tr th {\n",
       "        vertical-align: top;\n",
       "    }\n",
       "\n",
       "    .dataframe thead th {\n",
       "        text-align: right;\n",
       "    }\n",
       "</style>\n",
       "<table border=\"1\" class=\"dataframe\">\n",
       "  <thead>\n",
       "    <tr style=\"text-align: right;\">\n",
       "      <th></th>\n",
       "      <th>Text</th>\n",
       "      <th>Spam</th>\n",
       "    </tr>\n",
       "  </thead>\n",
       "  <tbody>\n",
       "    <tr>\n",
       "      <th>4518</th>\n",
       "      <td>Subject: rice cfos conference  christie ,  thi...</td>\n",
       "      <td>0</td>\n",
       "    </tr>\n",
       "    <tr>\n",
       "      <th>4472</th>\n",
       "      <td>Subject: sfa licenses  iris :  i forwarded the...</td>\n",
       "      <td>0</td>\n",
       "    </tr>\n",
       "    <tr>\n",
       "      <th>799</th>\n",
       "      <td>Subject: reading to children has proven to inc...</td>\n",
       "      <td>1</td>\n",
       "    </tr>\n",
       "    <tr>\n",
       "      <th>4809</th>\n",
       "      <td>Subject: re : telephone interview with enron c...</td>\n",
       "      <td>0</td>\n",
       "    </tr>\n",
       "    <tr>\n",
       "      <th>1043</th>\n",
       "      <td>Subject: harderr  hello , welcome to medzon vi...</td>\n",
       "      <td>1</td>\n",
       "    </tr>\n",
       "  </tbody>\n",
       "</table>\n",
       "</div>"
      ],
      "text/plain": [
       "                                                   Text  Spam\n",
       "4518  Subject: rice cfos conference  christie ,  thi...     0\n",
       "4472  Subject: sfa licenses  iris :  i forwarded the...     0\n",
       "799   Subject: reading to children has proven to inc...     1\n",
       "4809  Subject: re : telephone interview with enron c...     0\n",
       "1043  Subject: harderr  hello , welcome to medzon vi...     1"
      ]
     },
     "execution_count": 19,
     "metadata": {},
     "output_type": "execute_result"
    }
   ],
   "source": [
    "train_set.head()"
   ]
  },
  {
   "cell_type": "code",
   "execution_count": 64,
   "id": "6a897ffb-1d42-4e20-befa-d537ede425c1",
   "metadata": {},
   "outputs": [],
   "source": [
    "X_train = train_set.Text\n",
    "y_train = train_set.Spam"
   ]
  },
  {
   "cell_type": "code",
   "execution_count": 67,
   "id": "d7a2cd78-8b53-483d-97bb-fd30400f3415",
   "metadata": {},
   "outputs": [],
   "source": [
    "xx_train, xx_test, yy_train, yy_test = train_test_split(X_train, y_train, test_size=0.2, random_state=2)"
   ]
  },
  {
   "cell_type": "markdown",
   "id": "ece9d40f-6f21-44bd-8ce7-b1068487dd49",
   "metadata": {
    "jp-MarkdownHeadingCollapsed": true,
    "tags": []
   },
   "source": [
    "## Term Existence Model"
   ]
  },
  {
   "cell_type": "code",
   "execution_count": 70,
   "id": "e97a2c01-05fd-4967-9454-65110d6bc5bd",
   "metadata": {},
   "outputs": [],
   "source": [
    "m_exist = Model(term_existence).fit(xx_train, yy_train)"
   ]
  },
  {
   "cell_type": "code",
   "execution_count": 72,
   "id": "d6763543-ac04-4739-9acf-b9121efda679",
   "metadata": {},
   "outputs": [],
   "source": [
    "preds = m_exist.predict(xx_test)"
   ]
  },
  {
   "cell_type": "code",
   "execution_count": 74,
   "id": "8684621d-6843-4300-a6de-33f14ba197c3",
   "metadata": {},
   "outputs": [
    {
     "data": {
      "text/plain": [
       "<sklearn.metrics._plot.confusion_matrix.ConfusionMatrixDisplay at 0x16540da5040>"
      ]
     },
     "execution_count": 74,
     "metadata": {},
     "output_type": "execute_result"
    },
    {
     "data": {
      "image/png": "[encoded data removed]",
      "text/plain": [
       "<Figure size 640x480 with 2 Axes>"
      ]
     },
     "metadata": {},
     "output_type": "display_data"
    }
   ],
   "source": [
    "ConfusionMatrixDisplay(\n",
    "    confusion_matrix(preds, yy_test)\n",
    ").plot()"
   ]
  },
  {
   "cell_type": "code",
   "execution_count": 76,
   "id": "94bd75a0-90a1-486f-8fcf-7c04e12f7553",
   "metadata": {},
   "outputs": [
    {
     "name": "stdout",
     "output_type": "stream",
     "text": [
      "              precision    recall  f1-score   support\n",
      "\n",
      "           0       0.98      0.89      0.93       788\n",
      "           1       0.57      0.91      0.70       129\n",
      "\n",
      "    accuracy                           0.89       917\n",
      "   macro avg       0.78      0.90      0.82       917\n",
      "weighted avg       0.93      0.89      0.90       917\n",
      "\n"
     ]
    }
   ],
   "source": [
    "print(classification_report(preds, yy_test))"
   ]
  },
  {
   "cell_type": "markdown",
   "id": "88ea3358-ba71-4586-9975-b48a8ab5a7c7",
   "metadata": {
    "jp-MarkdownHeadingCollapsed": true,
    "tags": []
   },
   "source": [
    "## Term Weighting"
   ]
  },
  {
   "cell_type": "code",
   "execution_count": 77,
   "id": "45473645-eb87-41eb-9ab9-cc5f52defd93",
   "metadata": {},
   "outputs": [],
   "source": [
    "m_weights = Model(term_weighting).fit(xx_train, yy_train)"
   ]
  },
  {
   "cell_type": "code",
   "execution_count": 78,
   "id": "8178e12d-3b27-4e5f-bbbe-d22e7a92d845",
   "metadata": {},
   "outputs": [],
   "source": [
    "preds = m_weights.predict(xx_test)"
   ]
  },
  {
   "cell_type": "code",
   "execution_count": 79,
   "id": "f72d173c-e413-4c05-9aec-90004d20eea3",
   "metadata": {},
   "outputs": [
    {
     "data": {
      "text/plain": [
       "<sklearn.metrics._plot.confusion_matrix.ConfusionMatrixDisplay at 0x16c95d78430>"
      ]
     },
     "execution_count": 79,
     "metadata": {},
     "output_type": "execute_result"
    },
    {
     "data": {
      "image/png": "[encoded data removed]",
      "text/plain": [
       "<Figure size 640x480 with 2 Axes>"
      ]
     },
     "metadata": {},
     "output_type": "display_data"
    }
   ],
   "source": [
    "ConfusionMatrixDisplay(\n",
    "    confusion_matrix(preds, yy_test)\n",
    ").plot()"
   ]
  },
  {
   "cell_type": "code",
   "execution_count": 80,
   "id": "75c42dfa-56bd-4762-bafc-dbcbcd0ee600",
   "metadata": {},
   "outputs": [
    {
     "name": "stdout",
     "output_type": "stream",
     "text": [
      "              precision    recall  f1-score   support\n",
      "\n",
      "           0       0.97      0.94      0.96       731\n",
      "           1       0.80      0.89      0.84       186\n",
      "\n",
      "    accuracy                           0.93       917\n",
      "   macro avg       0.88      0.91      0.90       917\n",
      "weighted avg       0.94      0.93      0.93       917\n",
      "\n"
     ]
    }
   ],
   "source": [
    "print(classification_report(preds, yy_test))"
   ]
  },
  {
   "cell_type": "markdown",
   "id": "32f8102f-8f09-419d-bfe0-bbd910cd30d4",
   "metadata": {},
   "source": [
    "Term Weigthing improved results without model tunning"
   ]
  },
  {
   "cell_type": "markdown",
   "id": "74385749-b78a-44ed-a483-e7c7bafb95c5",
   "metadata": {
    "jp-MarkdownHeadingCollapsed": true,
    "tags": []
   },
   "source": [
    "## Term Frequency"
   ]
  },
  {
   "cell_type": "code",
   "execution_count": 84,
   "id": "9f43d11a-9daa-4eac-8d5a-86e63f7fa657",
   "metadata": {},
   "outputs": [],
   "source": [
    "m_freq = Model(term_freq).fit(xx_train, yy_train)"
   ]
  },
  {
   "cell_type": "code",
   "execution_count": 85,
   "id": "ded84984-5f36-4db9-9174-4f5fedf43716",
   "metadata": {},
   "outputs": [],
   "source": [
    "preds = m_freq.predict(xx_test)"
   ]
  },
  {
   "cell_type": "code",
   "execution_count": 86,
   "id": "ed11ed41-9668-4082-8dd4-272575c1134b",
   "metadata": {},
   "outputs": [
    {
     "data": {
      "text/plain": [
       "<sklearn.metrics._plot.confusion_matrix.ConfusionMatrixDisplay at 0x16c95d7a910>"
      ]
     },
     "execution_count": 86,
     "metadata": {},
     "output_type": "execute_result"
    },
    {
     "data": {
      "image/png": "[encoded data removed]",
      "text/plain": [
       "<Figure size 640x480 with 2 Axes>"
      ]
     },
     "metadata": {},
     "output_type": "display_data"
    }
   ],
   "source": [
    "ConfusionMatrixDisplay(\n",
    "    confusion_matrix(preds, yy_test)\n",
    ").plot()"
   ]
  },
  {
   "cell_type": "code",
   "execution_count": 87,
   "id": "0d6e4c1c-032c-406a-ade8-36b1713e5700",
   "metadata": {},
   "outputs": [
    {
     "name": "stdout",
     "output_type": "stream",
     "text": [
      "              precision    recall  f1-score   support\n",
      "\n",
      "           0       0.99      0.93      0.96       751\n",
      "           1       0.76      0.95      0.84       166\n",
      "\n",
      "    accuracy                           0.94       917\n",
      "   macro avg       0.87      0.94      0.90       917\n",
      "weighted avg       0.95      0.94      0.94       917\n",
      "\n"
     ]
    }
   ],
   "source": [
    "print(classification_report(preds, yy_test))"
   ]
  },
  {
   "cell_type": "markdown",
   "id": "e4af1f11-ae0e-44f6-9adf-142cc5954864",
   "metadata": {
    "jp-MarkdownHeadingCollapsed": true,
    "tags": []
   },
   "source": [
    "## Inverse Freq"
   ]
  },
  {
   "cell_type": "code",
   "execution_count": 93,
   "id": "5ae45d65-a3a3-4f4b-bdab-9c71b9d44bc4",
   "metadata": {},
   "outputs": [],
   "source": [
    "m_inv_freq = Model2(inv_term_freq).fit(xx_train, yy_train)"
   ]
  },
  {
   "cell_type": "code",
   "execution_count": 94,
   "id": "593095e5-e434-4664-b52b-b30ffd281327",
   "metadata": {},
   "outputs": [],
   "source": [
    "preds = m_inv_freq.predict(xx_test)"
   ]
  },
  {
   "cell_type": "code",
   "execution_count": 95,
   "id": "d6a16de3-9d25-4936-bb82-8e90606667ee",
   "metadata": {},
   "outputs": [
    {
     "data": {
      "text/plain": [
       "<sklearn.metrics._plot.confusion_matrix.ConfusionMatrixDisplay at 0x16c5e865700>"
      ]
     },
     "execution_count": 95,
     "metadata": {},
     "output_type": "execute_result"
    },
    {
     "data": {
      "image/png": "[encoded data removed]",
      "text/plain": [
       "<Figure size 640x480 with 2 Axes>"
      ]
     },
     "metadata": {},
     "output_type": "display_data"
    }
   ],
   "source": [
    "ConfusionMatrixDisplay(\n",
    "    confusion_matrix(preds, yy_test)\n",
    ").plot()"
   ]
  },
  {
   "cell_type": "code",
   "execution_count": 96,
   "id": "8442137d-1ca4-4dbe-9167-1139b614f9ba",
   "metadata": {},
   "outputs": [
    {
     "name": "stdout",
     "output_type": "stream",
     "text": [
      "              precision    recall  f1-score   support\n",
      "\n",
      "           0       0.96      0.95      0.96       717\n",
      "           1       0.84      0.87      0.86       200\n",
      "\n",
      "    accuracy                           0.94       917\n",
      "   macro avg       0.90      0.91      0.91       917\n",
      "weighted avg       0.94      0.94      0.94       917\n",
      "\n"
     ]
    }
   ],
   "source": [
    "print(classification_report(preds, yy_test))"
   ]
  },
  {
   "cell_type": "markdown",
   "id": "5e1de132-1c66-4ff6-86e3-88f1c0c8141b",
   "metadata": {
    "jp-MarkdownHeadingCollapsed": true,
    "tags": []
   },
   "source": [
    "## Latent Semantic Analysis"
   ]
  },
  {
   "cell_type": "code",
   "execution_count": 5,
   "id": "0112069a-84dc-4177-a513-3bd5558acede",
   "metadata": {
    "tags": []
   },
   "outputs": [],
   "source": [
    "from sklearn.feature_extraction.text import ENGLISH_STOP_WORDS\n",
    "from string import punctuation"
   ]
  },
  {
   "cell_type": "code",
   "execution_count": 4,
   "id": "52feae13-2139-4712-8af8-a1557bde37c1",
   "metadata": {
    "tags": []
   },
   "outputs": [],
   "source": [
    "X_train = train_set.Text\n",
    "y_train = train_set.Spam\n",
    "xx_train, xx_test, yy_train, yy_test = train_test_split(X_train, y_train, test_size=0.2, random_state=2)"
   ]
  },
  {
   "cell_type": "code",
   "execution_count": 6,
   "id": "fe9c937c-6b34-48a4-953f-1cd09ff80aca",
   "metadata": {
    "tags": []
   },
   "outputs": [],
   "source": [
    "t1 = lambda arr: np.log2(1+arr)\n",
    "t2 = lambda arr: np.log2(1 + t1(arr))\n",
    "t3 = lambda arr, k: (k+1)*arr/(arr+k)"
   ]
  },
  {
   "cell_type": "code",
   "execution_count": null,
   "id": "12dc86f1-e451-4d55-add8-206fda3bcfdd",
   "metadata": {},
   "outputs": [],
   "source": []
  },
  {
   "cell_type": "code",
   "execution_count": 73,
   "id": "bc0514c0-e3ec-4fb8-8cf6-4561a46173da",
   "metadata": {
    "tags": []
   },
   "outputs": [],
   "source": [
    "def tf_idf_bag_of_words(\n",
    "        \n",
    "        document: str,\n",
    "        freq,\n",
    "        vocab,\n",
    "        t: Callable) -> Sequence:\n",
    "        \n",
    "        bow = np.zeros(len(vocab))\n",
    "        loc = dict(map(lambda pair: (pair[1], pair[0]), enumerate(vocab)))\n",
    "\n",
    "        for word in Model().filter_tokens(nltk.word_tokenize(document)):\n",
    "            if word in vocab:\n",
    "                bow[loc[word.lower()]]+=1\n",
    "\n",
    "        bow = t(bow)\n",
    "\n",
    "        for i, v in enumerate(bow):\n",
    "            if v!=0:\n",
    "                bow[i] = np.log((freq[i] + 1) / bow[i])\n",
    "        return bow"
   ]
  },
  {
   "cell_type": "code",
   "execution_count": 86,
   "id": "132240aa-a7ca-4b2e-9290-a08bf1ec17ef",
   "metadata": {
    "tags": []
   },
   "outputs": [],
   "source": [
    "def dot_dist(X1, X2):\n",
    "    return -(X1@X2)"
   ]
  },
  {
   "cell_type": "code",
   "execution_count": 87,
   "id": "6c97489a-7d99-4b87-9a44-4bf0d992a05a",
   "metadata": {
    "tags": []
   },
   "outputs": [],
   "source": [
    "class Model:\n",
    "    def __init__(self, \n",
    "                 estimator = KNeighborsClassifier(metric = dot_dist),\n",
    "                ):\n",
    "        self.estimator=estimator\n",
    "    \n",
    "    \n",
    "    def filter_tokens(self, list_of_tokens):\n",
    "        for token in list_of_tokens:\n",
    "            if token.lower() not in ENGLISH_STOP_WORDS and token not in punctuation:\n",
    "                yield token\n",
    "            \n",
    "            \n",
    "    def tf_idf_bag_of_words(\n",
    "        self,\n",
    "        document: str, \n",
    "        t: Callable) -> Sequence:\n",
    "        \n",
    "        bow = np.zeros(len(self.vocab))\n",
    "        loc = dict(map(lambda pair: (pair[1], pair[0]), enumerate(self.vocab)))\n",
    "\n",
    "        for word in self.filter_tokens(nltk.word_tokenize(document)):\n",
    "            if word in self.vocab:\n",
    "                bow[loc[word.lower()]]+=1\n",
    "\n",
    "        bow = t(bow)\n",
    "\n",
    "        for i, v in enumerate(bow):\n",
    "            if v!=0:\n",
    "                bow[i] = np.log((self.freq[i] + 1) / bow[i])\n",
    "        return bow\n",
    "    \n",
    "    \n",
    "    def get_vocabulary_and_frequency(self, all_docs)->set:\n",
    "        vocab = dict()\n",
    "        \n",
    "        for doc in all_docs:\n",
    "            current_words = dict()\n",
    "            \n",
    "            for word in self.filter_tokens(nltk.word_tokenize(doc)):\n",
    "                try:\n",
    "                    current_words[word.lower()]\n",
    "                except:\n",
    "                    vocab[ word.lower() ] = vocab.get(word.lower(),  0) + 1\n",
    "                    current_words[ word.lower() ] = 1\n",
    "                    \n",
    "        return vocab.keys(), vocab.values()\n",
    "    \n",
    "    \n",
    "    def fit(self, X, y):\n",
    "        self.vocab, self.freq = self.get_vocabulary_and_frequency(X)\n",
    "        self.vocab = list(self.vocab); self.freq = list(self.freq)\n",
    "        \n",
    "        print(\"Vocab Generated..\")\n",
    "        \n",
    "        X = np.array([ self.tf_idf_bag_of_words(x, t1) for x in X ])\n",
    "        \n",
    "        print(\"W computed..\")\n",
    "        \n",
    "        self.T, self.S, self.D = np.linalg.svd(X.T, full_matrices=False)\n",
    "        X = (self.D.T @ np.diag(self.S)).T\n",
    "        \n",
    "        print(\"Reduced W computed..\")\n",
    "        \n",
    "        self.X = X\n",
    "        self.y = y\n",
    "        \n",
    "        print(\"Fitting Model..\")\n",
    "        self.estimator.fit(X,y)\n",
    "        return self\n",
    "    \n",
    "    def predict(self, X):\n",
    "        X = np.array([ self.tf_idf_bag_of_words(x, t1) for x in X ])\n",
    "        X = X @ self.T\n",
    "        \n",
    "        return self.estimator.predict(X)"
   ]
  },
  {
   "cell_type": "code",
   "execution_count": 80,
   "id": "1f1ec9ca-7829-4def-b016-b28443643f41",
   "metadata": {
    "tags": []
   },
   "outputs": [
    {
     "name": "stdout",
     "output_type": "stream",
     "text": [
      "Vocab Generated..\n",
      "W computed..\n",
      "Reduced W computed..\n",
      "Fitting Model..\n"
     ]
    }
   ],
   "source": [
    "model = Model().fit(xx_train, yy_train)"
   ]
  },
  {
   "cell_type": "code",
   "execution_count": 81,
   "id": "09a395f1-dc25-4211-b843-2292406b1855",
   "metadata": {
    "tags": []
   },
   "outputs": [],
   "source": [
    "preds = model.predict(xx_test)"
   ]
  },
  {
   "cell_type": "code",
   "execution_count": 83,
   "id": "a1af0f76-6384-44b6-b17f-6576ea30542e",
   "metadata": {
    "tags": []
   },
   "outputs": [
    {
     "data": {
      "text/plain": [
       "<sklearn.metrics._plot.confusion_matrix.ConfusionMatrixDisplay at 0x24f290ff250>"
      ]
     },
     "execution_count": 83,
     "metadata": {},
     "output_type": "execute_result"
    },
    {
     "data": {
      "image/png": "[encoded data removed]",
      "text/plain": [
       "<Figure size 640x480 with 2 Axes>"
      ]
     },
     "metadata": {},
     "output_type": "display_data"
    }
   ],
   "source": [
    "ConfusionMatrixDisplay(\n",
    "    confusion_matrix(preds, yy_test)\n",
    ").plot()"
   ]
  },
  {
   "cell_type": "code",
   "execution_count": 84,
   "id": "d5c6801c-6f3b-478a-9e3a-07208580e57d",
   "metadata": {
    "tags": []
   },
   "outputs": [
    {
     "name": "stdout",
     "output_type": "stream",
     "text": [
      "              precision    recall  f1-score   support\n",
      "\n",
      "           0       0.86      0.79      0.82       774\n",
      "           1       0.22      0.31      0.26       143\n",
      "\n",
      "    accuracy                           0.72       917\n",
      "   macro avg       0.54      0.55      0.54       917\n",
      "weighted avg       0.76      0.72      0.74       917\n",
      "\n"
     ]
    }
   ],
   "source": [
    "print(classification_report(preds, yy_test))"
   ]
  },
  {
   "cell_type": "code",
   "execution_count": null,
   "id": "a6e4d74f-76ea-479e-ad33-968894067e6b",
   "metadata": {},
   "outputs": [],
   "source": []
  }
 ],
 "metadata": {
  "kernelspec": {
   "display_name": "Python 3 (ipykernel)",
   "language": "python",
   "name": "python3"
  },
  "language_info": {
   "codemirror_mode": {
    "name": "ipython",
    "version": 3
   },
   "file_extension": ".py",
   "mimetype": "text/x-python",
   "name": "python",
   "nbconvert_exporter": "python",
   "pygments_lexer": "ipython3",
   "version": "3.9.7"
  }
 },
 "nbformat": 4,
 "nbformat_minor": 5
}
