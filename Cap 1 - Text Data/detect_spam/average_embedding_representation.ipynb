{
 "cells": [
  {
   "cell_type": "code",
   "execution_count": 10,
   "id": "f6c0c64b-0944-4182-be7c-2eb1a92e6f56",
   "metadata": {
    "tags": []
   },
   "outputs": [],
   "source": [
    "import pandas as pd\n",
    "import string\n",
    "import nltk\n",
    "import numpy as np\n",
    "import tensorflow as tf\n",
    "import pickle \n",
    "\n",
    "from scipy.sparse import dok_matrix\n",
    "from scipy.spatial.distance import euclidean\n",
    "from tensorflow.keras import layers, models, losses\n",
    "\n",
    "from sklearn.model_selection import train_test_split\n",
    "from sklearn.svm import SVC\n",
    "from sklearn.metrics import classification_report, ConfusionMatrixDisplay, confusion_matrix"
   ]
  },
  {
   "cell_type": "code",
   "execution_count": 2,
   "id": "934fc6ba-6bc1-4edd-9866-8073d3d062ea",
   "metadata": {
    "tags": []
   },
   "outputs": [],
   "source": [
    "df = pd.read_csv(\"data/emails.csv\")\n",
    "X = df.Text\n",
    "y = df.Spam\n",
    "X_train, X_test, y_train, y_test = train_test_split(X, y, test_size=0.2, random_state=0)"
   ]
  },
  {
   "cell_type": "markdown",
   "id": "c714e117-39ef-4d75-9544-4474d3e8fa0d",
   "metadata": {},
   "source": [
    "## Preprocessing\n",
    "- Get the vocabulary of the training set\n",
    "- Create functions to convert integers to respective words and vice-versa"
   ]
  },
  {
   "cell_type": "code",
   "execution_count": 3,
   "id": "24e3ee3c-128e-44ed-b820-6721cb0e181c",
   "metadata": {
    "tags": []
   },
   "outputs": [],
   "source": [
    "def get_words(document: list[str]):\n",
    "    \"\"\"\n",
    "    Given a document, parses it's tokens, removing stopwords and punctuation;\n",
    "    \"\"\"\n",
    "    stopwords = set(map(str.lower, nltk.corpus.stopwords.words(\"english\")))\n",
    "    punctuation = set(string.punctuation)\n",
    "    for word in nltk.tokenize.word_tokenize(document):\n",
    "        word = word.lower()\n",
    "        if (word not in stopwords) and \\\n",
    "        (word not in punctuation):\n",
    "            yield word"
   ]
  },
  {
   "cell_type": "code",
   "execution_count": 4,
   "id": "aa3becb6-c838-4b36-9831-d9bab70a3158",
   "metadata": {
    "tags": []
   },
   "outputs": [],
   "source": [
    "def process_documents(docs):\n",
    "    all_words = {}\n",
    "    sentences = []\n",
    "    index = 0\n",
    "\n",
    "    for doc in docs:\n",
    "        for sentence in nltk.tokenize.sent_tokenize(doc):\n",
    "            current_sentence = []\n",
    "            for word in get_words(sentence):\n",
    "                if word not in all_words:\n",
    "                    all_words|= {word:index}\n",
    "                    index+=1\n",
    "                current_sentence.append(word)\n",
    "            sentences.append(current_sentence)\n",
    "    return all_words, sentences"
   ]
  },
  {
   "cell_type": "code",
   "execution_count": 53,
   "id": "92ae84ce-19ea-4e3f-8b5e-c1efbefd8555",
   "metadata": {
    "tags": []
   },
   "outputs": [],
   "source": [
    "all_words, emails = process_documents(X_train)"
   ]
  },
  {
   "cell_type": "code",
   "execution_count": 54,
   "id": "ed38e8f7-c2a9-41e0-bbc3-ec5b9344eb65",
   "metadata": {
    "tags": []
   },
   "outputs": [],
   "source": [
    "rev_words = {item[1]:item[0] for item in all_words.items()}"
   ]
  },
  {
   "cell_type": "code",
   "execution_count": 55,
   "id": "950de825-1b1e-4ac0-8723-dfc4d1e7cfed",
   "metadata": {
    "tags": []
   },
   "outputs": [],
   "source": [
    "M = len(all_words)"
   ]
  },
  {
   "cell_type": "code",
   "execution_count": 56,
   "id": "bfd711ed-01fe-4f30-89b2-688941d2fe5e",
   "metadata": {
    "tags": []
   },
   "outputs": [
    {
     "data": {
      "text/plain": [
       "33660"
      ]
     },
     "execution_count": 56,
     "metadata": {},
     "output_type": "execute_result"
    }
   ],
   "source": [
    "M"
   ]
  },
  {
   "cell_type": "code",
   "execution_count": 57,
   "id": "9bb6445d-c44b-4e4c-923a-0420b34284b4",
   "metadata": {
    "tags": []
   },
   "outputs": [],
   "source": [
    "def word2int(word):\n",
    "    return all_words[word]\n",
    "\n",
    "def int2word(idx):\n",
    "    return rev_words[idx]"
   ]
  },
  {
   "cell_type": "markdown",
   "id": "964bc273-19f4-43e8-ba64-62c0d5261d55",
   "metadata": {
    "jp-MarkdownHeadingCollapsed": true,
    "tags": []
   },
   "source": [
    "## GloVe Embedding\n",
    "- We will try to detect for ham or spam using GloVe representation\n",
    "\n",
    "First we need to create the word representations"
   ]
  },
  {
   "cell_type": "code",
   "execution_count": 28,
   "id": "5f5a97df-bb38-4d56-910d-efd35cd4cef4",
   "metadata": {
    "tags": []
   },
   "outputs": [],
   "source": [
    "def count_word_coocurrence(docs, vocab, wsize=10):\n",
    "    term_term_dict = {}\n",
    "    for doc in docs:\n",
    "        N = len(doc)\n",
    "        \n",
    "        for i in range(wsize, N - wsize):\n",
    "            current_word = word2int(doc[i])\n",
    "            \n",
    "            for j in range(1,wsize + 1):\n",
    "                prev_word = word2int(doc[i - j])\n",
    "                future_word = word2int(doc[i + j])\n",
    "                \n",
    "                term_term_dict[ (prev_word, current_word) ] = term_term_dict.get(\n",
    "                    (prev_word, current_word),\n",
    "                    0\n",
    "                ) + 1\n",
    "                term_term_dict[ (future_word, current_word) ] = term_term_dict.get(\n",
    "                    (future_word, current_word),\n",
    "                    0\n",
    "                ) + 1\n",
    "                \n",
    "    M = len(vocab)\n",
    "    term_term_sparse = dok_matrix((M,M))\n",
    "    for idx, value in term_term_dict.items():\n",
    "        i, j = idx\n",
    "        term_term_sparse[i, j] = value\n",
    "        \n",
    "    return term_term_sparse"
   ]
  },
  {
   "cell_type": "code",
   "execution_count": 31,
   "id": "a8fa91df-9585-4735-8833-de942fae3fcf",
   "metadata": {
    "tags": []
   },
   "outputs": [],
   "source": [
    "word_cooc_matrix = count_word_coocurrence(emails, all_words, wsize=5)"
   ]
  },
  {
   "cell_type": "code",
   "execution_count": 35,
   "id": "bcf2c830-8b9d-4742-b700-61f25c70ad14",
   "metadata": {
    "tags": []
   },
   "outputs": [],
   "source": [
    "def get_training_sets(cooc: dok_matrix):\n",
    "    X = np.array(\n",
    "        list(\n",
    "            cooc.keys()\n",
    "        )\n",
    "    )\n",
    "    y = np.array(\n",
    "        list(\n",
    "            cooc.values()\n",
    "        )\n",
    "    )\n",
    "    \n",
    "    return X, y"
   ]
  },
  {
   "cell_type": "code",
   "execution_count": 36,
   "id": "aac990ae-c983-4959-afd8-9dd393b1dfb4",
   "metadata": {
    "tags": []
   },
   "outputs": [],
   "source": [
    "X, y = get_training_sets(word_cooc_matrix)"
   ]
  },
  {
   "cell_type": "code",
   "execution_count": 37,
   "id": "46025cf3-953c-40a4-a7d6-57f6e36490e1",
   "metadata": {
    "tags": []
   },
   "outputs": [
    {
     "data": {
      "text/plain": [
       "(906640, 2)"
      ]
     },
     "execution_count": 37,
     "metadata": {},
     "output_type": "execute_result"
    }
   ],
   "source": [
    "X.shape"
   ]
  },
  {
   "cell_type": "code",
   "execution_count": 38,
   "id": "fd714f4f-95da-4022-a271-09503381a509",
   "metadata": {
    "tags": []
   },
   "outputs": [],
   "source": [
    "#small embedding dim since the dataset is small\n",
    "EMB_SIZE=50"
   ]
  },
  {
   "cell_type": "code",
   "execution_count": 42,
   "id": "1016ef7b-51c7-4d5c-915a-8db50dec7e2e",
   "metadata": {
    "tags": []
   },
   "outputs": [],
   "source": [
    "target = layers.Input(shape=1, name=\"context_input\")\n",
    "context = layers.Input(shape=1, name=\"target_input\")\n",
    "\n",
    "embed_layer = layers.Embedding(\n",
    "    input_dim=word_cooc_matrix.shape[0], \n",
    "    output_dim=EMB_SIZE, \n",
    "    name=\"embed\"\n",
    ")\n",
    "\n",
    "embed_target = embed_layer(target)\n",
    "embed_context = embed_layer(context)\n",
    "\n",
    "dot = layers.Dot(axes=2)( [ embed_target, embed_context ] )\n",
    "flat = layers.Flatten()(dot)\n",
    "\n",
    "model = models.Model(inputs=[ target, context ], outputs=flat)"
   ]
  },
  {
   "cell_type": "code",
   "execution_count": 16,
   "id": "a36a77c9-6d27-493d-aade-e5c8cd36cb74",
   "metadata": {
    "tags": []
   },
   "outputs": [],
   "source": [
    "@tf.function\n",
    "def loss(y_test, preds):\n",
    "    x_max = 100\n",
    "    α = 0.75\n",
    "    \n",
    "    G = tf.where(y_test < x_max, (y_test/x_max)**α, 1)\n",
    "    temp = tf.math.log(y_test)\n",
    "    \n",
    "    return tf.reduce_sum(\n",
    "      G *(preds - temp)**2  \n",
    "    )"
   ]
  },
  {
   "cell_type": "code",
   "execution_count": 44,
   "id": "5cf37280-68d3-4815-a9e0-e1bcd95f1ba2",
   "metadata": {
    "tags": []
   },
   "outputs": [],
   "source": [
    "model.compile(optimizer=\"adam\", loss=loss)"
   ]
  },
  {
   "cell_type": "code",
   "execution_count": 68,
   "id": "6365ca2d-9fee-4cba-9d9e-0479a0573b2e",
   "metadata": {
    "tags": []
   },
   "outputs": [
    {
     "name": "stdout",
     "output_type": "stream",
     "text": [
      "7084/7084 [==============================] - 45s 6ms/step - loss: 1.1496\n"
     ]
    },
    {
     "data": {
      "text/plain": [
       "<keras.callbacks.History at 0x12d61940640>"
      ]
     },
     "execution_count": 68,
     "metadata": {},
     "output_type": "execute_result"
    }
   ],
   "source": [
    "model.fit([ X[:,0], X[:,1] ], y, epochs=1, batch_size=128)"
   ]
  },
  {
   "cell_type": "code",
   "execution_count": 69,
   "id": "cebc41aa-cc09-4059-91f8-89162dae91ed",
   "metadata": {
    "tags": []
   },
   "outputs": [],
   "source": [
    "embed_vectors = model.get_weights()[0]"
   ]
  },
  {
   "cell_type": "code",
   "execution_count": 79,
   "id": "29efd60e-f6d6-448a-8f95-c220b74c7e95",
   "metadata": {
    "tags": []
   },
   "outputs": [],
   "source": [
    "np.save(\"./data/glove_vectors.npy\", embed_vectors)"
   ]
  },
  {
   "cell_type": "markdown",
   "id": "3b094709-3758-4612-87c5-b3ab5bdddb2b",
   "metadata": {
    "jp-MarkdownHeadingCollapsed": true,
    "tags": []
   },
   "source": [
    "## Continuous Bag of Words Embedding"
   ]
  },
  {
   "cell_type": "code",
   "execution_count": 95,
   "id": "373c3ecd-c81f-45bd-8db0-09a70bea38bb",
   "metadata": {
    "tags": []
   },
   "outputs": [],
   "source": [
    "def get_dataset(docs, wsize=2):\n",
    "    dataset = {}\n",
    "    \n",
    "    for doc in docs:\n",
    "        N = len(doc)\n",
    "        \n",
    "        for i in range(wsize, N - wsize):\n",
    "            current_word = word2int(doc[i])\n",
    "            context_set = tuple()\n",
    "            for j in range(1,wsize + 1):\n",
    "                prev_word = word2int(doc[i - j])\n",
    "                future_word = word2int(doc[i + j])\n",
    "                \n",
    "                context_set = context_set + (prev_word, future_word)\n",
    "            context_set = tuple(sorted(context_set))\n",
    "            \n",
    "            dataset[context_set] = dataset.get(context_set, set()) | {current_word}\n",
    "    return dataset"
   ]
  },
  {
   "cell_type": "code",
   "execution_count": 96,
   "id": "0f1ef0a6-d054-4c70-b4bf-e0b9be63547d",
   "metadata": {
    "tags": []
   },
   "outputs": [],
   "source": [
    "def unwind(dataset: dict):\n",
    "    X = []\n",
    "    y = []\n",
    "    \n",
    "    for item in dataset.items():\n",
    "        xsample, ysamples = item\n",
    "        for y_value in ysamples:\n",
    "            X.append(xsample)\n",
    "            y.append(y_value)\n",
    "    return np.array(X), np.array(y).reshape(-1,1)"
   ]
  },
  {
   "cell_type": "code",
   "execution_count": 97,
   "id": "1b6f9702-c813-49a5-b745-95996bd3f049",
   "metadata": {
    "tags": []
   },
   "outputs": [],
   "source": [
    "wsize=4"
   ]
  },
  {
   "cell_type": "code",
   "execution_count": 99,
   "id": "e0894693-ca4c-4fef-a25c-c9bb75861730",
   "metadata": {
    "tags": []
   },
   "outputs": [],
   "source": [
    "ds = get_dataset(emails, wsize)"
   ]
  },
  {
   "cell_type": "code",
   "execution_count": 100,
   "id": "4600dcf6-0a08-4f57-9560-d6af5fcaba43",
   "metadata": {
    "tags": []
   },
   "outputs": [],
   "source": [
    "contexts, targets = unwind(ds)"
   ]
  },
  {
   "cell_type": "code",
   "execution_count": 101,
   "id": "ec17868e-5f82-41a4-83b8-71cdfb36afa1",
   "metadata": {
    "tags": []
   },
   "outputs": [],
   "source": [
    "EMB_SIZE=50"
   ]
  },
  {
   "cell_type": "code",
   "execution_count": 103,
   "id": "138333aa-1130-4a94-a796-a387bacea9c1",
   "metadata": {
    "tags": []
   },
   "outputs": [],
   "source": [
    "model = models.Sequential([\n",
    "    layers.Embedding(\n",
    "        input_dim=M, \n",
    "        output_dim=EMB_SIZE, \n",
    "        input_length=wsize*2,\n",
    "        name=\"embeding_layer\"),\n",
    "    layers.Lambda(lambda x: tf.keras.backend.mean(x, axis=1), output_shape=EMB_SIZE, name=\"mean_layer\"),\n",
    "    layers.Dense(units=M, activation=\"softmax\", name=\"activation_layer\")\n",
    "])\n",
    "    "
   ]
  },
  {
   "cell_type": "code",
   "execution_count": 107,
   "id": "26507d09-09dc-49a3-902c-b7039a973ccf",
   "metadata": {
    "tags": []
   },
   "outputs": [],
   "source": [
    "model.compile(\"adam\", loss=\"sparse_categorical_crossentropy\")"
   ]
  },
  {
   "cell_type": "code",
   "execution_count": 131,
   "id": "efeb5a37-a540-4cd5-83ad-204eeb0f4420",
   "metadata": {
    "tags": []
   },
   "outputs": [
    {
     "name": "stdout",
     "output_type": "stream",
     "text": [
      "Epoch 1/5\n",
      "3188/3188 [==============================] - 35s 11ms/step - loss: 5.4432\n",
      "Epoch 2/5\n",
      "3188/3188 [==============================] - 34s 11ms/step - loss: 5.2723\n",
      "Epoch 3/5\n",
      "3188/3188 [==============================] - 34s 11ms/step - loss: 5.1111\n",
      "Epoch 4/5\n",
      "3188/3188 [==============================] - 34s 11ms/step - loss: 4.9599\n",
      "Epoch 5/5\n",
      "3188/3188 [==============================] - 34s 11ms/step - loss: 4.8178\n"
     ]
    },
    {
     "data": {
      "text/plain": [
       "<keras.callbacks.History at 0x12e2b08c5e0>"
      ]
     },
     "execution_count": 131,
     "metadata": {},
     "output_type": "execute_result"
    }
   ],
   "source": [
    "model.fit(x=contexts, y=targets, batch_size=64, epochs=5)"
   ]
  },
  {
   "cell_type": "code",
   "execution_count": 132,
   "id": "42920b02-154b-47b6-b35b-02413a8a235b",
   "metadata": {
    "tags": []
   },
   "outputs": [],
   "source": [
    "embed_vectors = model.get_weights()[0]"
   ]
  },
  {
   "cell_type": "code",
   "execution_count": 151,
   "id": "b718aed8-9c71-4134-9861-db3bce997d8f",
   "metadata": {
    "tags": []
   },
   "outputs": [],
   "source": [
    "np.save(\"./data/cbow_vectors.npy\", embed_vectors)"
   ]
  },
  {
   "cell_type": "markdown",
   "id": "f40a4436-617c-4522-a22f-17ad8d50a229",
   "metadata": {},
   "source": [
    "## Document Representation\n",
    "- Each document will be reduced to a vector, which will be the mean of the words that appear in the document"
   ]
  },
  {
   "cell_type": "code",
   "execution_count": 24,
   "id": "0bb3a8cd-ebf6-4cd6-b17e-49e9791e6a6e",
   "metadata": {
    "tags": []
   },
   "outputs": [],
   "source": [
    "EMB_SIZE=50"
   ]
  },
  {
   "cell_type": "code",
   "execution_count": 21,
   "id": "1e271d68-4bd1-4e2e-b7da-247a0a72c044",
   "metadata": {
    "tags": []
   },
   "outputs": [],
   "source": [
    "def get_existing_words(document, vocab):\n",
    "    \"\"\"\n",
    "    Given a document, parses it's tokens, removing stopwords and punctuation;\n",
    "    It also filters words that are not in the vocabulary\n",
    "    \"\"\"\n",
    "    stopwords = set(map(str.lower, nltk.corpus.stopwords.words(\"english\")))\n",
    "    punctuation = set(string.punctuation)\n",
    "    for word in nltk.tokenize.word_tokenize(document):\n",
    "        word = word.lower()\n",
    "        if (word not in stopwords) and \\\n",
    "        (word not in punctuation) and \\\n",
    "        (word in vocab):\n",
    "            yield word"
   ]
  },
  {
   "cell_type": "code",
   "execution_count": 22,
   "id": "d359972c-5677-48f5-8663-b7ebeb9b707e",
   "metadata": {
    "tags": []
   },
   "outputs": [],
   "source": [
    "def get_doc_representation(corpus, emb_size, emb_vectors, vocab):\n",
    "    vectors = []\n",
    "    for doc in corpus:\n",
    "        vec = np.zeros(emb_size)\n",
    "        wcount=0\n",
    "        for sentence in nltk.tokenize.sent_tokenize(doc):\n",
    "            for word in get_existing_words(sentence, vocab):\n",
    "                vec += emb_vectors[ word2int(word) ]\n",
    "                wcount+=1\n",
    "        \n",
    "        vectors.append(vec/wcount)\n",
    "    return vectors"
   ]
  },
  {
   "cell_type": "code",
   "execution_count": 65,
   "id": "aa048e06-3248-48ed-9b6a-855b952e4e1e",
   "metadata": {
    "tags": []
   },
   "outputs": [],
   "source": [
    "train_vectors = np.array(\n",
    "    get_doc_representation(X_train, EMB_SIZE, embed_vectors, all_words)\n",
    ")"
   ]
  },
  {
   "cell_type": "code",
   "execution_count": 66,
   "id": "19a3a0a2-fc4b-450a-add5-012d2f9a17ef",
   "metadata": {
    "tags": []
   },
   "outputs": [],
   "source": [
    "test_vectors = np.array(\n",
    "    get_doc_representation(X_test, EMB_SIZE, embed_vectors, all_words)\n",
    ")"
   ]
  },
  {
   "cell_type": "markdown",
   "id": "c6037bd9-8969-47ab-9c80-33c7d0556f13",
   "metadata": {
    "tags": []
   },
   "source": [
    "## Training/Testing the model\n",
    "\n",
    "- we will use SVM as they are very robust"
   ]
  },
  {
   "cell_type": "code",
   "execution_count": null,
   "id": "abce9e32-7999-4ab8-8da3-ba1c717cd4ef",
   "metadata": {},
   "outputs": [],
   "source": [
    "embed_vectors=np.load(\"./data/glove_vectors.npy\")"
   ]
  },
  {
   "cell_type": "code",
   "execution_count": 67,
   "id": "4fb362e9-7979-417a-aa6e-a3333189563b",
   "metadata": {
    "tags": []
   },
   "outputs": [],
   "source": [
    "model = SVC().fit(train_vectors, y_train)"
   ]
  },
  {
   "cell_type": "code",
   "execution_count": 68,
   "id": "cad74f82-0ea3-4516-927f-6d3117317954",
   "metadata": {
    "tags": []
   },
   "outputs": [],
   "source": [
    "preds = model.predict(test_vectors)"
   ]
  },
  {
   "cell_type": "markdown",
   "id": "77570329-660a-4368-b306-ed4a2c8235b8",
   "metadata": {},
   "source": [
    "- GloVe Embedding"
   ]
  },
  {
   "cell_type": "code",
   "execution_count": 62,
   "id": "64feea98-8ce5-4f1d-88fa-058a2868bb3a",
   "metadata": {
    "tags": []
   },
   "outputs": [
    {
     "name": "stdout",
     "output_type": "stream",
     "text": [
      "              precision    recall  f1-score   support\n",
      "\n",
      "           0       0.97      0.98      0.98       885\n",
      "           1       0.93      0.90      0.92       261\n",
      "\n",
      "    accuracy                           0.96      1146\n",
      "   macro avg       0.95      0.94      0.95      1146\n",
      "weighted avg       0.96      0.96      0.96      1146\n",
      "\n"
     ]
    }
   ],
   "source": [
    "print(classification_report(y_test,preds))"
   ]
  },
  {
   "cell_type": "code",
   "execution_count": 63,
   "id": "bc8cac29-4238-4e5b-975f-5c1958f29975",
   "metadata": {
    "tags": []
   },
   "outputs": [
    {
     "data": {
      "text/plain": [
       "<sklearn.metrics._plot.confusion_matrix.ConfusionMatrixDisplay at 0x2479d705b80>"
      ]
     },
     "execution_count": 63,
     "metadata": {},
     "output_type": "execute_result"
    },
    {
     "data": {
      "image/png": "[encoded data removed]",
      "text/plain": [
       "<Figure size 640x480 with 2 Axes>"
      ]
     },
     "metadata": {},
     "output_type": "display_data"
    }
   ],
   "source": [
    "ConfusionMatrixDisplay(\n",
    "    confusion_matrix(y_test,preds), display_labels=[\"Ham\", \"Spam\"]\n",
    ").plot()"
   ]
  },
  {
   "cell_type": "markdown",
   "id": "e3788ca1-e837-4e5f-941e-417c57deffaa",
   "metadata": {},
   "source": [
    "- CBOW Embedding"
   ]
  },
  {
   "cell_type": "code",
   "execution_count": 64,
   "id": "05ce451a-9560-498d-a5f4-7dc63016efcf",
   "metadata": {
    "tags": []
   },
   "outputs": [],
   "source": [
    "embed_vectors = np.load(\"./data/cbow_vectors.npy\")"
   ]
  },
  {
   "cell_type": "code",
   "execution_count": 69,
   "id": "a6157a47-0afd-4df6-b7c2-bc0378a9fc48",
   "metadata": {
    "tags": []
   },
   "outputs": [
    {
     "name": "stdout",
     "output_type": "stream",
     "text": [
      "              precision    recall  f1-score   support\n",
      "\n",
      "           0       0.98      0.99      0.98       885\n",
      "           1       0.95      0.93      0.94       261\n",
      "\n",
      "    accuracy                           0.97      1146\n",
      "   macro avg       0.97      0.96      0.96      1146\n",
      "weighted avg       0.97      0.97      0.97      1146\n",
      "\n"
     ]
    }
   ],
   "source": [
    "print(classification_report(y_test,preds))"
   ]
  },
  {
   "cell_type": "code",
   "execution_count": 70,
   "id": "aed18587-5151-41ec-8b6a-5f49c9982a1f",
   "metadata": {
    "tags": []
   },
   "outputs": [
    {
     "data": {
      "text/plain": [
       "<sklearn.metrics._plot.confusion_matrix.ConfusionMatrixDisplay at 0x2479d71ac10>"
      ]
     },
     "execution_count": 70,
     "metadata": {},
     "output_type": "execute_result"
    },
    {
     "data": {
      "image/png": "[encoded data removed]",
      "text/plain": [
       "<Figure size 640x480 with 2 Axes>"
      ]
     },
     "metadata": {},
     "output_type": "display_data"
    }
   ],
   "source": [
    "ConfusionMatrixDisplay(\n",
    "    confusion_matrix(y_test,preds), display_labels=[\"Ham\", \"Spam\"]\n",
    ").plot()"
   ]
  }
 ],
 "metadata": {
  "kernelspec": {
   "display_name": "Python 3 (ipykernel)",
   "language": "python",
   "name": "python3"
  },
  "language_info": {
   "codemirror_mode": {
    "name": "ipython",
    "version": 3
   },
   "file_extension": ".py",
   "mimetype": "text/x-python",
   "name": "python",
   "nbconvert_exporter": "python",
   "pygments_lexer": "ipython3",
   "version": "3.9.7"
  }
 },
 "nbformat": 4,
 "nbformat_minor": 5
}
