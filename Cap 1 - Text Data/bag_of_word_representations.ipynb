{
 "cells": [
  {
   "cell_type": "code",
   "execution_count": 1,
   "id": "73fda414-a487-4de9-b80d-04b65e75b240",
   "metadata": {},
   "outputs": [],
   "source": [
    "import pandas as pd\n",
    "import numpy as np\n",
    "import matplotlib.pyplot as plt\n",
    "import seaborn as sns\n",
    "\n",
    "import string\n",
    "import nltk\n",
    "\n",
    "from scipy.sparse import csr_matrix, csc_matrix\n",
    "from scipy.linalg import svd\n",
    "from scipy.spatial.distance import minkowski, cosine\n",
    "from IPython.display import display\n",
    "from typing import Sequence, Callable\n",
    "from functools import reduce"
   ]
  },
  {
   "cell_type": "code",
   "execution_count": 2,
   "id": "a8d3a943-5fb4-4f7c-ac5f-43a729469ece",
   "metadata": {},
   "outputs": [],
   "source": [
    "df = pd.read_csv(\"data/arxiv_data.csv\", nrows=500)"
   ]
  },
  {
   "cell_type": "code",
   "execution_count": 3,
   "id": "59927040-faec-4f4c-bd5e-f8437a657551",
   "metadata": {},
   "outputs": [
    {
     "data": {
      "text/html": [
       "<div>\n",
       "<style scoped>\n",
       "    .dataframe tbody tr th:only-of-type {\n",
       "        vertical-align: middle;\n",
       "    }\n",
       "\n",
       "    .dataframe tbody tr th {\n",
       "        vertical-align: top;\n",
       "    }\n",
       "\n",
       "    .dataframe thead th {\n",
       "        text-align: right;\n",
       "    }\n",
       "</style>\n",
       "<table border=\"1\" class=\"dataframe\">\n",
       "  <thead>\n",
       "    <tr style=\"text-align: right;\">\n",
       "      <th></th>\n",
       "      <th>titles</th>\n",
       "      <th>summaries</th>\n",
       "      <th>terms</th>\n",
       "    </tr>\n",
       "  </thead>\n",
       "  <tbody>\n",
       "    <tr>\n",
       "      <th>0</th>\n",
       "      <td>Survey on Semantic Stereo Matching / Semantic ...</td>\n",
       "      <td>Stereo matching is one of the widely used tech...</td>\n",
       "      <td>['cs.CV', 'cs.LG']</td>\n",
       "    </tr>\n",
       "    <tr>\n",
       "      <th>1</th>\n",
       "      <td>FUTURE-AI: Guiding Principles and Consensus Re...</td>\n",
       "      <td>The recent advancements in artificial intellig...</td>\n",
       "      <td>['cs.CV', 'cs.AI', 'cs.LG']</td>\n",
       "    </tr>\n",
       "    <tr>\n",
       "      <th>2</th>\n",
       "      <td>Enforcing Mutual Consistency of Hard Regions f...</td>\n",
       "      <td>In this paper, we proposed a novel mutual cons...</td>\n",
       "      <td>['cs.CV', 'cs.AI']</td>\n",
       "    </tr>\n",
       "    <tr>\n",
       "      <th>3</th>\n",
       "      <td>Parameter Decoupling Strategy for Semi-supervi...</td>\n",
       "      <td>Consistency training has proven to be an advan...</td>\n",
       "      <td>['cs.CV']</td>\n",
       "    </tr>\n",
       "    <tr>\n",
       "      <th>4</th>\n",
       "      <td>Background-Foreground Segmentation for Interio...</td>\n",
       "      <td>To ensure safety in automated driving, the cor...</td>\n",
       "      <td>['cs.CV', 'cs.LG']</td>\n",
       "    </tr>\n",
       "  </tbody>\n",
       "</table>\n",
       "</div>"
      ],
      "text/plain": [
       "                                              titles  \\\n",
       "0  Survey on Semantic Stereo Matching / Semantic ...   \n",
       "1  FUTURE-AI: Guiding Principles and Consensus Re...   \n",
       "2  Enforcing Mutual Consistency of Hard Regions f...   \n",
       "3  Parameter Decoupling Strategy for Semi-supervi...   \n",
       "4  Background-Foreground Segmentation for Interio...   \n",
       "\n",
       "                                           summaries  \\\n",
       "0  Stereo matching is one of the widely used tech...   \n",
       "1  The recent advancements in artificial intellig...   \n",
       "2  In this paper, we proposed a novel mutual cons...   \n",
       "3  Consistency training has proven to be an advan...   \n",
       "4  To ensure safety in automated driving, the cor...   \n",
       "\n",
       "                         terms  \n",
       "0           ['cs.CV', 'cs.LG']  \n",
       "1  ['cs.CV', 'cs.AI', 'cs.LG']  \n",
       "2           ['cs.CV', 'cs.AI']  \n",
       "3                    ['cs.CV']  \n",
       "4           ['cs.CV', 'cs.LG']  "
      ]
     },
     "execution_count": 3,
     "metadata": {},
     "output_type": "execute_result"
    }
   ],
   "source": [
    "df.head()"
   ]
  },
  {
   "cell_type": "code",
   "execution_count": 4,
   "id": "ca471685-eb5f-42f7-a242-24fd5bde5f82",
   "metadata": {},
   "outputs": [],
   "source": [
    "def get_stats(i: int):\n",
    "    not_i = exclude(i)\n",
    "    \n",
    "    most_sim = mat[i,not_i].argmin()\n",
    "    most_sim = not_i[most_sim]\n",
    "    \n",
    "    print(f\"Min. Dist. Index = {most_sim}\")\n",
    "    print(f\"Min. Dist. = {mat[i, most_sim]}\\n\")\n",
    "    print(get(i))\n",
    "    print()\n",
    "    print(get(most_sim))"
   ]
  },
  {
   "cell_type": "code",
   "execution_count": 5,
   "id": "4cfc25f4-64ef-44a2-a25d-ea0da135a858",
   "metadata": {},
   "outputs": [],
   "source": [
    "def get(index):\n",
    "    return df.loc[index, \"summaries\"]"
   ]
  },
  {
   "cell_type": "code",
   "execution_count": 258,
   "id": "f7bcdae7-b3bb-4583-9fa3-8b03778fea60",
   "metadata": {},
   "outputs": [],
   "source": [
    "def get_rank(i: int, top=10):\n",
    "    not_i = exclude(i)\n",
    "    \n",
    "    candidates = mat[i,not_i].argsort()[:top]\n",
    "    candidates = not_i[candidates]\n",
    "    \n",
    "    cand_scores = list(map(lambda x: float(f\"{x:.4f}\"), mat[i, candidates]))\n",
    "\n",
    "    print(f\"\"\"Top Candidates: {candidates}\n",
    "Their Scores: {cand_scores}\"\"\")\n",
    "    \n",
    "    return candidates"
   ]
  },
  {
   "cell_type": "code",
   "execution_count": 7,
   "id": "9c9d6f4e-1b7c-425c-b7ac-bb5dc8aa1fca",
   "metadata": {},
   "outputs": [],
   "source": [
    "exclude = lambda i: pd.Index(data = range(mat.shape[0])).difference([i])"
   ]
  },
  {
   "cell_type": "markdown",
   "id": "63f624fd-3608-4d68-a2fb-45728f03a8b9",
   "metadata": {
    "tags": []
   },
   "source": [
    "# Bag of Words"
   ]
  },
  {
   "cell_type": "code",
   "execution_count": 78,
   "id": "be64b8d6-8afb-419d-99c2-220f7932c456",
   "metadata": {},
   "outputs": [],
   "source": [
    "def get(index):\n",
    "    return df.loc[index, \"summaries\"]"
   ]
  },
  {
   "cell_type": "code",
   "execution_count": 5,
   "id": "b65d3c9b-282d-412d-892e-8dd41e400eff",
   "metadata": {},
   "outputs": [],
   "source": [
    "def get_vocabulary(all_docs)->set:\n",
    "    vocab = set()\n",
    "    for doc in all_docs:\n",
    "        for word in nltk.word_tokenize(doc):\n",
    "            vocab|={word.lower()}\n",
    "    return vocab"
   ]
  },
  {
   "cell_type": "code",
   "execution_count": 6,
   "id": "7b87491f-f15c-47fd-bb55-64432d8c7126",
   "metadata": {},
   "outputs": [
    {
     "data": {
      "text/plain": [
       "7684"
      ]
     },
     "execution_count": 6,
     "metadata": {},
     "output_type": "execute_result"
    }
   ],
   "source": [
    "vocab = list(get_vocabulary(df[\"summaries\"]))\n",
    "len(vocab)"
   ]
  },
  {
   "cell_type": "code",
   "execution_count": 74,
   "id": "e7141006-7e14-41d8-8a64-c231daac7739",
   "metadata": {},
   "outputs": [],
   "source": [
    "exclude = lambda i: pd.Index(data = range(mat.shape[0])).difference([i])"
   ]
  },
  {
   "cell_type": "code",
   "execution_count": 75,
   "id": "69f22134-26cf-4c9f-84a8-d11610b5493a",
   "metadata": {},
   "outputs": [],
   "source": [
    "def get_stats(i: int):\n",
    "    not_i = exclude(i)\n",
    "    \n",
    "    most_sim = mat[i,not_i].argmin()\n",
    "    most_sim = not_i[most_sim]\n",
    "    \n",
    "    print(f\"Min. Dist. Index = {most_sim}\")\n",
    "    print(f\"Min. Dist. = {mat[i, most_sim]}\\n\")\n",
    "    print(get(i))\n",
    "    print()\n",
    "    print(get(most_sim))"
   ]
  },
  {
   "cell_type": "code",
   "execution_count": 76,
   "id": "6e042b35-8b00-42f0-83d2-a8328ab46c1f",
   "metadata": {},
   "outputs": [],
   "source": [
    "def get_rank(i: int, top=10):\n",
    "    not_i = exclude(i)\n",
    "    \n",
    "    candidates = mat[i,not_i].argsort()[1:top+1]\n",
    "    candidates = not_i[candidates]\n",
    "    \n",
    "    cand_scores = list(map(lambda x: float(f\"{x:.4f}\"), mat[i, candidates]))\n",
    "\n",
    "    print(f\"\"\"Top Candidates: {candidates}\n",
    "Their Scores: {cand_scores}\"\"\")\n",
    "    \n",
    "    return candidates"
   ]
  },
  {
   "cell_type": "markdown",
   "id": "50052f81-9aa6-42f0-b032-2f7e136e93c1",
   "metadata": {
    "jp-MarkdownHeadingCollapsed": true,
    "tags": []
   },
   "source": [
    "## Term Existence"
   ]
  },
  {
   "cell_type": "code",
   "execution_count": 70,
   "id": "d8249217-486d-4d51-bb5a-47104bb2445b",
   "metadata": {},
   "outputs": [],
   "source": [
    "def bag_of_words(document: str, vocab: list):\n",
    "    bow = np.zeros(len(vocab))\n",
    "    loc = dict(map(lambda pair: (pair[1], pair[0]), enumerate(vocab)))\n",
    "    \n",
    "    for word in nltk.word_tokenize(document):\n",
    "        bow[loc[word.lower()]]=1\n",
    "        \n",
    "    return bow"
   ]
  },
  {
   "cell_type": "code",
   "execution_count": 71,
   "id": "3b295cc9-ecd6-4798-a86d-a76b354fd72a",
   "metadata": {},
   "outputs": [],
   "source": [
    "def get_similarity_mat(N, dist):\n",
    "    bows = [ bag_of_words(get(i), vocab) for i in range(N) ]\n",
    "    \n",
    "    sim_mat = np.zeros((N,N))\n",
    "    for i in range(N):\n",
    "        for j in range(i, N):\n",
    "            sim_mat[i,j] = dist(bows[i], bows[j])\n",
    "            sim_mat[j,i] = sim_mat[i,j]\n",
    "    display(pd.DataFrame(data = sim_mat, columns=range(N), index=range(N)).loc[0:5, 0:5])\n",
    "    return sim_mat"
   ]
  },
  {
   "cell_type": "markdown",
   "id": "f8d676be-334d-4b07-8eb1-4e20eb95c118",
   "metadata": {
    "tags": []
   },
   "source": [
    "### Euclidean Distance"
   ]
  },
  {
   "cell_type": "code",
   "execution_count": 96,
   "id": "bff8092e-f85e-4ca2-8360-f5ebe2295497",
   "metadata": {},
   "outputs": [
    {
     "data": {
      "text/html": [
       "<div>\n",
       "<style scoped>\n",
       "    .dataframe tbody tr th:only-of-type {\n",
       "        vertical-align: middle;\n",
       "    }\n",
       "\n",
       "    .dataframe tbody tr th {\n",
       "        vertical-align: top;\n",
       "    }\n",
       "\n",
       "    .dataframe thead th {\n",
       "        text-align: right;\n",
       "    }\n",
       "</style>\n",
       "<table border=\"1\" class=\"dataframe\">\n",
       "  <thead>\n",
       "    <tr style=\"text-align: right;\">\n",
       "      <th></th>\n",
       "      <th>0</th>\n",
       "      <th>1</th>\n",
       "      <th>2</th>\n",
       "      <th>3</th>\n",
       "      <th>4</th>\n",
       "      <th>5</th>\n",
       "    </tr>\n",
       "  </thead>\n",
       "  <tbody>\n",
       "    <tr>\n",
       "      <th>0</th>\n",
       "      <td>0.000000</td>\n",
       "      <td>13.266499</td>\n",
       "      <td>13.304135</td>\n",
       "      <td>13.000000</td>\n",
       "      <td>13.638182</td>\n",
       "      <td>11.958261</td>\n",
       "    </tr>\n",
       "    <tr>\n",
       "      <th>1</th>\n",
       "      <td>13.266499</td>\n",
       "      <td>0.000000</td>\n",
       "      <td>15.132746</td>\n",
       "      <td>14.730920</td>\n",
       "      <td>15.556349</td>\n",
       "      <td>14.177447</td>\n",
       "    </tr>\n",
       "    <tr>\n",
       "      <th>2</th>\n",
       "      <td>13.304135</td>\n",
       "      <td>15.132746</td>\n",
       "      <td>0.000000</td>\n",
       "      <td>13.490738</td>\n",
       "      <td>15.264338</td>\n",
       "      <td>13.490738</td>\n",
       "    </tr>\n",
       "    <tr>\n",
       "      <th>3</th>\n",
       "      <td>13.000000</td>\n",
       "      <td>14.730920</td>\n",
       "      <td>13.490738</td>\n",
       "      <td>0.000000</td>\n",
       "      <td>15.000000</td>\n",
       "      <td>12.489996</td>\n",
       "    </tr>\n",
       "    <tr>\n",
       "      <th>4</th>\n",
       "      <td>13.638182</td>\n",
       "      <td>15.556349</td>\n",
       "      <td>15.264338</td>\n",
       "      <td>15.000000</td>\n",
       "      <td>0.000000</td>\n",
       "      <td>14.035669</td>\n",
       "    </tr>\n",
       "    <tr>\n",
       "      <th>5</th>\n",
       "      <td>11.958261</td>\n",
       "      <td>14.177447</td>\n",
       "      <td>13.490738</td>\n",
       "      <td>12.489996</td>\n",
       "      <td>14.035669</td>\n",
       "      <td>0.000000</td>\n",
       "    </tr>\n",
       "  </tbody>\n",
       "</table>\n",
       "</div>"
      ],
      "text/plain": [
       "           0          1          2          3          4          5\n",
       "0   0.000000  13.266499  13.304135  13.000000  13.638182  11.958261\n",
       "1  13.266499   0.000000  15.132746  14.730920  15.556349  14.177447\n",
       "2  13.304135  15.132746   0.000000  13.490738  15.264338  13.490738\n",
       "3  13.000000  14.730920  13.490738   0.000000  15.000000  12.489996\n",
       "4  13.638182  15.556349  15.264338  15.000000   0.000000  14.035669\n",
       "5  11.958261  14.177447  13.490738  12.489996  14.035669   0.000000"
      ]
     },
     "metadata": {},
     "output_type": "display_data"
    }
   ],
   "source": [
    "mat = get_similarity_mat(500, minkowski)"
   ]
  },
  {
   "cell_type": "code",
   "execution_count": 97,
   "id": "2dbbef72-8aa1-4eb3-8a6e-ae177e439045",
   "metadata": {},
   "outputs": [],
   "source": [
    "index=45"
   ]
  },
  {
   "cell_type": "code",
   "execution_count": 98,
   "id": "a442070a-0085-4677-91b9-1487e4ca4a3a",
   "metadata": {},
   "outputs": [
    {
     "name": "stdout",
     "output_type": "stream",
     "text": [
      "Min. Dist. Index = 147\n",
      "Min. Dist. = 10.488088481701515\n",
      "\n",
      "In this work, we address the challenging task of few-shot segmentation.\n",
      "Previous few-shot segmentation methods mainly employ the information of support\n",
      "images as guidance for query image segmentation. Although some works propose to\n",
      "build cross-reference between support and query images, their extraction of\n",
      "query information still depends on the support images. We here propose to\n",
      "extract the information from the query itself independently to benefit the\n",
      "few-shot segmentation task. To this end, we first propose a prior extractor to\n",
      "learn the query information from the unlabeled images with our proposed\n",
      "global-local contrastive learning. Then, we extract a set of predetermined\n",
      "priors via this prior extractor. With the obtained priors, we generate the\n",
      "prior region maps for query images, which locate the objects, as guidance to\n",
      "perform cross interaction with support features. In such a way, the extraction\n",
      "of query information is detached from the support branch, overcoming the\n",
      "limitation by support, and could obtain more informative query clues to achieve\n",
      "better interaction. Without bells and whistles, the proposed approach achieves\n",
      "new state-of-the-art performance for the few-shot segmentation task on\n",
      "PASCAL-5$^{i}$ and COCO datasets.\n",
      "\n",
      "This paper presents a game, controlled by computer vision, in identification\n",
      "of hand gestures (hand-tracking). The proposed work is based on image\n",
      "segmentation and construction of a convex hull with Jarvis Algorithm , and\n",
      "determination of the pattern based on the extraction of area characteristics in\n",
      "the convex hull.\n"
     ]
    }
   ],
   "source": [
    "get_stats(index)"
   ]
  },
  {
   "cell_type": "code",
   "execution_count": 99,
   "id": "e8bc15ba-fafe-4881-a375-04d1215971cb",
   "metadata": {},
   "outputs": [
    {
     "name": "stdout",
     "output_type": "stream",
     "text": [
      "Top Candidates: Int64Index([354, 19, 282, 472, 459, 491, 382, 35, 293, 173], dtype='int64')\n",
      "Their Scores: [10.9087, 11.1803, 11.225, 11.2694, 11.2694, 11.3578, 11.4018, 11.4018, 11.4455, 11.4891]\n"
     ]
    }
   ],
   "source": [
    "rete = get_rank(index)"
   ]
  },
  {
   "cell_type": "markdown",
   "id": "80f1da64-f454-43a1-b250-6b2377a91226",
   "metadata": {},
   "source": [
    "> For document indexed with *0*, altough both the abstracts are revolve around image, their main research topic are not alike. <br><br>\n",
    "This occurs for more than one document."
   ]
  },
  {
   "cell_type": "markdown",
   "id": "441b9fa3-4b13-41c7-ae78-44a5966c6ac4",
   "metadata": {
    "tags": []
   },
   "source": [
    "### Cosine Distance"
   ]
  },
  {
   "cell_type": "code",
   "execution_count": 88,
   "id": "bfe4d14d-3105-4024-89f0-d6b631c47fd6",
   "metadata": {},
   "outputs": [
    {
     "data": {
      "text/html": [
       "<div>\n",
       "<style scoped>\n",
       "    .dataframe tbody tr th:only-of-type {\n",
       "        vertical-align: middle;\n",
       "    }\n",
       "\n",
       "    .dataframe tbody tr th {\n",
       "        vertical-align: top;\n",
       "    }\n",
       "\n",
       "    .dataframe thead th {\n",
       "        text-align: right;\n",
       "    }\n",
       "</style>\n",
       "<table border=\"1\" class=\"dataframe\">\n",
       "  <thead>\n",
       "    <tr style=\"text-align: right;\">\n",
       "      <th></th>\n",
       "      <th>0</th>\n",
       "      <th>1</th>\n",
       "      <th>2</th>\n",
       "      <th>3</th>\n",
       "      <th>4</th>\n",
       "      <th>5</th>\n",
       "    </tr>\n",
       "  </thead>\n",
       "  <tbody>\n",
       "    <tr>\n",
       "      <th>0</th>\n",
       "      <td>0.000000</td>\n",
       "      <td>0.780618</td>\n",
       "      <td>0.759312</td>\n",
       "      <td>0.790238</td>\n",
       "      <td>0.725305</td>\n",
       "      <td>0.756036</td>\n",
       "    </tr>\n",
       "    <tr>\n",
       "      <th>1</th>\n",
       "      <td>0.780618</td>\n",
       "      <td>0.000000</td>\n",
       "      <td>0.820732</td>\n",
       "      <td>0.831268</td>\n",
       "      <td>0.805819</td>\n",
       "      <td>0.846417</td>\n",
       "    </tr>\n",
       "    <tr>\n",
       "      <th>2</th>\n",
       "      <td>0.759312</td>\n",
       "      <td>0.820732</td>\n",
       "      <td>0.000000</td>\n",
       "      <td>0.678378</td>\n",
       "      <td>0.758392</td>\n",
       "      <td>0.742052</td>\n",
       "    </tr>\n",
       "    <tr>\n",
       "      <th>3</th>\n",
       "      <td>0.790238</td>\n",
       "      <td>0.831268</td>\n",
       "      <td>0.678378</td>\n",
       "      <td>0.000000</td>\n",
       "      <td>0.776502</td>\n",
       "      <td>0.688504</td>\n",
       "    </tr>\n",
       "    <tr>\n",
       "      <th>4</th>\n",
       "      <td>0.725305</td>\n",
       "      <td>0.805819</td>\n",
       "      <td>0.758392</td>\n",
       "      <td>0.776502</td>\n",
       "      <td>0.000000</td>\n",
       "      <td>0.735822</td>\n",
       "    </tr>\n",
       "    <tr>\n",
       "      <th>5</th>\n",
       "      <td>0.756036</td>\n",
       "      <td>0.846417</td>\n",
       "      <td>0.742052</td>\n",
       "      <td>0.688504</td>\n",
       "      <td>0.735822</td>\n",
       "      <td>0.000000</td>\n",
       "    </tr>\n",
       "  </tbody>\n",
       "</table>\n",
       "</div>"
      ],
      "text/plain": [
       "          0         1         2         3         4         5\n",
       "0  0.000000  0.780618  0.759312  0.790238  0.725305  0.756036\n",
       "1  0.780618  0.000000  0.820732  0.831268  0.805819  0.846417\n",
       "2  0.759312  0.820732  0.000000  0.678378  0.758392  0.742052\n",
       "3  0.790238  0.831268  0.678378  0.000000  0.776502  0.688504\n",
       "4  0.725305  0.805819  0.758392  0.776502  0.000000  0.735822\n",
       "5  0.756036  0.846417  0.742052  0.688504  0.735822  0.000000"
      ]
     },
     "metadata": {},
     "output_type": "display_data"
    }
   ],
   "source": [
    "mat = get_similarity_mat(500, cosine)"
   ]
  },
  {
   "cell_type": "code",
   "execution_count": 89,
   "id": "5b564be5-78ca-4c91-9108-80f82582dd40",
   "metadata": {},
   "outputs": [],
   "source": [
    "index = 45"
   ]
  },
  {
   "cell_type": "code",
   "execution_count": 90,
   "id": "df6a991b-06e7-4bb3-b4cb-8d833849300c",
   "metadata": {},
   "outputs": [
    {
     "name": "stdout",
     "output_type": "stream",
     "text": [
      "Min. Dist. Index = 19\n",
      "Min. Dist. = 0.6399588500884522\n",
      "\n",
      "In this work, we address the challenging task of few-shot segmentation.\n",
      "Previous few-shot segmentation methods mainly employ the information of support\n",
      "images as guidance for query image segmentation. Although some works propose to\n",
      "build cross-reference between support and query images, their extraction of\n",
      "query information still depends on the support images. We here propose to\n",
      "extract the information from the query itself independently to benefit the\n",
      "few-shot segmentation task. To this end, we first propose a prior extractor to\n",
      "learn the query information from the unlabeled images with our proposed\n",
      "global-local contrastive learning. Then, we extract a set of predetermined\n",
      "priors via this prior extractor. With the obtained priors, we generate the\n",
      "prior region maps for query images, which locate the objects, as guidance to\n",
      "perform cross interaction with support features. In such a way, the extraction\n",
      "of query information is detached from the support branch, overcoming the\n",
      "limitation by support, and could obtain more informative query clues to achieve\n",
      "better interaction. Without bells and whistles, the proposed approach achieves\n",
      "new state-of-the-art performance for the few-shot segmentation task on\n",
      "PASCAL-5$^{i}$ and COCO datasets.\n",
      "\n",
      "Image segmentation is a common and challenging task in autonomous driving.\n",
      "Availability of sufficient pixel-level annotations for the training data is a\n",
      "hurdle. Active learning helps learning from small amounts of data by suggesting\n",
      "the most promising samples for labeling. In this work, we propose a new\n",
      "pool-based method for active learning, which proposes promising patches\n",
      "extracted from full image, in each acquisition step. The problem is framed in\n",
      "an exploration-exploitation framework by combining an embedding based on\n",
      "Uniform Manifold Approximation to model representativeness with entropy as\n",
      "uncertainty measure to model informativeness. We applied our proposed method to\n",
      "the autonomous driving datasets CamVid and Cityscapes and performed a\n",
      "quantitative comparison with state-of-the-art baselines. We find that our\n",
      "active learning method achieves better performance compared to previous\n",
      "methods.\n"
     ]
    }
   ],
   "source": [
    "get_stats(index)"
   ]
  },
  {
   "cell_type": "code",
   "execution_count": 91,
   "id": "e7da8169-cae9-4b4b-a49f-36062fa089a1",
   "metadata": {},
   "outputs": [
    {
     "name": "stdout",
     "output_type": "stream",
     "text": [
      "Top Candidates: Int64Index([257, 173, 48, 379, 498, 166, 461, 355, 237, 205], dtype='int64')\n",
      "Their Scores: [0.6538, 0.6726, 0.6731, 0.6731, 0.6746, 0.6746, 0.6752, 0.6796, 0.6851, 0.6858]\n"
     ]
    }
   ],
   "source": [
    "rcte = get_rank(index)"
   ]
  },
  {
   "cell_type": "markdown",
   "id": "f6319030-dec5-4751-a708-9b451c56f153",
   "metadata": {},
   "source": [
    "> Similarly to the last scenario, in *0*, both the papers talk about image processing. \n",
    "\n",
    "> In index *45* both papers refer image segmentation as the topic of the research, applied to different cases"
   ]
  },
  {
   "cell_type": "markdown",
   "id": "fc80ba6b-f820-494e-9f44-21491203c159",
   "metadata": {
    "tags": []
   },
   "source": [
    "### Dot Product Distance"
   ]
  },
  {
   "cell_type": "code",
   "execution_count": 92,
   "id": "32316402-3c99-4213-aebf-935be7ac80a9",
   "metadata": {},
   "outputs": [
    {
     "data": {
      "text/html": [
       "<div>\n",
       "<style scoped>\n",
       "    .dataframe tbody tr th:only-of-type {\n",
       "        vertical-align: middle;\n",
       "    }\n",
       "\n",
       "    .dataframe tbody tr th {\n",
       "        vertical-align: top;\n",
       "    }\n",
       "\n",
       "    .dataframe thead th {\n",
       "        text-align: right;\n",
       "    }\n",
       "</style>\n",
       "<table border=\"1\" class=\"dataframe\">\n",
       "  <thead>\n",
       "    <tr style=\"text-align: right;\">\n",
       "      <th></th>\n",
       "      <th>0</th>\n",
       "      <th>1</th>\n",
       "      <th>2</th>\n",
       "      <th>3</th>\n",
       "      <th>4</th>\n",
       "      <th>5</th>\n",
       "    </tr>\n",
       "  </thead>\n",
       "  <tbody>\n",
       "    <tr>\n",
       "      <th>0</th>\n",
       "      <td>0.011364</td>\n",
       "      <td>0.041667</td>\n",
       "      <td>0.037037</td>\n",
       "      <td>0.045455</td>\n",
       "      <td>0.030303</td>\n",
       "      <td>0.043478</td>\n",
       "    </tr>\n",
       "    <tr>\n",
       "      <th>1</th>\n",
       "      <td>0.041667</td>\n",
       "      <td>0.007353</td>\n",
       "      <td>0.040000</td>\n",
       "      <td>0.045455</td>\n",
       "      <td>0.034483</td>\n",
       "      <td>0.055556</td>\n",
       "    </tr>\n",
       "    <tr>\n",
       "      <th>2</th>\n",
       "      <td>0.037037</td>\n",
       "      <td>0.040000</td>\n",
       "      <td>0.006993</td>\n",
       "      <td>0.023256</td>\n",
       "      <td>0.027027</td>\n",
       "      <td>0.032258</td>\n",
       "    </tr>\n",
       "    <tr>\n",
       "      <th>3</th>\n",
       "      <td>0.045455</td>\n",
       "      <td>0.045455</td>\n",
       "      <td>0.023256</td>\n",
       "      <td>0.008000</td>\n",
       "      <td>0.031250</td>\n",
       "      <td>0.028571</td>\n",
       "    </tr>\n",
       "    <tr>\n",
       "      <th>4</th>\n",
       "      <td>0.030303</td>\n",
       "      <td>0.034483</td>\n",
       "      <td>0.027027</td>\n",
       "      <td>0.031250</td>\n",
       "      <td>0.006098</td>\n",
       "      <td>0.029412</td>\n",
       "    </tr>\n",
       "    <tr>\n",
       "      <th>5</th>\n",
       "      <td>0.043478</td>\n",
       "      <td>0.055556</td>\n",
       "      <td>0.032258</td>\n",
       "      <td>0.028571</td>\n",
       "      <td>0.029412</td>\n",
       "      <td>0.009901</td>\n",
       "    </tr>\n",
       "  </tbody>\n",
       "</table>\n",
       "</div>"
      ],
      "text/plain": [
       "          0         1         2         3         4         5\n",
       "0  0.011364  0.041667  0.037037  0.045455  0.030303  0.043478\n",
       "1  0.041667  0.007353  0.040000  0.045455  0.034483  0.055556\n",
       "2  0.037037  0.040000  0.006993  0.023256  0.027027  0.032258\n",
       "3  0.045455  0.045455  0.023256  0.008000  0.031250  0.028571\n",
       "4  0.030303  0.034483  0.027027  0.031250  0.006098  0.029412\n",
       "5  0.043478  0.055556  0.032258  0.028571  0.029412  0.009901"
      ]
     },
     "metadata": {},
     "output_type": "display_data"
    }
   ],
   "source": [
    "mat = get_similarity_mat(500, lambda a,b: 1/np.dot(a,b))"
   ]
  },
  {
   "cell_type": "code",
   "execution_count": 93,
   "id": "95ecaf27-2d75-4d31-a05f-78b691d0ff3b",
   "metadata": {},
   "outputs": [],
   "source": [
    "index = 45"
   ]
  },
  {
   "cell_type": "code",
   "execution_count": 94,
   "id": "0a0c8103-be34-434e-a995-d69982e46f9d",
   "metadata": {},
   "outputs": [
    {
     "name": "stdout",
     "output_type": "stream",
     "text": [
      "Min. Dist. Index = 41\n",
      "Min. Dist. = 0.024390243902439025\n",
      "\n",
      "In this work, we address the challenging task of few-shot segmentation.\n",
      "Previous few-shot segmentation methods mainly employ the information of support\n",
      "images as guidance for query image segmentation. Although some works propose to\n",
      "build cross-reference between support and query images, their extraction of\n",
      "query information still depends on the support images. We here propose to\n",
      "extract the information from the query itself independently to benefit the\n",
      "few-shot segmentation task. To this end, we first propose a prior extractor to\n",
      "learn the query information from the unlabeled images with our proposed\n",
      "global-local contrastive learning. Then, we extract a set of predetermined\n",
      "priors via this prior extractor. With the obtained priors, we generate the\n",
      "prior region maps for query images, which locate the objects, as guidance to\n",
      "perform cross interaction with support features. In such a way, the extraction\n",
      "of query information is detached from the support branch, overcoming the\n",
      "limitation by support, and could obtain more informative query clues to achieve\n",
      "better interaction. Without bells and whistles, the proposed approach achieves\n",
      "new state-of-the-art performance for the few-shot segmentation task on\n",
      "PASCAL-5$^{i}$ and COCO datasets.\n",
      "\n",
      "Automated segmentation in medical image analysis is a challenging task that\n",
      "requires a large amount of manually labeled data. However, most existing\n",
      "learning-based approaches usually suffer from limited manually annotated\n",
      "medical data, which poses a major practical problem for accurate and robust\n",
      "medical image segmentation. In addition, most existing semi-supervised\n",
      "approaches are usually not robust compared with the supervised counterparts,\n",
      "and also lack explicit modeling of geometric structure and semantic\n",
      "information, both of which limit the segmentation accuracy. In this work, we\n",
      "present SimCVD, a simple contrastive distillation framework that significantly\n",
      "advances state-of-the-art voxel-wise representation learning. We first describe\n",
      "an unsupervised training strategy, which takes two views of an input volume and\n",
      "predicts their signed distance maps of object boundaries in a contrastive\n",
      "objective, with only two independent dropout as mask. This simple approach\n",
      "works surprisingly well, performing on the same level as previous fully\n",
      "supervised methods with much less labeled data. We hypothesize that dropout can\n",
      "be viewed as a minimal form of data augmentation and makes the network robust\n",
      "to representation collapse. Then, we propose to perform structural distillation\n",
      "by distilling pair-wise similarities. We evaluate SimCVD on two popular\n",
      "datasets: the Left Atrial Segmentation Challenge (LA) and the NIH pancreas CT\n",
      "dataset. The results on the LA dataset demonstrate that, in two types of\n",
      "labeled ratios (i.e., 20% and 10%), SimCVD achieves an average Dice score of\n",
      "90.85% and 89.03% respectively, a 0.91% and 2.22% improvement compared to\n",
      "previous best results. Our method can be trained in an end-to-end fashion,\n",
      "showing the promise of utilizing SimCVD as a general framework for downstream\n",
      "tasks, such as medical image synthesis and registration.\n"
     ]
    }
   ],
   "source": [
    "get_stats(index)"
   ]
  },
  {
   "cell_type": "code",
   "execution_count": 95,
   "id": "74d244fc-b389-4ef1-b6a4-4d7f37d87a39",
   "metadata": {},
   "outputs": [
    {
     "name": "stdout",
     "output_type": "stream",
     "text": [
      "Top Candidates: Int64Index([355, 452, 184, 203, 257, 113, 122, 485, 205, 177], dtype='int64')\n",
      "Their Scores: [0.0244, 0.0256, 0.0263, 0.0263, 0.0278, 0.0278, 0.0278, 0.0278, 0.0278, 0.0278]\n"
     ]
    }
   ],
   "source": [
    "rdte = get_rank(index)"
   ]
  },
  {
   "cell_type": "markdown",
   "id": "f09f6047-f114-4616-a2a6-40f2dcfc0b35",
   "metadata": {},
   "source": [
    "> For index *0*, same result as the *cosine* scenario.\n",
    "\n",
    "> In index *45* both papers refer image segmentation as the topic of the research, applied to different cases. <br>\n",
    "\\* Not the same document as in *cosine* distance"
   ]
  },
  {
   "cell_type": "code",
   "execution_count": 100,
   "id": "8ce10d02-1ad2-4f2e-807b-d5a00d88b058",
   "metadata": {},
   "outputs": [
    {
     "name": "stdout",
     "output_type": "stream",
     "text": [
      "Int64Index([354, 19, 282, 472, 459, 491, 382, 35, 293, 173], dtype='int64')\n",
      "Int64Index([257, 173, 48, 379, 498, 166, 461, 355, 237, 205], dtype='int64')\n",
      "Int64Index([355, 452, 184, 203, 257, 113, 122, 485, 205, 177], dtype='int64')\n"
     ]
    }
   ],
   "source": [
    "print(rete, rcte, rdte, sep=\"\\n\")"
   ]
  },
  {
   "cell_type": "code",
   "execution_count": 101,
   "id": "dfc92d92-461f-4b29-a4eb-bdc114c24e9a",
   "metadata": {},
   "outputs": [
    {
     "data": {
      "text/plain": [
       "array([173], dtype=int64)"
      ]
     },
     "execution_count": 101,
     "metadata": {},
     "output_type": "execute_result"
    }
   ],
   "source": [
    "np.intersect1d(rete, rcte)"
   ]
  },
  {
   "cell_type": "code",
   "execution_count": 102,
   "id": "56a4b23f-a3f8-4029-aa99-84c19cf520f0",
   "metadata": {},
   "outputs": [
    {
     "data": {
      "text/plain": [
       "array([], dtype=int64)"
      ]
     },
     "execution_count": 102,
     "metadata": {},
     "output_type": "execute_result"
    }
   ],
   "source": [
    "np.intersect1d(rete, rdte)"
   ]
  },
  {
   "cell_type": "code",
   "execution_count": 103,
   "id": "2e7094bc-4509-4634-a504-cbfcb77ee6a9",
   "metadata": {},
   "outputs": [
    {
     "data": {
      "text/plain": [
       "array([205, 257, 355], dtype=int64)"
      ]
     },
     "execution_count": 103,
     "metadata": {},
     "output_type": "execute_result"
    }
   ],
   "source": [
    "np.intersect1d(rdte, rcte)"
   ]
  },
  {
   "cell_type": "markdown",
   "id": "9f15985b-5cac-45ce-9e0f-bb63c1e8b30c",
   "metadata": {
    "tags": []
   },
   "source": [
    "> ## Final comments\n",
    "\n",
    "We can see that the different distance methods recommend majorly distinct documents. This could mean that this Bagging method is not sufficiently good to represent the data, as even with difference metrics, the intersection set would be expected to be bigger then what it was.\n",
    "\n",
    "**The removal of stopwords could improve this model results.**"
   ]
  },
  {
   "cell_type": "markdown",
   "id": "3996b672-560f-42a4-b1d8-d87250730666",
   "metadata": {
    "jp-MarkdownHeadingCollapsed": true,
    "tags": []
   },
   "source": [
    "## Term Weighting"
   ]
  },
  {
   "cell_type": "code",
   "execution_count": 104,
   "id": "f1f61ac8-4be4-4123-9619-c4a8a658118d",
   "metadata": {},
   "outputs": [],
   "source": [
    "def bag_of_words(document: str, vocab: list):\n",
    "    bow = np.zeros(len(vocab))\n",
    "    loc = dict(map(lambda pair: (pair[1], pair[0]), enumerate(vocab)))\n",
    "    \n",
    "    for word in nltk.word_tokenize(document):\n",
    "        bow[loc[word.lower()]]+=1\n",
    "        \n",
    "    return bow"
   ]
  },
  {
   "cell_type": "code",
   "execution_count": 105,
   "id": "a6a32fb3-2c47-47b3-92c5-83d589a7c6ba",
   "metadata": {},
   "outputs": [],
   "source": [
    "def get_similarity_mat(N, dist):\n",
    "    bows = [ bag_of_words(get(i), vocab) for i in range(N) ]\n",
    "    \n",
    "    sim_mat = np.zeros((N,N))\n",
    "    for i in range(N):\n",
    "        for j in range(i, N):\n",
    "            sim_mat[i,j] = dist(bows[i], bows[j])\n",
    "            sim_mat[j,i] = sim_mat[i,j]\n",
    "    display(pd.DataFrame(data = sim_mat, columns=range(N), index=range(N)).loc[0:5, 0:5])\n",
    "    return sim_mat"
   ]
  },
  {
   "cell_type": "markdown",
   "id": "0a40d07e-8b6f-476f-aa92-9d48099a3851",
   "metadata": {
    "tags": []
   },
   "source": [
    "### Euclidean Distance"
   ]
  },
  {
   "cell_type": "code",
   "execution_count": 106,
   "id": "a7ae92a9-a8b4-47e1-ba1e-479f4df28ea7",
   "metadata": {},
   "outputs": [
    {
     "data": {
      "text/html": [
       "<div>\n",
       "<style scoped>\n",
       "    .dataframe tbody tr th:only-of-type {\n",
       "        vertical-align: middle;\n",
       "    }\n",
       "\n",
       "    .dataframe tbody tr th {\n",
       "        vertical-align: top;\n",
       "    }\n",
       "\n",
       "    .dataframe thead th {\n",
       "        text-align: right;\n",
       "    }\n",
       "</style>\n",
       "<table border=\"1\" class=\"dataframe\">\n",
       "  <thead>\n",
       "    <tr style=\"text-align: right;\">\n",
       "      <th></th>\n",
       "      <th>0</th>\n",
       "      <th>1</th>\n",
       "      <th>2</th>\n",
       "      <th>3</th>\n",
       "      <th>4</th>\n",
       "      <th>5</th>\n",
       "    </tr>\n",
       "  </thead>\n",
       "  <tbody>\n",
       "    <tr>\n",
       "      <th>0</th>\n",
       "      <td>0.000000</td>\n",
       "      <td>31.764760</td>\n",
       "      <td>25.806976</td>\n",
       "      <td>23.811762</td>\n",
       "      <td>33.970576</td>\n",
       "      <td>18.894444</td>\n",
       "    </tr>\n",
       "    <tr>\n",
       "      <th>1</th>\n",
       "      <td>31.764760</td>\n",
       "      <td>0.000000</td>\n",
       "      <td>33.151169</td>\n",
       "      <td>33.196385</td>\n",
       "      <td>32.326460</td>\n",
       "      <td>29.832868</td>\n",
       "    </tr>\n",
       "    <tr>\n",
       "      <th>2</th>\n",
       "      <td>25.806976</td>\n",
       "      <td>33.151169</td>\n",
       "      <td>0.000000</td>\n",
       "      <td>20.712315</td>\n",
       "      <td>30.659419</td>\n",
       "      <td>23.811762</td>\n",
       "    </tr>\n",
       "    <tr>\n",
       "      <th>3</th>\n",
       "      <td>23.811762</td>\n",
       "      <td>33.196385</td>\n",
       "      <td>20.712315</td>\n",
       "      <td>0.000000</td>\n",
       "      <td>28.930952</td>\n",
       "      <td>22.226111</td>\n",
       "    </tr>\n",
       "    <tr>\n",
       "      <th>4</th>\n",
       "      <td>33.970576</td>\n",
       "      <td>32.326460</td>\n",
       "      <td>30.659419</td>\n",
       "      <td>28.930952</td>\n",
       "      <td>0.000000</td>\n",
       "      <td>31.921779</td>\n",
       "    </tr>\n",
       "    <tr>\n",
       "      <th>5</th>\n",
       "      <td>18.894444</td>\n",
       "      <td>29.832868</td>\n",
       "      <td>23.811762</td>\n",
       "      <td>22.226111</td>\n",
       "      <td>31.921779</td>\n",
       "      <td>0.000000</td>\n",
       "    </tr>\n",
       "  </tbody>\n",
       "</table>\n",
       "</div>"
      ],
      "text/plain": [
       "           0          1          2          3          4          5\n",
       "0   0.000000  31.764760  25.806976  23.811762  33.970576  18.894444\n",
       "1  31.764760   0.000000  33.151169  33.196385  32.326460  29.832868\n",
       "2  25.806976  33.151169   0.000000  20.712315  30.659419  23.811762\n",
       "3  23.811762  33.196385  20.712315   0.000000  28.930952  22.226111\n",
       "4  33.970576  32.326460  30.659419  28.930952   0.000000  31.921779\n",
       "5  18.894444  29.832868  23.811762  22.226111  31.921779   0.000000"
      ]
     },
     "metadata": {},
     "output_type": "display_data"
    }
   ],
   "source": [
    "mat = get_similarity_mat(500, minkowski)  "
   ]
  },
  {
   "cell_type": "code",
   "execution_count": 113,
   "id": "5b47d638-d0f0-4e04-8ac5-801c238b06ef",
   "metadata": {},
   "outputs": [
    {
     "name": "stdout",
     "output_type": "stream",
     "text": [
      "Min. Dist. Index = 35\n",
      "Min. Dist. = 16.73320053068151\n",
      "\n",
      "Image segmentation has long been a basic problem in computer vision.\n",
      "Depth-wise Layering is a kind of segmentation that slices an image in a\n",
      "depth-wise sequence unlike the conventional image segmentation problems dealing\n",
      "with surface-wise decomposition. The proposed Depth-wise Layering technique\n",
      "uses a single depth image of a static scene to slice it into multiple layers.\n",
      "The technique employs a thresholding approach to segment rows of the dense\n",
      "depth map into smaller partitions called Line-Segments in this paper. Then, it\n",
      "uses the line-segment labelling method to identify number of objects and layers\n",
      "of the scene independently. The final stage is to link objects of the scene to\n",
      "their respective object-layers. We evaluate the efficiency of the proposed\n",
      "technique by applying that on many images along with their dense depth maps.\n",
      "The experiments have shown promising results of layering.\n",
      "\n",
      "Segmentation of images is a long-standing challenge in medical AI. This is\n",
      "mainly due to the fact that training a neural network to perform image\n",
      "segmentation requires a significant number of pixel-level annotated data, which\n",
      "is often unavailable. To address this issue, we propose a semi-supervised image\n",
      "segmentation technique based on the concept of multi-view learning. In contrast\n",
      "to the previous art, we introduce an adversarial form of dual-view training and\n",
      "employ a critic to formulate the learning problem in multi-view training as a\n",
      "min-max problem. Thorough quantitative and qualitative evaluations on several\n",
      "datasets indicate that our proposed method outperforms state-of-the-art medical\n",
      "image segmentation algorithms consistently and comfortably. The code is\n",
      "publicly available at https://github.com/himashi92/Duo-SegNet\n"
     ]
    }
   ],
   "source": [
    "index = 327\n",
    "\n",
    "get_stats(index)"
   ]
  },
  {
   "cell_type": "code",
   "execution_count": 112,
   "id": "b8a616cf-5f40-4fac-9078-88bf6e70767a",
   "metadata": {},
   "outputs": [
    {
     "name": "stdout",
     "output_type": "stream",
     "text": [
      "Top Candidates: Int64Index([438, 200, 463, 205, 294, 166, 304, 478, 71, 383], dtype='int64')\n",
      "Their Scores: [19.6977, 20.9284, 21.2838, 21.587, 21.7486, 21.7945, 22.0454, 22.0907, 22.3159, 22.3159]\n"
     ]
    }
   ],
   "source": [
    "retw = get_rank(index)"
   ]
  },
  {
   "cell_type": "markdown",
   "id": "dc495b8d-b14b-43aa-bd7c-ebb801786d00",
   "metadata": {},
   "source": [
    "> Index *0*: The documents don't really share anything beside the fact that are image related\n",
    "\n",
    "> Index *327*: Both Related to Image Segmentation"
   ]
  },
  {
   "cell_type": "markdown",
   "id": "72c7132d-c0ba-427e-ab56-30d29b1195ba",
   "metadata": {
    "tags": []
   },
   "source": [
    "### Cosine Distance"
   ]
  },
  {
   "cell_type": "code",
   "execution_count": 114,
   "id": "47257255-6224-44c6-b189-59b8bca87ab2",
   "metadata": {},
   "outputs": [
    {
     "data": {
      "text/html": [
       "<div>\n",
       "<style scoped>\n",
       "    .dataframe tbody tr th:only-of-type {\n",
       "        vertical-align: middle;\n",
       "    }\n",
       "\n",
       "    .dataframe tbody tr th {\n",
       "        vertical-align: top;\n",
       "    }\n",
       "\n",
       "    .dataframe thead th {\n",
       "        text-align: right;\n",
       "    }\n",
       "</style>\n",
       "<table border=\"1\" class=\"dataframe\">\n",
       "  <thead>\n",
       "    <tr style=\"text-align: right;\">\n",
       "      <th></th>\n",
       "      <th>0</th>\n",
       "      <th>1</th>\n",
       "      <th>2</th>\n",
       "      <th>3</th>\n",
       "      <th>4</th>\n",
       "      <th>5</th>\n",
       "    </tr>\n",
       "  </thead>\n",
       "  <tbody>\n",
       "    <tr>\n",
       "      <th>0</th>\n",
       "      <td>0.000000</td>\n",
       "      <td>0.478418</td>\n",
       "      <td>0.414020</td>\n",
       "      <td>0.407314</td>\n",
       "      <td>0.353476</td>\n",
       "      <td>0.414093</td>\n",
       "    </tr>\n",
       "    <tr>\n",
       "      <th>1</th>\n",
       "      <td>0.478418</td>\n",
       "      <td>0.000000</td>\n",
       "      <td>0.452115</td>\n",
       "      <td>0.476195</td>\n",
       "      <td>0.312110</td>\n",
       "      <td>0.401459</td>\n",
       "    </tr>\n",
       "    <tr>\n",
       "      <th>2</th>\n",
       "      <td>0.414020</td>\n",
       "      <td>0.452115</td>\n",
       "      <td>0.000000</td>\n",
       "      <td>0.226834</td>\n",
       "      <td>0.292437</td>\n",
       "      <td>0.337706</td>\n",
       "    </tr>\n",
       "    <tr>\n",
       "      <th>3</th>\n",
       "      <td>0.407314</td>\n",
       "      <td>0.476195</td>\n",
       "      <td>0.226834</td>\n",
       "      <td>0.000000</td>\n",
       "      <td>0.251733</td>\n",
       "      <td>0.343801</td>\n",
       "    </tr>\n",
       "    <tr>\n",
       "      <th>4</th>\n",
       "      <td>0.353476</td>\n",
       "      <td>0.312110</td>\n",
       "      <td>0.292437</td>\n",
       "      <td>0.251733</td>\n",
       "      <td>0.000000</td>\n",
       "      <td>0.287083</td>\n",
       "    </tr>\n",
       "    <tr>\n",
       "      <th>5</th>\n",
       "      <td>0.414093</td>\n",
       "      <td>0.401459</td>\n",
       "      <td>0.337706</td>\n",
       "      <td>0.343801</td>\n",
       "      <td>0.287083</td>\n",
       "      <td>0.000000</td>\n",
       "    </tr>\n",
       "  </tbody>\n",
       "</table>\n",
       "</div>"
      ],
      "text/plain": [
       "          0         1         2         3         4         5\n",
       "0  0.000000  0.478418  0.414020  0.407314  0.353476  0.414093\n",
       "1  0.478418  0.000000  0.452115  0.476195  0.312110  0.401459\n",
       "2  0.414020  0.452115  0.000000  0.226834  0.292437  0.337706\n",
       "3  0.407314  0.476195  0.226834  0.000000  0.251733  0.343801\n",
       "4  0.353476  0.312110  0.292437  0.251733  0.000000  0.287083\n",
       "5  0.414093  0.401459  0.337706  0.343801  0.287083  0.000000"
      ]
     },
     "metadata": {},
     "output_type": "display_data"
    }
   ],
   "source": [
    "mat = get_similarity_mat(500, cosine)  "
   ]
  },
  {
   "cell_type": "code",
   "execution_count": 118,
   "id": "5592e4e6-a326-441b-b8e6-2ca7e49fa825",
   "metadata": {},
   "outputs": [],
   "source": [
    "index = 327"
   ]
  },
  {
   "cell_type": "code",
   "execution_count": 119,
   "id": "ab52bf0c-96f0-4664-a1ec-708dc3ea375d",
   "metadata": {},
   "outputs": [
    {
     "name": "stdout",
     "output_type": "stream",
     "text": [
      "Min. Dist. Index = 447\n",
      "Min. Dist. = 0.25660158929168186\n",
      "\n",
      "Image segmentation has long been a basic problem in computer vision.\n",
      "Depth-wise Layering is a kind of segmentation that slices an image in a\n",
      "depth-wise sequence unlike the conventional image segmentation problems dealing\n",
      "with surface-wise decomposition. The proposed Depth-wise Layering technique\n",
      "uses a single depth image of a static scene to slice it into multiple layers.\n",
      "The technique employs a thresholding approach to segment rows of the dense\n",
      "depth map into smaller partitions called Line-Segments in this paper. Then, it\n",
      "uses the line-segment labelling method to identify number of objects and layers\n",
      "of the scene independently. The final stage is to link objects of the scene to\n",
      "their respective object-layers. We evaluate the efficiency of the proposed\n",
      "technique by applying that on many images along with their dense depth maps.\n",
      "The experiments have shown promising results of layering.\n",
      "\n",
      "In machine learning and other fields, suggesting a good solution to a problem\n",
      "is usually a harder task than evaluating the quality of such a solution. This\n",
      "asymmetry is the basis for a large number of selection oriented methods that\n",
      "use a generator system to guess a set of solutions and an evaluator system to\n",
      "rank and select the best solutions. This work examines the use of this approach\n",
      "to the problem of panoptic image segmentation and class agnostic parts\n",
      "segmentation. The generator/evaluator approach for this case consists of two\n",
      "independent convolutional neural nets: a generator net that suggests variety\n",
      "segments corresponding to objects, stuff and parts regions in the image, and an\n",
      "evaluator net that chooses the best segments to be merged into the segmentation\n",
      "map. The result is a trial and error evolutionary approach in which a generator\n",
      "that guesses segments with low average accuracy, but with wide variability, can\n",
      "still produce good results when coupled with an accurate evaluator. The\n",
      "generator consists of a Pointer net that receives an image and a point in the\n",
      "image, and predicts the region of the segment containing the point. Generating\n",
      "and evaluating each segment separately is essential in this case since it\n",
      "demands exponentially fewer guesses compared to a system that guesses and\n",
      "evaluates the full segmentation map in each try. The classification of the\n",
      "selected segments is done by an independent region-specific classification net.\n",
      "This allows the segmentation to be class agnostic and hence, capable of\n",
      "segmenting unfamiliar categories that were not part of the training set. The\n",
      "method was examined on the COCO Panoptic segmentation benchmark and gave\n",
      "results comparable to those of the basic semantic segmentation and Mask-RCNN\n",
      "methods. In addition, the system was used for the task of splitting objects of\n",
      "unseen classes (that did not appear in the training set) into parts.\n"
     ]
    }
   ],
   "source": [
    "get_stats(index)"
   ]
  },
  {
   "cell_type": "code",
   "execution_count": 120,
   "id": "fbe95c67-f19b-418e-95d2-d1f18ac7b1c3",
   "metadata": {},
   "outputs": [
    {
     "name": "stdout",
     "output_type": "stream",
     "text": [
      "Top Candidates: Int64Index([83, 471, 488, 125, 235, 481, 399, 461, 111, 338], dtype='int64')\n",
      "Their Scores: [0.2692, 0.2792, 0.2909, 0.2947, 0.2956, 0.2977, 0.2986, 0.3041, 0.3051, 0.3054]\n"
     ]
    }
   ],
   "source": [
    "rctw = get_rank(index)"
   ]
  },
  {
   "cell_type": "markdown",
   "id": "4552c5e7-fa08-4507-bc43-438476eb6184",
   "metadata": {},
   "source": [
    "> Index *0*: Both documents reference semantic image segmentation\n",
    "\n",
    "> Index *327*: Both have a repeated word \"segmentation\", but share different meaning, due to the context"
   ]
  },
  {
   "cell_type": "markdown",
   "id": "d690e2c5-1bd2-491b-a9c5-222e86df470c",
   "metadata": {
    "tags": []
   },
   "source": [
    "### Dot Product Distance"
   ]
  },
  {
   "cell_type": "code",
   "execution_count": 121,
   "id": "6748f6e3-6a0e-43c1-9b8a-af25440d5817",
   "metadata": {},
   "outputs": [
    {
     "data": {
      "text/html": [
       "<div>\n",
       "<style scoped>\n",
       "    .dataframe tbody tr th:only-of-type {\n",
       "        vertical-align: middle;\n",
       "    }\n",
       "\n",
       "    .dataframe tbody tr th {\n",
       "        vertical-align: top;\n",
       "    }\n",
       "\n",
       "    .dataframe thead th {\n",
       "        text-align: right;\n",
       "    }\n",
       "</style>\n",
       "<table border=\"1\" class=\"dataframe\">\n",
       "  <thead>\n",
       "    <tr style=\"text-align: right;\">\n",
       "      <th></th>\n",
       "      <th>0</th>\n",
       "      <th>1</th>\n",
       "      <th>2</th>\n",
       "      <th>3</th>\n",
       "      <th>4</th>\n",
       "      <th>5</th>\n",
       "    </tr>\n",
       "  </thead>\n",
       "  <tbody>\n",
       "    <tr>\n",
       "      <th>0</th>\n",
       "      <td>0.002427</td>\n",
       "      <td>0.002538</td>\n",
       "      <td>0.002646</td>\n",
       "      <td>0.002833</td>\n",
       "      <td>0.001757</td>\n",
       "      <td>0.003968</td>\n",
       "    </tr>\n",
       "    <tr>\n",
       "      <th>1</th>\n",
       "      <td>0.002538</td>\n",
       "      <td>0.000722</td>\n",
       "      <td>0.001543</td>\n",
       "      <td>0.001748</td>\n",
       "      <td>0.000901</td>\n",
       "      <td>0.002119</td>\n",
       "    </tr>\n",
       "    <tr>\n",
       "      <th>2</th>\n",
       "      <td>0.002646</td>\n",
       "      <td>0.001543</td>\n",
       "      <td>0.000990</td>\n",
       "      <td>0.001387</td>\n",
       "      <td>0.001026</td>\n",
       "      <td>0.002242</td>\n",
       "    </tr>\n",
       "    <tr>\n",
       "      <th>3</th>\n",
       "      <td>0.002833</td>\n",
       "      <td>0.001748</td>\n",
       "      <td>0.001387</td>\n",
       "      <td>0.001161</td>\n",
       "      <td>0.001050</td>\n",
       "      <td>0.002451</td>\n",
       "    </tr>\n",
       "    <tr>\n",
       "      <th>4</th>\n",
       "      <td>0.001757</td>\n",
       "      <td>0.000901</td>\n",
       "      <td>0.001026</td>\n",
       "      <td>0.001050</td>\n",
       "      <td>0.000532</td>\n",
       "      <td>0.001527</td>\n",
       "    </tr>\n",
       "    <tr>\n",
       "      <th>5</th>\n",
       "      <td>0.003968</td>\n",
       "      <td>0.002119</td>\n",
       "      <td>0.002242</td>\n",
       "      <td>0.002451</td>\n",
       "      <td>0.001527</td>\n",
       "      <td>0.002227</td>\n",
       "    </tr>\n",
       "  </tbody>\n",
       "</table>\n",
       "</div>"
      ],
      "text/plain": [
       "          0         1         2         3         4         5\n",
       "0  0.002427  0.002538  0.002646  0.002833  0.001757  0.003968\n",
       "1  0.002538  0.000722  0.001543  0.001748  0.000901  0.002119\n",
       "2  0.002646  0.001543  0.000990  0.001387  0.001026  0.002242\n",
       "3  0.002833  0.001748  0.001387  0.001161  0.001050  0.002451\n",
       "4  0.001757  0.000901  0.001026  0.001050  0.000532  0.001527\n",
       "5  0.003968  0.002119  0.002242  0.002451  0.001527  0.002227"
      ]
     },
     "metadata": {},
     "output_type": "display_data"
    }
   ],
   "source": [
    "mat = get_similarity_mat(500, lambda a,b: 1/np.dot(a,b))"
   ]
  },
  {
   "cell_type": "code",
   "execution_count": 129,
   "id": "3a8cd7a7-308a-4779-b630-ae78bd7ba54f",
   "metadata": {},
   "outputs": [],
   "source": [
    "index = 327"
   ]
  },
  {
   "cell_type": "code",
   "execution_count": 130,
   "id": "7237633c-f90e-4f71-ad02-aa83e303063a",
   "metadata": {},
   "outputs": [
    {
     "name": "stdout",
     "output_type": "stream",
     "text": [
      "Min. Dist. Index = 235\n",
      "Min. Dist. = 0.001218026796589525\n",
      "\n",
      "Image segmentation has long been a basic problem in computer vision.\n",
      "Depth-wise Layering is a kind of segmentation that slices an image in a\n",
      "depth-wise sequence unlike the conventional image segmentation problems dealing\n",
      "with surface-wise decomposition. The proposed Depth-wise Layering technique\n",
      "uses a single depth image of a static scene to slice it into multiple layers.\n",
      "The technique employs a thresholding approach to segment rows of the dense\n",
      "depth map into smaller partitions called Line-Segments in this paper. Then, it\n",
      "uses the line-segment labelling method to identify number of objects and layers\n",
      "of the scene independently. The final stage is to link objects of the scene to\n",
      "their respective object-layers. We evaluate the efficiency of the proposed\n",
      "technique by applying that on many images along with their dense depth maps.\n",
      "The experiments have shown promising results of layering.\n",
      "\n",
      "The hatching process also influences the success of hatching eggs beside the\n",
      "initial egg factor. So that the results have a large percentage of hatching, it\n",
      "is necessary to check the development of the embryo at the beginning of the\n",
      "hatching. This process aims to sort eggs that have embryos to remain hatched\n",
      "until the end. Maximum checking is done the first week in the hatching period.\n",
      "This study aims to detect the presence of embryos in eggs. Detection of the\n",
      "existence of embryos is processed using segmentation. Egg images are segmented\n",
      "using the K-means algorithm based on Lab color images. The results of the\n",
      "images acquisition are converted into Lab color space images. The results of\n",
      "Lab color space images are processed using K-means for each color. The K-means\n",
      "process uses cluster k=3, where this cluster divided the image into three\n",
      "parts, namely background, eggs, and yolk eggs. Yolk eggs are part of eggs that\n",
      "have embryonic characteristics. This study applies the concept of color in the\n",
      "initial segmentation and grayscale in the final stages. The results of the\n",
      "initial phase show that the image segmentation results using k-means clustering\n",
      "based on Lab color space provide a grouping of three parts. At the grayscale\n",
      "image processing stage, the results of color image segmentation are processed\n",
      "with grayscaling, image enhancement, and morphology. Thus, it seems clear that\n",
      "the yolk segmented shows the presence of egg embryos. Based on this process and\n",
      "results, K-means segmentation based on Lab color space can be used for the\n",
      "initial stages of the embryo detection process. The evaluation uses MSE and\n",
      "MSSIM, with values of 0.0486 and 0.9979; this can be used as a reference that\n",
      "the results obtained can indicate the detection of embryos in egg yolk.\n"
     ]
    }
   ],
   "source": [
    "get_stats(index)"
   ]
  },
  {
   "cell_type": "code",
   "execution_count": 131,
   "id": "6e4545ee-f3d2-490f-8d50-76732069db0a",
   "metadata": {},
   "outputs": [
    {
     "name": "stdout",
     "output_type": "stream",
     "text": [
      "Top Candidates: Int64Index([447, 481, 125, 399, 338, 476, 83, 243, 4, 487], dtype='int64')\n",
      "Their Scores: [0.0013, 0.0013, 0.0016, 0.0016, 0.0016, 0.0016, 0.0016, 0.0016, 0.0017, 0.0017]\n"
     ]
    }
   ],
   "source": [
    "rdtw = get_rank(index)"
   ]
  },
  {
   "cell_type": "markdown",
   "id": "90ee7d2d-9491-4861-874b-382664e9358d",
   "metadata": {},
   "source": [
    "> Index *0*: Segmentation of Images\n",
    "\n",
    "> Index *327*: Segmentation of Images"
   ]
  },
  {
   "cell_type": "markdown",
   "id": "241e0b81-c1ff-4b29-bc21-40aa2de00d96",
   "metadata": {},
   "source": [
    "> ## Final Comments"
   ]
  },
  {
   "cell_type": "code",
   "execution_count": 132,
   "id": "cf6cafd0-7193-4321-842a-bdd0d6715699",
   "metadata": {},
   "outputs": [
    {
     "name": "stdout",
     "output_type": "stream",
     "text": [
      "Int64Index([438, 200, 463, 205, 294, 166, 304, 478, 71, 383], dtype='int64')\n",
      "Int64Index([83, 471, 488, 125, 235, 481, 399, 461, 111, 338], dtype='int64')\n",
      "Int64Index([447, 481, 125, 399, 338, 476, 83, 243, 4, 487], dtype='int64')\n"
     ]
    }
   ],
   "source": [
    "print(retw, rctw, rdtw, sep=\"\\n\")"
   ]
  },
  {
   "cell_type": "code",
   "execution_count": 133,
   "id": "a5620844-7cb9-4fe5-8396-6cb5f3a528fe",
   "metadata": {},
   "outputs": [
    {
     "data": {
      "text/plain": [
       "array([], dtype=int64)"
      ]
     },
     "execution_count": 133,
     "metadata": {},
     "output_type": "execute_result"
    }
   ],
   "source": [
    "np.intersect1d(retw, rctw)"
   ]
  },
  {
   "cell_type": "code",
   "execution_count": 134,
   "id": "165f9bef-ef7d-4f54-b365-ec3277709a92",
   "metadata": {},
   "outputs": [
    {
     "data": {
      "text/plain": [
       "array([], dtype=int64)"
      ]
     },
     "execution_count": 134,
     "metadata": {},
     "output_type": "execute_result"
    }
   ],
   "source": [
    "np.intersect1d(retw, rdtw)"
   ]
  },
  {
   "cell_type": "code",
   "execution_count": 135,
   "id": "07623197-0db5-4d8b-85e9-cb1b4c11a593",
   "metadata": {},
   "outputs": [
    {
     "data": {
      "text/plain": [
       "array([ 83, 125, 338, 399, 481], dtype=int64)"
      ]
     },
     "execution_count": 135,
     "metadata": {},
     "output_type": "execute_result"
    }
   ],
   "source": [
    "np.intersect1d(rctw, rdtw)"
   ]
  },
  {
   "cell_type": "markdown",
   "id": "66819499-1ecd-451e-a345-638116c2a29a",
   "metadata": {},
   "source": [
    "**Cosine Distance** and **Dot Product Distance** share a great number of likely candidates"
   ]
  },
  {
   "cell_type": "markdown",
   "id": "870efb64-7e7f-4838-9be3-9b2b9546eda3",
   "metadata": {
    "jp-MarkdownHeadingCollapsed": true,
    "tags": []
   },
   "source": [
    "## Term Frequency Transformation"
   ]
  },
  {
   "cell_type": "code",
   "execution_count": 136,
   "id": "8531d5c8-ca1a-4785-9292-e7938d013fbe",
   "metadata": {},
   "outputs": [],
   "source": [
    "def bag_of_words(document: str, vocab: list, t: Callable) -> Sequence:\n",
    "    bow = np.zeros(len(vocab))\n",
    "    loc = dict(map(lambda pair: (pair[1], pair[0]), enumerate(vocab)))\n",
    "    \n",
    "    for word in nltk.word_tokenize(document):\n",
    "        bow[loc[word.lower()]]+=1\n",
    "    \n",
    "    return t(bow)"
   ]
  },
  {
   "cell_type": "code",
   "execution_count": 137,
   "id": "c7ae5f9b-c4b5-4484-b9d8-3a3ffe15dc3c",
   "metadata": {},
   "outputs": [],
   "source": [
    "def get_similarity_mat(N: int, dist: Callable, t: Callable):\n",
    "    bows = [ bag_of_words(get(i), vocab, t) for i in range(N) ]\n",
    "    \n",
    "    sim_mat = np.zeros((N,N))\n",
    "    for i in range(N):\n",
    "        for j in range(i, N):\n",
    "            sim_mat[i,j] = dist(bows[i], bows[j])\n",
    "            sim_mat[j,i] = sim_mat[i,j]\n",
    "    display(pd.DataFrame(data = sim_mat, columns=range(N), index=range(N)).loc[0:5, 0:5])\n",
    "    return sim_mat"
   ]
  },
  {
   "cell_type": "code",
   "execution_count": 138,
   "id": "3f29c7a3-49e4-40a9-8f30-000fe95f85e0",
   "metadata": {},
   "outputs": [],
   "source": [
    "t1 = lambda arr: np.log2(1+arr)\n",
    "t2 = lambda arr: np.log2(1 + t1(arr))\n",
    "t3 = lambda arr, k: (k+1)*arr/(arr+k)"
   ]
  },
  {
   "cell_type": "markdown",
   "id": "6b8061aa-9328-4b17-add2-4f7d9cb5ac9a",
   "metadata": {
    "tags": []
   },
   "source": [
    "#### Comparing effect of Different Frequency Transformers\n",
    "\n",
    "Given the fact that the book referenced vector dot product, that measure will be the one used for this step"
   ]
  },
  {
   "cell_type": "code",
   "execution_count": 139,
   "id": "28f92c96-a676-4f8f-8ccd-64080e6eee2c",
   "metadata": {},
   "outputs": [],
   "source": [
    "dot_dist = lambda x, y: 1/np.dot(x,y)"
   ]
  },
  {
   "cell_type": "markdown",
   "id": "0ee0b071-4f01-4c49-bcc0-34d08cbfe044",
   "metadata": {
    "tags": []
   },
   "source": [
    "### First Transform"
   ]
  },
  {
   "cell_type": "code",
   "execution_count": 140,
   "id": "ee071cf8-9abc-4bea-bc8e-fb85b83a1dfe",
   "metadata": {},
   "outputs": [
    {
     "data": {
      "text/html": [
       "<div>\n",
       "<style scoped>\n",
       "    .dataframe tbody tr th:only-of-type {\n",
       "        vertical-align: middle;\n",
       "    }\n",
       "\n",
       "    .dataframe tbody tr th {\n",
       "        vertical-align: top;\n",
       "    }\n",
       "\n",
       "    .dataframe thead th {\n",
       "        text-align: right;\n",
       "    }\n",
       "</style>\n",
       "<table border=\"1\" class=\"dataframe\">\n",
       "  <thead>\n",
       "    <tr style=\"text-align: right;\">\n",
       "      <th></th>\n",
       "      <th>0</th>\n",
       "      <th>1</th>\n",
       "      <th>2</th>\n",
       "      <th>3</th>\n",
       "      <th>4</th>\n",
       "      <th>5</th>\n",
       "    </tr>\n",
       "  </thead>\n",
       "  <tbody>\n",
       "    <tr>\n",
       "      <th>0</th>\n",
       "      <td>0.006090</td>\n",
       "      <td>0.011734</td>\n",
       "      <td>0.010949</td>\n",
       "      <td>0.012623</td>\n",
       "      <td>0.009014</td>\n",
       "      <td>0.013929</td>\n",
       "    </tr>\n",
       "    <tr>\n",
       "      <th>1</th>\n",
       "      <td>0.011734</td>\n",
       "      <td>0.003546</td>\n",
       "      <td>0.008557</td>\n",
       "      <td>0.010351</td>\n",
       "      <td>0.007956</td>\n",
       "      <td>0.012350</td>\n",
       "    </tr>\n",
       "    <tr>\n",
       "      <th>2</th>\n",
       "      <td>0.010949</td>\n",
       "      <td>0.008557</td>\n",
       "      <td>0.003336</td>\n",
       "      <td>0.006837</td>\n",
       "      <td>0.006969</td>\n",
       "      <td>0.009425</td>\n",
       "    </tr>\n",
       "    <tr>\n",
       "      <th>3</th>\n",
       "      <td>0.012623</td>\n",
       "      <td>0.010351</td>\n",
       "      <td>0.006837</td>\n",
       "      <td>0.004016</td>\n",
       "      <td>0.007510</td>\n",
       "      <td>0.009618</td>\n",
       "    </tr>\n",
       "    <tr>\n",
       "      <th>4</th>\n",
       "      <td>0.009014</td>\n",
       "      <td>0.007956</td>\n",
       "      <td>0.006969</td>\n",
       "      <td>0.007510</td>\n",
       "      <td>0.002870</td>\n",
       "      <td>0.008678</td>\n",
       "    </tr>\n",
       "    <tr>\n",
       "      <th>5</th>\n",
       "      <td>0.013929</td>\n",
       "      <td>0.012350</td>\n",
       "      <td>0.009425</td>\n",
       "      <td>0.009618</td>\n",
       "      <td>0.008678</td>\n",
       "      <td>0.005565</td>\n",
       "    </tr>\n",
       "  </tbody>\n",
       "</table>\n",
       "</div>"
      ],
      "text/plain": [
       "          0         1         2         3         4         5\n",
       "0  0.006090  0.011734  0.010949  0.012623  0.009014  0.013929\n",
       "1  0.011734  0.003546  0.008557  0.010351  0.007956  0.012350\n",
       "2  0.010949  0.008557  0.003336  0.006837  0.006969  0.009425\n",
       "3  0.012623  0.010351  0.006837  0.004016  0.007510  0.009618\n",
       "4  0.009014  0.007956  0.006969  0.007510  0.002870  0.008678\n",
       "5  0.013929  0.012350  0.009425  0.009618  0.008678  0.005565"
      ]
     },
     "metadata": {},
     "output_type": "display_data"
    }
   ],
   "source": [
    "mat = get_similarity_mat(500, dot_dist, t1)"
   ]
  },
  {
   "cell_type": "code",
   "execution_count": 143,
   "id": "3847125c-bf30-4c20-a2dd-79e795878507",
   "metadata": {},
   "outputs": [],
   "source": [
    "index = 440"
   ]
  },
  {
   "cell_type": "code",
   "execution_count": 144,
   "id": "33a2bc2b-2670-4cf7-98a8-fee6767759a3",
   "metadata": {},
   "outputs": [
    {
     "name": "stdout",
     "output_type": "stream",
     "text": [
      "Min. Dist. Index = 49\n",
      "Min. Dist. = 0.0072254638212528545\n",
      "\n",
      "The ability of neural networks to continuously learn and adapt to new tasks\n",
      "while retaining prior knowledge is crucial for many applications. However,\n",
      "current neural networks tend to forget previously learned tasks when trained on\n",
      "new ones, i.e., they suffer from Catastrophic Forgetting (CF). The objective of\n",
      "Continual Learning (CL) is to alleviate this problem, which is particularly\n",
      "relevant for medical applications, where it may not be feasible to store and\n",
      "access previously used sensitive patient data. In this work, we propose a\n",
      "Continual Learning approach for brain segmentation, where a single network is\n",
      "consecutively trained on samples from different domains. We build upon an\n",
      "importance driven approach and adapt it for medical image segmentation.\n",
      "Particularly, we introduce learning rate regularization to prevent the loss of\n",
      "the network's knowledge. Our results demonstrate that directly restricting the\n",
      "adaptation of important network parameters clearly reduces Catastrophic\n",
      "Forgetting for segmentation across domains.\n",
      "\n",
      "Domain adaptation (DA) has drawn high interest for its capacity to adapt a\n",
      "model trained on labeled source data to perform well on unlabeled or weakly\n",
      "labeled target data from a different domain. Most common DA techniques require\n",
      "concurrent access to the input images of both the source and target domains.\n",
      "However, in practice, privacy concerns often impede the availability of source\n",
      "images in the adaptation phase. This is a very frequent DA scenario in medical\n",
      "imaging, where, for instance, the source and target images could come from\n",
      "different clinical sites. We introduce a source-free domain adaptation for\n",
      "image segmentation. Our formulation is based on minimizing a label-free entropy\n",
      "loss defined over target-domain data, which we further guide with a\n",
      "domain-invariant prior on the segmentation regions. Many priors can be derived\n",
      "from anatomical information. Here, a class ratio prior is estimated from\n",
      "anatomical knowledge and integrated in the form of a Kullback Leibler (KL)\n",
      "divergence in our overall loss function. Furthermore, we motivate our overall\n",
      "loss with an interesting link to maximizing the mutual information between the\n",
      "target images and their label predictions. We show the effectiveness of our\n",
      "prior aware entropy minimization in a variety of domain-adaptation scenarios,\n",
      "with different modalities and applications, including spine, prostate, and\n",
      "cardiac segmentation. Our method yields comparable results to several state of\n",
      "the art adaptation techniques, despite having access to much less information,\n",
      "as the source images are entirely absent in our adaptation phase. Our\n",
      "straightforward adaptation strategy uses only one network, contrary to popular\n",
      "adversarial techniques, which are not applicable to a source-free DA setting.\n",
      "Our framework can be readily used in a breadth of segmentation problems, and\n",
      "our code is publicly available: https://github.com/mathilde-b/SFDA\n"
     ]
    }
   ],
   "source": [
    "get_stats(index)"
   ]
  },
  {
   "cell_type": "code",
   "execution_count": 145,
   "id": "3f764b56-1ae4-4fc3-83c9-65bce157b662",
   "metadata": {},
   "outputs": [
    {
     "name": "stdout",
     "output_type": "stream",
     "text": [
      "Top Candidates: Int64Index([191, 14, 434, 222, 4, 425, 477, 78, 41, 432], dtype='int64')\n",
      "Their Scores: [0.0074, 0.0075, 0.0075, 0.0077, 0.0078, 0.0078, 0.0078, 0.0079, 0.008, 0.008]\n"
     ]
    }
   ],
   "source": [
    "rftt1 = get_rank(index)"
   ]
  },
  {
   "cell_type": "markdown",
   "id": "dab25610-039f-479e-bb45-ca9cbf0e6c0a",
   "metadata": {},
   "source": [
    "> Index *0*: Image Segmentation\n",
    "\n",
    "> Index *440*: Both documents talk about adaptative models, the general topic seems to be highly related"
   ]
  },
  {
   "cell_type": "markdown",
   "id": "78711d4b-97e0-4741-9402-5b30b1c5f3f6",
   "metadata": {
    "tags": []
   },
   "source": [
    "### Second Transform"
   ]
  },
  {
   "cell_type": "code",
   "execution_count": 146,
   "id": "3267d8bb-2783-482e-b069-b8d732619471",
   "metadata": {},
   "outputs": [
    {
     "data": {
      "text/html": [
       "<div>\n",
       "<style scoped>\n",
       "    .dataframe tbody tr th:only-of-type {\n",
       "        vertical-align: middle;\n",
       "    }\n",
       "\n",
       "    .dataframe tbody tr th {\n",
       "        vertical-align: top;\n",
       "    }\n",
       "\n",
       "    .dataframe thead th {\n",
       "        text-align: right;\n",
       "    }\n",
       "</style>\n",
       "<table border=\"1\" class=\"dataframe\">\n",
       "  <thead>\n",
       "    <tr style=\"text-align: right;\">\n",
       "      <th></th>\n",
       "      <th>0</th>\n",
       "      <th>1</th>\n",
       "      <th>2</th>\n",
       "      <th>3</th>\n",
       "      <th>4</th>\n",
       "      <th>5</th>\n",
       "    </tr>\n",
       "  </thead>\n",
       "  <tbody>\n",
       "    <tr>\n",
       "      <th>0</th>\n",
       "      <td>0.008158</td>\n",
       "      <td>0.020499</td>\n",
       "      <td>0.018565</td>\n",
       "      <td>0.022146</td>\n",
       "      <td>0.015655</td>\n",
       "      <td>0.022797</td>\n",
       "    </tr>\n",
       "    <tr>\n",
       "      <th>1</th>\n",
       "      <td>0.020499</td>\n",
       "      <td>0.005135</td>\n",
       "      <td>0.016202</td>\n",
       "      <td>0.019490</td>\n",
       "      <td>0.015514</td>\n",
       "      <td>0.023296</td>\n",
       "    </tr>\n",
       "    <tr>\n",
       "      <th>2</th>\n",
       "      <td>0.018565</td>\n",
       "      <td>0.016202</td>\n",
       "      <td>0.004714</td>\n",
       "      <td>0.011577</td>\n",
       "      <td>0.012807</td>\n",
       "      <td>0.015909</td>\n",
       "    </tr>\n",
       "    <tr>\n",
       "      <th>3</th>\n",
       "      <td>0.022146</td>\n",
       "      <td>0.019490</td>\n",
       "      <td>0.011577</td>\n",
       "      <td>0.005561</td>\n",
       "      <td>0.014134</td>\n",
       "      <td>0.015484</td>\n",
       "    </tr>\n",
       "    <tr>\n",
       "      <th>4</th>\n",
       "      <td>0.015655</td>\n",
       "      <td>0.015514</td>\n",
       "      <td>0.012807</td>\n",
       "      <td>0.014134</td>\n",
       "      <td>0.004192</td>\n",
       "      <td>0.015173</td>\n",
       "    </tr>\n",
       "    <tr>\n",
       "      <th>5</th>\n",
       "      <td>0.022797</td>\n",
       "      <td>0.023296</td>\n",
       "      <td>0.015909</td>\n",
       "      <td>0.015484</td>\n",
       "      <td>0.015173</td>\n",
       "      <td>0.007332</td>\n",
       "    </tr>\n",
       "  </tbody>\n",
       "</table>\n",
       "</div>"
      ],
      "text/plain": [
       "          0         1         2         3         4         5\n",
       "0  0.008158  0.020499  0.018565  0.022146  0.015655  0.022797\n",
       "1  0.020499  0.005135  0.016202  0.019490  0.015514  0.023296\n",
       "2  0.018565  0.016202  0.004714  0.011577  0.012807  0.015909\n",
       "3  0.022146  0.019490  0.011577  0.005561  0.014134  0.015484\n",
       "4  0.015655  0.015514  0.012807  0.014134  0.004192  0.015173\n",
       "5  0.022797  0.023296  0.015909  0.015484  0.015173  0.007332"
      ]
     },
     "metadata": {},
     "output_type": "display_data"
    }
   ],
   "source": [
    "mat = get_similarity_mat(500, dot_dist, t2)"
   ]
  },
  {
   "cell_type": "code",
   "execution_count": 150,
   "id": "3ff7866b-a5ee-4240-baf7-b0a05a396810",
   "metadata": {},
   "outputs": [],
   "source": [
    "index = 440"
   ]
  },
  {
   "cell_type": "code",
   "execution_count": 151,
   "id": "c2464205-b848-4239-baec-cf3c4b542151",
   "metadata": {},
   "outputs": [
    {
     "name": "stdout",
     "output_type": "stream",
     "text": [
      "Min. Dist. Index = 191\n",
      "Min. Dist. = 0.01179637827596876\n",
      "\n",
      "The ability of neural networks to continuously learn and adapt to new tasks\n",
      "while retaining prior knowledge is crucial for many applications. However,\n",
      "current neural networks tend to forget previously learned tasks when trained on\n",
      "new ones, i.e., they suffer from Catastrophic Forgetting (CF). The objective of\n",
      "Continual Learning (CL) is to alleviate this problem, which is particularly\n",
      "relevant for medical applications, where it may not be feasible to store and\n",
      "access previously used sensitive patient data. In this work, we propose a\n",
      "Continual Learning approach for brain segmentation, where a single network is\n",
      "consecutively trained on samples from different domains. We build upon an\n",
      "importance driven approach and adapt it for medical image segmentation.\n",
      "Particularly, we introduce learning rate regularization to prevent the loss of\n",
      "the network's knowledge. Our results demonstrate that directly restricting the\n",
      "adaptation of important network parameters clearly reduces Catastrophic\n",
      "Forgetting for segmentation across domains.\n",
      "\n",
      "Domain adaptation (DA) has drawn high interests for its capacity to adapt a\n",
      "model trained on labeled source data to perform well on unlabeled or weakly\n",
      "labeled target data from a different domain. Most common DA techniques require\n",
      "the concurrent access to the input images of both the source and target\n",
      "domains. However, in practice, it is common that the source images are not\n",
      "available in the adaptation phase. This is a very frequent DA scenario in\n",
      "medical imaging, for instance, when the source and target images come from\n",
      "different clinical sites. We propose a novel formulation for adapting\n",
      "segmentation networks, which relaxes such a constraint. Our formulation is\n",
      "based on minimizing a label-free entropy loss defined over target-domain data,\n",
      "which we further guide with a domain invariant prior on the segmentation\n",
      "regions. Many priors can be used, derived from anatomical information. Here, a\n",
      "class-ratio prior is learned via an auxiliary network and integrated in the\n",
      "form of a Kullback-Leibler (KL) divergence in our overall loss function. We\n",
      "show the effectiveness of our prior-aware entropy minimization in adapting\n",
      "spine segmentation across different MRI modalities. Our method yields\n",
      "comparable results to several state-of-the-art adaptation techniques, even\n",
      "though is has access to less information, the source images being absent in the\n",
      "adaptation phase. Our straight-forward adaptation strategy only uses one\n",
      "network, contrary to popular adversarial techniques, which cannot perform\n",
      "without the presence of the source images. Our framework can be readily used\n",
      "with various priors and segmentation problems.\n"
     ]
    }
   ],
   "source": [
    "get_stats(index)"
   ]
  },
  {
   "cell_type": "code",
   "execution_count": 152,
   "id": "dba5aa63-3451-4cd7-9805-1a04a13217d2",
   "metadata": {},
   "outputs": [
    {
     "name": "stdout",
     "output_type": "stream",
     "text": [
      "Top Candidates: Int64Index([49, 14, 95, 222, 434, 41, 425, 477, 75, 78], dtype='int64')\n",
      "Their Scores: [0.0119, 0.0121, 0.0126, 0.0127, 0.0128, 0.0128, 0.0129, 0.013, 0.0131, 0.0132]\n"
     ]
    }
   ],
   "source": [
    "rftt2 = get_rank(index)"
   ]
  },
  {
   "cell_type": "markdown",
   "id": "1ad464ea-912e-43c7-ad41-e8922c991eb1",
   "metadata": {
    "tags": []
   },
   "source": [
    "### Third Transform"
   ]
  },
  {
   "cell_type": "code",
   "execution_count": 161,
   "id": "a0af1871-6e37-4813-823e-8a938909a038",
   "metadata": {},
   "outputs": [],
   "source": [
    "k=2\n",
    "t3_k = lambda arr: t3(arr, k)"
   ]
  },
  {
   "cell_type": "code",
   "execution_count": 162,
   "id": "da20401e-91ba-44cf-b041-29d8a9ef3847",
   "metadata": {},
   "outputs": [
    {
     "data": {
      "text/html": [
       "<div>\n",
       "<style scoped>\n",
       "    .dataframe tbody tr th:only-of-type {\n",
       "        vertical-align: middle;\n",
       "    }\n",
       "\n",
       "    .dataframe tbody tr th {\n",
       "        vertical-align: top;\n",
       "    }\n",
       "\n",
       "    .dataframe thead th {\n",
       "        text-align: right;\n",
       "    }\n",
       "</style>\n",
       "<table border=\"1\" class=\"dataframe\">\n",
       "  <thead>\n",
       "    <tr style=\"text-align: right;\">\n",
       "      <th></th>\n",
       "      <th>0</th>\n",
       "      <th>1</th>\n",
       "      <th>2</th>\n",
       "      <th>3</th>\n",
       "      <th>4</th>\n",
       "      <th>5</th>\n",
       "    </tr>\n",
       "  </thead>\n",
       "  <tbody>\n",
       "    <tr>\n",
       "      <th>0</th>\n",
       "      <td>0.007211</td>\n",
       "      <td>0.016773</td>\n",
       "      <td>0.015164</td>\n",
       "      <td>0.017970</td>\n",
       "      <td>0.012984</td>\n",
       "      <td>0.018714</td>\n",
       "    </tr>\n",
       "    <tr>\n",
       "      <th>1</th>\n",
       "      <td>0.016773</td>\n",
       "      <td>0.004526</td>\n",
       "      <td>0.012843</td>\n",
       "      <td>0.015694</td>\n",
       "      <td>0.012707</td>\n",
       "      <td>0.018620</td>\n",
       "    </tr>\n",
       "    <tr>\n",
       "      <th>2</th>\n",
       "      <td>0.015164</td>\n",
       "      <td>0.012843</td>\n",
       "      <td>0.004100</td>\n",
       "      <td>0.009474</td>\n",
       "      <td>0.010465</td>\n",
       "      <td>0.012950</td>\n",
       "    </tr>\n",
       "    <tr>\n",
       "      <th>3</th>\n",
       "      <td>0.017970</td>\n",
       "      <td>0.015694</td>\n",
       "      <td>0.009474</td>\n",
       "      <td>0.004888</td>\n",
       "      <td>0.011487</td>\n",
       "      <td>0.012884</td>\n",
       "    </tr>\n",
       "    <tr>\n",
       "      <th>4</th>\n",
       "      <td>0.012984</td>\n",
       "      <td>0.012707</td>\n",
       "      <td>0.010465</td>\n",
       "      <td>0.011487</td>\n",
       "      <td>0.003691</td>\n",
       "      <td>0.012606</td>\n",
       "    </tr>\n",
       "    <tr>\n",
       "      <th>5</th>\n",
       "      <td>0.018714</td>\n",
       "      <td>0.018620</td>\n",
       "      <td>0.012950</td>\n",
       "      <td>0.012884</td>\n",
       "      <td>0.012606</td>\n",
       "      <td>0.006537</td>\n",
       "    </tr>\n",
       "  </tbody>\n",
       "</table>\n",
       "</div>"
      ],
      "text/plain": [
       "          0         1         2         3         4         5\n",
       "0  0.007211  0.016773  0.015164  0.017970  0.012984  0.018714\n",
       "1  0.016773  0.004526  0.012843  0.015694  0.012707  0.018620\n",
       "2  0.015164  0.012843  0.004100  0.009474  0.010465  0.012950\n",
       "3  0.017970  0.015694  0.009474  0.004888  0.011487  0.012884\n",
       "4  0.012984  0.012707  0.010465  0.011487  0.003691  0.012606\n",
       "5  0.018714  0.018620  0.012950  0.012884  0.012606  0.006537"
      ]
     },
     "metadata": {},
     "output_type": "display_data"
    }
   ],
   "source": [
    "mat = get_similarity_mat(500, dot_dist, t3_k)"
   ]
  },
  {
   "cell_type": "code",
   "execution_count": 163,
   "id": "476264ef-20e4-4eb5-a0ed-6613f3115485",
   "metadata": {},
   "outputs": [],
   "source": [
    "index = 440"
   ]
  },
  {
   "cell_type": "code",
   "execution_count": 164,
   "id": "f4e8cdeb-7f38-45f6-8f5f-fff380b49309",
   "metadata": {},
   "outputs": [
    {
     "name": "stdout",
     "output_type": "stream",
     "text": [
      "Min. Dist. Index = 191\n",
      "Min. Dist. = 0.009746947512371186\n",
      "\n",
      "The ability of neural networks to continuously learn and adapt to new tasks\n",
      "while retaining prior knowledge is crucial for many applications. However,\n",
      "current neural networks tend to forget previously learned tasks when trained on\n",
      "new ones, i.e., they suffer from Catastrophic Forgetting (CF). The objective of\n",
      "Continual Learning (CL) is to alleviate this problem, which is particularly\n",
      "relevant for medical applications, where it may not be feasible to store and\n",
      "access previously used sensitive patient data. In this work, we propose a\n",
      "Continual Learning approach for brain segmentation, where a single network is\n",
      "consecutively trained on samples from different domains. We build upon an\n",
      "importance driven approach and adapt it for medical image segmentation.\n",
      "Particularly, we introduce learning rate regularization to prevent the loss of\n",
      "the network's knowledge. Our results demonstrate that directly restricting the\n",
      "adaptation of important network parameters clearly reduces Catastrophic\n",
      "Forgetting for segmentation across domains.\n",
      "\n",
      "Domain adaptation (DA) has drawn high interests for its capacity to adapt a\n",
      "model trained on labeled source data to perform well on unlabeled or weakly\n",
      "labeled target data from a different domain. Most common DA techniques require\n",
      "the concurrent access to the input images of both the source and target\n",
      "domains. However, in practice, it is common that the source images are not\n",
      "available in the adaptation phase. This is a very frequent DA scenario in\n",
      "medical imaging, for instance, when the source and target images come from\n",
      "different clinical sites. We propose a novel formulation for adapting\n",
      "segmentation networks, which relaxes such a constraint. Our formulation is\n",
      "based on minimizing a label-free entropy loss defined over target-domain data,\n",
      "which we further guide with a domain invariant prior on the segmentation\n",
      "regions. Many priors can be used, derived from anatomical information. Here, a\n",
      "class-ratio prior is learned via an auxiliary network and integrated in the\n",
      "form of a Kullback-Leibler (KL) divergence in our overall loss function. We\n",
      "show the effectiveness of our prior-aware entropy minimization in adapting\n",
      "spine segmentation across different MRI modalities. Our method yields\n",
      "comparable results to several state-of-the-art adaptation techniques, even\n",
      "though is has access to less information, the source images being absent in the\n",
      "adaptation phase. Our straight-forward adaptation strategy only uses one\n",
      "network, contrary to popular adversarial techniques, which cannot perform\n",
      "without the presence of the source images. Our framework can be readily used\n",
      "with various priors and segmentation problems.\n"
     ]
    }
   ],
   "source": [
    "get_stats(index)"
   ]
  },
  {
   "cell_type": "code",
   "execution_count": 165,
   "id": "18acf376-d04a-4d14-9b91-46e075786efd",
   "metadata": {},
   "outputs": [
    {
     "name": "stdout",
     "output_type": "stream",
     "text": [
      "Top Candidates: Int64Index([49, 14, 434, 95, 222, 425, 78, 477, 41, 4], dtype='int64')\n",
      "Their Scores: [0.0098, 0.01, 0.0103, 0.0104, 0.0104, 0.0104, 0.0106, 0.0106, 0.0106, 0.0109]\n"
     ]
    }
   ],
   "source": [
    "rftt3 = get_rank(index)"
   ]
  },
  {
   "cell_type": "markdown",
   "id": "3a2b92b8-bbd8-40b9-8702-2ada812b550e",
   "metadata": {},
   "source": [
    "> ## Final Comments"
   ]
  },
  {
   "cell_type": "code",
   "execution_count": 166,
   "id": "e0d8b7ec-afc7-4339-a409-122abdcccc01",
   "metadata": {},
   "outputs": [
    {
     "name": "stdout",
     "output_type": "stream",
     "text": [
      "Int64Index([191, 14, 434, 222, 4, 425, 477, 78, 41, 432], dtype='int64')\n",
      "Int64Index([49, 14, 95, 222, 434, 41, 425, 477, 75, 78], dtype='int64')\n",
      "Int64Index([49, 14, 434, 95, 222, 425, 78, 477, 41, 4], dtype='int64')\n"
     ]
    }
   ],
   "source": [
    "print(rftt1, rftt2, rftt3, sep=\"\\n\")"
   ]
  },
  {
   "cell_type": "code",
   "execution_count": 167,
   "id": "dde15372-e9fb-4c1f-9721-82dea0e01167",
   "metadata": {},
   "outputs": [
    {
     "data": {
      "text/plain": [
       "array([ 14,  41,  78, 222, 425, 434, 477], dtype=int64)"
      ]
     },
     "execution_count": 167,
     "metadata": {},
     "output_type": "execute_result"
    }
   ],
   "source": [
    "np.intersect1d(rftt1,rftt2)"
   ]
  },
  {
   "cell_type": "code",
   "execution_count": 168,
   "id": "92df58cb-914e-4a61-9a51-937518b4e44e",
   "metadata": {},
   "outputs": [
    {
     "data": {
      "text/plain": [
       "array([  4,  14,  41,  78, 222, 425, 434, 477], dtype=int64)"
      ]
     },
     "execution_count": 168,
     "metadata": {},
     "output_type": "execute_result"
    }
   ],
   "source": [
    "np.intersect1d(rftt1,rftt3)"
   ]
  },
  {
   "cell_type": "code",
   "execution_count": 169,
   "id": "33667b24-6b53-446b-8ba7-881372a49ef6",
   "metadata": {},
   "outputs": [
    {
     "data": {
      "text/plain": [
       "array([ 14,  41,  49,  78,  95, 222, 425, 434, 477], dtype=int64)"
      ]
     },
     "execution_count": 169,
     "metadata": {},
     "output_type": "execute_result"
    }
   ],
   "source": [
    "np.intersect1d(rftt2, rftt3)"
   ]
  },
  {
   "cell_type": "markdown",
   "id": "3772af90-01b3-45d5-8c8f-0d25c00eb3a6",
   "metadata": {},
   "source": [
    "> Using the same distance metric with the different frequency transformation gave the same results"
   ]
  },
  {
   "cell_type": "markdown",
   "id": "3a19bb8c-9340-4f8e-9444-1d814f000720",
   "metadata": {
    "jp-MarkdownHeadingCollapsed": true,
    "tags": []
   },
   "source": [
    "## Inverse Term Frequency Transformation"
   ]
  },
  {
   "cell_type": "code",
   "execution_count": 194,
   "id": "17a9feec-2575-424d-a729-4fceedc25d36",
   "metadata": {},
   "outputs": [],
   "source": [
    "def bag_of_words(document: str, doc_freq: list, vocab: list, t: Callable) -> Sequence:\n",
    "    bow = np.zeros(len(vocab))\n",
    "    loc = dict(map(lambda pair: (pair[1], pair[0]), enumerate(vocab)))\n",
    "    \n",
    "    for word in nltk.word_tokenize(document):\n",
    "        bow[loc[word.lower()]]+=1\n",
    "    \n",
    "    bow = t(bow)\n",
    "    \n",
    "    for i, v in enumerate(bow):\n",
    "        if v!=0:\n",
    "            bow[i] = np.log((doc_freq[i] + 1) / bow[i])\n",
    "    return bow"
   ]
  },
  {
   "cell_type": "code",
   "execution_count": 186,
   "id": "b86ad5b3-ecc6-425d-b996-cc8194655884",
   "metadata": {},
   "outputs": [],
   "source": [
    "def get_similarity_mat(N: int, dist: Callable, t: Callable):\n",
    "    bows = [ bag_of_words(get(i), doc_freq, vocab, t) for i in range(N) ]\n",
    "    \n",
    "    sim_mat = np.zeros((N,N))\n",
    "    for i in range(N):\n",
    "        for j in range(i, N):\n",
    "            sim_mat[i,j] = dist(bows[i], bows[j])\n",
    "            sim_mat[j,i] = sim_mat[i,j]\n",
    "    display(pd.DataFrame(data = sim_mat, columns=range(N), index=range(N)).loc[0:5, 0:5])\n",
    "    return sim_mat"
   ]
  },
  {
   "cell_type": "code",
   "execution_count": 172,
   "id": "e502723a-3173-41b5-b580-92193dca6dd1",
   "metadata": {},
   "outputs": [],
   "source": [
    "t1 = lambda arr: np.log2(1+arr)\n",
    "t2 = lambda arr: np.log2(1 + t1(arr))\n",
    "t3 = lambda arr, k: (k+1)*arr/(arr+k)"
   ]
  },
  {
   "cell_type": "code",
   "execution_count": 14,
   "id": "2aa94a78-5efa-4150-88f4-fa3984522260",
   "metadata": {},
   "outputs": [],
   "source": [
    "def get_vocabulary_and_frequency(all_docs)->set:\n",
    "    vocab = dict()\n",
    "    for doc in all_docs:\n",
    "        current_words = dict()\n",
    "        for word in nltk.word_tokenize(doc):\n",
    "            try:\n",
    "                current_words[word.lower()]\n",
    "            except:\n",
    "                vocab[ word.lower() ] = vocab.get(word.lower(),  0) + 1\n",
    "                current_words[ word.lower() ] = 1\n",
    "    return vocab.keys(), vocab.values()"
   ]
  },
  {
   "cell_type": "code",
   "execution_count": 198,
   "id": "86d726df-24aa-4ff9-8a46-8b4c0bd438a6",
   "metadata": {},
   "outputs": [],
   "source": [
    "vocab, doc_freq = list(map(list, get_vocabulary_and_frequency(df[\"summaries\"])))"
   ]
  },
  {
   "cell_type": "markdown",
   "id": "e1d025e0-5f8b-4c3d-af0c-1aae0469c6b9",
   "metadata": {},
   "source": [
    "### First Transform"
   ]
  },
  {
   "cell_type": "code",
   "execution_count": 200,
   "id": "ffc1f4fc-b12a-45b7-be28-5199ec656a95",
   "metadata": {},
   "outputs": [
    {
     "data": {
      "text/html": [
       "<div>\n",
       "<style scoped>\n",
       "    .dataframe tbody tr th:only-of-type {\n",
       "        vertical-align: middle;\n",
       "    }\n",
       "\n",
       "    .dataframe tbody tr th {\n",
       "        vertical-align: top;\n",
       "    }\n",
       "\n",
       "    .dataframe thead th {\n",
       "        text-align: right;\n",
       "    }\n",
       "</style>\n",
       "<table border=\"1\" class=\"dataframe\">\n",
       "  <thead>\n",
       "    <tr style=\"text-align: right;\">\n",
       "      <th></th>\n",
       "      <th>0</th>\n",
       "      <th>1</th>\n",
       "      <th>2</th>\n",
       "      <th>3</th>\n",
       "      <th>4</th>\n",
       "      <th>5</th>\n",
       "    </tr>\n",
       "  </thead>\n",
       "  <tbody>\n",
       "    <tr>\n",
       "      <th>0</th>\n",
       "      <td>0.000681</td>\n",
       "      <td>0.001682</td>\n",
       "      <td>0.001410</td>\n",
       "      <td>0.001651</td>\n",
       "      <td>0.001170</td>\n",
       "      <td>0.001588</td>\n",
       "    </tr>\n",
       "    <tr>\n",
       "      <th>1</th>\n",
       "      <td>0.001682</td>\n",
       "      <td>0.000724</td>\n",
       "      <td>0.001522</td>\n",
       "      <td>0.001649</td>\n",
       "      <td>0.001351</td>\n",
       "      <td>0.001895</td>\n",
       "    </tr>\n",
       "    <tr>\n",
       "      <th>2</th>\n",
       "      <td>0.001410</td>\n",
       "      <td>0.001522</td>\n",
       "      <td>0.000453</td>\n",
       "      <td>0.000982</td>\n",
       "      <td>0.001021</td>\n",
       "      <td>0.001156</td>\n",
       "    </tr>\n",
       "    <tr>\n",
       "      <th>3</th>\n",
       "      <td>0.001651</td>\n",
       "      <td>0.001649</td>\n",
       "      <td>0.000982</td>\n",
       "      <td>0.000514</td>\n",
       "      <td>0.001172</td>\n",
       "      <td>0.001080</td>\n",
       "    </tr>\n",
       "    <tr>\n",
       "      <th>4</th>\n",
       "      <td>0.001170</td>\n",
       "      <td>0.001351</td>\n",
       "      <td>0.001021</td>\n",
       "      <td>0.001172</td>\n",
       "      <td>0.000437</td>\n",
       "      <td>0.001154</td>\n",
       "    </tr>\n",
       "    <tr>\n",
       "      <th>5</th>\n",
       "      <td>0.001588</td>\n",
       "      <td>0.001895</td>\n",
       "      <td>0.001156</td>\n",
       "      <td>0.001080</td>\n",
       "      <td>0.001154</td>\n",
       "      <td>0.000552</td>\n",
       "    </tr>\n",
       "  </tbody>\n",
       "</table>\n",
       "</div>"
      ],
      "text/plain": [
       "          0         1         2         3         4         5\n",
       "0  0.000681  0.001682  0.001410  0.001651  0.001170  0.001588\n",
       "1  0.001682  0.000724  0.001522  0.001649  0.001351  0.001895\n",
       "2  0.001410  0.001522  0.000453  0.000982  0.001021  0.001156\n",
       "3  0.001651  0.001649  0.000982  0.000514  0.001172  0.001080\n",
       "4  0.001170  0.001351  0.001021  0.001172  0.000437  0.001154\n",
       "5  0.001588  0.001895  0.001156  0.001080  0.001154  0.000552"
      ]
     },
     "metadata": {},
     "output_type": "display_data"
    }
   ],
   "source": [
    "mat = get_similarity_mat(500, dot_dist, t1)"
   ]
  },
  {
   "cell_type": "code",
   "execution_count": 204,
   "id": "8024903d-12d6-4e12-9452-c05c74ca92e7",
   "metadata": {},
   "outputs": [],
   "source": [
    "index = 225"
   ]
  },
  {
   "cell_type": "code",
   "execution_count": 205,
   "id": "ef5a4c7a-1626-43e4-b740-ace20f10943e",
   "metadata": {},
   "outputs": [
    {
     "name": "stdout",
     "output_type": "stream",
     "text": [
      "Min. Dist. Index = 41\n",
      "Min. Dist. = 0.0011564612145292582\n",
      "\n",
      "We generalize a graph-based multiclass semi-supervised classification\n",
      "technique based on diffuse interface methods to multilayer graphs. Besides the\n",
      "treatment of various applications with an inherent multilayer structure, we\n",
      "present a very flexible approach that interprets high-dimensional data in a\n",
      "low-dimensional multilayer graph representation. Highly efficient numerical\n",
      "methods involving the spectral decomposition of the corresponding differential\n",
      "graph operators as well as fast matrix-vector products based on the\n",
      "nonequispaced fast Fourier transform (NFFT) enable the rapid treatment of large\n",
      "and high-dimensional data sets. We perform various numerical tests putting a\n",
      "special focus on image segmentation. In particular, we test the performance of\n",
      "our method on data sets with up to 10 million nodes per layer as well as up to\n",
      "104 dimensions resulting in graphs with up to 52 layers. While all presented\n",
      "numerical experiments can be run on an average laptop computer, the linear\n",
      "dependence per iteration step of the runtime on the network size in all stages\n",
      "of our algorithm makes it scalable to even larger and higher-dimensional\n",
      "problems.\n",
      "\n",
      "Automated segmentation in medical image analysis is a challenging task that\n",
      "requires a large amount of manually labeled data. However, most existing\n",
      "learning-based approaches usually suffer from limited manually annotated\n",
      "medical data, which poses a major practical problem for accurate and robust\n",
      "medical image segmentation. In addition, most existing semi-supervised\n",
      "approaches are usually not robust compared with the supervised counterparts,\n",
      "and also lack explicit modeling of geometric structure and semantic\n",
      "information, both of which limit the segmentation accuracy. In this work, we\n",
      "present SimCVD, a simple contrastive distillation framework that significantly\n",
      "advances state-of-the-art voxel-wise representation learning. We first describe\n",
      "an unsupervised training strategy, which takes two views of an input volume and\n",
      "predicts their signed distance maps of object boundaries in a contrastive\n",
      "objective, with only two independent dropout as mask. This simple approach\n",
      "works surprisingly well, performing on the same level as previous fully\n",
      "supervised methods with much less labeled data. We hypothesize that dropout can\n",
      "be viewed as a minimal form of data augmentation and makes the network robust\n",
      "to representation collapse. Then, we propose to perform structural distillation\n",
      "by distilling pair-wise similarities. We evaluate SimCVD on two popular\n",
      "datasets: the Left Atrial Segmentation Challenge (LA) and the NIH pancreas CT\n",
      "dataset. The results on the LA dataset demonstrate that, in two types of\n",
      "labeled ratios (i.e., 20% and 10%), SimCVD achieves an average Dice score of\n",
      "90.85% and 89.03% respectively, a 0.91% and 2.22% improvement compared to\n",
      "previous best results. Our method can be trained in an end-to-end fashion,\n",
      "showing the promise of utilizing SimCVD as a general framework for downstream\n",
      "tasks, such as medical image synthesis and registration.\n"
     ]
    }
   ],
   "source": [
    "get_stats(index)"
   ]
  },
  {
   "cell_type": "code",
   "execution_count": 206,
   "id": "19387376-a915-444c-bcf9-7b274a22e02f",
   "metadata": {},
   "outputs": [
    {
     "name": "stdout",
     "output_type": "stream",
     "text": [
      "Top Candidates: Int64Index([321, 314, 300, 389, 476, 141, 355, 113, 374, 236], dtype='int64')\n",
      "Their Scores: [0.0012, 0.0012, 0.0012, 0.0012, 0.0012, 0.0012, 0.0012, 0.0012, 0.0012, 0.0012]\n"
     ]
    }
   ],
   "source": [
    "riftt1 = get_rank(index)"
   ]
  },
  {
   "cell_type": "markdown",
   "id": "4ca4d1d2-45ad-4d23-8e00-52c2cd3ec246",
   "metadata": {
    "tags": []
   },
   "source": [
    "# Syntatic Structure Features"
   ]
  },
  {
   "cell_type": "code",
   "execution_count": 194,
   "id": "0db94b17-057e-4f15-87c3-d7f471053a93",
   "metadata": {},
   "outputs": [],
   "source": [
    "from sklearn.feature_extraction.text import TfidfVectorizer, TfidfTransformer, ENGLISH_STOP_WORDS\n",
    "from sklearn.decomposition import TruncatedSVD\n",
    "from string import punctuation"
   ]
  },
  {
   "cell_type": "code",
   "execution_count": 9,
   "id": "8e3c2e2c-768a-4f8f-8455-112aa7c25697",
   "metadata": {},
   "outputs": [],
   "source": [
    "def get_vocabulary(all_docs)->set:\n",
    "    vocab = set()\n",
    "    for doc in all_docs:\n",
    "        for word in nltk.word_tokenize(doc):\n",
    "            vocab|={word.lower()}\n",
    "    return vocab"
   ]
  },
  {
   "cell_type": "code",
   "execution_count": 10,
   "id": "658ab89d-06eb-4a3e-809a-ba713a022878",
   "metadata": {},
   "outputs": [],
   "source": [
    "vocab = get_vocabulary(\n",
    "        df.summaries.apply(\n",
    "            lambda text: \" \".join(\n",
    "                list(map(lambda tokens: tokens[1], nltk.pos_tag(nltk.word_tokenize(text))))\n",
    "        ) \n",
    "    )\n",
    ")"
   ]
  },
  {
   "cell_type": "code",
   "execution_count": 11,
   "id": "e6909148-ed85-486f-b1b6-a620f10a5085",
   "metadata": {},
   "outputs": [],
   "source": [
    "def bag_of_tokens(doc, vocab):\n",
    "    bot = np.zeros(len(vocab))\n",
    "    loc = dict(map(lambda pair: (pair[1], pair[0]), enumerate(vocab)))\n",
    "    \n",
    "    for token in nltk.word_tokenize(doc):\n",
    "        bot[loc[token.lower()]]+=1\n",
    "    \n",
    "    return bot"
   ]
  },
  {
   "cell_type": "code",
   "execution_count": 12,
   "id": "c87ea2f5-1213-4aca-bffd-2c0292d30edf",
   "metadata": {},
   "outputs": [
    {
     "data": {
      "text/plain": [
       "array([ 1.,  0.,  5., 18.,  6.,  9.,  0.,  0.,  0.,  6.,  4.,  0., 25.,\n",
       "        1.,  4.,  0.,  0.,  1.,  0., 16.,  0.,  4.,  1.,  3.,  3.,  0.,\n",
       "        0.,  1.,  0.,  0.,  0.,  2., 22.,  0.,  4.,  0.,  0.,  4.,  4.,\n",
       "        0.])"
      ]
     },
     "execution_count": 12,
     "metadata": {},
     "output_type": "execute_result"
    }
   ],
   "source": [
    "bag_of_tokens(df.summaries.apply(\n",
    "            lambda text: \" \".join(\n",
    "                list(map(lambda tokens: tokens[1], nltk.pos_tag(nltk.word_tokenize(text))))\n",
    "        )).loc[0] , vocab)"
   ]
  },
  {
   "cell_type": "code",
   "execution_count": 13,
   "id": "ff630c47-7398-46ff-8394-48a76bf7492c",
   "metadata": {},
   "outputs": [],
   "source": [
    "def get_similarity_mat(N, dist):\n",
    "    bots = [ bag_of_tokens( \n",
    "        \" \".join(\n",
    "            list(map(lambda x: x[1], \n",
    "                     nltk.pos_tag(\n",
    "                         nltk.word_tokenize(df.loc[i,\"summaries\"])\n",
    "                     )\n",
    "                ))\n",
    "        ), vocab) for i in range(N) ]\n",
    "    \n",
    "    sim_mat = np.zeros((N,N))\n",
    "    for i in range(N):\n",
    "        for j in range(i, N):\n",
    "            sim_mat[i,j] = dist(bots[i], bots[j])\n",
    "            sim_mat[j,i] = sim_mat[i,j]\n",
    "    display(pd.DataFrame(data = sim_mat, columns=range(N), index=range(N)).loc[0:5, 0:5])\n",
    "    return sim_mat"
   ]
  },
  {
   "cell_type": "markdown",
   "id": "2494f4c6-6fa3-41e9-bfc3-2b203eb7bff7",
   "metadata": {
    "jp-MarkdownHeadingCollapsed": true,
    "tags": []
   },
   "source": [
    "## Simple N-Gram Pos-Tags"
   ]
  },
  {
   "cell_type": "code",
   "execution_count": 38,
   "id": "cea6a1fa-17de-4ab4-8910-a84eb02e4874",
   "metadata": {},
   "outputs": [
    {
     "data": {
      "text/html": [
       "<div>\n",
       "<style scoped>\n",
       "    .dataframe tbody tr th:only-of-type {\n",
       "        vertical-align: middle;\n",
       "    }\n",
       "\n",
       "    .dataframe tbody tr th {\n",
       "        vertical-align: top;\n",
       "    }\n",
       "\n",
       "    .dataframe thead th {\n",
       "        text-align: right;\n",
       "    }\n",
       "</style>\n",
       "<table border=\"1\" class=\"dataframe\">\n",
       "  <thead>\n",
       "    <tr style=\"text-align: right;\">\n",
       "      <th></th>\n",
       "      <th>0</th>\n",
       "      <th>1</th>\n",
       "      <th>2</th>\n",
       "      <th>3</th>\n",
       "      <th>4</th>\n",
       "      <th>5</th>\n",
       "    </tr>\n",
       "  </thead>\n",
       "  <tbody>\n",
       "    <tr>\n",
       "      <th>0</th>\n",
       "      <td>0.000000</td>\n",
       "      <td>0.072335</td>\n",
       "      <td>0.057072</td>\n",
       "      <td>0.048220</td>\n",
       "      <td>0.060620</td>\n",
       "      <td>0.052610</td>\n",
       "    </tr>\n",
       "    <tr>\n",
       "      <th>1</th>\n",
       "      <td>0.072335</td>\n",
       "      <td>0.000000</td>\n",
       "      <td>0.080544</td>\n",
       "      <td>0.082078</td>\n",
       "      <td>0.052070</td>\n",
       "      <td>0.060858</td>\n",
       "    </tr>\n",
       "    <tr>\n",
       "      <th>2</th>\n",
       "      <td>0.057072</td>\n",
       "      <td>0.080544</td>\n",
       "      <td>0.000000</td>\n",
       "      <td>0.068202</td>\n",
       "      <td>0.061277</td>\n",
       "      <td>0.062820</td>\n",
       "    </tr>\n",
       "    <tr>\n",
       "      <th>3</th>\n",
       "      <td>0.048220</td>\n",
       "      <td>0.082078</td>\n",
       "      <td>0.068202</td>\n",
       "      <td>0.000000</td>\n",
       "      <td>0.037230</td>\n",
       "      <td>0.035294</td>\n",
       "    </tr>\n",
       "    <tr>\n",
       "      <th>4</th>\n",
       "      <td>0.060620</td>\n",
       "      <td>0.052070</td>\n",
       "      <td>0.061277</td>\n",
       "      <td>0.037230</td>\n",
       "      <td>0.000000</td>\n",
       "      <td>0.045601</td>\n",
       "    </tr>\n",
       "    <tr>\n",
       "      <th>5</th>\n",
       "      <td>0.052610</td>\n",
       "      <td>0.060858</td>\n",
       "      <td>0.062820</td>\n",
       "      <td>0.035294</td>\n",
       "      <td>0.045601</td>\n",
       "      <td>0.000000</td>\n",
       "    </tr>\n",
       "  </tbody>\n",
       "</table>\n",
       "</div>"
      ],
      "text/plain": [
       "          0         1         2         3         4         5\n",
       "0  0.000000  0.072335  0.057072  0.048220  0.060620  0.052610\n",
       "1  0.072335  0.000000  0.080544  0.082078  0.052070  0.060858\n",
       "2  0.057072  0.080544  0.000000  0.068202  0.061277  0.062820\n",
       "3  0.048220  0.082078  0.068202  0.000000  0.037230  0.035294\n",
       "4  0.060620  0.052070  0.061277  0.037230  0.000000  0.045601\n",
       "5  0.052610  0.060858  0.062820  0.035294  0.045601  0.000000"
      ]
     },
     "metadata": {},
     "output_type": "display_data"
    }
   ],
   "source": [
    "idx=0\n",
    "mat = get_similarity_mat(500, cosine)"
   ]
  },
  {
   "cell_type": "code",
   "execution_count": 45,
   "id": "68d393f0-02da-4722-8d4e-90f4243f38e0",
   "metadata": {},
   "outputs": [
    {
     "name": "stdout",
     "output_type": "stream",
     "text": [
      "Min. Dist. Index = 47\n",
      "Min. Dist. = 0.01241624647046169\n",
      "\n",
      "Stereo matching is one of the widely used techniques for inferring depth from\n",
      "stereo images owing to its robustness and speed. It has become one of the major\n",
      "topics of research since it finds its applications in autonomous driving,\n",
      "robotic navigation, 3D reconstruction, and many other fields. Finding pixel\n",
      "correspondences in non-textured, occluded and reflective areas is the major\n",
      "challenge in stereo matching. Recent developments have shown that semantic cues\n",
      "from image segmentation can be used to improve the results of stereo matching.\n",
      "Many deep neural network architectures have been proposed to leverage the\n",
      "advantages of semantic segmentation in stereo matching. This paper aims to give\n",
      "a comparison among the state of art networks both in terms of accuracy and in\n",
      "terms of speed which are of higher importance in real-time applications.\n",
      "\n",
      "The development of high quality medical image segmentation algorithms depends\n",
      "on the availability of large datasets with pixel-level labels. The challenges\n",
      "of collecting such datasets, especially in case of 3D volumes, motivate to\n",
      "develop approaches that can learn from other types of labels that are cheap to\n",
      "obtain, e.g. bounding boxes. We focus on 3D medical images with their\n",
      "corresponding 3D bounding boxes which are considered as series of per-slice\n",
      "non-tight 2D bounding boxes. While current weakly-supervised approaches that\n",
      "use 2D bounding boxes as weak labels can be applied to medical image\n",
      "segmentation, we show that their success is limited in cases when the\n",
      "assumption about the tightness of the bounding boxes breaks. We propose a new\n",
      "bounding box correction framework which is trained on a small set of\n",
      "pixel-level annotations to improve the tightness of a larger set of non-tight\n",
      "bounding box annotations. The effectiveness of our solution is demonstrated by\n",
      "evaluating a known weakly-supervised segmentation approach with and without the\n",
      "proposed bounding box correction algorithm. When the tightness is improved by\n",
      "our solution, the results of the weakly-supervised segmentation become much\n",
      "closer to those of the fully-supervised one.\n"
     ]
    }
   ],
   "source": [
    "get_stats(idx)"
   ]
  },
  {
   "cell_type": "code",
   "execution_count": 46,
   "id": "4039b9f0-9c0e-4a2c-a0b1-170228815735",
   "metadata": {},
   "outputs": [
    {
     "name": "stdout",
     "output_type": "stream",
     "text": [
      "Top Candidates: Int64Index([362, 334, 297, 288, 345, 56, 370, 474, 149, 483], dtype='int64')\n",
      "Their Scores: [0.0181, 0.0189, 0.0206, 0.0207, 0.0207, 0.0216, 0.0217, 0.022, 0.0229, 0.0233]\n"
     ]
    }
   ],
   "source": [
    "ranks = get_rank(idx)"
   ]
  },
  {
   "cell_type": "markdown",
   "id": "d4b0b84c-83be-41d6-b9ab-1970ab6e156f",
   "metadata": {},
   "source": [
    "## Latent Semantic Analysis using TF-IDF"
   ]
  },
  {
   "cell_type": "code",
   "execution_count": 48,
   "id": "58dc5065-3c9a-43e1-ac9d-24cc6397eb18",
   "metadata": {
    "tags": []
   },
   "outputs": [],
   "source": [
    "def filter_tokens(list_of_tokens):\n",
    "    for token in list_of_tokens:\n",
    "        if token.lower() not in ENGLISH_STOP_WORDS and token not in punctuation:\n",
    "            yield token"
   ]
  },
  {
   "cell_type": "code",
   "execution_count": 53,
   "id": "28d9f6e0-f15c-4b90-bd48-bd08cf0ac484",
   "metadata": {},
   "outputs": [],
   "source": [
    "def tf_idf_bag_of_words(document: str, doc_freq: list, vocab: list, t: Callable) -> Sequence:\n",
    "    bow = np.zeros(len(vocab))\n",
    "    loc = dict(map(lambda pair: (pair[1], pair[0]), enumerate(vocab)))\n",
    "    \n",
    "    for word in filter_tokens(nltk.word_tokenize(document)):\n",
    "        bow[loc[word.lower()]]+=1\n",
    "    \n",
    "    bow = t(bow)\n",
    "    \n",
    "    for i, v in enumerate(bow):\n",
    "        if v!=0:\n",
    "            bow[i] = np.log((doc_freq[i] + 1) / bow[i])\n",
    "    return bow"
   ]
  },
  {
   "cell_type": "code",
   "execution_count": 50,
   "id": "f17e537c-0d72-496c-bbcd-5df4ef5d6d8e",
   "metadata": {},
   "outputs": [],
   "source": [
    "t1 = lambda arr: np.log2(1+arr)\n",
    "t2 = lambda arr: np.log2(1 + t1(arr))\n",
    "t3 = lambda arr, k: (k+1)*arr/(arr+k)"
   ]
  },
  {
   "cell_type": "code",
   "execution_count": 51,
   "id": "49c4080c-c4bf-4996-b543-312b6b05ff00",
   "metadata": {},
   "outputs": [],
   "source": [
    "def get_vocabulary_and_frequency(all_docs)->set:\n",
    "    vocab = dict()\n",
    "    for doc in all_docs:\n",
    "        current_words = dict()\n",
    "        for word in nltk.word_tokenize(doc):\n",
    "            if word.lower() not in ENGLISH_STOP_WORDS and word not in punctuation:\n",
    "                try:\n",
    "                    current_words[word.lower()]\n",
    "                except:\n",
    "                    vocab[ word.lower() ] = vocab.get(word.lower(),  0) + 1\n",
    "                    current_words[ word.lower() ] = 1\n",
    "            else:\n",
    "                continue\n",
    "    return vocab.keys(), vocab.values()"
   ]
  },
  {
   "cell_type": "code",
   "execution_count": 42,
   "id": "6c4e83c6-7a20-489c-a6e8-4cc638e43510",
   "metadata": {},
   "outputs": [],
   "source": [
    "vocab, doc_freq = list(map(list, get_vocabulary_and_frequency(df[\"summaries\"])))"
   ]
  },
  {
   "cell_type": "code",
   "execution_count": 32,
   "id": "7fed83f1-feed-4474-8590-b9c5f35ab05d",
   "metadata": {},
   "outputs": [
    {
     "data": {
      "text/plain": [
       "<1x6613 sparse matrix of type '<class 'numpy.float64'>'\n",
       "\twith 87 stored elements in Compressed Sparse Row format>"
      ]
     },
     "execution_count": 32,
     "metadata": {},
     "output_type": "execute_result"
    }
   ],
   "source": [
    "tfidf = TfidfVectorizer().fit(df.summaries)\n",
    "tfidf.transform([df.summaries.loc[0]])"
   ]
  },
  {
   "cell_type": "code",
   "execution_count": 56,
   "id": "e05707f8-09bb-4093-8621-d28e55a7024b",
   "metadata": {
    "tags": []
   },
   "outputs": [
    {
     "data": {
      "text/plain": [
       "(6613,)"
      ]
     },
     "execution_count": 56,
     "metadata": {},
     "output_type": "execute_result"
    }
   ],
   "source": [
    "tfidf.get_feature_names_out()"
   ]
  },
  {
   "cell_type": "code",
   "execution_count": 45,
   "id": "a48ada54-a9b7-49fe-a921-4f341447065c",
   "metadata": {
    "tags": []
   },
   "outputs": [
    {
     "data": {
      "text/plain": [
       "32"
      ]
     },
     "execution_count": 45,
     "metadata": {},
     "output_type": "execute_result"
    }
   ],
   "source": [
    "len(punctuation)"
   ]
  },
  {
   "cell_type": "code",
   "execution_count": 344,
   "id": "f1eced59-40a2-45d0-bbb9-4f6791e9b8db",
   "metadata": {},
   "outputs": [],
   "source": [
    "W = np.array([tf_idf_bag_of_words( doc, doc_freq, vocab, t1) for doc in df.summaries])"
   ]
  },
  {
   "cell_type": "code",
   "execution_count": 345,
   "id": "e7761243-928d-4672-b346-87635d48852a",
   "metadata": {},
   "outputs": [],
   "source": [
    "T,S,D = np.linalg.svd(W.T, full_matrices=False)"
   ]
  },
  {
   "cell_type": "code",
   "execution_count": 350,
   "id": "42074d46-e3e2-4da7-a105-ebbefa6281f3",
   "metadata": {
    "tags": []
   },
   "outputs": [],
   "source": [
    "def get_self_sim_matrix(W):\n",
    "    return -(W.T@W)\n",
    "\n",
    "def get_self_reduced_sim_matrix(T,S,D):\n",
    "    S = np.diag(S)\n",
    "    WT = D.T @ S\n",
    "    return -( WT @ WT.T)"
   ]
  },
  {
   "cell_type": "markdown",
   "id": "51968a0d-7714-4805-a06b-7c58449f10c5",
   "metadata": {},
   "source": [
    "### Scores for the original matrix"
   ]
  },
  {
   "cell_type": "code",
   "execution_count": 347,
   "id": "60866fce-dc4f-4a41-ae83-f46465f34d79",
   "metadata": {
    "tags": []
   },
   "outputs": [],
   "source": [
    "mat = get_self_sim_matrix(W.T)"
   ]
  },
  {
   "cell_type": "code",
   "execution_count": 348,
   "id": "39b3e54c-487b-4a8e-99c6-20a85565fd82",
   "metadata": {
    "tags": []
   },
   "outputs": [],
   "source": [
    "idx=0"
   ]
  },
  {
   "cell_type": "code",
   "execution_count": 349,
   "id": "50a0d96b-507b-4cb1-92a2-71a678d25611",
   "metadata": {
    "tags": []
   },
   "outputs": [
    {
     "name": "stdout",
     "output_type": "stream",
     "text": [
      "Min. Dist. Index = 138\n",
      "Min. Dist. = -385.9021757222217\n",
      "\n",
      "Stereo matching is one of the widely used techniques for inferring depth from\n",
      "stereo images owing to its robustness and speed. It has become one of the major\n",
      "topics of research since it finds its applications in autonomous driving,\n",
      "robotic navigation, 3D reconstruction, and many other fields. Finding pixel\n",
      "correspondences in non-textured, occluded and reflective areas is the major\n",
      "challenge in stereo matching. Recent developments have shown that semantic cues\n",
      "from image segmentation can be used to improve the results of stereo matching.\n",
      "Many deep neural network architectures have been proposed to leverage the\n",
      "advantages of semantic segmentation in stereo matching. This paper aims to give\n",
      "a comparison among the state of art networks both in terms of accuracy and in\n",
      "terms of speed which are of higher importance in real-time applications.\n",
      "\n",
      "Currently, developments of deep learning techniques are providing\n",
      "instrumental to identify, classify, and quantify patterns in medical images.\n",
      "Segmentation is one of the important applications in medical image analysis. In\n",
      "this regard, U-Net is the predominant approach to medical image segmentation\n",
      "tasks. However, we found that those U-Net based models have limitations in\n",
      "several aspects, for example, millions of parameters in the U-Net consuming\n",
      "considerable computation resource and memory, lack of global information, and\n",
      "missing some tough objects. Therefore, we applied two modifications to improve\n",
      "the U-Net model: 1) designed and added the dilated channel-wise CNN module, 2)\n",
      "simplified the U shape network. Based on these two modifications, we proposed a\n",
      "novel light-weight architecture -- Channel-wise Feature Pyramid Network for\n",
      "Medicine (CFPNet-M). To evaluate our method, we selected five datasets with\n",
      "different modalities: thermography, electron microscopy, endoscopy, dermoscopy,\n",
      "and digital retinal images. And we compared its performance with several models\n",
      "having different parameter scales. This paper also involves our previous\n",
      "studies of DC-UNet and some commonly used light-weight neural networks. We\n",
      "applied the Tanimoto similarity instead of the Jaccard index for gray-level\n",
      "image measurements. By comparison, CFPNet-M achieves comparable segmentation\n",
      "results on all five medical datasets with only 0.65 million parameters, which\n",
      "is about 2% of U-Net, and 8.8 MB memory. Meanwhile, the inference speed can\n",
      "reach 80 FPS on a single RTX 2070Ti GPU with the 256 by 192 pixels input size.\n"
     ]
    }
   ],
   "source": [
    "get_stats(idx)"
   ]
  },
  {
   "cell_type": "code",
   "execution_count": 302,
   "id": "d537e829-ca31-480b-b3bb-0c6ece3d0a78",
   "metadata": {
    "tags": []
   },
   "outputs": [
    {
     "name": "stdout",
     "output_type": "stream",
     "text": [
      "Top Candidates: Int64Index([138, 452, 239, 16, 190, 178, 14, 92, 322, 402], dtype='int64')\n",
      "Their Scores: [-385.9022, -373.2551, -355.3189, -351.0765, -346.8314, -343.9526, -340.496, -338.9112, -338.4413, -336.5722]\n"
     ]
    },
    {
     "data": {
      "text/plain": [
       "Int64Index([138, 452, 239, 16, 190, 178, 14, 92, 322, 402], dtype='int64')"
      ]
     },
     "execution_count": 302,
     "metadata": {},
     "output_type": "execute_result"
    }
   ],
   "source": [
    "get_rank(idx)"
   ]
  },
  {
   "cell_type": "markdown",
   "id": "d37368a6-ade7-4475-a8ed-3af91af44201",
   "metadata": {},
   "source": [
    "Score for the reduced K features"
   ]
  },
  {
   "cell_type": "code",
   "execution_count": 351,
   "id": "8e6ec681-b7d8-4e45-af97-ac57fd625c06",
   "metadata": {
    "tags": []
   },
   "outputs": [],
   "source": [
    "mat = get_self_reduced_sim_matrix(T,S,D)"
   ]
  },
  {
   "cell_type": "code",
   "execution_count": 352,
   "id": "b0f8678b-8e48-48ee-a834-4bef62932be0",
   "metadata": {
    "tags": []
   },
   "outputs": [
    {
     "data": {
      "text/plain": [
       "(500, 500)"
      ]
     },
     "execution_count": 352,
     "metadata": {},
     "output_type": "execute_result"
    }
   ],
   "source": [
    "mat.shape"
   ]
  },
  {
   "cell_type": "code",
   "execution_count": 353,
   "id": "34a1aa80-9dd8-44f4-9eb3-a47466404571",
   "metadata": {
    "tags": []
   },
   "outputs": [
    {
     "name": "stdout",
     "output_type": "stream",
     "text": [
      "Min. Dist. Index = 138\n",
      "Min. Dist. = -385.90217572222883\n",
      "\n",
      "Stereo matching is one of the widely used techniques for inferring depth from\n",
      "stereo images owing to its robustness and speed. It has become one of the major\n",
      "topics of research since it finds its applications in autonomous driving,\n",
      "robotic navigation, 3D reconstruction, and many other fields. Finding pixel\n",
      "correspondences in non-textured, occluded and reflective areas is the major\n",
      "challenge in stereo matching. Recent developments have shown that semantic cues\n",
      "from image segmentation can be used to improve the results of stereo matching.\n",
      "Many deep neural network architectures have been proposed to leverage the\n",
      "advantages of semantic segmentation in stereo matching. This paper aims to give\n",
      "a comparison among the state of art networks both in terms of accuracy and in\n",
      "terms of speed which are of higher importance in real-time applications.\n",
      "\n",
      "Currently, developments of deep learning techniques are providing\n",
      "instrumental to identify, classify, and quantify patterns in medical images.\n",
      "Segmentation is one of the important applications in medical image analysis. In\n",
      "this regard, U-Net is the predominant approach to medical image segmentation\n",
      "tasks. However, we found that those U-Net based models have limitations in\n",
      "several aspects, for example, millions of parameters in the U-Net consuming\n",
      "considerable computation resource and memory, lack of global information, and\n",
      "missing some tough objects. Therefore, we applied two modifications to improve\n",
      "the U-Net model: 1) designed and added the dilated channel-wise CNN module, 2)\n",
      "simplified the U shape network. Based on these two modifications, we proposed a\n",
      "novel light-weight architecture -- Channel-wise Feature Pyramid Network for\n",
      "Medicine (CFPNet-M). To evaluate our method, we selected five datasets with\n",
      "different modalities: thermography, electron microscopy, endoscopy, dermoscopy,\n",
      "and digital retinal images. And we compared its performance with several models\n",
      "having different parameter scales. This paper also involves our previous\n",
      "studies of DC-UNet and some commonly used light-weight neural networks. We\n",
      "applied the Tanimoto similarity instead of the Jaccard index for gray-level\n",
      "image measurements. By comparison, CFPNet-M achieves comparable segmentation\n",
      "results on all five medical datasets with only 0.65 million parameters, which\n",
      "is about 2% of U-Net, and 8.8 MB memory. Meanwhile, the inference speed can\n",
      "reach 80 FPS on a single RTX 2070Ti GPU with the 256 by 192 pixels input size.\n"
     ]
    }
   ],
   "source": [
    "get_stats(idx)"
   ]
  },
  {
   "cell_type": "code",
   "execution_count": 354,
   "id": "6f69fe0b-1fce-40ca-9b67-de4abef7c63c",
   "metadata": {
    "tags": []
   },
   "outputs": [
    {
     "name": "stdout",
     "output_type": "stream",
     "text": [
      "Top Candidates: Int64Index([138, 452, 239, 16, 190, 178, 14, 92, 322, 402], dtype='int64')\n",
      "Their Scores: [-385.9022, -373.2551, -355.3189, -351.0765, -346.8314, -343.9526, -340.496, -338.9112, -338.4413, -336.5722]\n"
     ]
    },
    {
     "data": {
      "text/plain": [
       "Int64Index([138, 452, 239, 16, 190, 178, 14, 92, 322, 402], dtype='int64')"
      ]
     },
     "execution_count": 354,
     "metadata": {},
     "output_type": "execute_result"
    }
   ],
   "source": [
    "get_rank(idx)"
   ]
  },
  {
   "cell_type": "markdown",
   "id": "f70c5e47-fcd7-4e7a-b346-3c568d0d2a21",
   "metadata": {},
   "source": [
    "> Using the reduced form of representation for the feature vector led to the same results, compared to using the original vector 'W'.\n",
    "\n",
    "> Regarding the documents themselves. The topic of the papers does not seem to be related at all. Reading the abstract, I am led to believe that the writings are not so different, since all the papers introduce the topic, afterwards make a brief about the state of the art and finish by resuming the work explained in the document. This is expected, as this is a semantic feature."
   ]
  },
  {
   "cell_type": "markdown",
   "id": "1a8f42ab-8155-448c-9a43-9be5e29044a0",
   "metadata": {
    "tags": []
   },
   "source": [
    "### Using Scikit TF-IDF"
   ]
  },
  {
   "cell_type": "code",
   "execution_count": 355,
   "id": "9c10c7fb-8604-417c-b236-8ddf43c84e09",
   "metadata": {
    "tags": []
   },
   "outputs": [],
   "source": [
    "W2 = TfidfVectorizer().fit_transform(df.summaries).toarray()"
   ]
  },
  {
   "cell_type": "code",
   "execution_count": 356,
   "id": "2dce3f93-dacb-4d68-894b-11d918747163",
   "metadata": {
    "tags": []
   },
   "outputs": [],
   "source": [
    "mat = get_self_sim_matrix(W2.T)"
   ]
  },
  {
   "cell_type": "code",
   "execution_count": 357,
   "id": "c97e086f-fe82-47ee-b7c9-89fc2bbb7a8f",
   "metadata": {
    "tags": []
   },
   "outputs": [],
   "source": [
    "idx=88"
   ]
  },
  {
   "cell_type": "code",
   "execution_count": 358,
   "id": "a7dbc1f0-c1ec-46ed-8ff8-7cf7d18235d8",
   "metadata": {
    "tags": []
   },
   "outputs": [
    {
     "name": "stdout",
     "output_type": "stream",
     "text": [
      "Min. Dist. Index = 431\n",
      "Min. Dist. = -0.31177170477788996\n",
      "\n",
      "Clustering is an unsupervised machine learning method grouping data samples\n",
      "into clusters of similar objects. In practice, clustering has been used in\n",
      "numerous applications such as banking customers profiling, document retrieval,\n",
      "image segmentation, and e-commerce recommendation engines. However, the\n",
      "existing clustering techniques present significant limitations, from which is\n",
      "the dependability of their stability on the initialization parameters (e.g.\n",
      "number of clusters, centroids). Different solutions were presented in the\n",
      "literature to overcome this limitation (i.e. internal and external validation\n",
      "metrics). However, these solutions require high computational complexity and\n",
      "memory consumption, especially when dealing with big data. In this paper, we\n",
      "apply the recent object detection Deep Learning (DL) model, named YOLO-v5, to\n",
      "detect the initial clustering parameters such as the number of clusters with\n",
      "their sizes and centroids. Mainly, the proposed solution consists of adding a\n",
      "DL-based initialization phase making the clustering algorithms free of\n",
      "initialization. Two model solutions are provided in this work, one for isolated\n",
      "clusters and the other one for overlapping clusters. The features of the\n",
      "incoming dataset determine which model to use. Moreover, The results show that\n",
      "the proposed solution can provide near-optimal clusters initialization\n",
      "parameters with low computational and resources overhead compared to existing\n",
      "solutions.\n",
      "\n",
      "In some complicated datasets, due to the presence of noisy data points and\n",
      "outliers, cluster validity indices can give conflicting results in determining\n",
      "the optimal number of clusters. This paper presents a new validity index for\n",
      "fuzzy-possibilistic c-means clustering called Fuzzy-Possibilistic (FP) index,\n",
      "which works well in the presence of clusters that vary in shape and density.\n",
      "Moreover, FPCM like most of the clustering algorithms is susceptible to some\n",
      "initial parameters. In this regard, in addition to the number of clusters, FPCM\n",
      "requires a priori selection of the degree of fuzziness and the degree of\n",
      "typicality. Therefore, we presented an efficient procedure for determining\n",
      "their optimal values. The proposed approach has been evaluated using several\n",
      "synthetic and real-world datasets. Final computational results demonstrate the\n",
      "capabilities and reliability of the proposed approach compared with several\n",
      "well-known fuzzy validity indices in the literature. Furthermore, to clarify\n",
      "the ability of the proposed method in real applications, the proposed method is\n",
      "implemented in microarray gene expression data clustering and medical image\n",
      "segmentation.\n"
     ]
    }
   ],
   "source": [
    "get_stats(idx)"
   ]
  },
  {
   "cell_type": "code",
   "execution_count": 359,
   "id": "25f82c75-27a2-46a3-8389-fb9bf14c9a6e",
   "metadata": {
    "tags": []
   },
   "outputs": [
    {
     "name": "stdout",
     "output_type": "stream",
     "text": [
      "Top Candidates: Int64Index([431, 489, 262, 148, 287, 447, 383, 209, 278, 396], dtype='int64')\n",
      "Their Scores: [-0.3118, -0.26, -0.2301, -0.2209, -0.2207, -0.1966, -0.1959, -0.1907, -0.185, -0.1836]\n"
     ]
    },
    {
     "data": {
      "text/plain": [
       "Int64Index([431, 489, 262, 148, 287, 447, 383, 209, 278, 396], dtype='int64')"
      ]
     },
     "execution_count": 359,
     "metadata": {},
     "output_type": "execute_result"
    }
   ],
   "source": [
    "get_rank(idx)"
   ]
  },
  {
   "cell_type": "code",
   "execution_count": 360,
   "id": "1327f6e0-96ab-41e3-b38f-5e68ba8906db",
   "metadata": {
    "tags": []
   },
   "outputs": [],
   "source": [
    "T2,S2,D2 = np.linalg.svd(W2.T, full_matrices=False)"
   ]
  },
  {
   "cell_type": "code",
   "execution_count": 361,
   "id": "89e48766-6502-4f42-8241-1ec622908bd2",
   "metadata": {
    "tags": []
   },
   "outputs": [],
   "source": [
    "mat = get_self_reduced_sim_matrix(T2,S2,D2)"
   ]
  },
  {
   "cell_type": "code",
   "execution_count": 362,
   "id": "0e328daa-6b94-4790-8526-e530edc48488",
   "metadata": {
    "tags": []
   },
   "outputs": [
    {
     "name": "stdout",
     "output_type": "stream",
     "text": [
      "Min. Dist. Index = 431\n",
      "Min. Dist. = -0.31177170477788907\n",
      "\n",
      "Clustering is an unsupervised machine learning method grouping data samples\n",
      "into clusters of similar objects. In practice, clustering has been used in\n",
      "numerous applications such as banking customers profiling, document retrieval,\n",
      "image segmentation, and e-commerce recommendation engines. However, the\n",
      "existing clustering techniques present significant limitations, from which is\n",
      "the dependability of their stability on the initialization parameters (e.g.\n",
      "number of clusters, centroids). Different solutions were presented in the\n",
      "literature to overcome this limitation (i.e. internal and external validation\n",
      "metrics). However, these solutions require high computational complexity and\n",
      "memory consumption, especially when dealing with big data. In this paper, we\n",
      "apply the recent object detection Deep Learning (DL) model, named YOLO-v5, to\n",
      "detect the initial clustering parameters such as the number of clusters with\n",
      "their sizes and centroids. Mainly, the proposed solution consists of adding a\n",
      "DL-based initialization phase making the clustering algorithms free of\n",
      "initialization. Two model solutions are provided in this work, one for isolated\n",
      "clusters and the other one for overlapping clusters. The features of the\n",
      "incoming dataset determine which model to use. Moreover, The results show that\n",
      "the proposed solution can provide near-optimal clusters initialization\n",
      "parameters with low computational and resources overhead compared to existing\n",
      "solutions.\n",
      "\n",
      "In some complicated datasets, due to the presence of noisy data points and\n",
      "outliers, cluster validity indices can give conflicting results in determining\n",
      "the optimal number of clusters. This paper presents a new validity index for\n",
      "fuzzy-possibilistic c-means clustering called Fuzzy-Possibilistic (FP) index,\n",
      "which works well in the presence of clusters that vary in shape and density.\n",
      "Moreover, FPCM like most of the clustering algorithms is susceptible to some\n",
      "initial parameters. In this regard, in addition to the number of clusters, FPCM\n",
      "requires a priori selection of the degree of fuzziness and the degree of\n",
      "typicality. Therefore, we presented an efficient procedure for determining\n",
      "their optimal values. The proposed approach has been evaluated using several\n",
      "synthetic and real-world datasets. Final computational results demonstrate the\n",
      "capabilities and reliability of the proposed approach compared with several\n",
      "well-known fuzzy validity indices in the literature. Furthermore, to clarify\n",
      "the ability of the proposed method in real applications, the proposed method is\n",
      "implemented in microarray gene expression data clustering and medical image\n",
      "segmentation.\n"
     ]
    }
   ],
   "source": [
    "get_stats(idx)"
   ]
  },
  {
   "cell_type": "code",
   "execution_count": 363,
   "id": "31978b7f-2a52-4ad9-8567-220decdd3ebd",
   "metadata": {
    "tags": []
   },
   "outputs": [
    {
     "name": "stdout",
     "output_type": "stream",
     "text": [
      "Top Candidates: Int64Index([431, 489, 262, 148, 287, 447, 383, 209, 278, 396], dtype='int64')\n",
      "Their Scores: [-0.3118, -0.26, -0.2301, -0.2209, -0.2207, -0.1966, -0.1959, -0.1907, -0.185, -0.1836]\n"
     ]
    },
    {
     "data": {
      "text/plain": [
       "Int64Index([431, 489, 262, 148, 287, 447, 383, 209, 278, 396], dtype='int64')"
      ]
     },
     "execution_count": 363,
     "metadata": {},
     "output_type": "execute_result"
    }
   ],
   "source": [
    "get_rank(idx)"
   ]
  },
  {
   "cell_type": "code",
   "execution_count": null,
   "id": "a98a5ca8-34dd-451e-aba0-bb65ff28de5e",
   "metadata": {},
   "outputs": [],
   "source": []
  }
 ],
 "metadata": {
  "kernelspec": {
   "display_name": "Python 3 (ipykernel)",
   "language": "python",
   "name": "python3"
  },
  "language_info": {
   "codemirror_mode": {
    "name": "ipython",
    "version": 3
   },
   "file_extension": ".py",
   "mimetype": "text/x-python",
   "name": "python",
   "nbconvert_exporter": "python",
   "pygments_lexer": "ipython3",
   "version": "3.9.7"
  }
 },
 "nbformat": 4,
 "nbformat_minor": 5
}
