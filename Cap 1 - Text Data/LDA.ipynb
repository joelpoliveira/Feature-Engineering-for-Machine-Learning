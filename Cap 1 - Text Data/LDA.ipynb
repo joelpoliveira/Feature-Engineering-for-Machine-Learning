{
 "cells": [
  {
   "cell_type": "code",
   "execution_count": 5,
   "id": "dea5995d-1834-4f64-84aa-101b093d0841",
   "metadata": {
    "tags": []
   },
   "outputs": [],
   "source": [
    "import pickle\n",
    "import numpy as np\n",
    "\n",
    "from scipy.sparse import csr_matrix, dok_matrix\n",
    "from sklearn.decomposition import LatentDirichletAllocation"
   ]
  },
  {
   "cell_type": "code",
   "execution_count": 6,
   "id": "e49fb257-462d-47ef-8b92-37e8dccbc800",
   "metadata": {
    "tags": []
   },
   "outputs": [],
   "source": [
    "all_words, docs = pickle.load(open(\"arxiv_data.pickle\", \"rb\"))"
   ]
  },
  {
   "cell_type": "code",
   "execution_count": 7,
   "id": "8e06ee4b-fb18-4ae0-a6c2-c9e10ef5f15a",
   "metadata": {
    "tags": []
   },
   "outputs": [],
   "source": [
    "def word_counts(document):\n",
    "    return zip(*np.unique(document, return_counts=True))"
   ]
  },
  {
   "cell_type": "code",
   "execution_count": 9,
   "id": "81935c93-141c-4b47-869f-05061a4e7439",
   "metadata": {
    "tags": []
   },
   "outputs": [],
   "source": [
    "TF = dok_matrix(\n",
    "    np.zeros((len(docs), len(all_words)))\n",
    ")\n",
    "\n",
    "for i, doc in enumerate(docs):\n",
    "    for word, counts in word_counts(doc):\n",
    "        TF[ i, all_words[word] ] += counts"
   ]
  },
  {
   "cell_type": "code",
   "execution_count": 11,
   "id": "2c9b7af1-bce9-4c58-942f-7bc228da5600",
   "metadata": {
    "tags": []
   },
   "outputs": [],
   "source": [
    "lda = LatentDirichletAllocation().fit(TF)"
   ]
  },
  {
   "cell_type": "code",
   "execution_count": 13,
   "id": "5296e59a-26ea-482b-abcc-31bacca97448",
   "metadata": {
    "tags": []
   },
   "outputs": [
    {
     "data": {
      "text/plain": [
       "(51774, 10)"
      ]
     },
     "execution_count": 13,
     "metadata": {},
     "output_type": "execute_result"
    }
   ],
   "source": [
    "lda.transform(TF).shape"
   ]
  },
  {
   "cell_type": "code",
   "execution_count": null,
   "id": "18c57773-c513-4e46-9ab6-49e0c7ce4d43",
   "metadata": {},
   "outputs": [],
   "source": []
  }
 ],
 "metadata": {
  "kernelspec": {
   "display_name": "Python 3 (ipykernel)",
   "language": "python",
   "name": "python3"
  },
  "language_info": {
   "codemirror_mode": {
    "name": "ipython",
    "version": 3
   },
   "file_extension": ".py",
   "mimetype": "text/x-python",
   "name": "python",
   "nbconvert_exporter": "python",
   "pygments_lexer": "ipython3",
   "version": "3.9.7"
  }
 },
 "nbformat": 4,
 "nbformat_minor": 5
}
