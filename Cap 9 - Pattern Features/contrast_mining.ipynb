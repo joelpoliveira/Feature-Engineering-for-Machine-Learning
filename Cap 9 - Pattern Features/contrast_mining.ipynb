{
 "cells": [
  {
   "cell_type": "markdown",
   "id": "5ab6ed65-c6e8-4cf7-ae8d-0e5d597ec10e",
   "metadata": {},
   "source": [
    "# Contrast Pattern Mining\n",
    "\n"
   ]
  },
  {
   "cell_type": "code",
   "execution_count": 1,
   "id": "99ba0f15-8c2d-485b-8cbb-ab4818bef97a",
   "metadata": {
    "tags": []
   },
   "outputs": [],
   "source": [
    "import numpy as np\n",
    "import pandas as pd\n",
    "\n",
    "from sklearn.datasets import load_breast_cancer\n",
    "from sklearn.model_selection import train_test_split\n",
    "from pattern_mining import VectorToTransactions\n",
    "from mlxtend.preprocessing import TransactionEncoder\n",
    "from mlxtend.frequent_patterns.fpgrowth import fpgrowth"
   ]
  },
  {
   "cell_type": "code",
   "execution_count": 2,
   "id": "9f49ac77-fbaf-4153-b3b0-fe698fc79af4",
   "metadata": {
    "tags": []
   },
   "outputs": [],
   "source": [
    "X, y = load_breast_cancer(return_X_y=True, as_frame=True)"
   ]
  },
  {
   "cell_type": "code",
   "execution_count": 3,
   "id": "654ad604-a04f-4542-afa7-c977f21337f1",
   "metadata": {
    "tags": []
   },
   "outputs": [],
   "source": [
    "X_train, X_test, y_train, y_test = train_test_split(X, y, test_size=0.2, random_state=123)"
   ]
  },
  {
   "cell_type": "code",
   "execution_count": 4,
   "id": "6ceff4a7-c9e6-4475-83b8-06bb1e43fbba",
   "metadata": {
    "tags": []
   },
   "outputs": [
    {
     "data": {
      "text/html": [
       "<div>\n",
       "<style scoped>\n",
       "    .dataframe tbody tr th:only-of-type {\n",
       "        vertical-align: middle;\n",
       "    }\n",
       "\n",
       "    .dataframe tbody tr th {\n",
       "        vertical-align: top;\n",
       "    }\n",
       "\n",
       "    .dataframe thead th {\n",
       "        text-align: right;\n",
       "    }\n",
       "</style>\n",
       "<table border=\"1\" class=\"dataframe\">\n",
       "  <thead>\n",
       "    <tr style=\"text-align: right;\">\n",
       "      <th></th>\n",
       "      <th>mean radius</th>\n",
       "      <th>mean texture</th>\n",
       "      <th>mean perimeter</th>\n",
       "      <th>mean area</th>\n",
       "      <th>mean smoothness</th>\n",
       "      <th>mean compactness</th>\n",
       "      <th>mean concavity</th>\n",
       "      <th>mean concave points</th>\n",
       "      <th>mean symmetry</th>\n",
       "      <th>mean fractal dimension</th>\n",
       "      <th>...</th>\n",
       "      <th>worst texture</th>\n",
       "      <th>worst perimeter</th>\n",
       "      <th>worst area</th>\n",
       "      <th>worst smoothness</th>\n",
       "      <th>worst compactness</th>\n",
       "      <th>worst concavity</th>\n",
       "      <th>worst concave points</th>\n",
       "      <th>worst symmetry</th>\n",
       "      <th>worst fractal dimension</th>\n",
       "      <th>target</th>\n",
       "    </tr>\n",
       "  </thead>\n",
       "  <tbody>\n",
       "    <tr>\n",
       "      <th>190</th>\n",
       "      <td>14.22</td>\n",
       "      <td>23.12</td>\n",
       "      <td>94.37</td>\n",
       "      <td>609.9</td>\n",
       "      <td>0.10750</td>\n",
       "      <td>0.24130</td>\n",
       "      <td>0.19810</td>\n",
       "      <td>0.066180</td>\n",
       "      <td>0.2384</td>\n",
       "      <td>0.07542</td>\n",
       "      <td>...</td>\n",
       "      <td>37.18</td>\n",
       "      <td>106.40</td>\n",
       "      <td>762.4</td>\n",
       "      <td>0.1533</td>\n",
       "      <td>0.93270</td>\n",
       "      <td>0.84880</td>\n",
       "      <td>0.17720</td>\n",
       "      <td>0.5166</td>\n",
       "      <td>0.14460</td>\n",
       "      <td>0</td>\n",
       "    </tr>\n",
       "    <tr>\n",
       "      <th>134</th>\n",
       "      <td>18.45</td>\n",
       "      <td>21.91</td>\n",
       "      <td>120.20</td>\n",
       "      <td>1075.0</td>\n",
       "      <td>0.09430</td>\n",
       "      <td>0.09709</td>\n",
       "      <td>0.11530</td>\n",
       "      <td>0.068470</td>\n",
       "      <td>0.1692</td>\n",
       "      <td>0.05727</td>\n",
       "      <td>...</td>\n",
       "      <td>31.39</td>\n",
       "      <td>145.60</td>\n",
       "      <td>1590.0</td>\n",
       "      <td>0.1465</td>\n",
       "      <td>0.22750</td>\n",
       "      <td>0.39650</td>\n",
       "      <td>0.13790</td>\n",
       "      <td>0.3109</td>\n",
       "      <td>0.07610</td>\n",
       "      <td>0</td>\n",
       "    </tr>\n",
       "    <tr>\n",
       "      <th>386</th>\n",
       "      <td>12.21</td>\n",
       "      <td>14.09</td>\n",
       "      <td>78.78</td>\n",
       "      <td>462.0</td>\n",
       "      <td>0.08108</td>\n",
       "      <td>0.07823</td>\n",
       "      <td>0.06839</td>\n",
       "      <td>0.025340</td>\n",
       "      <td>0.1646</td>\n",
       "      <td>0.06154</td>\n",
       "      <td>...</td>\n",
       "      <td>19.29</td>\n",
       "      <td>87.65</td>\n",
       "      <td>529.9</td>\n",
       "      <td>0.1026</td>\n",
       "      <td>0.24310</td>\n",
       "      <td>0.30760</td>\n",
       "      <td>0.09140</td>\n",
       "      <td>0.2677</td>\n",
       "      <td>0.08824</td>\n",
       "      <td>1</td>\n",
       "    </tr>\n",
       "    <tr>\n",
       "      <th>118</th>\n",
       "      <td>15.78</td>\n",
       "      <td>22.91</td>\n",
       "      <td>105.70</td>\n",
       "      <td>782.6</td>\n",
       "      <td>0.11550</td>\n",
       "      <td>0.17520</td>\n",
       "      <td>0.21330</td>\n",
       "      <td>0.094790</td>\n",
       "      <td>0.2096</td>\n",
       "      <td>0.07331</td>\n",
       "      <td>...</td>\n",
       "      <td>30.50</td>\n",
       "      <td>130.30</td>\n",
       "      <td>1272.0</td>\n",
       "      <td>0.1855</td>\n",
       "      <td>0.49250</td>\n",
       "      <td>0.73560</td>\n",
       "      <td>0.20340</td>\n",
       "      <td>0.3274</td>\n",
       "      <td>0.12520</td>\n",
       "      <td>0</td>\n",
       "    </tr>\n",
       "    <tr>\n",
       "      <th>316</th>\n",
       "      <td>12.18</td>\n",
       "      <td>14.08</td>\n",
       "      <td>77.25</td>\n",
       "      <td>461.4</td>\n",
       "      <td>0.07734</td>\n",
       "      <td>0.03212</td>\n",
       "      <td>0.01123</td>\n",
       "      <td>0.005051</td>\n",
       "      <td>0.1673</td>\n",
       "      <td>0.05649</td>\n",
       "      <td>...</td>\n",
       "      <td>16.47</td>\n",
       "      <td>81.60</td>\n",
       "      <td>513.1</td>\n",
       "      <td>0.1001</td>\n",
       "      <td>0.05332</td>\n",
       "      <td>0.04116</td>\n",
       "      <td>0.01852</td>\n",
       "      <td>0.2293</td>\n",
       "      <td>0.06037</td>\n",
       "      <td>1</td>\n",
       "    </tr>\n",
       "  </tbody>\n",
       "</table>\n",
       "<p>5 rows × 31 columns</p>\n",
       "</div>"
      ],
      "text/plain": [
       "     mean radius  mean texture  mean perimeter  mean area  mean smoothness  \\\n",
       "190        14.22         23.12           94.37      609.9          0.10750   \n",
       "134        18.45         21.91          120.20     1075.0          0.09430   \n",
       "386        12.21         14.09           78.78      462.0          0.08108   \n",
       "118        15.78         22.91          105.70      782.6          0.11550   \n",
       "316        12.18         14.08           77.25      461.4          0.07734   \n",
       "\n",
       "     mean compactness  mean concavity  mean concave points  mean symmetry  \\\n",
       "190           0.24130         0.19810             0.066180         0.2384   \n",
       "134           0.09709         0.11530             0.068470         0.1692   \n",
       "386           0.07823         0.06839             0.025340         0.1646   \n",
       "118           0.17520         0.21330             0.094790         0.2096   \n",
       "316           0.03212         0.01123             0.005051         0.1673   \n",
       "\n",
       "     mean fractal dimension  ...  worst texture  worst perimeter  worst area  \\\n",
       "190                 0.07542  ...          37.18           106.40       762.4   \n",
       "134                 0.05727  ...          31.39           145.60      1590.0   \n",
       "386                 0.06154  ...          19.29            87.65       529.9   \n",
       "118                 0.07331  ...          30.50           130.30      1272.0   \n",
       "316                 0.05649  ...          16.47            81.60       513.1   \n",
       "\n",
       "     worst smoothness  worst compactness  worst concavity  \\\n",
       "190            0.1533            0.93270          0.84880   \n",
       "134            0.1465            0.22750          0.39650   \n",
       "386            0.1026            0.24310          0.30760   \n",
       "118            0.1855            0.49250          0.73560   \n",
       "316            0.1001            0.05332          0.04116   \n",
       "\n",
       "     worst concave points  worst symmetry  worst fractal dimension  target  \n",
       "190               0.17720          0.5166                  0.14460       0  \n",
       "134               0.13790          0.3109                  0.07610       0  \n",
       "386               0.09140          0.2677                  0.08824       1  \n",
       "118               0.20340          0.3274                  0.12520       0  \n",
       "316               0.01852          0.2293                  0.06037       1  \n",
       "\n",
       "[5 rows x 31 columns]"
      ]
     },
     "execution_count": 4,
     "metadata": {},
     "output_type": "execute_result"
    }
   ],
   "source": [
    "train_set = pd.concat((X_train, y_train), axis=1)\n",
    "test_set = pd.concat((X_test, y_test), axis=1)\n",
    "\n",
    "train_set.head()"
   ]
  },
  {
   "cell_type": "code",
   "execution_count": 5,
   "id": "a1d28a94-8ef7-4422-813b-750cc18a9f24",
   "metadata": {
    "tags": []
   },
   "outputs": [],
   "source": [
    "vec2trans = VectorToTransactions(5).fit(train_set)"
   ]
  },
  {
   "cell_type": "code",
   "execution_count": 6,
   "id": "ed72fb8f-32e2-47db-9889-65ce249ad270",
   "metadata": {
    "tags": []
   },
   "outputs": [],
   "source": [
    "pos_trainset = train_set[train_set.target==1].drop(columns=\"target\")\n",
    "neg_trainset = train_set[train_set.target==0].drop(columns=\"target\")"
   ]
  },
  {
   "cell_type": "code",
   "execution_count": 7,
   "id": "fd753a5e-837c-47db-a7f4-9f0461fd674a",
   "metadata": {
    "tags": []
   },
   "outputs": [],
   "source": [
    "pos_train_trans = vec2trans.transform(pos_trainset)\n",
    "neg_train_trans = vec2trans.transform(neg_trainset)"
   ]
  },
  {
   "cell_type": "code",
   "execution_count": 8,
   "id": "b0c5fe0b-d3b1-4906-b8fe-4443ae6ff522",
   "metadata": {
    "tags": []
   },
   "outputs": [],
   "source": [
    "class FrequentPattern:\n",
    "    def __init__(self, dataset, min_supp):\n",
    "        self.ds = dataset\n",
    "        self.mine(min_supp)\n",
    "        self.closed_items = None\n",
    "        self.max_items = None\n",
    "        \n",
    "    def mine(self, supp):\n",
    "        self.enc = TransactionEncoder().fit(self.ds)\n",
    "        self.enc_ds = self.enc.transform(self.ds)\n",
    "        self.enc_ds = pd.DataFrame(data=self.enc_ds, columns=self.enc.columns_)\n",
    "        self.freq_items = fpgrowth(self.enc_ds, min_support=supp, use_colnames=True)\n",
    "    \n",
    "    def get_support(self, pattern):\n",
    "        if pattern in self.freq_items:\n",
    "            idx = self.freq_items.itemsets==pattern\n",
    "            return self.freq_items[idx]\n",
    "        \n",
    "        N=len(self.ds)\n",
    "        supp=0\n",
    "        for transaction in self.ds:\n",
    "            if pattern.issubset(transaction):\n",
    "                supp+=1/N\n",
    "        return supp\n",
    "    \n",
    "    def __iter__(self):\n",
    "        self.index=-1\n",
    "        return self\n",
    "    \n",
    "    def __next__(self):\n",
    "        self.index+=1\n",
    "        if self.index == len(self.freq_items):\n",
    "            raise StopIteration    \n",
    "        return self.freq_items.loc[self.index, \"itemsets\"]"
   ]
  },
  {
   "cell_type": "code",
   "execution_count": 9,
   "id": "ff3d404c-dee0-4e6e-824b-bb20dec9ed19",
   "metadata": {
    "tags": []
   },
   "outputs": [],
   "source": [
    "fp = FrequentPattern(vec2trans.transform(train_set.drop(columns=\"target\")), 0.15)"
   ]
  },
  {
   "cell_type": "code",
   "execution_count": 10,
   "id": "f0e8062a-a732-493e-9d51-0f705ba19450",
   "metadata": {
    "tags": []
   },
   "outputs": [],
   "source": [
    "fp_pos = FrequentPattern(pos_train_trans, 0.15)"
   ]
  },
  {
   "cell_type": "code",
   "execution_count": 11,
   "id": "31417962-43be-4944-8f8d-12172a240e38",
   "metadata": {
    "tags": []
   },
   "outputs": [],
   "source": [
    "fp_neg = FrequentPattern(neg_train_trans, 0.15)"
   ]
  },
  {
   "cell_type": "code",
   "execution_count": 13,
   "id": "f03d997c-c1d2-4610-b00a-d639b656b0a3",
   "metadata": {
    "tags": []
   },
   "outputs": [],
   "source": [
    "def contrast_patterns(fp, min_ratio, pos_patterns, neg_patterns, α=0.001):\n",
    "    cp = dict()\n",
    "    for pattern in fp:\n",
    "        ratio = (pos_patterns.get_support(pattern) + α) / (neg_patterns.get_support(pattern) + α)\n",
    "        \n",
    "        if ratio >= min_ratio:\n",
    "            cp[pattern] = ratio\n",
    "    return cp"
   ]
  },
  {
   "cell_type": "code",
   "execution_count": 14,
   "id": "f8d624dc-44dd-4397-b6e0-aa2d677e4ad9",
   "metadata": {
    "tags": []
   },
   "outputs": [],
   "source": [
    "cp = contrast_patterns(fp, 1, fp_pos, fp_neg)"
   ]
  },
  {
   "cell_type": "code",
   "execution_count": 15,
   "id": "077f159e-4d46-4d5f-b2b7-78d0e810761f",
   "metadata": {
    "tags": []
   },
   "outputs": [
    {
     "data": {
      "text/plain": [
       "2167"
      ]
     },
     "execution_count": 15,
     "metadata": {},
     "output_type": "execute_result"
    }
   ],
   "source": [
    "len(cp)"
   ]
  },
  {
   "cell_type": "code",
   "execution_count": null,
   "id": "8cff47b3-0b6a-4297-8ee7-29d04c72e5f7",
   "metadata": {},
   "outputs": [],
   "source": []
  }
 ],
 "metadata": {
  "kernelspec": {
   "display_name": "Python 3 (ipykernel)",
   "language": "python",
   "name": "python3"
  },
  "language_info": {
   "codemirror_mode": {
    "name": "ipython",
    "version": 3
   },
   "file_extension": ".py",
   "mimetype": "text/x-python",
   "name": "python",
   "nbconvert_exporter": "python",
   "pygments_lexer": "ipython3",
   "version": "3.9.7"
  }
 },
 "nbformat": 4,
 "nbformat_minor": 5
}
