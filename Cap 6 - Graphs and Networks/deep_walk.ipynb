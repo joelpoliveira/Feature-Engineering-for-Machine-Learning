{
 "cells": [
  {
   "cell_type": "code",
   "execution_count": 1,
   "id": "e20b62d5-0a62-4272-88f0-529af0ccbb7c",
   "metadata": {
    "tags": []
   },
   "outputs": [],
   "source": [
    "import numpy as np\n",
    "import pandas as pd\n",
    "import networkx as nx\n",
    "from random import choice"
   ]
  },
  {
   "cell_type": "code",
   "execution_count": 2,
   "id": "25de8b94-8e61-42f5-b10c-64129800d0e6",
   "metadata": {
    "tags": []
   },
   "outputs": [],
   "source": [
    "links = pd.read_csv(\"./data/stack_network_links.csv\")\n",
    "nodes = pd.read_csv(\"./data/stack_network_nodes.csv\")"
   ]
  },
  {
   "cell_type": "code",
   "execution_count": 3,
   "id": "64e5b041-3cfe-44ef-b0f2-ffd242d23b90",
   "metadata": {
    "tags": []
   },
   "outputs": [],
   "source": [
    "def get_adj(nodes, edges, label_a=\"source\", label_b=\"target\"):\n",
    "    NN = len(nodes.unique())\n",
    "    mappings = {}\n",
    "    c=0\n",
    "    adj = np.zeros((NN,NN))\n",
    "    \n",
    "    for e in edges.index:\n",
    "        i, j = edges.loc[e, label_a], edges.loc[e, label_b]\n",
    "        if i in mappings:\n",
    "            i = mappings[i]\n",
    "        else:\n",
    "            mappings[i]=i=c\n",
    "            c+=1\n",
    "        if j in mappings:\n",
    "            j = mappings[j]\n",
    "        else:\n",
    "            mappings[j]=j=c\n",
    "            c+=1\n",
    "        adj[i, j] = 1\n",
    "    return adj, mappings\n",
    "\n",
    "graph, maps = get_adj(nodes.name, links)"
   ]
  },
  {
   "cell_type": "code",
   "execution_count": 4,
   "id": "04e8db54-6088-4dca-9a1f-952545061ea4",
   "metadata": {
    "tags": []
   },
   "outputs": [],
   "source": [
    "A = (graph!=0)*1"
   ]
  },
  {
   "cell_type": "code",
   "execution_count": 5,
   "id": "627d4841-9bd7-4301-ac4e-695f9d24c2e8",
   "metadata": {
    "tags": []
   },
   "outputs": [],
   "source": [
    "graph_array = { i: np.where( row!=0 )[0] for i, row in enumerate(A)}"
   ]
  },
  {
   "cell_type": "code",
   "execution_count": 6,
   "id": "64f43817-785d-4b82-966c-462a35c59e6c",
   "metadata": {
    "tags": []
   },
   "outputs": [],
   "source": [
    "def generate_random_walk(start_node, graph, N_steps):\n",
    "    walk = [start_node]\n",
    "    for i in range(N_steps):\n",
    "        walk.append(choice(graph[walk[-1]]))\n",
    "    return walk"
   ]
  },
  {
   "cell_type": "code",
   "execution_count": 7,
   "id": "f6e218af-1f5b-475f-bc20-85505b383c4f",
   "metadata": {
    "tags": []
   },
   "outputs": [
    {
     "data": {
      "text/plain": [
       "[0, 20, 19, 20, 21, 20]"
      ]
     },
     "execution_count": 7,
     "metadata": {},
     "output_type": "execute_result"
    }
   ],
   "source": [
    "generate_random_walk(0, graph_array, 5)"
   ]
  },
  {
   "cell_type": "code",
   "execution_count": 8,
   "id": "04fcdd98-0f13-4465-9b61-f0169360f920",
   "metadata": {
    "tags": []
   },
   "outputs": [],
   "source": [
    "def generate_walks(N, graph, min_len=5, max_len=20):\n",
    "    nodes = tuple(graph.keys())\n",
    "    return [ generate_random_walk(\n",
    "        choice(nodes), \n",
    "        graph, \n",
    "        choice(range(min_len, max_len+1))\n",
    "    ) for _ in range(N)]\n"
   ]
  },
  {
   "cell_type": "code",
   "execution_count": 9,
   "id": "e78fcfd5-cf64-4189-a4ab-190fa8261382",
   "metadata": {},
   "outputs": [],
   "source": [
    "import tensorflow as tf\n",
    "from tensorflow.keras import (models, layers, metrics, initializers as init)"
   ]
  },
  {
   "cell_type": "code",
   "execution_count": 10,
   "id": "fb66a1a1-d558-4307-8cde-7b1ce93c7096",
   "metadata": {
    "tags": []
   },
   "outputs": [],
   "source": [
    "walks = generate_walks(1500, graph_array)"
   ]
  },
  {
   "cell_type": "code",
   "execution_count": 11,
   "id": "a47cb664-4398-4cac-90e0-002d6be1e8e1",
   "metadata": {
    "tags": []
   },
   "outputs": [],
   "source": [
    "def get_context(walks, wsize=2):\n",
    "    dataset = {}\n",
    "    \n",
    "    for walk in walks:\n",
    "        N = len(walk)\n",
    "        \n",
    "        for i in range(wsize, N - wsize):\n",
    "            current_node = walk[i]\n",
    "            context_node = tuple()\n",
    "            for j in range(1,wsize + 1):\n",
    "                prev_node = walk[i - j]\n",
    "                future_node = walk[i + j]\n",
    "                \n",
    "                context_node = context_node + (prev_node, future_node)\n",
    "            context_node = tuple(sorted(context_node))\n",
    "            \n",
    "            dataset[context_node] = dataset.get(context_node, set()) | {current_node}\n",
    "    return dataset"
   ]
  },
  {
   "cell_type": "code",
   "execution_count": 12,
   "id": "6f2d7a7c-8f72-4e94-a21c-7bbf6d801ed9",
   "metadata": {
    "tags": []
   },
   "outputs": [],
   "source": [
    "def unwind(dataset: dict):\n",
    "    X = []\n",
    "    y = []\n",
    "    \n",
    "    for item in dataset.items():\n",
    "        xsample, ysamples = item\n",
    "        for y_value in ysamples:\n",
    "            X.append(xsample)\n",
    "            y.append(y_value)\n",
    "    return np.array(X), np.array(y).reshape(-1,1)"
   ]
  },
  {
   "cell_type": "code",
   "execution_count": 34,
   "id": "a0ab4a5f-c1b9-47e0-9893-30d1fc3d8448",
   "metadata": {
    "tags": []
   },
   "outputs": [
    {
     "data": {
      "text/plain": [
       "4772"
      ]
     },
     "execution_count": 34,
     "metadata": {},
     "output_type": "execute_result"
    }
   ],
   "source": [
    "wsize=2\n",
    "\n",
    "ds = get_context(walks, wsize)\n",
    "len(ds)"
   ]
  },
  {
   "cell_type": "code",
   "execution_count": 35,
   "id": "38bb4d34-53db-4bcb-bba7-eaaf143310f0",
   "metadata": {
    "tags": []
   },
   "outputs": [],
   "source": [
    "X,y = unwind(ds)"
   ]
  },
  {
   "cell_type": "code",
   "execution_count": 36,
   "id": "74351a48-1da5-49e9-ab0c-dacbea51ab15",
   "metadata": {
    "tags": []
   },
   "outputs": [],
   "source": [
    "M = len(graph_array)\n",
    "EMB_SIZE=50"
   ]
  },
  {
   "cell_type": "code",
   "execution_count": 37,
   "id": "0174e1c3-dc16-4601-9631-16c40bd1ca71",
   "metadata": {
    "tags": []
   },
   "outputs": [],
   "source": [
    "model = models.Sequential([\n",
    "    layers.Embedding(\n",
    "        input_dim=M, \n",
    "        output_dim=EMB_SIZE, \n",
    "        input_length=wsize*2,\n",
    "        name=\"embeding_layer\"),\n",
    "    layers.Lambda(lambda x: tf.keras.backend.mean(x, axis=1), output_shape=EMB_SIZE, name=\"mean_layer\"),\n",
    "    layers.Dense(units=M, activation=\"softmax\", name=\"activation_layer\")\n",
    "])"
   ]
  },
  {
   "cell_type": "code",
   "execution_count": 38,
   "id": "138078ee-12d7-4424-9ab0-2ede9ee9c2c4",
   "metadata": {
    "tags": []
   },
   "outputs": [],
   "source": [
    "model.compile(\"adam\", loss=\"sparse_categorical_crossentropy\")"
   ]
  },
  {
   "cell_type": "code",
   "execution_count": 41,
   "id": "74425a0d-6532-4603-9f1c-cf5604c4e84b",
   "metadata": {
    "tags": []
   },
   "outputs": [
    {
     "name": "stdout",
     "output_type": "stream",
     "text": [
      "Epoch 1/10\n",
      "138/138 [==============================] - 1s 6ms/step - loss: 1.8186\n",
      "Epoch 2/10\n",
      "138/138 [==============================] - 1s 6ms/step - loss: 1.8185\n",
      "Epoch 3/10\n",
      "138/138 [==============================] - 1s 6ms/step - loss: 1.8162\n",
      "Epoch 4/10\n",
      "138/138 [==============================] - 1s 6ms/step - loss: 1.8155\n",
      "Epoch 5/10\n",
      "138/138 [==============================] - 1s 6ms/step - loss: 1.8148\n",
      "Epoch 6/10\n",
      "138/138 [==============================] - 1s 6ms/step - loss: 1.8138\n",
      "Epoch 7/10\n",
      "138/138 [==============================] - 1s 6ms/step - loss: 1.8124\n",
      "Epoch 8/10\n",
      "138/138 [==============================] - 1s 6ms/step - loss: 1.8115\n",
      "Epoch 9/10\n",
      "138/138 [==============================] - 1s 6ms/step - loss: 1.8107\n",
      "Epoch 10/10\n",
      "138/138 [==============================] - 1s 6ms/step - loss: 1.8104\n"
     ]
    },
    {
     "data": {
      "text/plain": [
       "<keras.callbacks.History at 0x1428d752970>"
      ]
     },
     "execution_count": 41,
     "metadata": {},
     "output_type": "execute_result"
    }
   ],
   "source": [
    "model.fit(x=X, y=y, batch_size=64, epochs=10)"
   ]
  },
  {
   "cell_type": "code",
   "execution_count": 42,
   "id": "3cfe0361-176d-4490-b438-ec85d688e2ab",
   "metadata": {
    "tags": []
   },
   "outputs": [],
   "source": [
    "latent_vectors = model.get_layer(\"embeding_layer\").weights[0].numpy()"
   ]
  },
  {
   "cell_type": "markdown",
   "id": "165cb77b-2df2-4d34-8855-29f8955aa24b",
   "metadata": {},
   "source": [
    "### Supervised Learning"
   ]
  },
  {
   "cell_type": "code",
   "execution_count": 43,
   "id": "b2f0231b-7331-4d4e-9820-956049876e7f",
   "metadata": {
    "tags": []
   },
   "outputs": [],
   "source": [
    "from sklearn.svm import SVC\n",
    "from sklearn.linear_model import LogisticRegression\n",
    "from sklearn.model_selection import train_test_split\n",
    "from sklearn.metrics import (ConfusionMatrixDisplay, confusion_matrix, \n",
    "                             matthews_corrcoef, accuracy_score)"
   ]
  },
  {
   "cell_type": "code",
   "execution_count": 44,
   "id": "54b83949-86b5-4232-be9a-6d7c036139c2",
   "metadata": {
    "tags": []
   },
   "outputs": [],
   "source": [
    "order = np.argsort(nodes.name.map(maps))\n",
    "y_ = nodes.loc[ order, \"group\" ]"
   ]
  },
  {
   "cell_type": "code",
   "execution_count": 45,
   "id": "b53d2623-5eff-4e9c-bf5e-de76df04cb16",
   "metadata": {
    "tags": []
   },
   "outputs": [],
   "source": [
    "X_train, X_test, y_train, y_test = train_test_split(latent_vectors, y_, test_size=0.2, random_state=3)"
   ]
  },
  {
   "cell_type": "code",
   "execution_count": 46,
   "id": "295f8c48-1f38-42d7-87dd-93ea473d8e39",
   "metadata": {
    "tags": []
   },
   "outputs": [
    {
     "name": "stdout",
     "output_type": "stream",
     "text": [
      "SVC score = 1.000\n",
      "LR score = 1.000\n"
     ]
    }
   ],
   "source": [
    "svc = SVC().fit(X_train, y_train)\n",
    "lr = LogisticRegression(max_iter=9999).fit(X_train, y_train)\n",
    "print(f\"SVC score = {svc.score(X_train, y_train):.3f}\\nLR score = {lr.score(X_train, y_train):.3f}\")"
   ]
  },
  {
   "cell_type": "code",
   "execution_count": 47,
   "id": "598da1cb-d385-475d-9879-875fe913a845",
   "metadata": {
    "tags": []
   },
   "outputs": [
    {
     "name": "stdout",
     "output_type": "stream",
     "text": [
      "Random Assignment Score = 0.06521739130434782\n"
     ]
    }
   ],
   "source": [
    "print(\n",
    "    \"Random Assignment Score =\",accuracy_score(y_train, np.random.randint(1,14+1, len(y_train)))\n",
    ")"
   ]
  },
  {
   "cell_type": "code",
   "execution_count": 48,
   "id": "09ce11dd-ef9b-4379-b295-60aa7fd82493",
   "metadata": {
    "tags": []
   },
   "outputs": [],
   "source": [
    "svc_preds = svc.predict(X_test)\n",
    "lr_preds = lr.predict(X_test)"
   ]
  },
  {
   "cell_type": "code",
   "execution_count": 49,
   "id": "1f062bfc-ae41-4244-8b03-fbe35b9a6198",
   "metadata": {
    "tags": []
   },
   "outputs": [
    {
     "data": {
      "image/png": "[encoded data removed]",
      "text/plain": [
       "<Figure size 1200x400 with 4 Axes>"
      ]
     },
     "metadata": {},
     "output_type": "display_data"
    }
   ],
   "source": [
    "import matplotlib.pyplot as plt\n",
    "\n",
    "f, ax = plt.subplots(1,2,figsize=(12,4))\n",
    "ConfusionMatrixDisplay(confusion_matrix(y_test, svc_preds)).plot(ax=ax[0])\n",
    "ConfusionMatrixDisplay(confusion_matrix(y_test, lr_preds)).plot(ax=ax[1])\n",
    "\n",
    "ax[0].set_title(\"SVC\");\n",
    "ax[1].set_title(\"LR\");"
   ]
  },
  {
   "cell_type": "code",
   "execution_count": 50,
   "id": "8482cd3d-b407-4022-86c5-60a5e8468601",
   "metadata": {
    "tags": []
   },
   "outputs": [
    {
     "name": "stdout",
     "output_type": "stream",
     "text": [
      "SVC mcc score = 1.000\n",
      "LR mcc score = 1.000\n"
     ]
    }
   ],
   "source": [
    "print(f\"SVC mcc score = {matthews_corrcoef(y_test, svc_preds):.3f}\\nLR mcc score = {matthews_corrcoef(y_test, lr_preds):.3f}\")"
   ]
  },
  {
   "cell_type": "code",
   "execution_count": 51,
   "id": "edc69d17-a28c-4620-bbdf-d15806b37dfa",
   "metadata": {
    "tags": []
   },
   "outputs": [
    {
     "name": "stdout",
     "output_type": "stream",
     "text": [
      "SVC acc score = 1.000\n",
      "LR acc score = 1.000\n"
     ]
    }
   ],
   "source": [
    "print(f\"SVC acc score = {accuracy_score(y_test, svc_preds):.3f}\\nLR acc score = {accuracy_score(y_test, lr_preds):.3f}\")"
   ]
  },
  {
   "cell_type": "code",
   "execution_count": 52,
   "id": "7b141205-605e-4cd2-b619-b318c748113a",
   "metadata": {
    "tags": []
   },
   "outputs": [
    {
     "name": "stdout",
     "output_type": "stream",
     "text": [
      "Random Assignment Score = 0.043478260869565216\n"
     ]
    }
   ],
   "source": [
    "print(\n",
    "    \"Random Assignment Score =\",accuracy_score(y_test, np.random.randint(1,14+1, len(y_test)))\n",
    ")"
   ]
  }
 ],
 "metadata": {
  "kernelspec": {
   "display_name": "Python 3 (ipykernel)",
   "language": "python",
   "name": "python3"
  },
  "language_info": {
   "codemirror_mode": {
    "name": "ipython",
    "version": 3
   },
   "file_extension": ".py",
   "mimetype": "text/x-python",
   "name": "python",
   "nbconvert_exporter": "python",
   "pygments_lexer": "ipython3",
   "version": "3.9.7"
  }
 },
 "nbformat": 4,
 "nbformat_minor": 5
}
