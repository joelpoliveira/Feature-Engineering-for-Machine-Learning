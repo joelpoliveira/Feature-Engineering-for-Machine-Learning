{
 "cells": [
  {
   "cell_type": "code",
   "execution_count": 1,
   "id": "49f5d29e-a6fd-4002-9dd4-966af189dc69",
   "metadata": {
    "tags": []
   },
   "outputs": [],
   "source": [
    "import numpy as np\n",
    "import pandas as pd\n",
    "import networkx as nx\n",
    "from scipy.sparse import csr_matrix, dok_matrix, diags\n",
    "from scipy.sparse.linalg import svds, expm\n",
    "from sklearn.decomposition import TruncatedSVD"
   ]
  },
  {
   "cell_type": "code",
   "execution_count": 2,
   "id": "86eb6465-258d-4cee-8c3f-25a91eb13345",
   "metadata": {
    "tags": []
   },
   "outputs": [],
   "source": [
    "links = pd.read_csv(\"./data/stack_network_links.csv\")\n",
    "nodes = pd.read_csv(\"./data/stack_network_nodes.csv\")"
   ]
  },
  {
   "cell_type": "code",
   "execution_count": 3,
   "id": "69f42006-f061-4abd-9f99-fb288a8f6538",
   "metadata": {
    "tags": []
   },
   "outputs": [
    {
     "data": {
      "text/html": [
       "<div>\n",
       "<style scoped>\n",
       "    .dataframe tbody tr th:only-of-type {\n",
       "        vertical-align: middle;\n",
       "    }\n",
       "\n",
       "    .dataframe tbody tr th {\n",
       "        vertical-align: top;\n",
       "    }\n",
       "\n",
       "    .dataframe thead th {\n",
       "        text-align: right;\n",
       "    }\n",
       "</style>\n",
       "<table border=\"1\" class=\"dataframe\">\n",
       "  <thead>\n",
       "    <tr style=\"text-align: right;\">\n",
       "      <th></th>\n",
       "      <th>source</th>\n",
       "      <th>target</th>\n",
       "      <th>value</th>\n",
       "    </tr>\n",
       "  </thead>\n",
       "  <tbody>\n",
       "    <tr>\n",
       "      <th>0</th>\n",
       "      <td>azure</td>\n",
       "      <td>.net</td>\n",
       "      <td>20.933192</td>\n",
       "    </tr>\n",
       "    <tr>\n",
       "      <th>1</th>\n",
       "      <td>sql-server</td>\n",
       "      <td>.net</td>\n",
       "      <td>32.322524</td>\n",
       "    </tr>\n",
       "    <tr>\n",
       "      <th>2</th>\n",
       "      <td>asp.net</td>\n",
       "      <td>.net</td>\n",
       "      <td>48.407030</td>\n",
       "    </tr>\n",
       "    <tr>\n",
       "      <th>3</th>\n",
       "      <td>entity-framework</td>\n",
       "      <td>.net</td>\n",
       "      <td>24.370903</td>\n",
       "    </tr>\n",
       "    <tr>\n",
       "      <th>4</th>\n",
       "      <td>wpf</td>\n",
       "      <td>.net</td>\n",
       "      <td>32.350925</td>\n",
       "    </tr>\n",
       "  </tbody>\n",
       "</table>\n",
       "</div>"
      ],
      "text/plain": [
       "             source target      value\n",
       "0             azure   .net  20.933192\n",
       "1        sql-server   .net  32.322524\n",
       "2           asp.net   .net  48.407030\n",
       "3  entity-framework   .net  24.370903\n",
       "4               wpf   .net  32.350925"
      ]
     },
     "execution_count": 3,
     "metadata": {},
     "output_type": "execute_result"
    }
   ],
   "source": [
    "links.head()"
   ]
  },
  {
   "cell_type": "code",
   "execution_count": 4,
   "id": "77c89ed2-3334-401a-94c7-2f6a9ffb2dd5",
   "metadata": {
    "tags": []
   },
   "outputs": [
    {
     "data": {
      "text/html": [
       "<div>\n",
       "<style scoped>\n",
       "    .dataframe tbody tr th:only-of-type {\n",
       "        vertical-align: middle;\n",
       "    }\n",
       "\n",
       "    .dataframe tbody tr th {\n",
       "        vertical-align: top;\n",
       "    }\n",
       "\n",
       "    .dataframe thead th {\n",
       "        text-align: right;\n",
       "    }\n",
       "</style>\n",
       "<table border=\"1\" class=\"dataframe\">\n",
       "  <thead>\n",
       "    <tr style=\"text-align: right;\">\n",
       "      <th></th>\n",
       "      <th>name</th>\n",
       "      <th>group</th>\n",
       "      <th>nodesize</th>\n",
       "    </tr>\n",
       "  </thead>\n",
       "  <tbody>\n",
       "    <tr>\n",
       "      <th>0</th>\n",
       "      <td>html</td>\n",
       "      <td>6</td>\n",
       "      <td>272.45</td>\n",
       "    </tr>\n",
       "    <tr>\n",
       "      <th>1</th>\n",
       "      <td>css</td>\n",
       "      <td>6</td>\n",
       "      <td>341.17</td>\n",
       "    </tr>\n",
       "    <tr>\n",
       "      <th>2</th>\n",
       "      <td>hibernate</td>\n",
       "      <td>8</td>\n",
       "      <td>29.83</td>\n",
       "    </tr>\n",
       "    <tr>\n",
       "      <th>3</th>\n",
       "      <td>spring</td>\n",
       "      <td>8</td>\n",
       "      <td>52.84</td>\n",
       "    </tr>\n",
       "    <tr>\n",
       "      <th>4</th>\n",
       "      <td>ruby</td>\n",
       "      <td>3</td>\n",
       "      <td>70.14</td>\n",
       "    </tr>\n",
       "  </tbody>\n",
       "</table>\n",
       "</div>"
      ],
      "text/plain": [
       "        name  group  nodesize\n",
       "0       html      6    272.45\n",
       "1        css      6    341.17\n",
       "2  hibernate      8     29.83\n",
       "3     spring      8     52.84\n",
       "4       ruby      3     70.14"
      ]
     },
     "execution_count": 4,
     "metadata": {},
     "output_type": "execute_result"
    }
   ],
   "source": [
    "nodes.head()"
   ]
  },
  {
   "cell_type": "code",
   "execution_count": 5,
   "id": "9dea5b0c-357f-4489-8bdf-c79073b6be2a",
   "metadata": {
    "tags": []
   },
   "outputs": [],
   "source": [
    "def get_adj(nodes, edges, label_a=\"source\", label_b=\"target\"):\n",
    "    NN = len(nodes.unique())\n",
    "    mappings = {}\n",
    "    c=0\n",
    "    adj = np.zeros((NN,NN))\n",
    "    \n",
    "    for e in edges.index:\n",
    "        i, j = edges.loc[e, label_a], edges.loc[e, label_b]\n",
    "        if i in mappings:\n",
    "            i = mappings[i]\n",
    "        else:\n",
    "            mappings[i]=i=c\n",
    "            c+=1\n",
    "        if j in mappings:\n",
    "            j = mappings[j]\n",
    "        else:\n",
    "            mappings[j]=j=c\n",
    "            c+=1\n",
    "        adj[i, j] = 1#edges.loc[e, \"value\"]\n",
    "    return adj, mappings"
   ]
  },
  {
   "cell_type": "code",
   "execution_count": 6,
   "id": "a75bce73-3f9b-4dce-a8dd-e21fd742be31",
   "metadata": {
    "tags": []
   },
   "outputs": [],
   "source": [
    "def grap_rep(A, k, β, d=10, α=1e-6):\n",
    "    D = A.sum(axis=1)\n",
    "    A = np.matrix(\n",
    "        np.divide(A, D, where=D!=0)\n",
    "    )\n",
    "\n",
    "    A_k = np.array([\n",
    "        A**i for i in range(1,k+1)\n",
    "    ])\n",
    "    Rep = np.zeros((A.shape[0], d*k))\n",
    "    \n",
    "    for i, A in enumerate(A_k):\n",
    "        X = np.log(\n",
    "            (A+α) / (A.sum(axis=1) + α)\n",
    "        ) - np.log(β)\n",
    "        X[X<0]=0\n",
    "        \n",
    "        svd = TruncatedSVD(n_components=d, n_iter=100).fit(X)\n",
    "        Ud=svd.transform(X)\n",
    "        Sd = np.diag(svd.singular_values_)\n",
    "        W = Ud @ Sd**(0.5)\n",
    "        \n",
    "        Rep[:, i*d:(i+1)*d] = W\n",
    "        \n",
    "    return Rep"
   ]
  },
  {
   "cell_type": "code",
   "execution_count": 7,
   "id": "d26e3d1f-38de-4ad3-8f96-819254bf37fa",
   "metadata": {
    "tags": []
   },
   "outputs": [],
   "source": [
    "graph, maps = get_adj(nodes.name, links)"
   ]
  },
  {
   "cell_type": "code",
   "execution_count": 8,
   "id": "cefcb057-8d1b-4fea-a10a-1e194d4f4bc9",
   "metadata": {
    "tags": []
   },
   "outputs": [],
   "source": [
    "A = (graph!=0)*1"
   ]
  },
  {
   "cell_type": "code",
   "execution_count": 9,
   "id": "1490dad8-0e17-4fc6-b5da-8c503b9317c0",
   "metadata": {
    "tags": []
   },
   "outputs": [],
   "source": [
    "def plot_graph(G, show_labels=False, node_size=10, figsize=(6,6)):\n",
    "    f, ax = plt.subplots(1,1, figsize=figsize)\n",
    "    display = display = nx.spring_layout(G)\n",
    "    \n",
    "    nx.draw_networkx_nodes(G, nodelist=G.nodes, pos=display, node_size = node_size, ax=ax, alpha=0.3)\n",
    "    \n",
    "    if show_labels==True:\n",
    "        nx.draw_networkx_labels(G, pos=display, ax=ax)\n",
    "    \n",
    "    nx.draw_networkx_edges(G, pos=display, edgelist=G.edges, ax=ax, arrows=False)"
   ]
  },
  {
   "cell_type": "code",
   "execution_count": 10,
   "id": "2db3a724-a6ff-4e26-bae2-a544eccf2dc6",
   "metadata": {
    "tags": []
   },
   "outputs": [
    {
     "data": {
      "image/png": "[encoded data removed]",
      "text/plain": [
       "<Figure size 600x600 with 1 Axes>"
      ]
     },
     "metadata": {},
     "output_type": "display_data"
    }
   ],
   "source": [
    "import networkx as nx\n",
    "import matplotlib.pyplot as plt\n",
    "g=nx.Graph()\n",
    "g.add_edges_from(np.argwhere(A!=0))\n",
    "plot_graph(g)"
   ]
  },
  {
   "cell_type": "markdown",
   "id": "a93205f9-71f3-4248-8fc9-50319a766d72",
   "metadata": {},
   "source": [
    "## Supervised Methods"
   ]
  },
  {
   "cell_type": "code",
   "execution_count": 11,
   "id": "670a4735-cd03-44fb-bb15-a85834d1c92b",
   "metadata": {
    "tags": []
   },
   "outputs": [],
   "source": [
    "from sklearn.svm import SVC\n",
    "from sklearn.linear_model import LogisticRegression\n",
    "from sklearn.model_selection import train_test_split\n",
    "from sklearn.metrics import (ConfusionMatrixDisplay, confusion_matrix, \n",
    "                             matthews_corrcoef, accuracy_score)"
   ]
  },
  {
   "cell_type": "code",
   "execution_count": 24,
   "id": "b4d80959-b8a7-492c-a444-11e38e99d678",
   "metadata": {
    "tags": []
   },
   "outputs": [],
   "source": [
    "latent_vecs = grap_rep(A, k=3, β=0.001, d=15)\n",
    "order = np.argsort(nodes.name.map(maps))"
   ]
  },
  {
   "cell_type": "code",
   "execution_count": 25,
   "id": "faa4b146-0359-4ebf-b875-a28d7c286a34",
   "metadata": {
    "tags": []
   },
   "outputs": [
    {
     "name": "stdout",
     "output_type": "stream",
     "text": [
      "Sparsity =  0.0\n"
     ]
    }
   ],
   "source": [
    "print(\"Sparsity = \", (latent_vecs==0).sum()/np.prod(latent_vecs.shape))"
   ]
  },
  {
   "cell_type": "code",
   "execution_count": 26,
   "id": "834891f0-a75b-4118-8a55-9288dfe839be",
   "metadata": {
    "tags": []
   },
   "outputs": [],
   "source": [
    "y = nodes.loc[ order, \"group\" ]"
   ]
  },
  {
   "cell_type": "code",
   "execution_count": 27,
   "id": "f9d6e9a2-150d-41c9-bc8e-664e8b42d727",
   "metadata": {
    "tags": []
   },
   "outputs": [],
   "source": [
    "X_train, X_test, y_train, y_test = train_test_split(latent_vecs, y, test_size=0.2, random_state=3)"
   ]
  },
  {
   "cell_type": "code",
   "execution_count": 28,
   "id": "ee227715-0d1b-4aa6-9bb2-9b569b6d343e",
   "metadata": {
    "tags": []
   },
   "outputs": [
    {
     "name": "stdout",
     "output_type": "stream",
     "text": [
      "SVC score = 0.902\n",
      "LR score = 0.957\n"
     ]
    }
   ],
   "source": [
    "svc = SVC().fit(X_train, y_train)\n",
    "lr = LogisticRegression(max_iter=9999).fit(X_train, y_train)\n",
    "print(f\"SVC score = {svc.score(X_train, y_train):.3f}\\nLR score = {lr.score(X_train, y_train):.3f}\")"
   ]
  },
  {
   "cell_type": "code",
   "execution_count": 29,
   "id": "3ea1aee5-0cf0-4565-b724-493256ed1ca6",
   "metadata": {
    "tags": []
   },
   "outputs": [
    {
     "name": "stdout",
     "output_type": "stream",
     "text": [
      "Random Assignment Score = 0.06521739130434782\n"
     ]
    }
   ],
   "source": [
    "print(\n",
    "    \"Random Assignment Score =\",accuracy_score(y_train, np.random.randint(1,14+1, len(y_train)))\n",
    ")"
   ]
  },
  {
   "cell_type": "code",
   "execution_count": 30,
   "id": "a37f6a82-7c73-4f76-937a-5b3ea0d62761",
   "metadata": {
    "tags": []
   },
   "outputs": [],
   "source": [
    "svc_preds = svc.predict(X_test)\n",
    "lr_preds = lr.predict(X_test)"
   ]
  },
  {
   "cell_type": "code",
   "execution_count": 31,
   "id": "a054c1fe-7fe2-4de0-a401-96afd3ba35cb",
   "metadata": {
    "tags": []
   },
   "outputs": [
    {
     "data": {
      "image/png": "[encoded data removed]",
      "text/plain": [
       "<Figure size 1200x400 with 4 Axes>"
      ]
     },
     "metadata": {},
     "output_type": "display_data"
    }
   ],
   "source": [
    "f, ax = plt.subplots(1,2,figsize=(12,4))\n",
    "ConfusionMatrixDisplay(confusion_matrix(y_test, svc_preds)).plot(ax=ax[0])\n",
    "ConfusionMatrixDisplay(confusion_matrix(y_test, lr_preds)).plot(ax=ax[1])\n",
    "\n",
    "ax[0].set_title(\"SVC\");\n",
    "ax[1].set_title(\"LR\");"
   ]
  },
  {
   "cell_type": "code",
   "execution_count": 32,
   "id": "d105bbac-0af5-4684-9231-4d65093f0fab",
   "metadata": {
    "tags": []
   },
   "outputs": [
    {
     "name": "stdout",
     "output_type": "stream",
     "text": [
      "SVC mcc score = 0.856\n",
      "LR mcc score = 0.950\n"
     ]
    }
   ],
   "source": [
    "print(f\"SVC mcc score = {matthews_corrcoef(y_test, svc_preds):.3f}\\nLR mcc score = {matthews_corrcoef(y_test, lr_preds):.3f}\")"
   ]
  },
  {
   "cell_type": "code",
   "execution_count": 33,
   "id": "afb544e4-3224-402f-a343-a745fa3bad00",
   "metadata": {
    "tags": []
   },
   "outputs": [
    {
     "name": "stdout",
     "output_type": "stream",
     "text": [
      "SVC acc score = 0.870\n",
      "LR acc score = 0.957\n"
     ]
    }
   ],
   "source": [
    "print(f\"SVC acc score = {accuracy_score(y_test, svc_preds):.3f}\\nLR acc score = {accuracy_score(y_test, lr_preds):.3f}\")"
   ]
  },
  {
   "cell_type": "code",
   "execution_count": 34,
   "id": "6fdfe642-7190-408a-94da-a83f283982f8",
   "metadata": {
    "tags": []
   },
   "outputs": [
    {
     "name": "stdout",
     "output_type": "stream",
     "text": [
      "Random Assignment Score = 0.043478260869565216\n"
     ]
    }
   ],
   "source": [
    "print(\n",
    "    \"Random Assignment Score =\",accuracy_score(y_test, np.random.randint(1,14+1, len(y_test)))\n",
    ")"
   ]
  },
  {
   "cell_type": "markdown",
   "id": "0dd2eabe-317e-4826-a932-6cc5548f63f0",
   "metadata": {},
   "source": [
    "By tunning *k, d and $\\beta$* values we could improve model performance."
   ]
  }
 ],
 "metadata": {
  "kernelspec": {
   "display_name": "Python 3 (ipykernel)",
   "language": "python",
   "name": "python3"
  },
  "language_info": {
   "codemirror_mode": {
    "name": "ipython",
    "version": 3
   },
   "file_extension": ".py",
   "mimetype": "text/x-python",
   "name": "python",
   "nbconvert_exporter": "python",
   "pygments_lexer": "ipython3",
   "version": "3.9.7"
  }
 },
 "nbformat": 4,
 "nbformat_minor": 5
}
