{
 "cells": [
  {
   "cell_type": "code",
   "execution_count": 1,
   "id": "f9b84d65-8fa7-46be-8b7a-dcfab0335e9f",
   "metadata": {
    "tags": []
   },
   "outputs": [],
   "source": [
    "import numpy as np\n",
    "import pandas as pd\n",
    "import seaborn as sns\n",
    "import matplotlib.pyplot as plt\n",
    "\n",
    "from pymining import seqmining\n",
    "from tqdm.notebook import tqdm\n",
    "from itertools import permutations, count"
   ]
  },
  {
   "cell_type": "code",
   "execution_count": 19,
   "id": "a5327fdf-b284-4336-bec9-94c74ac8866c",
   "metadata": {
    "tags": []
   },
   "outputs": [],
   "source": [
    "def generate_candidate_subsequences(freq_sequences, alphabet, r):\n",
    "    if r==1:\n",
    "        N = len(alphabet)\n",
    "        return dict( zip( alphabet, [0]*N ) )\n",
    "\n",
    "    left_candidates = list(\n",
    "        map(lambda seq: (seq[0], seq[1:]), freq_sequences)\n",
    "    )\n",
    "    right_candidates = list(\n",
    "        map(lambda seq: (seq[-1], seq[:-1]), freq_sequences)\n",
    "    )\n",
    "\n",
    "    \n",
    "    candidates = set()\n",
    "    for l_first, l in left_candidates:\n",
    "        for r_last, r in right_candidates:\n",
    "            if l==r:\n",
    "                candidates|={ l_first + l + r_last }\n",
    "    \n",
    "    N = len(candidates)\n",
    "    return dict(zip( candidates, [0] * N))\n",
    "    \n",
    "    \n",
    "def prune_candidates(freq_candidates, freq_subsequences):\n",
    "    freq_sequences = freq_candidates.copy()\n",
    "    \n",
    "    for seq in freq_candidates:\n",
    "        for i in range(len(seq)):\n",
    "            if (seq[:i] + seq[i+1:]) not in freq_subsequences:\n",
    "                freq_sequences.pop(seq)\n",
    "                break\n",
    "\n",
    "                \n",
    "def GSP(database, alphabet = [\"a\", \"c\", \"g\", \"t\"], threshold=0.1):\n",
    "    r=1\n",
    "    N = len(database)\n",
    "    all_sets = {}\n",
    "    current_sets = generate_candidate_subsequences({}, alphabet, r)\n",
    "    \n",
    "    while len(current_sets)>0:        \n",
    "        for subseq in current_sets:\n",
    "            for seq in database:\n",
    "                if subseq in seq:\n",
    "                    current_sets[subseq]+=1/N\n",
    "    \n",
    "        current_sets = dict(\n",
    "            filter(lambda seq_sup_pair: seq_sup_pair[1]>=threshold, current_sets.items())\n",
    "        )\n",
    "        \n",
    "        all_sets|=current_sets\n",
    "        current_sets = generate_candidate_subsequences(current_sets, alphabet, (r:=r+1))\n",
    "        prune_candidates(current_sets, all_sets)\n",
    "        \n",
    "    return all_sets"
   ]
  },
  {
   "cell_type": "code",
   "execution_count": 2,
   "id": "44882e8c-484a-40fa-b1f3-377882c76187",
   "metadata": {
    "tags": []
   },
   "outputs": [],
   "source": [
    "database = pd.DataFrame(\n",
    "    data = {\n",
    "        \"sequence\":[\"tatgagcata\", \"ctaacagttg\", \"acgcttttta\", \n",
    "                    \"tagcgggaag\", \"tgacgctgca\", \"tcgtggatgg\", \n",
    "                    \"ctgagtgctt\", \"gctttcttgt\", \"gacagattca\", \"atccatctac\"],\n",
    "        \"class\": [1]*5 + [0]*5\n",
    "    }\n",
    ")"
   ]
  },
  {
   "cell_type": "code",
   "execution_count": 3,
   "id": "3ad7ca51-1656-4335-b272-573100a915b3",
   "metadata": {
    "tags": []
   },
   "outputs": [
    {
     "data": {
      "text/html": [
       "<div>\n",
       "<style scoped>\n",
       "    .dataframe tbody tr th:only-of-type {\n",
       "        vertical-align: middle;\n",
       "    }\n",
       "\n",
       "    .dataframe tbody tr th {\n",
       "        vertical-align: top;\n",
       "    }\n",
       "\n",
       "    .dataframe thead th {\n",
       "        text-align: right;\n",
       "    }\n",
       "</style>\n",
       "<table border=\"1\" class=\"dataframe\">\n",
       "  <thead>\n",
       "    <tr style=\"text-align: right;\">\n",
       "      <th></th>\n",
       "      <th>sequence</th>\n",
       "      <th>class</th>\n",
       "    </tr>\n",
       "  </thead>\n",
       "  <tbody>\n",
       "    <tr>\n",
       "      <th>0</th>\n",
       "      <td>tatgagcata</td>\n",
       "      <td>1</td>\n",
       "    </tr>\n",
       "    <tr>\n",
       "      <th>1</th>\n",
       "      <td>ctaacagttg</td>\n",
       "      <td>1</td>\n",
       "    </tr>\n",
       "    <tr>\n",
       "      <th>2</th>\n",
       "      <td>acgcttttta</td>\n",
       "      <td>1</td>\n",
       "    </tr>\n",
       "    <tr>\n",
       "      <th>3</th>\n",
       "      <td>tagcgggaag</td>\n",
       "      <td>1</td>\n",
       "    </tr>\n",
       "    <tr>\n",
       "      <th>4</th>\n",
       "      <td>tgacgctgca</td>\n",
       "      <td>1</td>\n",
       "    </tr>\n",
       "    <tr>\n",
       "      <th>5</th>\n",
       "      <td>tcgtggatgg</td>\n",
       "      <td>0</td>\n",
       "    </tr>\n",
       "    <tr>\n",
       "      <th>6</th>\n",
       "      <td>ctgagtgctt</td>\n",
       "      <td>0</td>\n",
       "    </tr>\n",
       "    <tr>\n",
       "      <th>7</th>\n",
       "      <td>gctttcttgt</td>\n",
       "      <td>0</td>\n",
       "    </tr>\n",
       "    <tr>\n",
       "      <th>8</th>\n",
       "      <td>gacagattca</td>\n",
       "      <td>0</td>\n",
       "    </tr>\n",
       "    <tr>\n",
       "      <th>9</th>\n",
       "      <td>atccatctac</td>\n",
       "      <td>0</td>\n",
       "    </tr>\n",
       "  </tbody>\n",
       "</table>\n",
       "</div>"
      ],
      "text/plain": [
       "     sequence  class\n",
       "0  tatgagcata      1\n",
       "1  ctaacagttg      1\n",
       "2  acgcttttta      1\n",
       "3  tagcgggaag      1\n",
       "4  tgacgctgca      1\n",
       "5  tcgtggatgg      0\n",
       "6  ctgagtgctt      0\n",
       "7  gctttcttgt      0\n",
       "8  gacagattca      0\n",
       "9  atccatctac      0"
      ]
     },
     "execution_count": 3,
     "metadata": {},
     "output_type": "execute_result"
    }
   ],
   "source": [
    "database"
   ]
  },
  {
   "cell_type": "code",
   "execution_count": 15,
   "id": "b1e481bf-2169-4bd2-84eb-f1049772a14a",
   "metadata": {
    "tags": []
   },
   "outputs": [],
   "source": [
    "db_pos = database[database[\"class\"]==1]\n",
    "db_neg = database[database[\"class\"]==0]"
   ]
  },
  {
   "cell_type": "code",
   "execution_count": 22,
   "id": "497220d7-483d-49df-aa31-f817c800a048",
   "metadata": {
    "tags": []
   },
   "outputs": [
    {
     "data": {
      "text/plain": [
       "4.0"
      ]
     },
     "execution_count": 22,
     "metadata": {},
     "output_type": "execute_result"
    }
   ],
   "source": [
    "0.8*5"
   ]
  },
  {
   "cell_type": "code",
   "execution_count": 24,
   "id": "728555ac-3d83-4440-bd3d-3418b3e482b9",
   "metadata": {
    "tags": []
   },
   "outputs": [
    {
     "data": {
      "text/html": [
       "<div>\n",
       "<style scoped>\n",
       "    .dataframe tbody tr th:only-of-type {\n",
       "        vertical-align: middle;\n",
       "    }\n",
       "\n",
       "    .dataframe tbody tr th {\n",
       "        vertical-align: top;\n",
       "    }\n",
       "\n",
       "    .dataframe thead th {\n",
       "        text-align: right;\n",
       "    }\n",
       "</style>\n",
       "<table border=\"1\" class=\"dataframe\">\n",
       "  <thead>\n",
       "    <tr style=\"text-align: right;\">\n",
       "      <th></th>\n",
       "      <th>sequence</th>\n",
       "      <th>class</th>\n",
       "    </tr>\n",
       "  </thead>\n",
       "  <tbody>\n",
       "    <tr>\n",
       "      <th>0</th>\n",
       "      <td>tatgagcata</td>\n",
       "      <td>1</td>\n",
       "    </tr>\n",
       "    <tr>\n",
       "      <th>1</th>\n",
       "      <td>ctaacagttg</td>\n",
       "      <td>1</td>\n",
       "    </tr>\n",
       "    <tr>\n",
       "      <th>2</th>\n",
       "      <td>acgcttttta</td>\n",
       "      <td>1</td>\n",
       "    </tr>\n",
       "    <tr>\n",
       "      <th>3</th>\n",
       "      <td>tagcgggaag</td>\n",
       "      <td>1</td>\n",
       "    </tr>\n",
       "    <tr>\n",
       "      <th>4</th>\n",
       "      <td>tgacgctgca</td>\n",
       "      <td>1</td>\n",
       "    </tr>\n",
       "  </tbody>\n",
       "</table>\n",
       "</div>"
      ],
      "text/plain": [
       "     sequence  class\n",
       "0  tatgagcata      1\n",
       "1  ctaacagttg      1\n",
       "2  acgcttttta      1\n",
       "3  tagcgggaag      1\n",
       "4  tgacgctgca      1"
      ]
     },
     "execution_count": 24,
     "metadata": {},
     "output_type": "execute_result"
    }
   ],
   "source": [
    "db_pos"
   ]
  },
  {
   "cell_type": "code",
   "execution_count": 23,
   "id": "1545bd47-da83-4773-a4cf-c274ca16e1f7",
   "metadata": {
    "tags": []
   },
   "outputs": [
    {
     "data": {
      "text/plain": [
       "{(('a',), 5),\n",
       " (('a', 'a'), 5),\n",
       " (('a', 'c'), 5),\n",
       " (('a', 'c', 'a'), 5),\n",
       " (('a', 'c', 'g'), 4),\n",
       " (('a', 'c', 't'), 4),\n",
       " (('a', 'g'), 5),\n",
       " (('a', 'g', 'a'), 4),\n",
       " (('a', 'g', 'c'), 4),\n",
       " (('a', 'g', 'c', 'a'), 4),\n",
       " (('a', 'g', 'g'), 4),\n",
       " (('a', 'g', 't'), 4),\n",
       " (('a', 't'), 4),\n",
       " (('c',), 5),\n",
       " (('c', 'a'), 5),\n",
       " (('c', 'g'), 4),\n",
       " (('c', 't'), 4),\n",
       " (('c', 't', 'a'), 4),\n",
       " (('g',), 5),\n",
       " (('g', 'a'), 4),\n",
       " (('g', 'c'), 4),\n",
       " (('g', 'c', 'a'), 4),\n",
       " (('g', 'g'), 4),\n",
       " (('g', 't'), 4),\n",
       " (('t',), 5),\n",
       " (('t', 'a'), 5),\n",
       " (('t', 'a', 'a'), 4),\n",
       " (('t', 'a', 'c'), 4),\n",
       " (('t', 'a', 'c', 'a'), 4),\n",
       " (('t', 'a', 'g'), 4),\n",
       " (('t', 'a', 'g', 'g'), 4),\n",
       " (('t', 'c'), 4),\n",
       " (('t', 'c', 'a'), 4),\n",
       " (('t', 'g'), 4),\n",
       " (('t', 'g', 'g'), 4),\n",
       " (('t', 't'), 4)}"
      ]
     },
     "execution_count": 23,
     "metadata": {},
     "output_type": "execute_result"
    }
   ],
   "source": [
    "seqmining.freq_seq_enum(db_pos.sequence, 4)"
   ]
  },
  {
   "cell_type": "code",
   "execution_count": 20,
   "id": "9321d9ae-59ea-43d2-b722-1e803ef55bc0",
   "metadata": {
    "tags": []
   },
   "outputs": [
    {
     "data": {
      "text/plain": [
       "{'a': 1.0, 'c': 1.0, 'g': 1.0, 't': 1.0, 'ta': 0.8, 'gc': 0.8}"
      ]
     },
     "execution_count": 20,
     "metadata": {},
     "output_type": "execute_result"
    }
   ],
   "source": [
    "GSP(db_pos.sequence, threshold=0.8)"
   ]
  },
  {
   "cell_type": "code",
   "execution_count": 154,
   "id": "5f663c4d-48d8-4b02-b535-059293f54768",
   "metadata": {
    "tags": []
   },
   "outputs": [],
   "source": []
  },
  {
   "cell_type": "code",
   "execution_count": 177,
   "id": "ad7df23a-fdf7-48c1-9491-8ec20a94b127",
   "metadata": {
    "tags": []
   },
   "outputs": [
    {
     "data": {
      "text/plain": [
       "{'a': 1.0, 'c': 1.0, 'g': 1.0, 't': 1.0, 'ta': 0.8, 'gc': 0.8}"
      ]
     },
     "execution_count": 177,
     "metadata": {},
     "output_type": "execute_result"
    }
   ],
   "source": [
    "GSP(db_pos[\"sequence\"], threshold=0.8)"
   ]
  },
  {
   "cell_type": "code",
   "execution_count": 178,
   "id": "3b32b11d-2cf9-40fb-903e-338f8732d4e0",
   "metadata": {
    "tags": []
   },
   "outputs": [
    {
     "data": {
      "text/plain": [
       "{'a': 0.8, 'c': 1.0, 'g': 0.8, 't': 1.0, 'tc': 0.8}"
      ]
     },
     "execution_count": 178,
     "metadata": {},
     "output_type": "execute_result"
    }
   ],
   "source": [
    "GSP(db_neg[\"sequence\"], threshold=0.8)"
   ]
  },
  {
   "cell_type": "code",
   "execution_count": 179,
   "id": "d3f345da-492e-46b5-8dc5-1a0f91327cad",
   "metadata": {
    "tags": []
   },
   "outputs": [
    {
     "data": {
      "application/vnd.jupyter.widget-view+json": {
       "model_id": "b2bc83acb702426aa9143c4f7f67bb37",
       "version_major": 2,
       "version_minor": 0
      },
      "text/plain": [
       "  0%|          | 0/6 [00:00<?, ?it/s]"
      ]
     },
     "metadata": {},
     "output_type": "display_data"
    },
    {
     "data": {
      "text/plain": [
       "{'a': 1.0, 'c': 1.0, 'g': 1.0, 't': 1.0, 'ta': 0.8, 'gc': 0.8}"
      ]
     },
     "execution_count": 179,
     "metadata": {},
     "output_type": "execute_result"
    }
   ],
   "source": [
    "get_closed_freq_set(GSP(db_pos[\"sequence\"], threshold=0.8))"
   ]
  },
  {
   "cell_type": "code",
   "execution_count": 180,
   "id": "24c021c2-33be-4828-9871-902dff1eb106",
   "metadata": {
    "tags": []
   },
   "outputs": [
    {
     "data": {
      "application/vnd.jupyter.widget-view+json": {
       "model_id": "9e7b1f9340424a55ac77cf4a228b7c39",
       "version_major": 2,
       "version_minor": 0
      },
      "text/plain": [
       "  0%|          | 0/5 [00:00<?, ?it/s]"
      ]
     },
     "metadata": {},
     "output_type": "display_data"
    },
    {
     "data": {
      "text/plain": [
       "{'a': 0.8, 'c': 1.0, 'g': 0.8, 't': 1.0, 'tc': 0.8}"
      ]
     },
     "execution_count": 180,
     "metadata": {},
     "output_type": "execute_result"
    }
   ],
   "source": [
    "get_closed_freq_set(GSP(db_neg[\"sequence\"], threshold=0.8))"
   ]
  },
  {
   "cell_type": "code",
   "execution_count": 25,
   "id": "b905451f-0a82-41c6-96ae-d927e6eab6e7",
   "metadata": {
    "tags": []
   },
   "outputs": [],
   "source": [
    "df = pd.read_csv(\"data/chimpanzee.txt\", delimiter=\"\\t\")"
   ]
  },
  {
   "cell_type": "code",
   "execution_count": 26,
   "id": "3193207b-a3e7-464e-bb33-fc849cce7ecd",
   "metadata": {
    "tags": []
   },
   "outputs": [
    {
     "data": {
      "text/html": [
       "<div>\n",
       "<style scoped>\n",
       "    .dataframe tbody tr th:only-of-type {\n",
       "        vertical-align: middle;\n",
       "    }\n",
       "\n",
       "    .dataframe tbody tr th {\n",
       "        vertical-align: top;\n",
       "    }\n",
       "\n",
       "    .dataframe thead th {\n",
       "        text-align: right;\n",
       "    }\n",
       "</style>\n",
       "<table border=\"1\" class=\"dataframe\">\n",
       "  <thead>\n",
       "    <tr style=\"text-align: right;\">\n",
       "      <th></th>\n",
       "      <th>sequence</th>\n",
       "      <th>class</th>\n",
       "    </tr>\n",
       "  </thead>\n",
       "  <tbody>\n",
       "    <tr>\n",
       "      <th>0</th>\n",
       "      <td>ATGCCCCAACTAAATACCGCCGTATGACCCACCATAATTACCCCCA...</td>\n",
       "      <td>4</td>\n",
       "    </tr>\n",
       "    <tr>\n",
       "      <th>1</th>\n",
       "      <td>ATGAACGAAAATCTATTCGCTTCATTCGCTGCCCCCACAATCCTAG...</td>\n",
       "      <td>4</td>\n",
       "    </tr>\n",
       "    <tr>\n",
       "      <th>2</th>\n",
       "      <td>ATGGCCTCGCGCTGGTGGCGGTGGCGACGCGGCTGCTCCTGGAGGC...</td>\n",
       "      <td>4</td>\n",
       "    </tr>\n",
       "    <tr>\n",
       "      <th>3</th>\n",
       "      <td>ATGGCCTCGCGCTGGTGGCGGTGGCGACGCGGCTGCTCCTGGAGGC...</td>\n",
       "      <td>4</td>\n",
       "    </tr>\n",
       "    <tr>\n",
       "      <th>4</th>\n",
       "      <td>ATGGGCAGCGCCAGCCCGGGTCTGAGCAGCGTGTCCCCCAGCCACC...</td>\n",
       "      <td>6</td>\n",
       "    </tr>\n",
       "  </tbody>\n",
       "</table>\n",
       "</div>"
      ],
      "text/plain": [
       "                                            sequence  class\n",
       "0  ATGCCCCAACTAAATACCGCCGTATGACCCACCATAATTACCCCCA...      4\n",
       "1  ATGAACGAAAATCTATTCGCTTCATTCGCTGCCCCCACAATCCTAG...      4\n",
       "2  ATGGCCTCGCGCTGGTGGCGGTGGCGACGCGGCTGCTCCTGGAGGC...      4\n",
       "3  ATGGCCTCGCGCTGGTGGCGGTGGCGACGCGGCTGCTCCTGGAGGC...      4\n",
       "4  ATGGGCAGCGCCAGCCCGGGTCTGAGCAGCGTGTCCCCCAGCCACC...      6"
      ]
     },
     "execution_count": 26,
     "metadata": {},
     "output_type": "execute_result"
    }
   ],
   "source": [
    "df.head()"
   ]
  },
  {
   "cell_type": "code",
   "execution_count": 27,
   "id": "e540d992-c2f4-44ef-b7e6-d8e4e8be9f80",
   "metadata": {
    "tags": []
   },
   "outputs": [],
   "source": [
    "df.loc[df[\"class\"]!=6,\"class\"] = 0"
   ]
  },
  {
   "cell_type": "code",
   "execution_count": 28,
   "id": "d38f4176-a9d4-403b-8962-4947cc0593a9",
   "metadata": {
    "tags": []
   },
   "outputs": [],
   "source": [
    "df.loc[df[\"class\"]==6,\"class\"] = 1"
   ]
  },
  {
   "cell_type": "code",
   "execution_count": 29,
   "id": "38a1c8fa-b21f-4323-bae3-39ee182fe7f6",
   "metadata": {
    "tags": []
   },
   "outputs": [
    {
     "data": {
      "text/plain": [
       "<Axes: xlabel='class', ylabel='count'>"
      ]
     },
     "execution_count": 29,
     "metadata": {},
     "output_type": "execute_result"
    },
    {
     "data": {
      "image/png": "[encoded data removed]",
      "text/plain": [
       "<Figure size 640x480 with 1 Axes>"
      ]
     },
     "metadata": {},
     "output_type": "display_data"
    }
   ],
   "source": [
    "sns.countplot(df, x=\"class\")"
   ]
  },
  {
   "cell_type": "code",
   "execution_count": 30,
   "id": "97953632-1d96-440a-b4f1-fc1b9785789e",
   "metadata": {
    "tags": []
   },
   "outputs": [
    {
     "data": {
      "text/plain": [
       "array(['A', 'C', 'G', 'T'], dtype='<U1')"
      ]
     },
     "execution_count": 30,
     "metadata": {},
     "output_type": "execute_result"
    }
   ],
   "source": [
    "np.unique(df.sequence.apply(list).loc[0])"
   ]
  },
  {
   "cell_type": "code",
   "execution_count": 31,
   "id": "675391b0-dc90-41b3-b178-0662e787b528",
   "metadata": {
    "tags": []
   },
   "outputs": [],
   "source": [
    "df.sequence = df.sequence.apply(str.lower)"
   ]
  },
  {
   "cell_type": "code",
   "execution_count": 32,
   "id": "421c66ad-8097-4f68-8343-d3c9c036ac55",
   "metadata": {
    "tags": []
   },
   "outputs": [
    {
     "data": {
      "text/plain": [
       "0       atgccccaactaaataccgccgtatgacccaccataattaccccca...\n",
       "1       atgaacgaaaatctattcgcttcattcgctgcccccacaatcctag...\n",
       "2       atggcctcgcgctggtggcggtggcgacgcggctgctcctggaggc...\n",
       "3       atggcctcgcgctggtggcggtggcgacgcggctgctcctggaggc...\n",
       "4       atgggcagcgccagcccgggtctgagcagcgtgtcccccagccacc...\n",
       "                              ...                        \n",
       "1677    atgctgagcggagcggctggggctgcgcggcgtggcggagcagcgc...\n",
       "1678    atgctgagcggagcggctggggctgcgcggcgtggcggagcagcgc...\n",
       "1679    atgaagcgacccaaggagccgagcggctccgacggggagtccgacg...\n",
       "1680    atgactggaaccccaaagactcaagaaggagctaaagatcttgaag...\n",
       "1681    atgttgcccagctgtggcaagatcttgactgggtgtaagaatatgc...\n",
       "Name: sequence, Length: 1682, dtype: object"
      ]
     },
     "execution_count": 32,
     "metadata": {},
     "output_type": "execute_result"
    }
   ],
   "source": [
    "df.sequence"
   ]
  },
  {
   "cell_type": "code",
   "execution_count": 35,
   "id": "12d86ab8-346e-42c4-91bf-8583f2589254",
   "metadata": {
    "tags": []
   },
   "outputs": [
    {
     "data": {
      "text/plain": [
       "(521, 2)"
      ]
     },
     "execution_count": 35,
     "metadata": {},
     "output_type": "execute_result"
    }
   ],
   "source": [
    "df[df[\"class\"]==1]"
   ]
  },
  {
   "cell_type": "code",
   "execution_count": 36,
   "id": "061a1bd4-05de-4b19-a768-6ab79b491a52",
   "metadata": {
    "tags": []
   },
   "outputs": [
    {
     "name": "stderr",
     "output_type": "stream",
     "text": [
      "\n",
      "KeyboardInterrupt\n",
      "\n"
     ]
    }
   ],
   "source": [
    "seqmining.freq_seq_enum(df[df[\"class\"]==1].sequence, 500)"
   ]
  },
  {
   "cell_type": "code",
   "execution_count": 138,
   "id": "0bfd53f2-d348-4443-a4d2-4295792b5758",
   "metadata": {
    "tags": []
   },
   "outputs": [
    {
     "data": {
      "application/vnd.jupyter.widget-view+json": {
       "model_id": "f553e876fe094c0cb39b3457910b8d04",
       "version_major": 2,
       "version_minor": 0
      },
      "text/plain": [
       "  0%|          | 0/2 [00:00<?, ?it/s]"
      ]
     },
     "metadata": {},
     "output_type": "display_data"
    }
   ],
   "source": [
    "freqs = [GSP(df[df[\"class\"]==i].sequence, threshold=0.5) for i in tqdm(df[\"class\"].unique())]"
   ]
  },
  {
   "cell_type": "code",
   "execution_count": 139,
   "id": "37d7cd33-07ec-4e64-8a42-71ae6394eb92",
   "metadata": {
    "tags": []
   },
   "outputs": [
    {
     "data": {
      "text/plain": [
       "1731"
      ]
     },
     "execution_count": 139,
     "metadata": {},
     "output_type": "execute_result"
    }
   ],
   "source": [
    "len(freqs[0])"
   ]
  },
  {
   "cell_type": "code",
   "execution_count": 140,
   "id": "879db418-91d8-4e91-8892-dd7cec78a37d",
   "metadata": {
    "tags": []
   },
   "outputs": [],
   "source": [
    "def get_closed_freq_set(freq_sets):\n",
    "    closed_sets = {}\n",
    "    for seq in tqdm(freq_sets):\n",
    "        N = len(seq)\n",
    "        super_sets = dict(filter(lambda x: x[0][:N] == seq, freq_sets.items()))\n",
    "        super_sets.pop(seq)\n",
    "        \n",
    "        if len(super_sets)>0:\n",
    "            is_closed=True\n",
    "            for support in super_sets.values():\n",
    "                if support == freq_sets[seq]:\n",
    "                    is_closed=False\n",
    "                    break\n",
    "            \n",
    "            if is_closed:\n",
    "                closed_sets|={seq:freq_sets[seq]}\n",
    "    return closed_sets"
   ]
  },
  {
   "cell_type": "code",
   "execution_count": 181,
   "id": "7aca55d3-9036-403d-96d3-c51bf7b01136",
   "metadata": {
    "tags": []
   },
   "outputs": [
    {
     "data": {
      "application/vnd.jupyter.widget-view+json": {
       "model_id": "8795a6a9734c4f488ef1016940300252",
       "version_major": 2,
       "version_minor": 0
      },
      "text/plain": [
       "  0%|          | 0/1731 [00:00<?, ?it/s]"
      ]
     },
     "metadata": {},
     "output_type": "display_data"
    },
    {
     "data": {
      "application/vnd.jupyter.widget-view+json": {
       "model_id": "beef35dd89ac4409af63853bc8ae4124",
       "version_major": 2,
       "version_minor": 0
      },
      "text/plain": [
       "  0%|          | 0/1192 [00:00<?, ?it/s]"
      ]
     },
     "metadata": {},
     "output_type": "display_data"
    }
   ],
   "source": [
    "closed_freqs = [ get_closed_freq_set(freq_set) for freq_set in freqs ]"
   ]
  },
  {
   "cell_type": "code",
   "execution_count": 182,
   "id": "760c0b90-3e12-4d81-90b6-29e6b8d8f1c7",
   "metadata": {
    "tags": []
   },
   "outputs": [
    {
     "data": {
      "text/plain": [
       "[1719, 1178]"
      ]
     },
     "execution_count": 182,
     "metadata": {},
     "output_type": "execute_result"
    }
   ],
   "source": [
    "list(map(len, closed_freqs))"
   ]
  },
  {
   "cell_type": "code",
   "execution_count": 183,
   "id": "8410b4cf-9527-4eed-bcfb-0b27f5714ed3",
   "metadata": {
    "tags": []
   },
   "outputs": [
    {
     "data": {
      "text/plain": [
       "[1731, 1192]"
      ]
     },
     "execution_count": 183,
     "metadata": {},
     "output_type": "execute_result"
    }
   ],
   "source": [
    "list(map(len, freqs))"
   ]
  },
  {
   "cell_type": "code",
   "execution_count": 144,
   "id": "a0812d25-e7bf-4954-9d00-3dcad220d985",
   "metadata": {
    "tags": []
   },
   "outputs": [],
   "source": [
    "def get_distinct_freq_set(freq_sets, i):\n",
    "    seqs = set(freq_sets[i].keys())\n",
    "    for idx, seq_set in enumerate(freq_sets):\n",
    "        if idx!=i:\n",
    "            seqs-=set(seq_set.keys())\n",
    "    return seqs"
   ]
  },
  {
   "cell_type": "code",
   "execution_count": 145,
   "id": "c7f330a0-8902-4f11-8b21-9d88bb02f79a",
   "metadata": {
    "tags": []
   },
   "outputs": [],
   "source": [
    "distinct_sets = [ get_distinct_freq_set(freqs, i) for i in range(len( closed_freqs )) ]"
   ]
  },
  {
   "cell_type": "code",
   "execution_count": 146,
   "id": "ea61e29c-72d9-489e-83de-94652bb3be72",
   "metadata": {
    "tags": []
   },
   "outputs": [
    {
     "data": {
      "text/plain": [
       "{'aacaag',\n",
       " 'acgac',\n",
       " 'acgcc',\n",
       " 'caacag',\n",
       " 'cagcagc',\n",
       " 'ccaccc',\n",
       " 'ccccaa',\n",
       " 'ccgac',\n",
       " 'cctccc',\n",
       " 'ctccaa',\n",
       " 'ctcccc',\n",
       " 'ctcgc',\n",
       " 'gagccc',\n",
       " 'taatg'}"
      ]
     },
     "execution_count": 146,
     "metadata": {},
     "output_type": "execute_result"
    }
   ],
   "source": [
    "distinct_sets[1]"
   ]
  },
  {
   "cell_type": "code",
   "execution_count": 70,
   "id": "a8560ffe-28d6-433e-a12c-60c3056b5a74",
   "metadata": {
    "tags": []
   },
   "outputs": [],
   "source": [
    "a_counts = df.sequence.apply(lambda x: x.count(\"a\"))\n",
    "c_counts = df.sequence.apply(lambda x: x.count(\"c\"))\n",
    "g_counts = df.sequence.apply(lambda x: x.count(\"g\"))\n",
    "t_counts = df.sequence.apply(lambda x: x.count(\"t\"))"
   ]
  },
  {
   "cell_type": "code",
   "execution_count": 129,
   "id": "62c16d83-8f74-4048-b631-3dbbd4b5be13",
   "metadata": {
    "tags": []
   },
   "outputs": [
    {
     "name": "stdout",
     "output_type": "stream",
     "text": [
      "0 / 521 = 0.0\n",
      "0 / 521 = 0.0\n",
      "0 / 521 = 0.0\n",
      "0 / 521 = 0.0\n",
      "0 / 521 = 0.0\n",
      "0 / 521 = 0.0\n",
      "0 / 521 = 0.0\n",
      "0 / 521 = 0.0\n",
      "0 / 521 = 0.0\n",
      "0 / 521 = 0.0\n",
      "0 / 521 = 0.0\n",
      "0 / 521 = 0.0\n",
      "0 / 521 = 0.0\n",
      "0 / 521 = 0.0\n"
     ]
    }
   ],
   "source": [
    "for seq in distinct_sets[1]:\n",
    "    N = len(seq)\n",
    "    print(\n",
    "        df[df[\"class\"]==1].sequence.apply(lambda x: seq == x[:N]).sum(), \"/\", df[df[\"class\"]==1].sequence.count(), \"=\",\n",
    "        df[df[\"class\"]==1].sequence.apply(lambda x: seq == x[:N]).sum()/df[df[\"class\"]==1].sequence.count()\n",
    "    )"
   ]
  },
  {
   "cell_type": "code",
   "execution_count": 130,
   "id": "6163c6ae-4fa2-4d33-b6a8-7315f200cc06",
   "metadata": {
    "tags": []
   },
   "outputs": [
    {
     "name": "stdout",
     "output_type": "stream",
     "text": [
      "0 / 1161 = 0.0\n",
      "0 / 1161 = 0.0\n",
      "0 / 1161 = 0.0\n",
      "0 / 1161 = 0.0\n",
      "0 / 1161 = 0.0\n",
      "0 / 1161 = 0.0\n",
      "0 / 1161 = 0.0\n",
      "0 / 1161 = 0.0\n",
      "0 / 1161 = 0.0\n",
      "0 / 1161 = 0.0\n",
      "0 / 1161 = 0.0\n",
      "0 / 1161 = 0.0\n",
      "1 / 1161 = 0.0008613264427217916\n",
      "0 / 1161 = 0.0\n"
     ]
    }
   ],
   "source": [
    "for seq in distinct_sets[1]:\n",
    "    N=len(seq)\n",
    "    print(\n",
    "        df[df[\"class\"]==0].sequence.apply(lambda x: seq == x[:N]).sum(), \"/\", df[df[\"class\"]==0].sequence.count(), \"=\",\n",
    "        df[df[\"class\"]==0].sequence.apply(lambda x: seq == x[:N]).sum()/df[df[\"class\"]==0].sequence.count()\n",
    "    )"
   ]
  },
  {
   "cell_type": "code",
   "execution_count": null,
   "id": "57d0c3a1-1755-4858-b87d-9c85718495e9",
   "metadata": {},
   "outputs": [],
   "source": []
  }
 ],
 "metadata": {
  "kernelspec": {
   "display_name": "Python 3 (ipykernel)",
   "language": "python",
   "name": "python3"
  },
  "language_info": {
   "codemirror_mode": {
    "name": "ipython",
    "version": 3
   },
   "file_extension": ".py",
   "mimetype": "text/x-python",
   "name": "python",
   "nbconvert_exporter": "python",
   "pygments_lexer": "ipython3",
   "version": "3.9.7"
  }
 },
 "nbformat": 4,
 "nbformat_minor": 5
}
