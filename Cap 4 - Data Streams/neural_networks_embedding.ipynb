{
 "cells": [
  {
   "cell_type": "code",
   "execution_count": 1,
   "id": "fd76e65e-e62d-46f7-8756-9603caf9126d",
   "metadata": {
    "tags": []
   },
   "outputs": [],
   "source": [
    "import numpy as np\n",
    "import pandas as pd\n",
    "\n",
    "from util import *\n",
    "\n",
    "from sklearn.preprocessing import MinMaxScaler\n",
    "from sklearn.model_selection import train_test_split\n",
    "from sklearn.svm import SVC\n",
    "from sklearn.metrics import matthews_corrcoef, ConfusionMatrixDisplay, confusion_matrix\n",
    "from tensorflow.keras import models, layers, losses, metrics, activations"
   ]
  },
  {
   "cell_type": "code",
   "execution_count": 2,
   "id": "d9a0f601-fdd6-4886-86ea-3330bf9c66e8",
   "metadata": {
    "tags": []
   },
   "outputs": [],
   "source": [
    "df = pd.read_csv(\"./data/creditcard.csv\").drop(columns=\"Time\")"
   ]
  },
  {
   "cell_type": "code",
   "execution_count": 3,
   "id": "ef6cb51c-15c9-438e-a189-d5f8d0c55f0f",
   "metadata": {
    "tags": []
   },
   "outputs": [],
   "source": [
    "X, y = df.drop(columns=\"Class\"), df.Class"
   ]
  },
  {
   "cell_type": "code",
   "execution_count": 4,
   "id": "f92276b9-68fd-44f5-a5e7-d45f04d8d4fb",
   "metadata": {
    "tags": []
   },
   "outputs": [
    {
     "data": {
      "text/plain": [
       "0    284315\n",
       "1       492\n",
       "Name: Class, dtype: int64"
      ]
     },
     "execution_count": 4,
     "metadata": {},
     "output_type": "execute_result"
    }
   ],
   "source": [
    "y.value_counts()"
   ]
  },
  {
   "cell_type": "code",
   "execution_count": 22,
   "id": "f227f36a-030c-48b3-b9e4-baa57bf5f02f",
   "metadata": {
    "tags": []
   },
   "outputs": [],
   "source": [
    "X_train, X_test, y_train, y_test = train_test_split(X, y, test_size=0.2, random_state=225)"
   ]
  },
  {
   "cell_type": "code",
   "execution_count": 23,
   "id": "56a9fcba-6d61-4527-937d-795d719c0efa",
   "metadata": {
    "tags": []
   },
   "outputs": [
    {
     "data": {
      "text/plain": [
       "0    227446\n",
       "1       399\n",
       "Name: Class, dtype: int64"
      ]
     },
     "execution_count": 23,
     "metadata": {},
     "output_type": "execute_result"
    }
   ],
   "source": [
    "y_train.value_counts()"
   ]
  },
  {
   "cell_type": "code",
   "execution_count": 7,
   "id": "dfe60522-5af3-41a9-b75a-bc335a566356",
   "metadata": {
    "tags": []
   },
   "outputs": [],
   "source": [
    "sc = MinMaxScaler().fit(X_train)"
   ]
  },
  {
   "cell_type": "code",
   "execution_count": 8,
   "id": "bf388fee-da5c-4c08-a03c-eada02632263",
   "metadata": {
    "tags": []
   },
   "outputs": [],
   "source": [
    "class Autoencoder(models.Model):\n",
    "    def __init__(self, true, latent):\n",
    "        super(Autoencoder, self).__init__()\n",
    "        self.encoder = models.Sequential([\n",
    "            layers.Dense(latent, activation=\"tanh\")\n",
    "        ], name=\"encoder\")\n",
    "        \n",
    "        self.decoder = models.Sequential([\n",
    "            layers.Dense(true, activation=\"sigmoid\")\n",
    "        ])\n",
    "        \n",
    "    def call(self, x):\n",
    "        enc = self.encoder(x)\n",
    "        dec = self.decoder(enc)\n",
    "        return dec"
   ]
  },
  {
   "cell_type": "code",
   "execution_count": 25,
   "id": "0b76173c-2c63-449b-a452-dd03b007498d",
   "metadata": {
    "tags": []
   },
   "outputs": [],
   "source": [
    "ae = Autoencoder(29, 10)"
   ]
  },
  {
   "cell_type": "code",
   "execution_count": 26,
   "id": "9ef16963-c860-453f-b77d-036e5ce9e70a",
   "metadata": {
    "tags": []
   },
   "outputs": [],
   "source": [
    "ae.compile(\"adam\", loss=\"mse\")"
   ]
  },
  {
   "cell_type": "code",
   "execution_count": 46,
   "id": "0f40783f-95b6-42a4-bf8d-2b6f43343deb",
   "metadata": {
    "tags": []
   },
   "outputs": [
    {
     "name": "stdout",
     "output_type": "stream",
     "text": [
      "Epoch 1/2\n",
      "1781/1781 [==============================] - 9s 5ms/step - loss: 3.0618e-04 - val_loss: 3.1247e-04\n",
      "Epoch 2/2\n",
      "1781/1781 [==============================] - 9s 5ms/step - loss: 3.0371e-04 - val_loss: 3.1188e-04\n"
     ]
    },
    {
     "data": {
      "text/plain": [
       "<keras.callbacks.History at 0x292179ddd60>"
      ]
     },
     "execution_count": 46,
     "metadata": {},
     "output_type": "execute_result"
    }
   ],
   "source": [
    "ae.fit(\n",
    "    sc.transform(X_train), \n",
    "    sc.transform(X_train), \n",
    "    batch_size=128, \n",
    "    epochs=2, \n",
    "    validation_data=(sc.transform(X_test), sc.transform(X_test))\n",
    ")"
   ]
  },
  {
   "cell_type": "markdown",
   "id": "b6aad202-4b43-4034-88f3-70dea635ec0e",
   "metadata": {},
   "source": [
    "### Encoder Representation for SVM"
   ]
  },
  {
   "cell_type": "code",
   "execution_count": 47,
   "id": "df7d2db6-b68b-4f29-a832-8112d88a1b01",
   "metadata": {
    "tags": []
   },
   "outputs": [],
   "source": [
    "X_train_=ae.encoder(sc.transform(X_train))"
   ]
  },
  {
   "cell_type": "code",
   "execution_count": 48,
   "id": "bde2d2fd-8feb-4504-91e4-b6aa31c60a54",
   "metadata": {
    "tags": []
   },
   "outputs": [],
   "source": [
    "X_test_ = ae.encoder(sc.transform(X_test))"
   ]
  },
  {
   "cell_type": "code",
   "execution_count": 49,
   "id": "9fbaa5b7-e8f0-48a0-821a-012aad3ad3a1",
   "metadata": {
    "tags": []
   },
   "outputs": [
    {
     "data": {
      "text/plain": [
       "0.8163910708851516"
      ]
     },
     "execution_count": 49,
     "metadata": {},
     "output_type": "execute_result"
    }
   ],
   "source": [
    "svc = SVC().fit(X_train_, y_train)\n",
    "preds = svc.predict(X_test_)\n",
    "matthews_corrcoef(y_test, preds)"
   ]
  },
  {
   "cell_type": "code",
   "execution_count": 50,
   "id": "a0a19aaa-4fc6-4722-ba9f-629906bae09d",
   "metadata": {
    "tags": []
   },
   "outputs": [
    {
     "data": {
      "text/plain": [
       "<sklearn.metrics._plot.confusion_matrix.ConfusionMatrixDisplay at 0x292178fa4c0>"
      ]
     },
     "execution_count": 50,
     "metadata": {},
     "output_type": "execute_result"
    },
    {
     "data": {
      "image/png": "[encoded data removed]",
      "text/plain": [
       "<Figure size 640x480 with 2 Axes>"
      ]
     },
     "metadata": {},
     "output_type": "display_data"
    }
   ],
   "source": [
    "ConfusionMatrixDisplay(confusion_matrix(y_test,preds)).plot()"
   ]
  },
  {
   "cell_type": "markdown",
   "id": "393351a3-aaa1-4536-8787-3d194937b327",
   "metadata": {},
   "source": [
    "### Encoder Representation for feedforward network"
   ]
  },
  {
   "cell_type": "code",
   "execution_count": 51,
   "id": "b76ae15b-ba8e-47c9-8ae8-bcbc3d53cc2c",
   "metadata": {
    "tags": []
   },
   "outputs": [],
   "source": [
    "ae.encoder.trainable=False"
   ]
  },
  {
   "cell_type": "code",
   "execution_count": 52,
   "id": "817ca753-4d51-4e1c-87bb-0e1e8d7e0229",
   "metadata": {
    "tags": []
   },
   "outputs": [],
   "source": [
    "model = models.Sequential([\n",
    "    ae.encoder,\n",
    "    layers.Dense(15, \"relu\"),\n",
    "    layers.Dense(1, \"sigmoid\")\n",
    "])"
   ]
  },
  {
   "cell_type": "code",
   "execution_count": 53,
   "id": "2672ba84-715f-4ca4-b514-deee3ac6309c",
   "metadata": {
    "tags": []
   },
   "outputs": [],
   "source": [
    "model.compile(loss=\"binary_crossentropy\", metrics=[metrics.Recall()])"
   ]
  },
  {
   "cell_type": "code",
   "execution_count": 60,
   "id": "9abb36e6-e00f-438c-b71c-7e84cb0efe3c",
   "metadata": {
    "tags": []
   },
   "outputs": [
    {
     "name": "stdout",
     "output_type": "stream",
     "text": [
      "Epoch 1/2\n",
      "891/891 [==============================] - 8s 9ms/step - loss: 0.0043 - recall: 0.6491 - val_loss: 0.0033 - val_recall: 0.7312\n",
      "Epoch 2/2\n",
      "891/891 [==============================] - 7s 8ms/step - loss: 0.0042 - recall: 0.6541 - val_loss: 0.0032 - val_recall: 0.7419\n"
     ]
    },
    {
     "data": {
      "text/plain": [
       "<keras.callbacks.History at 0x29220620b50>"
      ]
     },
     "execution_count": 60,
     "metadata": {},
     "output_type": "execute_result"
    }
   ],
   "source": [
    "model.fit(\n",
    "    sc.transform(X_train), y_train,\n",
    "    batch_size=256,\n",
    "    epochs=2,\n",
    "    validation_data=( sc.transform(X_test), y_test )\n",
    ")"
   ]
  },
  {
   "cell_type": "code",
   "execution_count": 61,
   "id": "767c7455-2d3c-4e59-bfec-8aa772b0897a",
   "metadata": {
    "tags": []
   },
   "outputs": [
    {
     "data": {
      "text/plain": [
       "0.794686357714332"
      ]
     },
     "execution_count": 61,
     "metadata": {},
     "output_type": "execute_result"
    }
   ],
   "source": [
    "preds = (np.array(model(sc.transform(X_test)))>=0.5)*1\n",
    "matthews_corrcoef(y_test, preds)"
   ]
  },
  {
   "cell_type": "code",
   "execution_count": 62,
   "id": "8c3e86c8-565b-4fc8-94db-46b8ba383b79",
   "metadata": {
    "tags": []
   },
   "outputs": [
    {
     "data": {
      "text/plain": [
       "<sklearn.metrics._plot.confusion_matrix.ConfusionMatrixDisplay at 0x29217b009d0>"
      ]
     },
     "execution_count": 62,
     "metadata": {},
     "output_type": "execute_result"
    },
    {
     "data": {
      "image/png": "[encoded data removed]",
      "text/plain": [
       "<Figure size 640x480 with 2 Axes>"
      ]
     },
     "metadata": {},
     "output_type": "display_data"
    }
   ],
   "source": [
    "ConfusionMatrixDisplay(confusion_matrix(y_test,preds)).plot()"
   ]
  },
  {
   "cell_type": "code",
   "execution_count": null,
   "id": "5f807fd6-0bc1-43da-84cb-19b90c0da6dc",
   "metadata": {},
   "outputs": [],
   "source": []
  }
 ],
 "metadata": {
  "kernelspec": {
   "display_name": "Python 3 (ipykernel)",
   "language": "python",
   "name": "python3"
  },
  "language_info": {
   "codemirror_mode": {
    "name": "ipython",
    "version": 3
   },
   "file_extension": ".py",
   "mimetype": "text/x-python",
   "name": "python",
   "nbconvert_exporter": "python",
   "pygments_lexer": "ipython3",
   "version": "3.9.7"
  }
 },
 "nbformat": 4,
 "nbformat_minor": 5
}
