{
 "cells": [
  {
   "cell_type": "code",
   "execution_count": 1,
   "id": "fd76e65e-e62d-46f7-8756-9603caf9126d",
   "metadata": {
    "tags": []
   },
   "outputs": [],
   "source": [
    "import numpy as np\n",
    "import pandas as pd\n",
    "\n",
    "from util import *\n",
    "\n",
    "from sklearn.preprocessing import MinMaxScaler\n",
    "from sklearn.model_selection import train_test_split\n",
    "from sklearn.svm import SVC\n",
    "from sklearn.metrics import matthews_corrcoef, ConfusionMatrixDisplay, confusion_matrix\n",
    "from tensorflow.keras import models, layers, losses, metrics, activations"
   ]
  },
  {
   "cell_type": "code",
   "execution_count": 2,
   "id": "d9a0f601-fdd6-4886-86ea-3330bf9c66e8",
   "metadata": {
    "tags": []
   },
   "outputs": [],
   "source": [
    "df = pd.read_csv(\"creditcard.csv\").drop(columns=\"Time\")"
   ]
  },
  {
   "cell_type": "code",
   "execution_count": 3,
   "id": "ef6cb51c-15c9-438e-a189-d5f8d0c55f0f",
   "metadata": {
    "tags": []
   },
   "outputs": [],
   "source": [
    "X, y = df.drop(columns=\"Class\"), df.Class"
   ]
  },
  {
   "cell_type": "code",
   "execution_count": 16,
   "id": "f92276b9-68fd-44f5-a5e7-d45f04d8d4fb",
   "metadata": {
    "tags": []
   },
   "outputs": [
    {
     "data": {
      "text/plain": [
       "0    284315\n",
       "1       492\n",
       "Name: Class, dtype: int64"
      ]
     },
     "execution_count": 16,
     "metadata": {},
     "output_type": "execute_result"
    }
   ],
   "source": [
    "y.value_counts()"
   ]
  },
  {
   "cell_type": "code",
   "execution_count": 17,
   "id": "cb96bb28-24fa-4552-b1a8-09a783804faf",
   "metadata": {
    "tags": []
   },
   "outputs": [],
   "source": [
    "X0_train, X0_test, y0_train, y0_test = train_test_split(X[y==0], y[y==0], test_size=0.5, random_state=23)"
   ]
  },
  {
   "cell_type": "code",
   "execution_count": 22,
   "id": "c74156b2-4aaf-4e8a-9b3d-b1f89aaf57ef",
   "metadata": {
    "tags": []
   },
   "outputs": [],
   "source": [
    "X1_train, X1_test, y1_train, y1_test = train_test_split(X[y==1], y[y==1], test_size=0.2, random_state=123)"
   ]
  },
  {
   "cell_type": "code",
   "execution_count": 27,
   "id": "48e2b95a-60e4-453c-b56d-c07ee77a9131",
   "metadata": {
    "tags": []
   },
   "outputs": [],
   "source": [
    "X_train = pd.concat((X1_train, X0_train))\n",
    "X_test = pd.concat((X1_test, X0_test))\n",
    "y_train = pd.concat((y1_train, y0_train))\n",
    "y_test = pd.concat((y1_test, y0_test))"
   ]
  },
  {
   "cell_type": "code",
   "execution_count": 46,
   "id": "f227f36a-030c-48b3-b9e4-baa57bf5f02f",
   "metadata": {
    "tags": []
   },
   "outputs": [],
   "source": [
    "X_train, X_test, y_train, y_test = train_test_split(X, y, test_size=0.2, random_state=225)"
   ]
  },
  {
   "cell_type": "code",
   "execution_count": 47,
   "id": "dfe60522-5af3-41a9-b75a-bc335a566356",
   "metadata": {
    "tags": []
   },
   "outputs": [],
   "source": [
    "sc = MinMaxScaler().fit(X_train)"
   ]
  },
  {
   "cell_type": "code",
   "execution_count": 48,
   "id": "bf388fee-da5c-4c08-a03c-eada02632263",
   "metadata": {
    "tags": []
   },
   "outputs": [],
   "source": [
    "class Autoencoder(models.Model):\n",
    "    def __init__(self, true, latent):\n",
    "        super(Autoencoder, self).__init__()\n",
    "        self.encoder = models.Sequential([\n",
    "            layers.Dense(latent, activation=\"tanh\")\n",
    "        ], name=\"encoder\")\n",
    "        \n",
    "        self.decoder = models.Sequential([\n",
    "            layers.Dense(true, activation=\"sigmoid\")\n",
    "        ])\n",
    "        \n",
    "    def call(self, x):\n",
    "        enc = self.encoder(x)\n",
    "        dec = self.decoder(enc)\n",
    "        return dec"
   ]
  },
  {
   "cell_type": "code",
   "execution_count": 49,
   "id": "0b76173c-2c63-449b-a452-dd03b007498d",
   "metadata": {
    "tags": []
   },
   "outputs": [],
   "source": [
    "ae = Autoencoder(29, 10)"
   ]
  },
  {
   "cell_type": "code",
   "execution_count": 50,
   "id": "9ef16963-c860-453f-b77d-036e5ce9e70a",
   "metadata": {
    "tags": []
   },
   "outputs": [],
   "source": [
    "ae.compile(\"adam\", loss=\"mse\")"
   ]
  },
  {
   "cell_type": "code",
   "execution_count": 81,
   "id": "0f40783f-95b6-42a4-bf8d-2b6f43343deb",
   "metadata": {
    "tags": []
   },
   "outputs": [
    {
     "name": "stdout",
     "output_type": "stream",
     "text": [
      "1781/1781 [==============================] - 9s 5ms/step - loss: 4.4736e-04 - val_loss: 4.4137e-04\n"
     ]
    },
    {
     "data": {
      "text/plain": [
       "<keras.callbacks.History at 0x15d159a8ac0>"
      ]
     },
     "execution_count": 81,
     "metadata": {},
     "output_type": "execute_result"
    }
   ],
   "source": [
    "ae.fit(\n",
    "    sc.transform(X_train), \n",
    "    sc.transform(X_train), \n",
    "    batch_size=128, \n",
    "    epochs=1, \n",
    "    validation_data=(sc.transform(X_test), sc.transform(X_test))\n",
    ")"
   ]
  },
  {
   "cell_type": "code",
   "execution_count": 82,
   "id": "f2d41e5e-db9d-4ef6-b55a-f8b01baf3987",
   "metadata": {
    "tags": []
   },
   "outputs": [
    {
     "data": {
      "text/plain": [
       "<tf.Tensor: shape=(1, 10), dtype=float32, numpy=\n",
       "array([[-0.9968368 , -0.05677959, -0.32200176, -0.8103597 , -0.14163107,\n",
       "         0.22009885, -0.13093638,  0.14889714,  0.12097643, -0.2685598 ]],\n",
       "      dtype=float32)>"
      ]
     },
     "execution_count": 82,
     "metadata": {},
     "output_type": "execute_result"
    }
   ],
   "source": [
    "ae.encoder(sc.transform(X_train[:1]))"
   ]
  },
  {
   "cell_type": "markdown",
   "id": "b6aad202-4b43-4034-88f3-70dea635ec0e",
   "metadata": {},
   "source": [
    "### Encoder Representation for SVM"
   ]
  },
  {
   "cell_type": "code",
   "execution_count": 83,
   "id": "df7d2db6-b68b-4f29-a832-8112d88a1b01",
   "metadata": {
    "tags": []
   },
   "outputs": [],
   "source": [
    "X_train_=ae.encoder(sc.transform(X_train))"
   ]
  },
  {
   "cell_type": "code",
   "execution_count": 84,
   "id": "bde2d2fd-8feb-4504-91e4-b6aa31c60a54",
   "metadata": {
    "tags": []
   },
   "outputs": [],
   "source": [
    "X_test_ = ae.encoder(sc.transform(X_test))"
   ]
  },
  {
   "cell_type": "code",
   "execution_count": 85,
   "id": "9fbaa5b7-e8f0-48a0-821a-012aad3ad3a1",
   "metadata": {
    "tags": []
   },
   "outputs": [
    {
     "name": "stdout",
     "output_type": "stream",
     "text": [
      "Train score =  0.9993372687572692\n",
      "Test score =  0.999385555282469\n"
     ]
    }
   ],
   "source": [
    "svc = SVC().fit(X_train_, y_train)\n",
    "print(\"Train score = \", svc.score(X_train_, y_train))\n",
    "print(\"Test score = \", svc.score(X_test_, y_test))"
   ]
  },
  {
   "cell_type": "code",
   "execution_count": 86,
   "id": "eefa76b3-6ef9-4444-9fc1-c43b9f89d8b5",
   "metadata": {
    "tags": []
   },
   "outputs": [
    {
     "data": {
      "text/plain": [
       "0.802994941363725"
      ]
     },
     "execution_count": 86,
     "metadata": {},
     "output_type": "execute_result"
    }
   ],
   "source": [
    "preds = svc.predict(X_test_)\n",
    "matthews_corrcoef(y_test, preds)"
   ]
  },
  {
   "cell_type": "code",
   "execution_count": 87,
   "id": "a0a19aaa-4fc6-4722-ba9f-629906bae09d",
   "metadata": {
    "tags": []
   },
   "outputs": [
    {
     "data": {
      "text/plain": [
       "<sklearn.metrics._plot.confusion_matrix.ConfusionMatrixDisplay at 0x15d159ed850>"
      ]
     },
     "execution_count": 87,
     "metadata": {},
     "output_type": "execute_result"
    },
    {
     "data": {
      "image/png": "[encoded data removed]",
      "text/plain": [
       "<Figure size 640x480 with 2 Axes>"
      ]
     },
     "metadata": {},
     "output_type": "display_data"
    }
   ],
   "source": [
    "ConfusionMatrixDisplay(confusion_matrix(y_test,preds)).plot()"
   ]
  },
  {
   "cell_type": "markdown",
   "id": "393351a3-aaa1-4536-8787-3d194937b327",
   "metadata": {},
   "source": [
    "### Encoder Representation for feedforward network"
   ]
  },
  {
   "cell_type": "code",
   "execution_count": 88,
   "id": "b76ae15b-ba8e-47c9-8ae8-bcbc3d53cc2c",
   "metadata": {
    "tags": []
   },
   "outputs": [],
   "source": [
    "ae.encoder.trainable=False"
   ]
  },
  {
   "cell_type": "code",
   "execution_count": 90,
   "id": "817ca753-4d51-4e1c-87bb-0e1e8d7e0229",
   "metadata": {
    "tags": []
   },
   "outputs": [],
   "source": [
    "model = models.Sequential([\n",
    "    ae.encoder,\n",
    "    layers.Dense(15, \"relu\"),\n",
    "    layers.Dense(1, \"sigmoid\")\n",
    "])"
   ]
  },
  {
   "cell_type": "code",
   "execution_count": 91,
   "id": "2672ba84-715f-4ca4-b514-deee3ac6309c",
   "metadata": {
    "tags": []
   },
   "outputs": [],
   "source": [
    "model.compile(loss=\"binary_crossentropy\", metrics=[metrics.Recall()])"
   ]
  },
  {
   "cell_type": "code",
   "execution_count": 107,
   "id": "9abb36e6-e00f-438c-b71c-7e84cb0efe3c",
   "metadata": {
    "tags": []
   },
   "outputs": [
    {
     "name": "stdout",
     "output_type": "stream",
     "text": [
      "1781/1781 [==============================] - 14s 8ms/step - loss: 0.0049 - recall_1: 0.7243 - val_loss: 0.0042 - val_recall_1: 0.7742\n"
     ]
    },
    {
     "data": {
      "text/plain": [
       "<keras.callbacks.History at 0x15d1671f1c0>"
      ]
     },
     "execution_count": 107,
     "metadata": {},
     "output_type": "execute_result"
    }
   ],
   "source": [
    "model.fit(\n",
    "    sc.transform(X_train), y_train,\n",
    "    batch_size=128,\n",
    "    validation_data=( sc.transform(X_test), y_test )\n",
    ")"
   ]
  },
  {
   "cell_type": "code",
   "execution_count": 108,
   "id": "767c7455-2d3c-4e59-bfec-8aa772b0897a",
   "metadata": {
    "tags": []
   },
   "outputs": [
    {
     "data": {
      "text/plain": [
       "0.8095110133790718"
      ]
     },
     "execution_count": 108,
     "metadata": {},
     "output_type": "execute_result"
    }
   ],
   "source": [
    "preds = (np.array(model(sc.transform(X_test)))>=0.5)*1\n",
    "matthews_corrcoef(y_test, preds)"
   ]
  },
  {
   "cell_type": "code",
   "execution_count": 109,
   "id": "8c3e86c8-565b-4fc8-94db-46b8ba383b79",
   "metadata": {
    "tags": []
   },
   "outputs": [
    {
     "data": {
      "text/plain": [
       "<sklearn.metrics._plot.confusion_matrix.ConfusionMatrixDisplay at 0x15d1602fdc0>"
      ]
     },
     "execution_count": 109,
     "metadata": {},
     "output_type": "execute_result"
    },
    {
     "data": {
      "image/png": "[encoded data removed]",
      "text/plain": [
       "<Figure size 640x480 with 2 Axes>"
      ]
     },
     "metadata": {},
     "output_type": "display_data"
    }
   ],
   "source": [
    "ConfusionMatrixDisplay(confusion_matrix(y_test,preds)).plot()"
   ]
  },
  {
   "cell_type": "code",
   "execution_count": null,
   "id": "5f807fd6-0bc1-43da-84cb-19b90c0da6dc",
   "metadata": {},
   "outputs": [],
   "source": []
  }
 ],
 "metadata": {
  "kernelspec": {
   "display_name": "Python 3 (ipykernel)",
   "language": "python",
   "name": "python3"
  },
  "language_info": {
   "codemirror_mode": {
    "name": "ipython",
    "version": 3
   },
   "file_extension": ".py",
   "mimetype": "text/x-python",
   "name": "python",
   "nbconvert_exporter": "python",
   "pygments_lexer": "ipython3",
   "version": "3.9.7"
  }
 },
 "nbformat": 4,
 "nbformat_minor": 5
}
