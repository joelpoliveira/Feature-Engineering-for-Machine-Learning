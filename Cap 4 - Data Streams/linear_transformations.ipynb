{
 "cells": [
  {
   "cell_type": "code",
   "execution_count": 1,
   "id": "1ee714ac-4d00-4b7e-8bfb-b8454cea00db",
   "metadata": {
    "tags": []
   },
   "outputs": [],
   "source": [
    "import numpy as np\n",
    "import pandas as pd\n",
    "import matplotlib.pyplot as plt\n",
    "\n",
    "\n",
    "from time import time\n",
    "from tqdm import tqdm\n",
    "from util import FileStreamer, DynamicMinMax\n",
    "\n",
    "from sklearn.decomposition import PCA, IncrementalPCA\n",
    "from sklearn.metrics import mean_squared_error, max_error\n",
    "from sklearn.preprocessing import MinMaxScaler\n",
    "from sklearn.discriminant_analysis import LinearDiscriminantAnalysis"
   ]
  },
  {
   "cell_type": "code",
   "execution_count": 2,
   "id": "6588c24f-a7d4-44b2-97ce-f65c5ec0efc1",
   "metadata": {
    "tags": []
   },
   "outputs": [],
   "source": [
    "stream = FileStreamer(\"./data/creditcard.csv\", drop_cols=[\"Class\", \"Time\"], batch_size=500)\n",
    "dyn_scaler = DynamicMinMax()"
   ]
  },
  {
   "cell_type": "code",
   "execution_count": 3,
   "id": "db31031b-311a-43ab-87da-a7032b14e65a",
   "metadata": {
    "tags": []
   },
   "outputs": [],
   "source": [
    "partial_pca = IncrementalPCA()"
   ]
  },
  {
   "cell_type": "code",
   "execution_count": 4,
   "id": "2504c2c7-67b2-4e20-9bd1-1dc3de48b317",
   "metadata": {
    "tags": []
   },
   "outputs": [
    {
     "name": "stderr",
     "output_type": "stream",
     "text": [
      "570it [00:05, 95.90it/s]                                                                                                                                                                                        \n"
     ]
    },
    {
     "data": {
      "text/plain": [
       "8.669475590101916e-33"
      ]
     },
     "execution_count": 4,
     "metadata": {},
     "output_type": "execute_result"
    }
   ],
   "source": [
    "err= []\n",
    "for batch in tqdm(stream):\n",
    "    dyn_scaler.fit(batch)\n",
    "    batch = dyn_scaler.transform(batch)\n",
    "    \n",
    "    partial_pca.partial_fit(batch)\n",
    "    tbatch = partial_pca.transform(batch)\n",
    "    rev = partial_pca.inverse_transform(tbatch)\n",
    "    \n",
    "    err.append(mean_squared_error(batch, rev))\n",
    "np.mean(err)"
   ]
  },
  {
   "cell_type": "code",
   "execution_count": 5,
   "id": "8a353830-5996-4691-9a2c-9062d7008fc0",
   "metadata": {
    "tags": []
   },
   "outputs": [
    {
     "data": {
      "text/plain": [
       "4.153669840976501e-32"
      ]
     },
     "execution_count": 5,
     "metadata": {},
     "output_type": "execute_result"
    }
   ],
   "source": [
    "np.max(err)"
   ]
  },
  {
   "cell_type": "code",
   "execution_count": 6,
   "id": "6c73fa32-fca9-436a-90d9-00e854029afd",
   "metadata": {
    "tags": []
   },
   "outputs": [
    {
     "data": {
      "text/plain": [
       "2.2483096465938877e-33"
      ]
     },
     "execution_count": 6,
     "metadata": {},
     "output_type": "execute_result"
    }
   ],
   "source": [
    "scaler = MinMaxScaler().fit(stream.data)\n",
    "pca = PCA().fit( scaler.transform(stream.data) )\n",
    "\n",
    "tX = pca.transform(scaler.transform(stream.data) )\n",
    "rev = pca.inverse_transform(tX)\n",
    "\n",
    "mean_squared_error(rev, scaler.transform(stream.data))"
   ]
  },
  {
   "cell_type": "code",
   "execution_count": 7,
   "id": "fc5daa29-055d-4a51-9b01-5ebe36dab676",
   "metadata": {
    "tags": []
   },
   "outputs": [
    {
     "data": {
      "text/plain": [
       "5.193961073399137e-20"
      ]
     },
     "execution_count": 7,
     "metadata": {},
     "output_type": "execute_result"
    }
   ],
   "source": [
    "pca.transform(scaler.transform(stream.data)).mean()"
   ]
  },
  {
   "cell_type": "code",
   "execution_count": 8,
   "id": "b6d6767f-335a-43cf-ad84-6f7353af3d05",
   "metadata": {
    "tags": []
   },
   "outputs": [
    {
     "data": {
      "text/plain": [
       "-0.0003176869269594927"
      ]
     },
     "execution_count": 8,
     "metadata": {},
     "output_type": "execute_result"
    }
   ],
   "source": [
    "partial_pca.transform(dyn_scaler.transform(stream.data)).mean()"
   ]
  },
  {
   "cell_type": "markdown",
   "id": "7a2b43bf-b032-472c-b467-025079f4abca",
   "metadata": {},
   "source": [
    "- Reconstruction error with the same numerical order of the offline PCA. \n",
    "\n",
    "Compare the procedure when the data is not scaled"
   ]
  },
  {
   "cell_type": "code",
   "execution_count": 10,
   "id": "310928c2-138a-4927-812c-6490e5846408",
   "metadata": {
    "tags": []
   },
   "outputs": [],
   "source": [
    "partial_pca = IncrementalPCA()"
   ]
  },
  {
   "cell_type": "code",
   "execution_count": 11,
   "id": "57dd58f6-a508-44e9-adb7-3ecaad2ab8af",
   "metadata": {
    "tags": []
   },
   "outputs": [
    {
     "name": "stderr",
     "output_type": "stream",
     "text": [
      "570it [00:04, 116.75it/s]                                                                                                                                                                                       \n"
     ]
    },
    {
     "data": {
      "text/plain": [
       "9.64945385228029e-28"
      ]
     },
     "execution_count": 11,
     "metadata": {},
     "output_type": "execute_result"
    }
   ],
   "source": [
    "err= []\n",
    "for batch in tqdm(stream):\n",
    "    partial_pca.partial_fit(batch)\n",
    "    tbatch = partial_pca.transform(batch)\n",
    "    rev = partial_pca.inverse_transform(tbatch)\n",
    "    \n",
    "    err.append(mean_squared_error(batch, rev))\n",
    "np.mean(err)"
   ]
  },
  {
   "cell_type": "code",
   "execution_count": 12,
   "id": "b0b87b60-aa8b-42d0-8ee3-3331df179c55",
   "metadata": {
    "tags": []
   },
   "outputs": [
    {
     "data": {
      "text/plain": [
       "3.446545423530526e-26"
      ]
     },
     "execution_count": 12,
     "metadata": {},
     "output_type": "execute_result"
    }
   ],
   "source": [
    "np.max(err)"
   ]
  },
  {
   "cell_type": "code",
   "execution_count": 13,
   "id": "45bb5ade-37b1-4c31-a27d-f2de5646fb38",
   "metadata": {
    "tags": []
   },
   "outputs": [
    {
     "data": {
      "text/plain": [
       "5.287907178069302e-28"
      ]
     },
     "execution_count": 13,
     "metadata": {},
     "output_type": "execute_result"
    }
   ],
   "source": [
    "pca = PCA().fit( stream.data )\n",
    "tX = pca.transform( stream.data )\n",
    "rev = pca.inverse_transform(tX)\n",
    "\n",
    "mean_squared_error(rev, stream.data)"
   ]
  },
  {
   "cell_type": "code",
   "execution_count": 14,
   "id": "109a8877-05c1-49d9-acfe-b8538ef89dc0",
   "metadata": {
    "tags": []
   },
   "outputs": [
    {
     "data": {
      "text/plain": [
       "2.767772601610861e-16"
      ]
     },
     "execution_count": 14,
     "metadata": {},
     "output_type": "execute_result"
    }
   ],
   "source": [
    "pca.transform(stream.data).mean()"
   ]
  },
  {
   "cell_type": "code",
   "execution_count": 15,
   "id": "246394ee-0162-4733-9102-35d625dfe26f",
   "metadata": {
    "tags": []
   },
   "outputs": [
    {
     "data": {
      "text/plain": [
       "1.2251536887019074e-15"
      ]
     },
     "execution_count": 15,
     "metadata": {},
     "output_type": "execute_result"
    }
   ],
   "source": [
    "partial_pca.transform(stream.data).mean()"
   ]
  },
  {
   "cell_type": "markdown",
   "id": "cd671a54-ad27-4f82-a5fd-fadba1d0c133",
   "metadata": {},
   "source": [
    "Similar Results.\n",
    "\n",
    "Overall, Incremental PCA seems like a good aproximation to the default PCA"
   ]
  }
 ],
 "metadata": {
  "kernelspec": {
   "display_name": "Python 3 (ipykernel)",
   "language": "python",
   "name": "python3"
  },
  "language_info": {
   "codemirror_mode": {
    "name": "ipython",
    "version": 3
   },
   "file_extension": ".py",
   "mimetype": "text/x-python",
   "name": "python",
   "nbconvert_exporter": "python",
   "pygments_lexer": "ipython3",
   "version": "3.9.7"
  }
 },
 "nbformat": 4,
 "nbformat_minor": 5
}
