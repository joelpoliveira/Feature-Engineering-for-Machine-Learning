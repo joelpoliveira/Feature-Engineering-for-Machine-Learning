{
 "cells": [
  {
   "cell_type": "markdown",
   "id": "b17ee6f1-83b8-4349-b067-f7473f84d40e",
   "metadata": {},
   "source": [
    "# Glove Embedding\n",
    "\n",
    "- In this notebook there is an implementation of the model GloVe, a model developed by Standford to learn word embeddings, using tensorflow"
   ]
  },
  {
   "cell_type": "code",
   "execution_count": 4,
   "id": "08746a0f-cafb-456e-9ff0-4d6c3e66472f",
   "metadata": {
    "tags": []
   },
   "outputs": [],
   "source": [
    "import pickle\n",
    "import numpy as np\n",
    "import pandas as pd\n",
    "import nltk\n",
    "import string\n",
    "import sys\n",
    "import tensorflow as tf\n",
    "import matplotlib.pyplot as plt\n",
    "from tqdm.notebook import tqdm\n",
    "\n",
    "from random import choices\n",
    "from scipy.sparse import dok_matrix, hstack, vstack\n",
    "from scipy.spatial.distance import cosine\n",
    "from scipy.sparse.linalg import svds, inv\n",
    "\n",
    "from sklearn.decomposition import PCA\n",
    "\n",
    "from tensorflow.keras.layers import Input, Dot, Embedding, Dense, Flatten, Lambda, Concatenate, Reshape\n",
    "from tensorflow.keras.models import Model, Sequential\n",
    "from tensorflow.keras.optimizers import SGD"
   ]
  },
  {
   "cell_type": "code",
   "execution_count": 2,
   "id": "8391b3e0-e222-4d31-ad7a-59dd49b770c6",
   "metadata": {
    "tags": []
   },
   "outputs": [],
   "source": [
    "all_words, docs = pickle.load(open(\"data/arxiv_abstracts_no_stopwords.pickle\", \"rb\"))\n",
    "rev_words = {item[1]:item[0] for item in all_words.items()}"
   ]
  },
  {
   "cell_type": "code",
   "execution_count": 3,
   "id": "7cd2ab56-2248-4588-99d9-4ffcdbbd6d34",
   "metadata": {
    "tags": []
   },
   "outputs": [
    {
     "data": {
      "text/plain": [
       "100649"
      ]
     },
     "execution_count": 3,
     "metadata": {},
     "output_type": "execute_result"
    }
   ],
   "source": [
    "M = len(all_words)\n",
    "M"
   ]
  },
  {
   "cell_type": "code",
   "execution_count": 5,
   "id": "0eb05c75-64c4-49aa-b74f-e77070eab4c9",
   "metadata": {
    "tags": []
   },
   "outputs": [],
   "source": [
    "def word2int(word):\n",
    "    return all_words[word]\n",
    "\n",
    "def int2word(idx):\n",
    "    return rev_words[idx]"
   ]
  },
  {
   "cell_type": "code",
   "execution_count": 6,
   "id": "48239988-1d66-4d5d-b88a-7682afb20eff",
   "metadata": {
    "tags": []
   },
   "outputs": [],
   "source": [
    "def count_word_coocurrence(docs, vocab, wsize=10):\n",
    "    term_term_dict = {}\n",
    "    for doc in tqdm(docs):\n",
    "        N = len(doc)\n",
    "        \n",
    "        for i in range(wsize, N - wsize):\n",
    "            current_word = word2int(doc[i])\n",
    "            \n",
    "            for j in range(1,wsize + 1):\n",
    "                prev_word = word2int(doc[i - j])\n",
    "                future_word = word2int(doc[i + j])\n",
    "                \n",
    "                term_term_dict[ (prev_word, current_word) ] = term_term_dict.get(\n",
    "                    (prev_word, current_word),\n",
    "                    0\n",
    "                ) + 1\n",
    "                term_term_dict[ (future_word, current_word) ] = term_term_dict.get(\n",
    "                    (future_word, current_word),\n",
    "                    0\n",
    "                ) + 1\n",
    "                \n",
    "    M = len(vocab)\n",
    "    term_term_sparse = dok_matrix((M,M))\n",
    "    for idx, value in term_term_dict.items():\n",
    "        i, j = idx\n",
    "        term_term_sparse[i, j] = value\n",
    "        \n",
    "    return term_term_sparse"
   ]
  },
  {
   "cell_type": "code",
   "execution_count": 7,
   "id": "4f24e546-8ab4-4f63-86b9-afa6e657055c",
   "metadata": {
    "tags": []
   },
   "outputs": [
    {
     "data": {
      "application/vnd.jupyter.widget-view+json": {
       "model_id": "b8ad207474b444729fce3ae1b469c26b",
       "version_major": 2,
       "version_minor": 0
      },
      "text/plain": [
       "  0%|          | 0/397123 [00:00<?, ?it/s]"
      ]
     },
     "metadata": {},
     "output_type": "display_data"
    }
   ],
   "source": [
    "word_cooc_matrix = count_word_coocurrence(docs, all_words, wsize=5)"
   ]
  },
  {
   "cell_type": "code",
   "execution_count": 8,
   "id": "a7e5abed-08fb-4aa4-adfb-8189a915bddb",
   "metadata": {
    "tags": []
   },
   "outputs": [],
   "source": [
    "def get_training_sets(cooc: dok_matrix):\n",
    "    \"\"\"\n",
    "    Tranforms the term-term matrix into a transactional context-target dataset\n",
    "    \"\"\"\n",
    "    X = np.array(\n",
    "        list(\n",
    "            cooc.keys()\n",
    "        )\n",
    "    )\n",
    "    y = np.array(\n",
    "        list(\n",
    "            cooc.values()\n",
    "        )\n",
    "    )\n",
    "    \n",
    "    return X, y"
   ]
  },
  {
   "cell_type": "code",
   "execution_count": 9,
   "id": "4a57987b-c4c8-4cdd-bf78-40f93a0fcec3",
   "metadata": {
    "tags": []
   },
   "outputs": [],
   "source": [
    "X, y = get_training_sets(word_cooc_matrix)\n",
    "EMB_SIZE=50"
   ]
  },
  {
   "cell_type": "code",
   "execution_count": 10,
   "id": "730ad24f-aabf-4be2-891a-0b70d760ac6a",
   "metadata": {
    "tags": []
   },
   "outputs": [],
   "source": [
    "target = Input(shape=1, name=\"context_input\")\n",
    "context = Input(shape=1, name=\"target_input\")\n",
    "\n",
    "embed_layer = Embedding(\n",
    "    input_dim=word_cooc_matrix.shape[0], \n",
    "    output_dim=EMB_SIZE, \n",
    "    name=\"embed\"\n",
    ")\n",
    "\n",
    "embed_target = embed_layer(target)\n",
    "embed_context = embed_layer(context)\n",
    "\n",
    "dot_layer = Dot(axes=2)( [ embed_target, embed_context ] )\n",
    "flat = Flatten()(dot_layer)\n",
    "\n",
    "model = Model(inputs=[ target, context ], outputs=flat)"
   ]
  },
  {
   "cell_type": "code",
   "execution_count": 11,
   "id": "9ee0353b-3b65-44d7-a2c3-308879a9ed71",
   "metadata": {
    "tags": []
   },
   "outputs": [],
   "source": [
    "@tf.function\n",
    "def loss(y_test, preds):\n",
    "    x_max = 100\n",
    "    α = 0.75\n",
    "    \n",
    "    G = tf.where(y_test < x_max, (y_test/x_max)**α, 1)\n",
    "    temp = tf.math.log(y_test)\n",
    "    \n",
    "    return tf.reduce_sum(\n",
    "      G *(preds - temp)**2  \n",
    "    )"
   ]
  },
  {
   "cell_type": "code",
   "execution_count": 12,
   "id": "d9d11144-af88-4f95-96de-072d2de3d7c2",
   "metadata": {
    "tags": []
   },
   "outputs": [],
   "source": [
    "model.compile(optimizer=\"adam\", loss=loss)"
   ]
  },
  {
   "cell_type": "code",
   "execution_count": 15,
   "id": "c402581b-bcaf-4389-ba8e-5806045ad1ef",
   "metadata": {
    "tags": []
   },
   "outputs": [
    {
     "name": "stdout",
     "output_type": "stream",
     "text": [
      "11983/11983 [==============================] - 141s 12ms/step - loss: 17.0593\n"
     ]
    },
    {
     "data": {
      "text/plain": [
       "<keras.callbacks.History at 0x12bfa761f70>"
      ]
     },
     "execution_count": 15,
     "metadata": {},
     "output_type": "execute_result"
    }
   ],
   "source": [
    "model.fit([ X[:,0], X[:,1] ], y, epochs=1, batch_size=512)"
   ]
  },
  {
   "cell_type": "code",
   "execution_count": 17,
   "id": "e4246eae-2b51-4b02-a8fb-12498d7440e5",
   "metadata": {
    "tags": []
   },
   "outputs": [],
   "source": [
    "embed_vectors = model.get_weights()[0]"
   ]
  },
  {
   "cell_type": "code",
   "execution_count": 18,
   "id": "2933f731-b54c-4b72-816c-b03cb6a0a7b7",
   "metadata": {
    "tags": []
   },
   "outputs": [],
   "source": [
    "pca = PCA().fit_transform(embed_vectors)"
   ]
  },
  {
   "cell_type": "code",
   "execution_count": 24,
   "id": "c5813f51-7e17-4eb6-86de-5fad37144691",
   "metadata": {
    "tags": []
   },
   "outputs": [
    {
     "data": {
      "text/plain": [
       "array([  992,   489,   488,    68,   450, 31480, 25362, 56725,  1063,\n",
       "       36925,  1292, 56726, 41913, 60365,  2767], dtype=int64)"
      ]
     },
     "execution_count": 24,
     "metadata": {},
     "output_type": "execute_result"
    }
   ],
   "source": [
    "np.argsort([ \n",
    "    euclidean(\n",
    "        pca[word2int(\"cnn\")], \n",
    "        pca[i]\n",
    "    ) for i in range(len(pca))\n",
    "])[:15]"
   ]
  },
  {
   "cell_type": "code",
   "execution_count": 25,
   "id": "ff060f64-e5ae-403b-83cc-2d77210108df",
   "metadata": {
    "tags": []
   },
   "outputs": [
    {
     "data": {
      "text/plain": [
       "'cnns'"
      ]
     },
     "execution_count": 25,
     "metadata": {},
     "output_type": "execute_result"
    }
   ],
   "source": [
    "int2word(489)"
   ]
  },
  {
   "cell_type": "code",
   "execution_count": 29,
   "id": "2e7e57c0-0a17-4b74-8cf2-47b1c0177e15",
   "metadata": {
    "tags": []
   },
   "outputs": [
    {
     "data": {
      "image/png": "[encoded data removed]",
      "text/plain": [
       "<Figure size 1400x800 with 1 Axes>"
      ]
     },
     "metadata": {},
     "output_type": "display_data"
    }
   ],
   "source": [
    "k=10\n",
    "prog_near = np.argsort([ \n",
    "    euclidean(\n",
    "        pca[word2int(\"programming\")], \n",
    "        pca[i]\n",
    "    ) for i in range(len(pca))\n",
    "])[:k]\n",
    "\n",
    "random = np.random.choice(list(range(len(pca))), size=k, replace=False)\n",
    "\n",
    "plt.figure(figsize=(14,8))\n",
    "for i in prog_near:\n",
    "    plt.scatter(pca[i,0], pca[i,1], c=\"b\") #int2word(i))\n",
    "    plt.text(pca[i,0], pca[i,1],int2word(i))\n",
    "    \n",
    "for i in random:\n",
    "    plt.scatter(pca[i,0], pca[i,1], c=\"r\") \n",
    "    plt.text(pca[i,0], pca[i,1],int2word(i))"
   ]
  }
 ],
 "metadata": {
  "kernelspec": {
   "display_name": "Python 3 (ipykernel)",
   "language": "python",
   "name": "python3"
  },
  "language_info": {
   "codemirror_mode": {
    "name": "ipython",
    "version": 3
   },
   "file_extension": ".py",
   "mimetype": "text/x-python",
   "name": "python",
   "nbconvert_exporter": "python",
   "pygments_lexer": "ipython3",
   "version": "3.9.7"
  }
 },
 "nbformat": 4,
 "nbformat_minor": 5
}
