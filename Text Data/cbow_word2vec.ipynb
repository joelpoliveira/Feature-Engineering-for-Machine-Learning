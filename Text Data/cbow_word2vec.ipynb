{
 "cells": [
  {
   "cell_type": "markdown",
   "id": "e482d5d6-66a5-4ef3-a72e-42042dd03e83",
   "metadata": {},
   "source": [
    "# CBOW Embedding\n",
    "\n",
    "- In this notebook there is an implementation of the model CBOW ( Word2vec), a model developed by Google to learn word embeddings, using tensorflow"
   ]
  },
  {
   "cell_type": "code",
   "execution_count": 1,
   "id": "c712ed7f-fade-4486-8014-06eaa93abf13",
   "metadata": {
    "tags": []
   },
   "outputs": [],
   "source": [
    "import pickle\n",
    "import numpy as np\n",
    "import pandas as pd\n",
    "import nltk\n",
    "import string\n",
    "import sys\n",
    "import tensorflow as tf\n",
    "import matplotlib.pyplot as plt\n",
    "from tqdm.notebook import tqdm\n",
    "\n",
    "from random import choices\n",
    "from scipy.sparse import dok_matrix, hstack, vstack\n",
    "from scipy.spatial.distance import cosine\n",
    "\n",
    "from sklearn.decomposition import PCA\n",
    "\n",
    "from tensorflow.keras.layers import Input, Dot, Embedding, Dense, Flatten, Lambda, Concatenate, Reshape\n",
    "from tensorflow.keras.models import Model, Sequential\n",
    "from tensorflow.keras.optimizers import SGD"
   ]
  },
  {
   "cell_type": "code",
   "execution_count": 2,
   "id": "58690dd7-edb8-4fea-8d6c-f07e4add2260",
   "metadata": {
    "tags": []
   },
   "outputs": [],
   "source": [
    "all_words, docs = pickle.load(open(\"data/arxiv_abstracts_no_stopwords.pickle\", \"rb\"))\n",
    "rev_words = {item[1]:item[0] for item in all_words.items()}"
   ]
  },
  {
   "cell_type": "code",
   "execution_count": 3,
   "id": "cd91135d-e982-490c-bc76-667bffceb54f",
   "metadata": {
    "tags": []
   },
   "outputs": [
    {
     "data": {
      "text/plain": [
       "100649"
      ]
     },
     "execution_count": 3,
     "metadata": {},
     "output_type": "execute_result"
    }
   ],
   "source": [
    "M = len(all_words)\n",
    "M"
   ]
  },
  {
   "cell_type": "code",
   "execution_count": 4,
   "id": "358f9b08-8b74-4492-b97d-629e1b63faf2",
   "metadata": {
    "tags": []
   },
   "outputs": [],
   "source": [
    "def word2int(word):\n",
    "    return all_words[word]\n",
    "\n",
    "def int2word(idx):\n",
    "    return rev_words[idx]"
   ]
  },
  {
   "cell_type": "code",
   "execution_count": 6,
   "id": "f8b82df8-5e62-4be1-9377-287469806946",
   "metadata": {
    "tags": []
   },
   "outputs": [],
   "source": [
    "def get_dataset(docs, wsize=2):\n",
    "    dataset = {}\n",
    "    \n",
    "    for doc in docs:\n",
    "        N = len(doc)\n",
    "        \n",
    "        for i in range(wsize, N - wsize):\n",
    "            current_word = word2int(doc[i])\n",
    "            context_set = tuple()\n",
    "            for j in range(1,wsize + 1):\n",
    "                prev_word = word2int(doc[i - j])\n",
    "                future_word = word2int(doc[i + j])\n",
    "                \n",
    "                context_set = context_set + (prev_word, future_word)\n",
    "            context_set = tuple(sorted(context_set))\n",
    "            \n",
    "            dataset[context_set] = dataset.get(context_set, set()) | {current_word}\n",
    "    return dataset"
   ]
  },
  {
   "cell_type": "code",
   "execution_count": 7,
   "id": "4f189f84-2ca1-4c2d-93d4-cb04a4073414",
   "metadata": {
    "tags": []
   },
   "outputs": [],
   "source": [
    "def unwind(dataset: dict):\n",
    "    X = []\n",
    "    y = []\n",
    "    \n",
    "    for item in dataset.items():\n",
    "        xsample, ysamples = item\n",
    "        for y_value in ysamples:\n",
    "            X.append(xsample)\n",
    "            y.append(y_value)\n",
    "    return np.array(X), np.array(y).reshape(-1,1)"
   ]
  },
  {
   "cell_type": "code",
   "execution_count": 8,
   "id": "750203ca-9d4f-4a1a-b0a1-c383de17e99c",
   "metadata": {
    "tags": []
   },
   "outputs": [],
   "source": [
    "wsize=4"
   ]
  },
  {
   "cell_type": "code",
   "execution_count": 9,
   "id": "fbfcce10-9e48-455a-b394-ed9cdf90cbde",
   "metadata": {
    "tags": []
   },
   "outputs": [],
   "source": [
    "ds = get_dataset(docs, wsize)"
   ]
  },
  {
   "cell_type": "code",
   "execution_count": 10,
   "id": "15829548-27a9-4487-9292-4011712655b9",
   "metadata": {
    "tags": []
   },
   "outputs": [],
   "source": [
    "X,y = unwind(ds)"
   ]
  },
  {
   "cell_type": "code",
   "execution_count": 11,
   "id": "91dc4667-84e9-44c1-acbc-4125d98f5040",
   "metadata": {
    "tags": []
   },
   "outputs": [],
   "source": [
    "EMB_SIZE=50"
   ]
  },
  {
   "cell_type": "code",
   "execution_count": 12,
   "id": "94bfa551-d913-4410-a65b-aed240f35ed3",
   "metadata": {
    "tags": []
   },
   "outputs": [],
   "source": [
    "model = Sequential([\n",
    "    Embedding(\n",
    "        input_dim=M, \n",
    "        output_dim=EMB_SIZE, \n",
    "        input_length=wsize*2,\n",
    "        name=\"embeding_layer\"),\n",
    "    Lambda(lambda x: tf.keras.backend.mean(x, axis=1), output_shape=EMB_SIZE, name=\"mean_layer\"),\n",
    "    Dense(units=M, activation=\"softmax\", name=\"activation_layer\")\n",
    "])\n",
    "    "
   ]
  },
  {
   "cell_type": "code",
   "execution_count": 13,
   "id": "fef824d2-5cf5-4509-bf1a-7951e4a721fd",
   "metadata": {
    "tags": []
   },
   "outputs": [],
   "source": [
    "model.compile(\"adam\", loss=\"sparse_categorical_crossentropy\")"
   ]
  },
  {
   "cell_type": "code",
   "execution_count": 16,
   "id": "d720c4f9-77af-4b83-980f-6ffe724f7308",
   "metadata": {
    "tags": []
   },
   "outputs": [
    {
     "name": "stdout",
     "output_type": "stream",
     "text": [
      "3808/3808 [==============================] - 289s 76ms/step - loss: 8.0778\n"
     ]
    },
    {
     "data": {
      "text/plain": [
       "<keras.callbacks.History at 0x1475f5fe2b0>"
      ]
     },
     "execution_count": 16,
     "metadata": {},
     "output_type": "execute_result"
    }
   ],
   "source": [
    "model.fit(x=X, y=y, batch_size=512, epochs=1)"
   ]
  },
  {
   "cell_type": "code",
   "execution_count": 18,
   "id": "49a0e0df-91b8-42a1-9c45-c0f8d616d615",
   "metadata": {
    "tags": []
   },
   "outputs": [],
   "source": [
    "embed_vectors = model.get_weights()[0]"
   ]
  },
  {
   "cell_type": "code",
   "execution_count": 19,
   "id": "e828a2f8-812f-4515-8182-c1d2e9048960",
   "metadata": {
    "tags": []
   },
   "outputs": [],
   "source": [
    "pca = PCA().fit_transform(embed_vectors)"
   ]
  },
  {
   "cell_type": "code",
   "execution_count": 20,
   "id": "0f240a91-f594-4ac4-87fc-2e605a66cc81",
   "metadata": {
    "tags": []
   },
   "outputs": [
    {
     "data": {
      "text/plain": [
       "array([  992, 35272, 21118, 63027, 64978, 49243, 92797, 66506, 86974,\n",
       "       84225, 65059, 37748,   489, 66504, 90360], dtype=int64)"
      ]
     },
     "execution_count": 20,
     "metadata": {},
     "output_type": "execute_result"
    }
   ],
   "source": [
    "np.argsort([ \n",
    "    euclidean(\n",
    "        pca[word2int(\"cnn\")], \n",
    "        pca[i]\n",
    "    ) for i in range(len(pca))\n",
    "])[:15]"
   ]
  },
  {
   "cell_type": "code",
   "execution_count": 22,
   "id": "14f57603-0999-4771-99b0-87eb9a8faac5",
   "metadata": {
    "tags": []
   },
   "outputs": [
    {
     "data": {
      "text/plain": [
       "'mimt-cnn'"
      ]
     },
     "execution_count": 22,
     "metadata": {},
     "output_type": "execute_result"
    }
   ],
   "source": [
    "int2word(21118)"
   ]
  },
  {
   "cell_type": "code",
   "execution_count": 23,
   "id": "b6096915-d28f-41cd-8e7d-055e4d24b02b",
   "metadata": {
    "tags": []
   },
   "outputs": [
    {
     "data": {
      "image/png": "[encoded data removed]",
      "text/plain": [
       "<Figure size 1400x800 with 1 Axes>"
      ]
     },
     "metadata": {},
     "output_type": "display_data"
    }
   ],
   "source": [
    "k=10\n",
    "prog_near = np.argsort([ \n",
    "    euclidean(\n",
    "        pca[word2int(\"programming\")], \n",
    "        pca[i]\n",
    "    ) for i in range(len(pca))\n",
    "])[:k]\n",
    "\n",
    "random = np.random.choice(list(range(len(pca))), size=k, replace=False)\n",
    "\n",
    "plt.figure(figsize=(14,8))\n",
    "for i in prog_near:\n",
    "    plt.scatter(pca[i,0], pca[i,1], c=\"b\") #int2word(i))\n",
    "    plt.text(pca[i,0], pca[i,1],int2word(i))\n",
    "    \n",
    "for i in random:\n",
    "    plt.scatter(pca[i,0], pca[i,1], c=\"r\") \n",
    "    plt.text(pca[i,0], pca[i,1],int2word(i))"
   ]
  }
 ],
 "metadata": {
  "kernelspec": {
   "display_name": "Python 3 (ipykernel)",
   "language": "python",
   "name": "python3"
  },
  "language_info": {
   "codemirror_mode": {
    "name": "ipython",
    "version": 3
   },
   "file_extension": ".py",
   "mimetype": "text/x-python",
   "name": "python",
   "nbconvert_exporter": "python",
   "pygments_lexer": "ipython3",
   "version": "3.9.7"
  }
 },
 "nbformat": 4,
 "nbformat_minor": 5
}
