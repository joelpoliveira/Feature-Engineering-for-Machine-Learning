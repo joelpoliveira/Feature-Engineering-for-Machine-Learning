{
 "cells": [
  {
   "cell_type": "code",
   "execution_count": 51,
   "id": "f4a8e22c-98b7-456b-b695-8ef65478022b",
   "metadata": {
    "tags": []
   },
   "outputs": [],
   "source": [
    "import pickle\n",
    "import numpy as np\n",
    "import pandas as pd\n",
    "import nltk\n",
    "import string\n",
    "\n",
    "from scipy.sparse import csr_matrix, dok_matrix\n",
    "from sklearn.decomposition import LatentDirichletAllocation\n",
    "from sklearn.model_selection import train_test_split, cross_val_score\n",
    "from sklearn.svm import SVC\n",
    "from sklearn.ensemble import RandomForestClassifier\n",
    "from sklearn.linear_model import LogisticRegression\n",
    "from sklearn.metrics import ConfusionMatrixDisplay, confusion_matrix, matthews_corrcoef, classification_report"
   ]
  },
  {
   "cell_type": "code",
   "execution_count": 12,
   "id": "8bba0c88-6a2d-4ec4-aaff-4761a89731bc",
   "metadata": {
    "tags": []
   },
   "outputs": [],
   "source": [
    "df = pd.read_csv(\"emails.csv\")\n",
    "X = df.Text\n",
    "y = df.Spam\n",
    "X_train, X_test, y_train, y_test = train_test_split(X, y, test_size=0.2, random_state=0)"
   ]
  },
  {
   "cell_type": "code",
   "execution_count": 13,
   "id": "8ec16e7c-1036-4772-b653-d003dddc7262",
   "metadata": {
    "tags": []
   },
   "outputs": [
    {
     "data": {
      "text/html": [
       "<div>\n",
       "<style scoped>\n",
       "    .dataframe tbody tr th:only-of-type {\n",
       "        vertical-align: middle;\n",
       "    }\n",
       "\n",
       "    .dataframe tbody tr th {\n",
       "        vertical-align: top;\n",
       "    }\n",
       "\n",
       "    .dataframe thead th {\n",
       "        text-align: right;\n",
       "    }\n",
       "</style>\n",
       "<table border=\"1\" class=\"dataframe\">\n",
       "  <thead>\n",
       "    <tr style=\"text-align: right;\">\n",
       "      <th></th>\n",
       "      <th>Text</th>\n",
       "      <th>Spam</th>\n",
       "    </tr>\n",
       "  </thead>\n",
       "  <tbody>\n",
       "    <tr>\n",
       "      <th>0</th>\n",
       "      <td>Subject: naturally irresistible your corporate...</td>\n",
       "      <td>1</td>\n",
       "    </tr>\n",
       "    <tr>\n",
       "      <th>1</th>\n",
       "      <td>Subject: the stock trading gunslinger  fanny i...</td>\n",
       "      <td>1</td>\n",
       "    </tr>\n",
       "    <tr>\n",
       "      <th>2</th>\n",
       "      <td>Subject: unbelievable new homes made easy  im ...</td>\n",
       "      <td>1</td>\n",
       "    </tr>\n",
       "    <tr>\n",
       "      <th>3</th>\n",
       "      <td>Subject: 4 color printing special  request add...</td>\n",
       "      <td>1</td>\n",
       "    </tr>\n",
       "    <tr>\n",
       "      <th>4</th>\n",
       "      <td>Subject: do not have money , get software cds ...</td>\n",
       "      <td>1</td>\n",
       "    </tr>\n",
       "  </tbody>\n",
       "</table>\n",
       "</div>"
      ],
      "text/plain": [
       "                                                Text  Spam\n",
       "0  Subject: naturally irresistible your corporate...     1\n",
       "1  Subject: the stock trading gunslinger  fanny i...     1\n",
       "2  Subject: unbelievable new homes made easy  im ...     1\n",
       "3  Subject: 4 color printing special  request add...     1\n",
       "4  Subject: do not have money , get software cds ...     1"
      ]
     },
     "execution_count": 13,
     "metadata": {},
     "output_type": "execute_result"
    }
   ],
   "source": [
    "df.head()"
   ]
  },
  {
   "cell_type": "code",
   "execution_count": 20,
   "id": "63eb85fb-5d45-48c6-bcc1-156ee10b2d19",
   "metadata": {
    "tags": []
   },
   "outputs": [],
   "source": [
    "def get_words(document):\n",
    "    for word in nltk.tokenize.word_tokenize(document):\n",
    "        if word not in string.punctuation:\n",
    "            yield word.lower()"
   ]
  },
  {
   "cell_type": "code",
   "execution_count": 23,
   "id": "66855ebf-07d1-4da6-8f3a-c8fc3e1eaf04",
   "metadata": {
    "tags": []
   },
   "outputs": [],
   "source": [
    "def process_documents(data):\n",
    "    all_words = {}; index = 0\n",
    "    emails = []\n",
    "    \n",
    "    for email in data:\n",
    "        current = []\n",
    "        for word in get_words(email):\n",
    "            if word not in all_words:\n",
    "                all_words|= {word:index}\n",
    "                index+=1\n",
    "            current.append(word)\n",
    "        emails.append(current)\n",
    "    return all_words, emails"
   ]
  },
  {
   "cell_type": "code",
   "execution_count": 24,
   "id": "6df18494-1e41-45aa-9657-ada8dec78f7d",
   "metadata": {
    "tags": []
   },
   "outputs": [],
   "source": [
    "all_words, emails = process_documents(X_train)"
   ]
  },
  {
   "cell_type": "code",
   "execution_count": 25,
   "id": "edc52ca2-54de-4dca-8b8e-9fe1ba0a6b7e",
   "metadata": {
    "tags": []
   },
   "outputs": [],
   "source": [
    "def process_test_documents(data, all_words):\n",
    "    emails = []\n",
    "    for email in data:\n",
    "        current = []\n",
    "        for word in get_words(email):\n",
    "            if word in all_words:\n",
    "                current.append(word)\n",
    "        emails.append(current)\n",
    "    return emails"
   ]
  },
  {
   "cell_type": "code",
   "execution_count": 28,
   "id": "6b13edb0-7678-407c-a576-0a40cc2112fe",
   "metadata": {
    "tags": []
   },
   "outputs": [],
   "source": [
    "def word_counts(document):\n",
    "    return zip(*np.unique(document, return_counts=True))"
   ]
  },
  {
   "cell_type": "code",
   "execution_count": 29,
   "id": "c778a371-c665-4e73-ac54-8299ed54597a",
   "metadata": {
    "tags": []
   },
   "outputs": [],
   "source": [
    "TF = dok_matrix( \n",
    "    np.zeros( \n",
    "        shape = (len(emails), len(all_words))\n",
    "    ))\n",
    "\n",
    "for i, email in enumerate(emails):\n",
    "    for word, counts in word_counts(email):\n",
    "        TF[ i, all_words[word] ] += counts"
   ]
  },
  {
   "cell_type": "markdown",
   "id": "208165b8-1a04-4d9c-a14a-e70bdeb75f84",
   "metadata": {},
   "source": [
    "## Using LDA representation to predict **HAM** or **SPAM**"
   ]
  },
  {
   "cell_type": "code",
   "execution_count": 33,
   "id": "037732f8-3b83-44cd-a686-ab41ce9b2cd3",
   "metadata": {
    "tags": []
   },
   "outputs": [],
   "source": [
    "lda = LatentDirichletAllocation().fit(TF.tocsr())"
   ]
  },
  {
   "cell_type": "code",
   "execution_count": 34,
   "id": "d750a720-ac91-4f53-8551-c62de52a7456",
   "metadata": {
    "tags": []
   },
   "outputs": [],
   "source": [
    "X_train_lda = lda.transform(TF.tocsr())"
   ]
  },
  {
   "cell_type": "code",
   "execution_count": 50,
   "id": "f7e991b3-24dd-424f-90b3-a2cdef75ed9c",
   "metadata": {
    "tags": []
   },
   "outputs": [
    {
     "data": {
      "text/plain": [
       "0.8335500875474466"
      ]
     },
     "execution_count": 50,
     "metadata": {},
     "output_type": "execute_result"
    }
   ],
   "source": [
    "cross_val_score(SVC(kernel=\"poly\"), X_train_lda, y_train, cv=10, scoring=\"f1\").mean()"
   ]
  },
  {
   "cell_type": "code",
   "execution_count": 52,
   "id": "875d987c-d3fe-40a2-9ac9-e3d2db2d3f31",
   "metadata": {
    "tags": []
   },
   "outputs": [
    {
     "data": {
      "text/plain": [
       "0.8101765307413673"
      ]
     },
     "execution_count": 52,
     "metadata": {},
     "output_type": "execute_result"
    }
   ],
   "source": [
    "cross_val_score(LogisticRegression(), X_train_lda, y_train, cv=10, scoring=\"f1\").mean()"
   ]
  },
  {
   "cell_type": "code",
   "execution_count": 39,
   "id": "b28f7ecf-a0c6-4f35-bddb-4a5650ac485e",
   "metadata": {
    "tags": []
   },
   "outputs": [
    {
     "data": {
      "text/plain": [
       "0.8893486519878753"
      ]
     },
     "execution_count": 39,
     "metadata": {},
     "output_type": "execute_result"
    }
   ],
   "source": [
    "cross_val_score(RandomForestClassifier(), X_train_lda, y_train, cv=10, scoring=\"f1\").mean()"
   ]
  },
  {
   "cell_type": "markdown",
   "id": "55811307-67ae-42c3-bab0-1267a2591fe1",
   "metadata": {},
   "source": [
    "Using cross validation we obtained good statistics \n",
    "\n",
    "## Validating on test set"
   ]
  },
  {
   "cell_type": "code",
   "execution_count": 42,
   "id": "1df4e420-6c40-4e80-9f44-8865d593cb42",
   "metadata": {
    "tags": []
   },
   "outputs": [],
   "source": [
    "test_emails = process_test_documents(X_test, all_words)"
   ]
  },
  {
   "cell_type": "code",
   "execution_count": 43,
   "id": "09adef90-76f2-4aa8-b24e-c20248c0efb8",
   "metadata": {
    "tags": []
   },
   "outputs": [],
   "source": [
    "TF_test = dok_matrix(\n",
    "    np.zeros((len(test_emails), len(all_words)))\n",
    ")\n",
    "\n",
    "for i, email in enumerate(test_emails):\n",
    "    for word, counts in word_counts(email):\n",
    "        TF_test[ i, all_words[word] ] += counts"
   ]
  },
  {
   "cell_type": "code",
   "execution_count": 44,
   "id": "e97d5bc1-11d9-4c72-8b63-6f865a9faf47",
   "metadata": {
    "tags": []
   },
   "outputs": [],
   "source": [
    "X_test_lda = lda.transform(TF_test)"
   ]
  },
  {
   "cell_type": "code",
   "execution_count": 46,
   "id": "4d246ccd-3a93-411c-8bb9-4ef4673e481d",
   "metadata": {
    "tags": []
   },
   "outputs": [
    {
     "name": "stdout",
     "output_type": "stream",
     "text": [
      "MFCC = 0.8080793628623474\n",
      "              precision    recall  f1-score   support\n",
      "\n",
      "           0       0.94      0.98      0.96       885\n",
      "           1       0.91      0.79      0.85       261\n",
      "\n",
      "    accuracy                           0.93      1146\n",
      "   macro avg       0.93      0.88      0.90      1146\n",
      "weighted avg       0.93      0.93      0.93      1146\n",
      "\n"
     ]
    },
    {
     "data": {
      "text/plain": [
       "<sklearn.metrics._plot.confusion_matrix.ConfusionMatrixDisplay at 0x1a894a06e20>"
      ]
     },
     "execution_count": 46,
     "metadata": {},
     "output_type": "execute_result"
    },
    {
     "data": {
      "image/png": "[encoded data removed]",
      "text/plain": [
       "<Figure size 640x480 with 2 Axes>"
      ]
     },
     "metadata": {},
     "output_type": "display_data"
    }
   ],
   "source": [
    "preds_svc = SVC().fit(X_train_lda, y_train).predict(X_test_lda)\n",
    "\n",
    "print(\"MFCC =\", matthews_corrcoef(y_test, preds_svc))\n",
    "print(classification_report(y_test, preds_svc))\n",
    "\n",
    "ConfusionMatrixDisplay(\n",
    "    confusion_matrix(y_test, preds_svc)\n",
    ").plot()"
   ]
  },
  {
   "cell_type": "code",
   "execution_count": 48,
   "id": "e2a2e735-9fc6-4ed6-9e91-5f2c2e9702eb",
   "metadata": {
    "tags": []
   },
   "outputs": [
    {
     "name": "stdout",
     "output_type": "stream",
     "text": [
      "MFCC = 0.8395131759840451\n",
      "              precision    recall  f1-score   support\n",
      "\n",
      "           0       0.95      0.98      0.97       885\n",
      "           1       0.93      0.82      0.87       261\n",
      "\n",
      "    accuracy                           0.95      1146\n",
      "   macro avg       0.94      0.90      0.92      1146\n",
      "weighted avg       0.94      0.95      0.94      1146\n",
      "\n"
     ]
    },
    {
     "data": {
      "text/plain": [
       "<sklearn.metrics._plot.confusion_matrix.ConfusionMatrixDisplay at 0x1a8954fe850>"
      ]
     },
     "execution_count": 48,
     "metadata": {},
     "output_type": "execute_result"
    },
    {
     "data": {
      "image/png": "[encoded data removed]",
      "text/plain": [
       "<Figure size 640x480 with 2 Axes>"
      ]
     },
     "metadata": {},
     "output_type": "display_data"
    }
   ],
   "source": [
    "preds_rf = RandomForestClassifier().fit(X_train_lda, y_train).predict(X_test_lda)\n",
    "\n",
    "print(\"MFCC =\", matthews_corrcoef(y_test, preds_rf))\n",
    "print(classification_report(y_test, preds_rf))\n",
    "\n",
    "ConfusionMatrixDisplay(\n",
    "    confusion_matrix(y_test, preds_rf)\n",
    ").plot()"
   ]
  },
  {
   "cell_type": "code",
   "execution_count": null,
   "id": "8f6e3f7c-aefe-40ff-87dd-60dfc833a5d9",
   "metadata": {},
   "outputs": [],
   "source": []
  }
 ],
 "metadata": {
  "kernelspec": {
   "display_name": "Python 3 (ipykernel)",
   "language": "python",
   "name": "python3"
  },
  "language_info": {
   "codemirror_mode": {
    "name": "ipython",
    "version": 3
   },
   "file_extension": ".py",
   "mimetype": "text/x-python",
   "name": "python",
   "nbconvert_exporter": "python",
   "pygments_lexer": "ipython3",
   "version": "3.9.7"
  }
 },
 "nbformat": 4,
 "nbformat_minor": 5
}
