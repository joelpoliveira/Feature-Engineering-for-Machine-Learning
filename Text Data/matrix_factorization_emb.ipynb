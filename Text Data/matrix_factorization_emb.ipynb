{
 "cells": [
  {
   "cell_type": "markdown",
   "id": "9367736d-8cbf-419b-a4f2-9093435c52e8",
   "metadata": {},
   "source": [
    "# Matrix Factorization\n",
    "\n",
    "- Using SVD on a term-term co-occurence matrix is a simple way to create embeddings with powerfull semantic meaning"
   ]
  },
  {
   "cell_type": "code",
   "execution_count": 1,
   "id": "0ab8a304-4776-466e-8b5a-e95c67e3d9d9",
   "metadata": {
    "tags": []
   },
   "outputs": [],
   "source": [
    "import pickle\n",
    "import numpy as np\n",
    "import pandas as pd\n",
    "import nltk\n",
    "import string\n",
    "import sys\n",
    "import matplotlib.pyplot as plt\n",
    "\n",
    "from scipy.sparse import dok_matrix, csr_matrix, dok_array, hstack, vstack\n",
    "from scipy.spatial.distance import cosine, euclidean\n",
    "from scipy.sparse.linalg import svds, inv\n",
    "from tqdm.notebook import tqdm\n",
    "\n",
    "from sklearn.decomposition import TruncatedSVD, PCA"
   ]
  },
  {
   "cell_type": "markdown",
   "id": "22993292-7a07-4197-8672-0be50cff79af",
   "metadata": {
    "tags": []
   },
   "source": [
    "## Term-term co-occurence matrix\n",
    "\n",
    "#### Will try to identifie words with similar meaning.\n",
    " - We will the abstracts data for this study\n",
    " \n",
    "1. The data will be preprocessed\n",
    "2. The Co-ocurrence matrix will be computed\n",
    "3. PMI from the co-occurence matrix\n",
    "4. SVD applied to the final matrix in order to create the embeddings"
   ]
  },
  {
   "cell_type": "markdown",
   "id": "307fb3a3-7595-4252-b6e4-cbddf20351ae",
   "metadata": {
    "tags": []
   },
   "source": [
    "### Preprocessing the data\n",
    " - Removal of punctuation\n",
    " - Filtering for only alpha-numeric values\n",
    " - Conversion to lower case"
   ]
  },
  {
   "cell_type": "code",
   "execution_count": 2,
   "id": "60aaf893-ce4c-40dc-b2f6-bb0e0539ad0e",
   "metadata": {
    "tags": []
   },
   "outputs": [],
   "source": [
    "summaries = pd.read_csv(\"data/arxiv_data.csv\").summaries"
   ]
  },
  {
   "cell_type": "code",
   "execution_count": 3,
   "id": "279f2bb3-add7-4740-9d5a-651394205acb",
   "metadata": {
    "tags": []
   },
   "outputs": [],
   "source": [
    "summaries = summaries.apply(lambda x: x.replace(\"\\n\", \" \"))"
   ]
  },
  {
   "cell_type": "code",
   "execution_count": 4,
   "id": "34f2815c-77e3-40ae-9513-b27613ad03c8",
   "metadata": {
    "tags": []
   },
   "outputs": [
    {
     "data": {
      "text/plain": [
       "['Stereo matching is one of the widely used techniques for inferring depth from stereo images owing to its robustness and speed.',\n",
       " 'It has become one of the major topics of research since it finds its applications in autonomous driving, robotic navigation, 3D reconstruction, and many other fields.',\n",
       " 'Finding pixel correspondences in non-textured, occluded and reflective areas is the major challenge in stereo matching.',\n",
       " 'Recent developments have shown that semantic cues from image segmentation can be used to improve the results of stereo matching.',\n",
       " 'Many deep neural network architectures have been proposed to leverage the advantages of semantic segmentation in stereo matching.',\n",
       " 'This paper aims to give a comparison among the state of art networks both in terms of accuracy and in terms of speed which are of higher importance in real-time applications.']"
      ]
     },
     "execution_count": 4,
     "metadata": {},
     "output_type": "execute_result"
    }
   ],
   "source": [
    "nltk.tokenize.sent_tokenize(summaries.loc[0])"
   ]
  },
  {
   "cell_type": "code",
   "execution_count": 5,
   "id": "a005c1e4-b5ac-48bf-a5b8-15add724cf43",
   "metadata": {
    "tags": []
   },
   "outputs": [],
   "source": [
    "def get_words(document: list[str]):\n",
    "    \"\"\"\n",
    "    Given a document, parses it's tokens, removing stopwords and punctuation;\n",
    "    \"\"\"\n",
    "    stopwords = set(map(str.lower, nltk.corpus.stopwords.words(\"english\")))\n",
    "    punctuation = set(string.punctuation)\n",
    "    for word in nltk.tokenize.word_tokenize(document):\n",
    "        word = word.lower()\n",
    "        if (word not in stopwords) and \\\n",
    "        (word not in punctuation):\n",
    "            yield word"
   ]
  },
  {
   "cell_type": "code",
   "execution_count": 6,
   "id": "e49b024a-d21f-42ab-9928-d89d80734648",
   "metadata": {
    "tags": []
   },
   "outputs": [
    {
     "data": {
      "application/vnd.jupyter.widget-view+json": {
       "model_id": "c0082304bf234f148d05c029dfaec466",
       "version_major": 2,
       "version_minor": 0
      },
      "text/plain": [
       "  0%|          | 0/51774 [00:00<?, ?it/s]"
      ]
     },
     "metadata": {},
     "output_type": "display_data"
    }
   ],
   "source": [
    "all_words = {}\n",
    "docs = []\n",
    "index = 0\n",
    "for abstract in tqdm(summaries):\n",
    "    for sentence in nltk.tokenize.sent_tokenize(abstract):\n",
    "        current_sentence = []\n",
    "        for word in get_words(sentence):\n",
    "            if word not in all_words:\n",
    "                all_words|= {word:index}\n",
    "                index+=1\n",
    "            current_sentence.append(word)\n",
    "        docs.append(current_sentence)"
   ]
  },
  {
   "cell_type": "code",
   "execution_count": 7,
   "id": "716d3d15-5623-4ea2-87ae-fa065e19c346",
   "metadata": {
    "tags": []
   },
   "outputs": [
    {
     "data": {
      "text/plain": [
       "100649"
      ]
     },
     "execution_count": 7,
     "metadata": {},
     "output_type": "execute_result"
    }
   ],
   "source": [
    "len(all_words)"
   ]
  },
  {
   "cell_type": "code",
   "execution_count": 8,
   "id": "4b21d4a8-531f-4b64-b0fd-a529a87b6e92",
   "metadata": {
    "tags": []
   },
   "outputs": [],
   "source": [
    "with open(\"data/arxiv_abstracts_no_stopwords.pickle\", \"wb\") as f:\n",
    "    pickle.dump((all_words, docs), f)"
   ]
  },
  {
   "cell_type": "markdown",
   "id": "45b5df4f-9eb3-4876-a26e-16cc192b820d",
   "metadata": {
    "tags": []
   },
   "source": [
    "### Computation of the co-ocurrence matrix with a sliding window of size {wsize} and application of PMI transformation.\n",
    "\n",
    "We will assume log(0) = 0"
   ]
  },
  {
   "cell_type": "code",
   "execution_count": 9,
   "id": "09c6a200-5cdf-4d56-a5fe-94813dd44a1d",
   "metadata": {
    "tags": []
   },
   "outputs": [],
   "source": [
    "all_words, docs = pickle.load(open(\"data/arxiv_abstracts_no_stopwords.pickle\", \"rb\"))"
   ]
  },
  {
   "cell_type": "code",
   "execution_count": 10,
   "id": "8302b3f0-d40f-4a3e-bf79-4e03476c1322",
   "metadata": {
    "tags": []
   },
   "outputs": [],
   "source": [
    "rev_words = { item[1]:item[0] for item in all_words.items() }"
   ]
  },
  {
   "cell_type": "code",
   "execution_count": 11,
   "id": "11e28d64-3fa9-4b2c-9879-198afe382899",
   "metadata": {
    "tags": []
   },
   "outputs": [],
   "source": [
    "def word2int(word):\n",
    "    return all_words[word]\n",
    "\n",
    "def int2word(idx):\n",
    "    return rev_words[idx]"
   ]
  },
  {
   "cell_type": "code",
   "execution_count": 12,
   "id": "0c95bed8-eedc-4623-b07d-4b79bc49df0e",
   "metadata": {
    "tags": []
   },
   "outputs": [
    {
     "data": {
      "text/plain": [
       "100649"
      ]
     },
     "execution_count": 12,
     "metadata": {},
     "output_type": "execute_result"
    }
   ],
   "source": [
    "M = len(all_words)\n",
    "M"
   ]
  },
  {
   "cell_type": "code",
   "execution_count": 13,
   "id": "8c046ee0-bb82-4eba-9462-7ac2e7ae75db",
   "metadata": {
    "tags": []
   },
   "outputs": [],
   "source": [
    "wsize = 5"
   ]
  },
  {
   "cell_type": "code",
   "execution_count": 16,
   "id": "b3f34159-2b4e-42c3-8659-fa57e20db047",
   "metadata": {
    "tags": []
   },
   "outputs": [],
   "source": [
    "def count_word_coocurrence(docs, wsize=10):\n",
    "    term_term_dict = {}\n",
    "    for doc in tqdm(docs):\n",
    "        N = len(doc)\n",
    "        \n",
    "        for i in range(wsize, N - wsize):\n",
    "            current_word = word2int(doc[i])\n",
    "            \n",
    "            for j in range(1,wsize + 1):\n",
    "                prev_word = word2int(doc[i - j])\n",
    "                future_word = word2int(doc[i + j])\n",
    "                \n",
    "                term_term_dict[ (prev_word, current_word) ] = term_term_dict.get(\n",
    "                    (prev_word, current_word),\n",
    "                    0\n",
    "                ) + 1\n",
    "                term_term_dict[ (future_word, current_word) ] = term_term_dict.get(\n",
    "                    (future_word, current_word),\n",
    "                    0\n",
    "                ) + 1\n",
    "                \n",
    "    term_term_sparse = dok_matrix((M,M))\n",
    "    for idx, value in term_term_dict.items():\n",
    "        i, j = idx\n",
    "        term_term_sparse[i, j] = value\n",
    "        \n",
    "    return term_term_sparse"
   ]
  },
  {
   "cell_type": "code",
   "execution_count": 17,
   "id": "7649efb5-999a-4f77-b0d1-299ead173e59",
   "metadata": {},
   "outputs": [
    {
     "data": {
      "application/vnd.jupyter.widget-view+json": {
       "model_id": "c03e3ef1a3ec4f3b931fef9866159a37",
       "version_major": 2,
       "version_minor": 0
      },
      "text/plain": [
       "  0%|          | 0/397123 [00:00<?, ?it/s]"
      ]
     },
     "metadata": {},
     "output_type": "display_data"
    }
   ],
   "source": [
    "word_cooc_count = count_word_coocurrence(docs, wsize=wsize)"
   ]
  },
  {
   "cell_type": "code",
   "execution_count": 23,
   "id": "b3cad939-8a1f-4232-a406-71ad3dc7945e",
   "metadata": {
    "tags": []
   },
   "outputs": [],
   "source": [
    "def PMI(cooc):\n",
    "    total = cooc.sum()\n",
    "    probs = cooc/total\n",
    "    word_probs = probs.sum(axis=0)\n",
    "    \n",
    "    PMI = dok_matrix(cooc.shape)\n",
    "    ceil = 999999\n",
    "    for i,j in tqdm(cooc.keys()):\n",
    "        den = (word_probs[0,i] * word_probs[0, j])\n",
    "        if den == 0:\n",
    "            ratio = ceil\n",
    "        else:\n",
    "            ratio = probs[i,j] / den\n",
    "            \n",
    "        if ratio > 0:\n",
    "            PMI[i,j] = np.log(ratio)\n",
    "            \n",
    "    return PMI\n",
    "            "
   ]
  },
  {
   "cell_type": "code",
   "execution_count": 24,
   "id": "e34ec354-b53e-4416-8353-5942303367a4",
   "metadata": {
    "tags": []
   },
   "outputs": [
    {
     "data": {
      "application/vnd.jupyter.widget-view+json": {
       "model_id": "85bdc6d9677b49e88d68ce04dbbe5770",
       "version_major": 2,
       "version_minor": 0
      },
      "text/plain": [
       "  0%|          | 0/6134986 [00:00<?, ?it/s]"
      ]
     },
     "metadata": {},
     "output_type": "display_data"
    }
   ],
   "source": [
    "pmi = PMI(word_cooc_count)"
   ]
  },
  {
   "cell_type": "markdown",
   "id": "2a841674-6584-4161-a97d-5b139d8be4bf",
   "metadata": {
    "tags": []
   },
   "source": [
    "### Transforming the Sparse Co-occurence matrix into a N-Dim dense matrix using SVD"
   ]
  },
  {
   "cell_type": "code",
   "execution_count": 25,
   "id": "06e5ce73-4f77-422f-bc2c-8a34a459d8e3",
   "metadata": {
    "tags": []
   },
   "outputs": [
    {
     "data": {
      "text/plain": [
       "<100649x100649 sparse matrix of type '<class 'numpy.float64'>'\n",
       "\twith 6134986 stored elements in Dictionary Of Keys format>"
      ]
     },
     "execution_count": 25,
     "metadata": {},
     "output_type": "execute_result"
    }
   ],
   "source": [
    "pmi"
   ]
  },
  {
   "cell_type": "code",
   "execution_count": 26,
   "id": "e93bc93d-b088-4aee-a08d-d1b50e85e119",
   "metadata": {
    "tags": []
   },
   "outputs": [],
   "source": [
    "u = TruncatedSVD(n_components=100).fit_transform(pmi)"
   ]
  },
  {
   "cell_type": "code",
   "execution_count": 27,
   "id": "9a3c65d2-a7b7-4fa6-b8cb-022bb7dd160c",
   "metadata": {
    "tags": []
   },
   "outputs": [
    {
     "data": {
      "text/plain": [
       "['adaptive', 'implemented', 'retain', 'access', 'receptive']"
      ]
     },
     "execution_count": 27,
     "metadata": {},
     "output_type": "execute_result"
    }
   ],
   "source": [
    "[int2word(i) for i in range(1000,1005)]"
   ]
  },
  {
   "cell_type": "code",
   "execution_count": 28,
   "id": "b402cfbc-66d3-4a3d-ac92-829830839d8b",
   "metadata": {
    "tags": []
   },
   "outputs": [
    {
     "data": {
      "text/plain": [
       "array([1925, 3529, 7526, 5156, 4206, 9231,  700, 7420,  600, 3542, 8176,\n",
       "        611, 4151, 1941, 1215], dtype=int64)"
      ]
     },
     "execution_count": 28,
     "metadata": {},
     "output_type": "execute_result"
    }
   ],
   "source": [
    "np.argsort([ \n",
    "    euclidean(\n",
    "        u[word2int(\"programming\")], \n",
    "        u[i]\n",
    "    ) for i in range(len(u))\n",
    "])[:15]"
   ]
  },
  {
   "cell_type": "code",
   "execution_count": 40,
   "id": "587af076-27b1-45a3-b7ad-f19499ceb308",
   "metadata": {
    "tags": []
   },
   "outputs": [
    {
     "data": {
      "text/plain": [
       "'program'"
      ]
     },
     "execution_count": 40,
     "metadata": {},
     "output_type": "execute_result"
    }
   ],
   "source": [
    "tempw = int2word(7526)\n",
    "tempw "
   ]
  },
  {
   "cell_type": "code",
   "execution_count": 36,
   "id": "1ec67225-be72-4abc-9da8-0b3764a8fd94",
   "metadata": {
    "tags": []
   },
   "outputs": [
    {
     "data": {
      "text/plain": [
       "992"
      ]
     },
     "execution_count": 36,
     "metadata": {},
     "output_type": "execute_result"
    }
   ],
   "source": [
    "temp = word2int(\"cnn\")\n",
    "temp"
   ]
  },
  {
   "cell_type": "code",
   "execution_count": 37,
   "id": "7206d6b6-7492-4a5c-abbc-871aaa36d2ab",
   "metadata": {
    "tags": []
   },
   "outputs": [],
   "source": [
    "cnn_near = np.argsort([ \n",
    "    euclidean(\n",
    "        u[word2int(\"cnn\")], \n",
    "        u[i]\n",
    "    ) for i in range(len(u))\n",
    "])[:15]"
   ]
  },
  {
   "cell_type": "code",
   "execution_count": 38,
   "id": "413d30e9-04b5-47a5-9835-73e88cddf8c1",
   "metadata": {
    "tags": []
   },
   "outputs": [
    {
     "data": {
      "text/plain": [
       "array([ 992,  450,  489,   47,  961,  907, 1292, 1140, 2396, 2057, 5073,\n",
       "        377,  138,  945,  497], dtype=int64)"
      ]
     },
     "execution_count": 38,
     "metadata": {},
     "output_type": "execute_result"
    }
   ],
   "source": [
    "cnn_near"
   ]
  },
  {
   "cell_type": "code",
   "execution_count": 41,
   "id": "db02aaf7-62b9-4001-98b4-896bd02fe4f6",
   "metadata": {
    "tags": []
   },
   "outputs": [],
   "source": [
    "random = np.random.choice(list(range(len(u))), size=15, replace=False)"
   ]
  },
  {
   "cell_type": "code",
   "execution_count": 42,
   "id": "ca42789b-545d-4ea5-86a7-49eaa1473ef1",
   "metadata": {
    "tags": []
   },
   "outputs": [
    {
     "data": {
      "image/png": "[encoded data removed]",
      "text/plain": [
       "<Figure size 1400x800 with 1 Axes>"
      ]
     },
     "metadata": {},
     "output_type": "display_data"
    }
   ],
   "source": [
    "\n",
    "plt.figure(figsize=(14,8))\n",
    "for i in cnn_near:\n",
    "    plt.scatter(u[i,0], u[i,1], c=\"b\") #int2word(i))\n",
    "    plt.text(u[i,0], u[i,1],int2word(i))\n",
    "    \n",
    "for i in random:\n",
    "    plt.scatter(u[i,0], u[i,1], c=\"r\") \n",
    "    plt.text(u[i,0], u[i,1],int2word(i))"
   ]
  },
  {
   "cell_type": "code",
   "execution_count": 43,
   "id": "64a41972-17f6-492d-9afa-7501a4f4956a",
   "metadata": {
    "tags": []
   },
   "outputs": [
    {
     "data": {
      "image/png": "[encoded data removed]",
      "text/plain": [
       "<Figure size 1400x800 with 1 Axes>"
      ]
     },
     "metadata": {},
     "output_type": "display_data"
    }
   ],
   "source": [
    "prog_near = np.argsort([ \n",
    "    euclidean(\n",
    "        u[word2int(\"programming\")], \n",
    "        u[i]\n",
    "    ) for i in range(len(u))\n",
    "])[:15]\n",
    "\n",
    "random = np.random.choice(list(range(len(u))), size=15, replace=False)\n",
    "\n",
    "plt.figure(figsize=(14,8))\n",
    "for i in prog_near:\n",
    "    plt.scatter(u[i,0], u[i,1], c=\"b\") #int2word(i))\n",
    "    plt.text(u[i,0], u[i,1],int2word(i))\n",
    "    \n",
    "for i in random:\n",
    "    plt.scatter(u[i,0], u[i,1], c=\"r\") \n",
    "    plt.text(u[i,0], u[i,1],int2word(i))"
   ]
  },
  {
   "cell_type": "markdown",
   "id": "8c54731d-553d-4848-87cb-2b6ea7b4e8c9",
   "metadata": {},
   "source": [
    "We can see that the words are close to words that have similar meanings, for example the 'cnn' is around words related to neural networks. Words close to programming are overal related with the word topic too."
   ]
  }
 ],
 "metadata": {
  "kernelspec": {
   "display_name": "Python 3 (ipykernel)",
   "language": "python",
   "name": "python3"
  },
  "language_info": {
   "codemirror_mode": {
    "name": "ipython",
    "version": 3
   },
   "file_extension": ".py",
   "mimetype": "text/x-python",
   "name": "python",
   "nbconvert_exporter": "python",
   "pygments_lexer": "ipython3",
   "version": "3.9.7"
  }
 },
 "nbformat": 4,
 "nbformat_minor": 5
}
