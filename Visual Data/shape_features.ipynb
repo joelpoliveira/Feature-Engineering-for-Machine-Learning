{
 "cells": [
  {
   "cell_type": "code",
   "execution_count": 1,
   "id": "2f0ae61a-c462-4595-9446-e3e3341e7f68",
   "metadata": {
    "tags": []
   },
   "outputs": [],
   "source": [
    "%reload_ext autoreload\n",
    "%autoreload 2\n",
    "import os\n",
    "import cv2\n",
    "import numpy as np\n",
    "import ray \n",
    "import matplotlib.pyplot as plt\n",
    "\n",
    "from tqdm import tqdm\n",
    "from inout import *\n",
    "from sklearn.decomposition import PCA\n",
    "from sklearn.preprocessing import MinMaxScaler\n",
    "from sklearn.preprocessing import LabelEncoder\n",
    "\n",
    "from scipy.spatial. distance import cosine, euclidean\n",
    "from skimage.feature import hog\n",
    "\n",
    "from random import choices"
   ]
  },
  {
   "cell_type": "code",
   "execution_count": 2,
   "id": "fa4f6b98-3983-4a5c-8471-48bd7ce461e9",
   "metadata": {
    "tags": []
   },
   "outputs": [],
   "source": [
    "files = os.listdir(\"flowers/\")"
   ]
  },
  {
   "cell_type": "markdown",
   "id": "fa411b49-946b-4455-a6be-fbf7b50db502",
   "metadata": {},
   "source": [
    "## Geometric Moment"
   ]
  },
  {
   "cell_type": "code",
   "execution_count": 3,
   "id": "8f0ccff2-9cc0-43d0-aa70-76a84da6088e",
   "metadata": {
    "tags": []
   },
   "outputs": [],
   "source": [
    "@ray.remote\n",
    "def get_moment(file, p, q):\n",
    "    img = read_image(file).mean(axis=2)\n",
    "    x = np.arange(img.shape[0], dtype=int)\n",
    "    y = np.arange(img.shape[1], dtype=int)\n",
    "    return np.sum( (x**p) * (y**q) * img)\n",
    "\n",
    "\n",
    "def extract_moment_from_files(files, p, q):\n",
    "    X = []\n",
    "    \n",
    "    res = []\n",
    "    for file in files:\n",
    "        res.append( get_moment.remote(file, p, q) )\n",
    "    out = ray.get(res)\n",
    "    \n",
    "    for feat in tqdm(out):\n",
    "        X.append(feat)\n",
    "    return np.array(X)"
   ]
  },
  {
   "cell_type": "code",
   "execution_count": 4,
   "id": "f862897b-48b2-49e0-aaff-7c266adff145",
   "metadata": {
    "tags": []
   },
   "outputs": [
    {
     "name": "stderr",
     "output_type": "stream",
     "text": [
      "2023-04-23 18:43:26,584\tINFO worker.py:1538 -- Started a local Ray instance.\n"
     ]
    },
    {
     "data": {
      "text/html": [
       "<div>\n",
       "    <div style=\"margin-left: 50px;display: flex;flex-direction: row;align-items: center\">\n",
       "        <h3 style=\"color: var(--jp-ui-font-color0)\">Ray</h3>\n",
       "        <svg version=\"1.1\" id=\"ray\" width=\"3em\" viewBox=\"0 0 144.5 144.6\" style=\"margin-left: 3em;margin-right: 3em\">\n",
       "            <g id=\"layer-1\">\n",
       "                <path fill=\"#00a2e9\" class=\"st0\" d=\"M97.3,77.2c-3.8-1.1-6.2,0.9-8.3,5.1c-3.5,6.8-9.9,9.9-17.4,9.6S58,88.1,54.8,81.2c-1.4-3-3-4-6.3-4.1\n",
       "                    c-5.6-0.1-9.9,0.1-13.1,6.4c-3.8,7.6-13.6,10.2-21.8,7.6C5.2,88.4-0.4,80.5,0,71.7c0.1-8.4,5.7-15.8,13.8-18.2\n",
       "                    c8.4-2.6,17.5,0.7,22.3,8c1.3,1.9,1.3,5.2,3.6,5.6c3.9,0.6,8,0.2,12,0.2c1.8,0,1.9-1.6,2.4-2.8c3.5-7.8,9.7-11.8,18-11.9\n",
       "                    c8.2-0.1,14.4,3.9,17.8,11.4c1.3,2.8,2.9,3.6,5.7,3.3c1-0.1,2,0.1,3,0c2.8-0.5,6.4,1.7,8.1-2.7s-2.3-5.5-4.1-7.5\n",
       "                    c-5.1-5.7-10.9-10.8-16.1-16.3C84,38,81.9,37.1,78,38.3C66.7,42,56.2,35.7,53,24.1C50.3,14,57.3,2.8,67.7,0.5\n",
       "                    C78.4-2,89,4.7,91.5,15.3c0.1,0.3,0.1,0.5,0.2,0.8c0.7,3.4,0.7,6.9-0.8,9.8c-1.7,3.2-0.8,5,1.5,7.2c6.7,6.5,13.3,13,19.8,19.7\n",
       "                    c1.8,1.8,3,2.1,5.5,1.2c9.1-3.4,17.9-0.6,23.4,7c4.8,6.9,4.6,16.1-0.4,22.9c-5.4,7.2-14.2,9.9-23.1,6.5c-2.3-0.9-3.5-0.6-5.1,1.1\n",
       "                    c-6.7,6.9-13.6,13.7-20.5,20.4c-1.8,1.8-2.5,3.2-1.4,5.9c3.5,8.7,0.3,18.6-7.7,23.6c-7.9,5-18.2,3.8-24.8-2.9\n",
       "                    c-6.4-6.4-7.4-16.2-2.5-24.3c4.9-7.8,14.5-11,23.1-7.8c3,1.1,4.7,0.5,6.9-1.7C91.7,98.4,98,92.3,104.2,86c1.6-1.6,4.1-2.7,2.6-6.2\n",
       "                    c-1.4-3.3-3.8-2.5-6.2-2.6C99.8,77.2,98.9,77.2,97.3,77.2z M72.1,29.7c5.5,0.1,9.9-4.3,10-9.8c0-0.1,0-0.2,0-0.3\n",
       "                    C81.8,14,77,9.8,71.5,10.2c-5,0.3-9,4.2-9.3,9.2c-0.2,5.5,4,10.1,9.5,10.3C71.8,29.7,72,29.7,72.1,29.7z M72.3,62.3\n",
       "                    c-5.4-0.1-9.9,4.2-10.1,9.7c0,0.2,0,0.3,0,0.5c0.2,5.4,4.5,9.7,9.9,10c5.1,0.1,9.9-4.7,10.1-9.8c0.2-5.5-4-10-9.5-10.3\n",
       "                    C72.6,62.3,72.4,62.3,72.3,62.3z M115,72.5c0.1,5.4,4.5,9.7,9.8,9.9c5.6-0.2,10-4.8,10-10.4c-0.2-5.4-4.6-9.7-10-9.7\n",
       "                    c-5.3-0.1-9.8,4.2-9.9,9.5C115,72.1,115,72.3,115,72.5z M19.5,62.3c-5.4,0.1-9.8,4.4-10,9.8c-0.1,5.1,5.2,10.4,10.2,10.3\n",
       "                    c5.6-0.2,10-4.9,9.8-10.5c-0.1-5.4-4.5-9.7-9.9-9.6C19.6,62.3,19.5,62.3,19.5,62.3z M71.8,134.6c5.9,0.2,10.3-3.9,10.4-9.6\n",
       "                    c0.5-5.5-3.6-10.4-9.1-10.8c-5.5-0.5-10.4,3.6-10.8,9.1c0,0.5,0,0.9,0,1.4c-0.2,5.3,4,9.8,9.3,10\n",
       "                    C71.6,134.6,71.7,134.6,71.8,134.6z\"/>\n",
       "            </g>\n",
       "        </svg>\n",
       "        <table>\n",
       "            <tr>\n",
       "                <td style=\"text-align: left\"><b>Python version:</b></td>\n",
       "                <td style=\"text-align: left\"><b>3.9.7</b></td>\n",
       "            </tr>\n",
       "            <tr>\n",
       "                <td style=\"text-align: left\"><b>Ray version:</b></td>\n",
       "                <td style=\"text-align: left\"><b> 2.2.0</b></td>\n",
       "            </tr>\n",
       "            \n",
       "        </table>\n",
       "    </div>\n",
       "</div>\n"
      ],
      "text/plain": [
       "RayContext(dashboard_url='', python_version='3.9.7', ray_version='2.2.0', ray_commit='b6af0887ee5f2e460202133791ad941a41f15beb', address_info={'node_ip_address': '127.0.0.1', 'raylet_ip_address': '127.0.0.1', 'redis_address': None, 'object_store_address': 'tcp://127.0.0.1:60326', 'raylet_socket_name': 'tcp://127.0.0.1:62719', 'webui_url': '', 'session_dir': 'C:\\\\Users\\\\joelp\\\\AppData\\\\Local\\\\Temp\\\\ray\\\\session_2023-04-23_18-43-23_441910_5012', 'metrics_export_port': 61334, 'gcs_address': '127.0.0.1:64464', 'address': '127.0.0.1:64464', 'dashboard_agent_listen_port': 52365, 'node_id': '23616d1ac30125b3c507692b3c2bf9e92c8cb5f19e4c33512ae800f8'})"
      ]
     },
     "execution_count": 4,
     "metadata": {},
     "output_type": "execute_result"
    }
   ],
   "source": [
    "ray.init()"
   ]
  },
  {
   "cell_type": "code",
   "execution_count": 6,
   "id": "4cfa7a0c-2c7a-4899-ab9a-d634a9034b9c",
   "metadata": {
    "tags": []
   },
   "outputs": [
    {
     "name": "stderr",
     "output_type": "stream",
     "text": [
      "100%|█████████████████████████████████████████████████████████████████████████████████████████████████████████████████████████████████████████████████████████████████████████████████| 733/733 [00:00<?, ?it/s]\n",
      "100%|█████████████████████████████████████████████████████████████████████████████████████████████████████████████████████████████████████████████████████████████████████████████████| 733/733 [00:00<?, ?it/s]\n",
      "100%|█████████████████████████████████████████████████████████████████████████████████████████████████████████████████████████████████████████████████████████████████████████████████| 733/733 [00:00<?, ?it/s]\n"
     ]
    }
   ],
   "source": [
    "m00s = extract_moment_from_files(files, 0, 0)\n",
    "m10s = extract_moment_from_files(files, 1, 0)\n",
    "m01s = extract_moment_from_files(files, 0, 1)"
   ]
  },
  {
   "cell_type": "code",
   "execution_count": 7,
   "id": "d332f6d8-1d33-4547-825b-099f74f75177",
   "metadata": {
    "tags": []
   },
   "outputs": [],
   "source": [
    "x_centroids = m10s/m00s\n",
    "y_centroids = m01s/m00s"
   ]
  },
  {
   "cell_type": "code",
   "execution_count": 8,
   "id": "77599362-1d52-45f4-8294-452084e2f444",
   "metadata": {
    "tags": []
   },
   "outputs": [],
   "source": [
    "ray.shutdown()"
   ]
  },
  {
   "cell_type": "code",
   "execution_count": 9,
   "id": "1aa32471-1592-477d-8220-ce2aca5efeeb",
   "metadata": {
    "tags": []
   },
   "outputs": [],
   "source": [
    "def get_central_moment(img, xcent, ycent, p, q):\n",
    "    x = np.arange(img.shape[0], dtype=int)\n",
    "    y = np.arange(img.shape[1], dtype=int)\n",
    "    \n",
    "    return np.sum(\n",
    "        (x-xcent)**p * (y-ycent)**q * img\n",
    "    )\n",
    "\n",
    "def extract_central_moments_from_files(files, xcents, ycents, p, q):\n",
    "    moments = []\n",
    "    for i, file in tqdm(enumerate(files)):\n",
    "        img = read_image(file).mean(axis=2)\n",
    "        moments.append( get_central_moment(img, xcents[i], ycents[i], p, q))\n",
    "    return np.array(moments)"
   ]
  },
  {
   "cell_type": "code",
   "execution_count": 10,
   "id": "1d6e1eed-b0fe-4830-9ec2-93ca4f84a8e4",
   "metadata": {
    "tags": []
   },
   "outputs": [
    {
     "name": "stderr",
     "output_type": "stream",
     "text": [
      "733it [00:24, 30.24it/s]\n",
      "733it [00:23, 30.96it/s]\n",
      "733it [00:30, 23.78it/s]\n",
      "733it [00:27, 26.25it/s]\n",
      "733it [00:23, 31.47it/s]\n",
      "733it [00:22, 32.04it/s]\n",
      "733it [00:23, 31.09it/s]\n",
      "733it [00:22, 32.75it/s]\n"
     ]
    }
   ],
   "source": [
    "u00s = extract_central_moments_from_files(files, x_centroids, y_centroids, 0, 0).reshape(-1,1)\n",
    "u11s = extract_central_moments_from_files(files, x_centroids, y_centroids, 1, 1).reshape(-1,1)\n",
    "u20s = extract_central_moments_from_files(files, x_centroids, y_centroids, 2, 0).reshape(-1,1)\n",
    "u02s = extract_central_moments_from_files(files, x_centroids, y_centroids, 0, 2).reshape(-1,1)\n",
    "u21s = extract_central_moments_from_files(files, x_centroids, y_centroids, 2, 1).reshape(-1,1)\n",
    "u12s = extract_central_moments_from_files(files, x_centroids, y_centroids, 1, 2).reshape(-1,1)\n",
    "u30s = extract_central_moments_from_files(files, x_centroids, y_centroids, 3, 0).reshape(-1,1)\n",
    "u03s = extract_central_moments_from_files(files, x_centroids, y_centroids, 0, 3).reshape(-1,1)"
   ]
  },
  {
   "cell_type": "code",
   "execution_count": 13,
   "id": "d428ea49-2461-4f25-a367-990ca3475d2b",
   "metadata": {
    "tags": []
   },
   "outputs": [],
   "source": [
    "geometric_moments = np.concatenate((u00s, u11s, u20s, u02s, u21s, u12s, u30s, u03s), axis=1)"
   ]
  },
  {
   "cell_type": "code",
   "execution_count": 14,
   "id": "864ea9ba-b0c8-4831-b869-4d682aded801",
   "metadata": {
    "tags": []
   },
   "outputs": [],
   "source": [
    "norm_geometric_moments = MinMaxScaler().fit_transform(geometric_moments)"
   ]
  },
  {
   "cell_type": "code",
   "execution_count": 18,
   "id": "49b96660-803d-439b-902b-4619bb1af48d",
   "metadata": {
    "tags": []
   },
   "outputs": [
    {
     "name": "stdout",
     "output_type": "stream",
     "text": [
      "bougainvillea_00002.jpg\n"
     ]
    },
    {
     "data": {
      "text/plain": [
       "array([  0, 439, 614, 559, 552, 502, 335, 344, 368, 616, 453, 136, 681,\n",
       "       290, 455], dtype=int64)"
      ]
     },
     "execution_count": 18,
     "metadata": {},
     "output_type": "execute_result"
    }
   ],
   "source": [
    "k=0\n",
    "print(files[k])\n",
    "results = np.argsort([\n",
    "    euclidean(\n",
    "        geometric_moments[k],\n",
    "        geometric_moments[i]\n",
    "    ) for i in range(geometric_moments.shape[0])\n",
    "])[:15]\n",
    "results"
   ]
  },
  {
   "cell_type": "code",
   "execution_count": 19,
   "id": "685304e4-9000-4d57-8bf7-381137172016",
   "metadata": {
    "tags": []
   },
   "outputs": [
    {
     "name": "stdout",
     "output_type": "stream",
     "text": [
      "bougainvillea_00002.jpg\n"
     ]
    },
    {
     "data": {
      "text/plain": [
       "array([  0, 439, 211, 711, 614,  55, 686, 705, 453, 406, 411,  54, 682,\n",
       "        47,  34], dtype=int64)"
      ]
     },
     "execution_count": 19,
     "metadata": {},
     "output_type": "execute_result"
    }
   ],
   "source": [
    "k=0\n",
    "print(files[k])\n",
    "results = np.argsort([\n",
    "    euclidean(\n",
    "        norm_geometric_moments[k],\n",
    "        norm_geometric_moments[i]\n",
    "    ) for i in range(geometric_moments.shape[0])\n",
    "])[:15]\n",
    "results"
   ]
  },
  {
   "cell_type": "markdown",
   "id": "8bca8fbf-3a1c-4420-ab45-6abc54fabd66",
   "metadata": {},
   "source": [
    "Through linear distance it does not seem that this feature alone is enough to distinguish the different types of flowers in the dataset"
   ]
  },
  {
   "cell_type": "markdown",
   "id": "5aea8338-9893-4e8a-b79e-7b1f1bf7e2c2",
   "metadata": {},
   "source": [
    "## Histogram of Gradients"
   ]
  },
  {
   "cell_type": "code",
   "execution_count": 3,
   "id": "ffa05a11-462e-4f6c-91d6-48a3c168dbc2",
   "metadata": {
    "tags": []
   },
   "outputs": [],
   "source": [
    "@ray.remote\n",
    "def get_hog(file):\n",
    "    img = read_image(file)\n",
    "    return hog(\n",
    "        img, \n",
    "        channel_axis=2\n",
    "    )\n",
    "\n",
    "def extract_hog_from_files(files):\n",
    "    data = []\n",
    "    \n",
    "    res = []\n",
    "    for file in tqdm(files):\n",
    "        res.append(get_hog.remote(file))\n",
    "    out = ray.get(res)\n",
    "    \n",
    "    for feat_vec in out:\n",
    "        data.append(feat_vec)\n",
    "    return np.array(data)"
   ]
  },
  {
   "cell_type": "code",
   "execution_count": 4,
   "id": "a7e516e6-2fb7-4c4c-ad81-62a9725ef50c",
   "metadata": {
    "tags": []
   },
   "outputs": [
    {
     "name": "stderr",
     "output_type": "stream",
     "text": [
      "2023-04-24 11:53:25,192\tINFO worker.py:1538 -- Started a local Ray instance.\n"
     ]
    },
    {
     "data": {
      "text/html": [
       "<div>\n",
       "    <div style=\"margin-left: 50px;display: flex;flex-direction: row;align-items: center\">\n",
       "        <h3 style=\"color: var(--jp-ui-font-color0)\">Ray</h3>\n",
       "        <svg version=\"1.1\" id=\"ray\" width=\"3em\" viewBox=\"0 0 144.5 144.6\" style=\"margin-left: 3em;margin-right: 3em\">\n",
       "            <g id=\"layer-1\">\n",
       "                <path fill=\"#00a2e9\" class=\"st0\" d=\"M97.3,77.2c-3.8-1.1-6.2,0.9-8.3,5.1c-3.5,6.8-9.9,9.9-17.4,9.6S58,88.1,54.8,81.2c-1.4-3-3-4-6.3-4.1\n",
       "                    c-5.6-0.1-9.9,0.1-13.1,6.4c-3.8,7.6-13.6,10.2-21.8,7.6C5.2,88.4-0.4,80.5,0,71.7c0.1-8.4,5.7-15.8,13.8-18.2\n",
       "                    c8.4-2.6,17.5,0.7,22.3,8c1.3,1.9,1.3,5.2,3.6,5.6c3.9,0.6,8,0.2,12,0.2c1.8,0,1.9-1.6,2.4-2.8c3.5-7.8,9.7-11.8,18-11.9\n",
       "                    c8.2-0.1,14.4,3.9,17.8,11.4c1.3,2.8,2.9,3.6,5.7,3.3c1-0.1,2,0.1,3,0c2.8-0.5,6.4,1.7,8.1-2.7s-2.3-5.5-4.1-7.5\n",
       "                    c-5.1-5.7-10.9-10.8-16.1-16.3C84,38,81.9,37.1,78,38.3C66.7,42,56.2,35.7,53,24.1C50.3,14,57.3,2.8,67.7,0.5\n",
       "                    C78.4-2,89,4.7,91.5,15.3c0.1,0.3,0.1,0.5,0.2,0.8c0.7,3.4,0.7,6.9-0.8,9.8c-1.7,3.2-0.8,5,1.5,7.2c6.7,6.5,13.3,13,19.8,19.7\n",
       "                    c1.8,1.8,3,2.1,5.5,1.2c9.1-3.4,17.9-0.6,23.4,7c4.8,6.9,4.6,16.1-0.4,22.9c-5.4,7.2-14.2,9.9-23.1,6.5c-2.3-0.9-3.5-0.6-5.1,1.1\n",
       "                    c-6.7,6.9-13.6,13.7-20.5,20.4c-1.8,1.8-2.5,3.2-1.4,5.9c3.5,8.7,0.3,18.6-7.7,23.6c-7.9,5-18.2,3.8-24.8-2.9\n",
       "                    c-6.4-6.4-7.4-16.2-2.5-24.3c4.9-7.8,14.5-11,23.1-7.8c3,1.1,4.7,0.5,6.9-1.7C91.7,98.4,98,92.3,104.2,86c1.6-1.6,4.1-2.7,2.6-6.2\n",
       "                    c-1.4-3.3-3.8-2.5-6.2-2.6C99.8,77.2,98.9,77.2,97.3,77.2z M72.1,29.7c5.5,0.1,9.9-4.3,10-9.8c0-0.1,0-0.2,0-0.3\n",
       "                    C81.8,14,77,9.8,71.5,10.2c-5,0.3-9,4.2-9.3,9.2c-0.2,5.5,4,10.1,9.5,10.3C71.8,29.7,72,29.7,72.1,29.7z M72.3,62.3\n",
       "                    c-5.4-0.1-9.9,4.2-10.1,9.7c0,0.2,0,0.3,0,0.5c0.2,5.4,4.5,9.7,9.9,10c5.1,0.1,9.9-4.7,10.1-9.8c0.2-5.5-4-10-9.5-10.3\n",
       "                    C72.6,62.3,72.4,62.3,72.3,62.3z M115,72.5c0.1,5.4,4.5,9.7,9.8,9.9c5.6-0.2,10-4.8,10-10.4c-0.2-5.4-4.6-9.7-10-9.7\n",
       "                    c-5.3-0.1-9.8,4.2-9.9,9.5C115,72.1,115,72.3,115,72.5z M19.5,62.3c-5.4,0.1-9.8,4.4-10,9.8c-0.1,5.1,5.2,10.4,10.2,10.3\n",
       "                    c5.6-0.2,10-4.9,9.8-10.5c-0.1-5.4-4.5-9.7-9.9-9.6C19.6,62.3,19.5,62.3,19.5,62.3z M71.8,134.6c5.9,0.2,10.3-3.9,10.4-9.6\n",
       "                    c0.5-5.5-3.6-10.4-9.1-10.8c-5.5-0.5-10.4,3.6-10.8,9.1c0,0.5,0,0.9,0,1.4c-0.2,5.3,4,9.8,9.3,10\n",
       "                    C71.6,134.6,71.7,134.6,71.8,134.6z\"/>\n",
       "            </g>\n",
       "        </svg>\n",
       "        <table>\n",
       "            <tr>\n",
       "                <td style=\"text-align: left\"><b>Python version:</b></td>\n",
       "                <td style=\"text-align: left\"><b>3.9.7</b></td>\n",
       "            </tr>\n",
       "            <tr>\n",
       "                <td style=\"text-align: left\"><b>Ray version:</b></td>\n",
       "                <td style=\"text-align: left\"><b> 2.2.0</b></td>\n",
       "            </tr>\n",
       "            \n",
       "        </table>\n",
       "    </div>\n",
       "</div>\n"
      ],
      "text/plain": [
       "RayContext(dashboard_url='', python_version='3.9.7', ray_version='2.2.0', ray_commit='b6af0887ee5f2e460202133791ad941a41f15beb', address_info={'node_ip_address': '127.0.0.1', 'raylet_ip_address': '127.0.0.1', 'redis_address': None, 'object_store_address': 'tcp://127.0.0.1:56751', 'raylet_socket_name': 'tcp://127.0.0.1:63930', 'webui_url': '', 'session_dir': 'C:\\\\Users\\\\joelp\\\\AppData\\\\Local\\\\Temp\\\\ray\\\\session_2023-04-24_11-53-21_691280_24832', 'metrics_export_port': 53937, 'gcs_address': '127.0.0.1:64555', 'address': '127.0.0.1:64555', 'dashboard_agent_listen_port': 52365, 'node_id': '3507283877ae152c335690687872ae684c0c8240816c8188226ca596'})"
      ]
     },
     "execution_count": 4,
     "metadata": {},
     "output_type": "execute_result"
    }
   ],
   "source": [
    "ray.init()"
   ]
  },
  {
   "cell_type": "code",
   "execution_count": 5,
   "id": "56364afe-6423-4386-839a-4a4a4aa3b2e6",
   "metadata": {
    "tags": []
   },
   "outputs": [
    {
     "name": "stderr",
     "output_type": "stream",
     "text": [
      "100%|███████████████████████████████████████████████████████████████████████████████████████████████████████████████████████████████████████████████████████████████████████| 733/733 [00:00<00:00, 1800.46it/s]\n"
     ]
    }
   ],
   "source": [
    "hog_features = extract_hog_from_files(files)"
   ]
  },
  {
   "cell_type": "code",
   "execution_count": 6,
   "id": "c37b62b3-dfd3-4996-9690-7c753d798594",
   "metadata": {
    "tags": []
   },
   "outputs": [],
   "source": [
    "ray.shutdown()"
   ]
  },
  {
   "cell_type": "code",
   "execution_count": 7,
   "id": "091bb3f7-34c1-4f72-b1b6-7c6379696f39",
   "metadata": {
    "tags": []
   },
   "outputs": [],
   "source": [
    "norm_hog = MinMaxScaler().fit_transform(hog_features)"
   ]
  },
  {
   "cell_type": "code",
   "execution_count": 8,
   "id": "c58efa4e-ef94-42b8-9181-4ed59d90947a",
   "metadata": {
    "tags": []
   },
   "outputs": [],
   "source": [
    "classes = list(\n",
    "    map(lambda f: '_'.join(f.split(\"_\")[:-1]), files )\n",
    ")"
   ]
  },
  {
   "cell_type": "code",
   "execution_count": 9,
   "id": "7d841fa6-c718-4549-9a32-f052666c4eb9",
   "metadata": {
    "tags": []
   },
   "outputs": [],
   "source": [
    "encoder = LabelEncoder().fit(classes)"
   ]
  },
  {
   "cell_type": "code",
   "execution_count": 19,
   "id": "5b708384-2e51-49e3-ba24-afa44aa8424d",
   "metadata": {
    "tags": []
   },
   "outputs": [],
   "source": [
    "def to_classes(seq):\n",
    "    return encoder.transform([classes[i] for i in seq])"
   ]
  },
  {
   "cell_type": "code",
   "execution_count": 11,
   "id": "bcdc8531-08e1-4180-9544-ff2a74501c4d",
   "metadata": {
    "tags": []
   },
   "outputs": [
    {
     "name": "stdout",
     "output_type": "stream",
     "text": [
      "garden_roses_00052.jpg\n"
     ]
    },
    {
     "data": {
      "text/plain": [
       "array([2, 2, 1, 7, 2, 2, 2, 0, 0, 2, 2, 0, 0, 2, 1])"
      ]
     },
     "execution_count": 11,
     "metadata": {},
     "output_type": "execute_result"
    }
   ],
   "source": [
    "k=200\n",
    "print(files[k])\n",
    "results = np.argsort([\n",
    "    euclidean(\n",
    "        hog_features[k],\n",
    "        hog_features[i]\n",
    "    ) for i in range(hog_features.shape[0])\n",
    "])[:15]\n",
    "to_classes(results)"
   ]
  },
  {
   "cell_type": "code",
   "execution_count": 12,
   "id": "f96b166a-1e96-4e99-b4b3-17eca9829113",
   "metadata": {
    "tags": []
   },
   "outputs": [
    {
     "name": "stdout",
     "output_type": "stream",
     "text": [
      "garden_roses_00052.jpg\n"
     ]
    },
    {
     "data": {
      "text/plain": [
       "array([2, 2, 1, 7, 2, 2, 2, 1, 0, 2, 2, 0, 2, 1, 2])"
      ]
     },
     "execution_count": 12,
     "metadata": {},
     "output_type": "execute_result"
    }
   ],
   "source": [
    "k=200\n",
    "print(files[k])\n",
    "results = np.argsort([\n",
    "    euclidean(\n",
    "        norm_hog[k],\n",
    "        norm_hog[i]\n",
    "    ) for i in range(hog_features.shape[0])\n",
    "])[:15]\n",
    "to_classes(results)"
   ]
  },
  {
   "cell_type": "markdown",
   "id": "f54c2e97-48df-4a1f-b3b5-ee480ff2b700",
   "metadata": {},
   "source": [
    "It seems that Histogram of gradients has gotten much better results. Similar classes have similar representations <br>\n",
    "\n",
    "Will use this representation for flower classification and check the results"
   ]
  },
  {
   "cell_type": "code",
   "execution_count": 51,
   "id": "99331b6e-82fa-4171-b7c4-d62669ef32f9",
   "metadata": {},
   "outputs": [],
   "source": [
    "from sklearn.model_selection import train_test_split\n",
    "from sklearn.metrics import ConfusionMatrixDisplay, confusion_matrix, matthews_corrcoef\n",
    "\n",
    "from sklearn.linear_model import LogisticRegression\n",
    "from sklearn.tree import DecisionTreeClassifier\n",
    "from sklearn.naive_bayes import GaussianNB\n",
    "from sklearn.neighbors import KNeighborsClassifier\n",
    "from sklearn.svm import SVC"
   ]
  },
  {
   "cell_type": "code",
   "execution_count": 71,
   "id": "8d0cc07e-5ef2-458b-8161-6a2e7ef77666",
   "metadata": {
    "tags": []
   },
   "outputs": [],
   "source": [
    "X_train, X_test, y_train, y_test = train_test_split(hog_features, encoder.transform(classes), random_state=123, test_size=0.2)"
   ]
  },
  {
   "cell_type": "code",
   "execution_count": 72,
   "id": "01a426c9-9e07-49ac-80f7-b4958a888caa",
   "metadata": {
    "tags": []
   },
   "outputs": [
    {
     "data": {
      "text/plain": [
       "(586, 72900)"
      ]
     },
     "execution_count": 72,
     "metadata": {},
     "output_type": "execute_result"
    }
   ],
   "source": [
    "X_train.shape"
   ]
  },
  {
   "cell_type": "code",
   "execution_count": 73,
   "id": "2b46b4af-d403-4dad-98a8-ba8838a8b087",
   "metadata": {
    "tags": []
   },
   "outputs": [],
   "source": [
    "pca = PCA(n_components=0.9, svd_solver=\"full\").fit(X_train)"
   ]
  },
  {
   "cell_type": "code",
   "execution_count": 74,
   "id": "4a6dd716-da0a-4a39-bf29-a641c8bd82f6",
   "metadata": {
    "tags": []
   },
   "outputs": [
    {
     "data": {
      "text/plain": [
       "0.9004787385951388"
      ]
     },
     "execution_count": 74,
     "metadata": {},
     "output_type": "execute_result"
    }
   ],
   "source": [
    "pca.explained_variance_ratio_.sum()"
   ]
  },
  {
   "cell_type": "code",
   "execution_count": 75,
   "id": "11b05c1b-5c71-43e6-ad28-f48ee7352900",
   "metadata": {
    "tags": []
   },
   "outputs": [
    {
     "data": {
      "text/plain": [
       "(586, 423)"
      ]
     },
     "execution_count": 75,
     "metadata": {},
     "output_type": "execute_result"
    }
   ],
   "source": [
    "pca.transform(X_train).shape"
   ]
  },
  {
   "cell_type": "code",
   "execution_count": 76,
   "id": "0161b8aa-d1bf-4a5c-bb6b-593a87f78383",
   "metadata": {
    "tags": []
   },
   "outputs": [],
   "source": [
    "def t(X):\n",
    "    return pca.transform(X)"
   ]
  },
  {
   "cell_type": "markdown",
   "id": "fb8bcde4-52d4-496a-b390-b7240f93aa3c",
   "metadata": {},
   "source": [
    "### Logistic Regression"
   ]
  },
  {
   "cell_type": "code",
   "execution_count": 77,
   "id": "88945d7f-1310-40e3-b121-93a9d138c4a7",
   "metadata": {
    "tags": []
   },
   "outputs": [
    {
     "data": {
      "text/plain": [
       "1.0"
      ]
     },
     "execution_count": 77,
     "metadata": {},
     "output_type": "execute_result"
    }
   ],
   "source": [
    "lr = LogisticRegression(max_iter=999999).fit(t(X_train), y_train)\n",
    "lr.score(t(X_train), y_train)"
   ]
  },
  {
   "cell_type": "code",
   "execution_count": 78,
   "id": "5a7e2e4e-c9b4-4ebd-8947-1313b717654d",
   "metadata": {
    "tags": []
   },
   "outputs": [
    {
     "data": {
      "text/plain": [
       "0.43537414965986393"
      ]
     },
     "execution_count": 78,
     "metadata": {},
     "output_type": "execute_result"
    }
   ],
   "source": [
    "lr.score(t(X_test), y_test)"
   ]
  },
  {
   "cell_type": "markdown",
   "id": "a17a8562-467c-4424-ab35-b0cfe5364b77",
   "metadata": {},
   "source": [
    "### SVM"
   ]
  },
  {
   "cell_type": "code",
   "execution_count": 68,
   "id": "708615c3-2b8d-4e7b-b0fd-732edf9493db",
   "metadata": {
    "tags": []
   },
   "outputs": [
    {
     "data": {
      "text/plain": [
       "0.9573378839590444"
      ]
     },
     "execution_count": 68,
     "metadata": {},
     "output_type": "execute_result"
    }
   ],
   "source": [
    "svm = SVC().fit(t(X_train), y_train)\n",
    "svm.score(t(X_train), y_train)"
   ]
  },
  {
   "cell_type": "code",
   "execution_count": 69,
   "id": "de33e771-e984-4794-bf04-6b35b0cd2490",
   "metadata": {
    "tags": []
   },
   "outputs": [
    {
     "data": {
      "text/plain": [
       "0.2585034013605442"
      ]
     },
     "execution_count": 69,
     "metadata": {},
     "output_type": "execute_result"
    }
   ],
   "source": [
    "svm.score(t(X_test), y_test)"
   ]
  }
 ],
 "metadata": {
  "kernelspec": {
   "display_name": "Python 3 (ipykernel)",
   "language": "python",
   "name": "python3"
  },
  "language_info": {
   "codemirror_mode": {
    "name": "ipython",
    "version": 3
   },
   "file_extension": ".py",
   "mimetype": "text/x-python",
   "name": "python",
   "nbconvert_exporter": "python",
   "pygments_lexer": "ipython3",
   "version": "3.9.7"
  }
 },
 "nbformat": 4,
 "nbformat_minor": 5
}
