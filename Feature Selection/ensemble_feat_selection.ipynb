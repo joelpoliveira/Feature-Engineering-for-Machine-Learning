{
 "cells": [
  {
   "cell_type": "code",
   "execution_count": 1,
   "id": "e3732819-f087-41d9-b45a-6ef3142c428f",
   "metadata": {
    "tags": []
   },
   "outputs": [],
   "source": [
    "import numpy as np\n",
    "import pandas as pd\n",
    "\n",
    "from sklearn.svm import SVC\n",
    "from sklearn.ensemble import RandomForestClassifier\n",
    "from sklearn.preprocessing import StandardScaler\n",
    "from sklearn.feature_selection import SelectFromModel\n",
    "from sklearn.model_selection import cross_val_score, train_test_split"
   ]
  },
  {
   "cell_type": "code",
   "execution_count": 2,
   "id": "ef14622f-280f-40b3-9f75-eadb310e0946",
   "metadata": {
    "tags": []
   },
   "outputs": [],
   "source": [
    "data = pd.read_csv(\"data/telescope.csv\")\n",
    "X = data.drop(columns=\"class\")\n",
    "y = data[\"class\"]\n",
    "\n",
    "X_train, X_test, y_train, y_test = train_test_split(X,y, test_size=0.2, random_state=13)"
   ]
  },
  {
   "cell_type": "code",
   "execution_count": 3,
   "id": "99435c15-8988-45bc-a890-607881dfedb1",
   "metadata": {
    "tags": []
   },
   "outputs": [],
   "source": [
    "ss=StandardScaler().set_output(transform=\"pandas\").fit(X_train)"
   ]
  },
  {
   "cell_type": "code",
   "execution_count": 4,
   "id": "58318316-e997-40d4-818e-748f19d2df1e",
   "metadata": {
    "tags": []
   },
   "outputs": [],
   "source": [
    "rf = RandomForestClassifier()\n",
    "feat_selector = SelectFromModel(rf).fit(ss.transform(X_train), y_train)"
   ]
  },
  {
   "cell_type": "code",
   "execution_count": 5,
   "id": "7e1fe91f-7219-46fe-9530-c2e1bf7cae02",
   "metadata": {
    "tags": []
   },
   "outputs": [
    {
     "data": {
      "text/plain": [
       "array(['fLength', 'fWidth', 'fSize', 'fAlpha'], dtype=object)"
      ]
     },
     "execution_count": 5,
     "metadata": {},
     "output_type": "execute_result"
    }
   ],
   "source": [
    "feat_selector.get_feature_names_out()"
   ]
  },
  {
   "cell_type": "code",
   "execution_count": 6,
   "id": "f5851594-23aa-4b1c-81c1-f032f0a4841e",
   "metadata": {
    "tags": []
   },
   "outputs": [],
   "source": [
    "columns = feat_selector.get_feature_names_out()\n",
    "\n",
    "svm = SVC().fit( ss.transform(X_train)[columns], y_train )"
   ]
  },
  {
   "cell_type": "code",
   "execution_count": 8,
   "id": "9df04542-fd2f-4f05-a345-47e05c1c9f18",
   "metadata": {
    "tags": []
   },
   "outputs": [
    {
     "data": {
      "text/plain": [
       "0.8531151419558359"
      ]
     },
     "execution_count": 8,
     "metadata": {},
     "output_type": "execute_result"
    }
   ],
   "source": [
    "svm.score(ss.transform(X_train)[columns], y_train)"
   ]
  },
  {
   "cell_type": "code",
   "execution_count": 9,
   "id": "4e5417d3-2599-47e3-9ffa-58109108f7e3",
   "metadata": {
    "tags": []
   },
   "outputs": [],
   "source": [
    "from sklearn.metrics import matthews_corrcoef, ConfusionMatrixDisplay, confusion_matrix"
   ]
  },
  {
   "cell_type": "code",
   "execution_count": 10,
   "id": "8cb64409-6d90-4e77-96a9-bbaa4368ba5c",
   "metadata": {
    "tags": []
   },
   "outputs": [
    {
     "data": {
      "text/plain": [
       "0.6713285574899988"
      ]
     },
     "execution_count": 10,
     "metadata": {},
     "output_type": "execute_result"
    }
   ],
   "source": [
    "matthews_corrcoef(\n",
    "    svm.predict(\n",
    "        ss.transform(X_train)[columns]\n",
    "    ), y_train\n",
    ")"
   ]
  },
  {
   "cell_type": "code",
   "execution_count": 11,
   "id": "36e1b220-8891-432b-818d-04ab3084681e",
   "metadata": {
    "tags": []
   },
   "outputs": [],
   "source": [
    "preds = svm.predict(\n",
    "    ss.transform(X_test)[columns]\n",
    ")"
   ]
  },
  {
   "cell_type": "code",
   "execution_count": 12,
   "id": "752733db-1f6d-4c23-aa65-b6c8fcfc4837",
   "metadata": {
    "tags": []
   },
   "outputs": [
    {
     "data": {
      "text/plain": [
       "0.8475289169295478"
      ]
     },
     "execution_count": 12,
     "metadata": {},
     "output_type": "execute_result"
    }
   ],
   "source": [
    "svm.score(ss.transform(X_test)[columns], y_test)"
   ]
  },
  {
   "cell_type": "code",
   "execution_count": 13,
   "id": "74d66d69-611c-4ef6-8060-d3810ca70a24",
   "metadata": {
    "tags": []
   },
   "outputs": [
    {
     "data": {
      "text/plain": [
       "0.6648865528099805"
      ]
     },
     "execution_count": 13,
     "metadata": {},
     "output_type": "execute_result"
    }
   ],
   "source": [
    "matthews_corrcoef(preds, y_test)"
   ]
  },
  {
   "cell_type": "code",
   "execution_count": 14,
   "id": "1cd23dc1-94a3-4451-be27-b7de6a3f7b4c",
   "metadata": {
    "tags": []
   },
   "outputs": [
    {
     "data": {
      "text/plain": [
       "<sklearn.metrics._plot.confusion_matrix.ConfusionMatrixDisplay at 0x1e241550cd0>"
      ]
     },
     "execution_count": 14,
     "metadata": {},
     "output_type": "execute_result"
    },
    {
     "data": {
      "image/png": "[encoded data removed]",
      "text/plain": [
       "<Figure size 640x480 with 2 Axes>"
      ]
     },
     "metadata": {},
     "output_type": "display_data"
    }
   ],
   "source": [
    "ConfusionMatrixDisplay(\n",
    "    confusion_matrix(preds, y_test)\n",
    ").plot()"
   ]
  }
 ],
 "metadata": {
  "kernelspec": {
   "display_name": "Python 3 (ipykernel)",
   "language": "python",
   "name": "python3"
  },
  "language_info": {
   "codemirror_mode": {
    "name": "ipython",
    "version": 3
   },
   "file_extension": ".py",
   "mimetype": "text/x-python",
   "name": "python",
   "nbconvert_exporter": "python",
   "pygments_lexer": "ipython3",
   "version": "3.9.7"
  }
 },
 "nbformat": 4,
 "nbformat_minor": 5
}
