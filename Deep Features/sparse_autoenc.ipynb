{
 "cells": [
  {
   "cell_type": "code",
   "execution_count": 1,
   "id": "ff527bc3-6750-433f-9cd3-8ad4382d8f4b",
   "metadata": {
    "tags": []
   },
   "outputs": [],
   "source": [
    "import numpy as np\n",
    "import matplotlib.pyplot as plt\n",
    "\n",
    "import tensorflow as tf\n",
    "from tensorflow.keras import (models, initializers as init, \n",
    "                              layers, backend as K, regularizers as reg)\n",
    "from tensorflow.keras.datasets import mnist\n",
    "\n",
    "from sklearn.metrics import mean_squared_error"
   ]
  },
  {
   "cell_type": "code",
   "execution_count": 2,
   "id": "24d793d0-d1e6-4ee5-9266-bdc523dd7c33",
   "metadata": {
    "tags": []
   },
   "outputs": [],
   "source": [
    "(x_train, y_train), (x_test, y_test) = mnist.load_data()"
   ]
  },
  {
   "cell_type": "code",
   "execution_count": 3,
   "id": "8cd2b1e3-da3f-4333-96e4-cd9ef6c2054e",
   "metadata": {
    "tags": []
   },
   "outputs": [],
   "source": [
    "x_train = x_train.astype('float32') / 255\n",
    "x_test = x_test.astype('float32') / 255"
   ]
  },
  {
   "cell_type": "code",
   "execution_count": 4,
   "id": "108d860c-ffc7-4025-8d35-7dc5f0236c60",
   "metadata": {
    "tags": []
   },
   "outputs": [
    {
     "data": {
      "text/plain": [
       "(60000, 28, 28)"
      ]
     },
     "execution_count": 4,
     "metadata": {},
     "output_type": "execute_result"
    }
   ],
   "source": [
    "x_train.shape"
   ]
  },
  {
   "cell_type": "code",
   "execution_count": 5,
   "id": "1f166ec3-efa0-4638-8d00-5bf35d49d4e5",
   "metadata": {
    "tags": []
   },
   "outputs": [],
   "source": [
    "x_train = x_train.reshape((len(x_train), np.prod(x_train.shape[1:])))\n",
    "x_test = x_test.reshape((len(x_test), np.prod(x_test.shape[1:])))"
   ]
  },
  {
   "cell_type": "code",
   "execution_count": 6,
   "id": "19c71145-95fe-4230-8622-56d1ed160d04",
   "metadata": {
    "tags": []
   },
   "outputs": [
    {
     "name": "stdout",
     "output_type": "stream",
     "text": [
      "(60000, 784) (10000, 784)\n"
     ]
    }
   ],
   "source": [
    "print(x_train.shape, x_test.shape)"
   ]
  },
  {
   "cell_type": "code",
   "execution_count": 7,
   "id": "bcb7cbff-8733-4bb6-afe2-70f1f95f1efc",
   "metadata": {
    "tags": []
   },
   "outputs": [],
   "source": [
    "#https://github.com/sudharsan13296/Hands-On-Deep-Learning-Algorithms-with-Python/tree/master/10. Reconsturcting Inputs using Autoencoders\n",
    "def sparse_regularizer(activation_matrix):\n",
    "    p = 0.05\n",
    "    α = 1\n",
    "\n",
    "    p_hat = K.mean(activation_matrix) \n",
    "\n",
    "    KL_divergence = p*(K.log(p/p_hat)) + (1-p)*(K.log(1-p/1-p_hat))\n",
    "    \n",
    "    summation = K.sum(KL_divergence) \n",
    "   \n",
    "    return α * summation"
   ]
  },
  {
   "cell_type": "code",
   "execution_count": 9,
   "id": "a98784e2-aa0e-45b0-a57a-d30d736e5463",
   "metadata": {
    "tags": []
   },
   "outputs": [],
   "source": [
    "λ = 0.01\n",
    "class SparseAutoencoder(models.Model):\n",
    "    def __init__(self, orig_units, hidden_units):\n",
    "        super(SparseAutoencoder, self).__init__()\n",
    "        self.enc = models.Sequential([\n",
    "            layers.Dense(\n",
    "                hidden_units, \n",
    "                activation=\"sigmoid\", \n",
    "                kernel_regularizer=reg.l2(λ),\n",
    "                activity_regularizer=sparse_regularizer\n",
    "            )\n",
    "        ])\n",
    "        self.dec = models.Sequential([\n",
    "            layers.Dense(\n",
    "                orig_units,\n",
    "                activation=\"sigmoid\",\n",
    "                kernel_regularizer=reg.l2(λ),\n",
    "                activity_regularizer=sparse_regularizer\n",
    "            )\n",
    "        ])\n",
    "        \n",
    "    def call(self, x):\n",
    "        encoded = self.enc(x)\n",
    "        decoded = self.dec(encoded)\n",
    "        return decoded"
   ]
  },
  {
   "cell_type": "code",
   "execution_count": 10,
   "id": "7b2777ed-467b-4071-a566-17bd43bc9570",
   "metadata": {
    "tags": []
   },
   "outputs": [],
   "source": [
    "sac = SparseAutoencoder(784, 400)"
   ]
  },
  {
   "cell_type": "code",
   "execution_count": 11,
   "id": "e7de27e9-89f4-4365-95f7-580235764152",
   "metadata": {
    "tags": []
   },
   "outputs": [],
   "source": [
    "sac.compile(optimizer=\"sgd\", loss=\"mse\")"
   ]
  },
  {
   "cell_type": "code",
   "execution_count": 14,
   "id": "e926df51-0863-4645-9b30-fb03029f0caa",
   "metadata": {
    "tags": []
   },
   "outputs": [
    {
     "name": "stdout",
     "output_type": "stream",
     "text": [
      "Epoch 1/10\n",
      "469/469 [==============================] - 4s 8ms/step - loss: 0.3735 - val_loss: 0.3527\n",
      "Epoch 2/10\n",
      "469/469 [==============================] - 4s 8ms/step - loss: 0.3346 - val_loss: 0.3174\n",
      "Epoch 3/10\n",
      "469/469 [==============================] - 4s 8ms/step - loss: 0.3024 - val_loss: 0.2880\n",
      "Epoch 4/10\n",
      "469/469 [==============================] - 4s 8ms/step - loss: 0.2756 - val_loss: 0.2637\n",
      "Epoch 5/10\n",
      "469/469 [==============================] - 4s 8ms/step - loss: 0.2534 - val_loss: 0.2436\n",
      "Epoch 6/10\n",
      "469/469 [==============================] - 4s 9ms/step - loss: 0.2350 - val_loss: 0.2268\n",
      "Epoch 7/10\n",
      "469/469 [==============================] - 4s 8ms/step - loss: 0.2198 - val_loss: 0.2130\n",
      "Epoch 8/10\n",
      "469/469 [==============================] - 4s 9ms/step - loss: 0.2071 - val_loss: 0.2015\n",
      "Epoch 9/10\n",
      "469/469 [==============================] - 4s 8ms/step - loss: 0.1966 - val_loss: 0.1919\n",
      "Epoch 10/10\n",
      "469/469 [==============================] - 4s 8ms/step - loss: 0.1879 - val_loss: 0.1840\n"
     ]
    },
    {
     "data": {
      "text/plain": [
       "<keras.callbacks.History at 0x22b4184b700>"
      ]
     },
     "execution_count": 14,
     "metadata": {},
     "output_type": "execute_result"
    }
   ],
   "source": [
    "sac.fit(x_train, x_train, batch_size=128, shuffle=True, epochs=10, validation_data=(x_test, x_test))"
   ]
  },
  {
   "cell_type": "code",
   "execution_count": 15,
   "id": "d4d1e94b-0610-45b3-b09e-b55b37e54d89",
   "metadata": {
    "tags": []
   },
   "outputs": [
    {
     "name": "stdout",
     "output_type": "stream",
     "text": [
      "1875/1875 [==============================] - 4s 2ms/step\n"
     ]
    }
   ],
   "source": [
    "t = sac.predict(x_train)"
   ]
  },
  {
   "cell_type": "code",
   "execution_count": 16,
   "id": "73f6ca2f-f4c4-42e1-961e-df6f4b65432d",
   "metadata": {
    "tags": []
   },
   "outputs": [
    {
     "data": {
      "text/plain": [
       "0.34421387"
      ]
     },
     "execution_count": 16,
     "metadata": {},
     "output_type": "execute_result"
    }
   ],
   "source": [
    "mean_squared_error(x_train, t, squared=False)"
   ]
  },
  {
   "cell_type": "code",
   "execution_count": 17,
   "id": "f5c37ba4-d873-460b-bc59-4a246631bae3",
   "metadata": {
    "tags": []
   },
   "outputs": [
    {
     "data": {
      "text/plain": [
       "Text(0.5, 1.0, 'Reconstructed Image')"
      ]
     },
     "execution_count": 17,
     "metadata": {},
     "output_type": "execute_result"
    },
    {
     "data": {
      "image/png": "[encoded data removed]",
      "text/plain": [
       "<Figure size 800x500 with 2 Axes>"
      ]
     },
     "metadata": {},
     "output_type": "display_data"
    }
   ],
   "source": [
    "i=0\n",
    "f, ax = plt.subplots(1,2, figsize=(8,5))\n",
    "ax[0].imshow(x_train[i].reshape(28,28), cmap=\"gray\")\n",
    "ax[0].set_title(\"Original Image\")\n",
    "\n",
    "ax[1].imshow(t[i].reshape(28,28), cmap=\"gray\")\n",
    "ax[1].set_title(\"Reconstructed Image\")"
   ]
  },
  {
   "cell_type": "code",
   "execution_count": 52,
   "id": "d85ea4fe-b327-45d1-b08a-f9a696f01046",
   "metadata": {},
   "outputs": [
    {
     "name": "stdout",
     "output_type": "stream",
     "text": [
      "313/313 [==============================] - 1s 2ms/step\n"
     ]
    }
   ],
   "source": [
    "pred = sac.predict(x_test)"
   ]
  },
  {
   "cell_type": "code",
   "execution_count": 53,
   "id": "2a6236d8-fe56-460e-adff-ab13fe6322af",
   "metadata": {
    "tags": []
   },
   "outputs": [
    {
     "data": {
      "text/plain": [
       "0.35125482"
      ]
     },
     "execution_count": 53,
     "metadata": {},
     "output_type": "execute_result"
    }
   ],
   "source": [
    "mean_squared_error(x_test, pred, squared=False)"
   ]
  },
  {
   "cell_type": "code",
   "execution_count": 54,
   "id": "e883eb6d-3a0d-4b84-ba7b-baa6ff7c4022",
   "metadata": {
    "tags": []
   },
   "outputs": [
    {
     "data": {
      "text/plain": [
       "Text(0.5, 1.0, 'Reconstructed Image')"
      ]
     },
     "execution_count": 54,
     "metadata": {},
     "output_type": "execute_result"
    },
    {
     "data": {
      "image/png": "[encoded data removed]",
      "text/plain": [
       "<Figure size 800x500 with 2 Axes>"
      ]
     },
     "metadata": {},
     "output_type": "display_data"
    }
   ],
   "source": [
    "f, ax = plt.subplots(1,2, figsize=(8,5))\n",
    "ax[0].imshow(x_test[0].reshape(28,28))\n",
    "ax[0].set_title(\"Original Image\")\n",
    "\n",
    "ax[1].imshow(pred[0].reshape(28,28))\n",
    "ax[1].set_title(\"Reconstructed Image\")"
   ]
  },
  {
   "cell_type": "code",
   "execution_count": 22,
   "id": "fc5d0c1e-beab-4b7b-ad8b-2e8460d9260e",
   "metadata": {
    "tags": []
   },
   "outputs": [
    {
     "data": {
      "text/plain": [
       "array([0, 1, 2, 3, 4, 5, 6, 7, 8, 9], dtype=uint8)"
      ]
     },
     "execution_count": 22,
     "metadata": {},
     "output_type": "execute_result"
    }
   ],
   "source": [
    "np.unique(y_train)"
   ]
  },
  {
   "cell_type": "code",
   "execution_count": 41,
   "id": "9b9296e6-969c-4fc5-bd24-9343c3a8bce8",
   "metadata": {
    "tags": []
   },
   "outputs": [],
   "source": [
    "sac.enc.trainable=True"
   ]
  },
  {
   "cell_type": "code",
   "execution_count": 42,
   "id": "92882eba-8739-4901-99d2-d510faf5704b",
   "metadata": {
    "tags": []
   },
   "outputs": [],
   "source": [
    "model = models.Sequential([\n",
    "    sac.enc,\n",
    "    layers.Dense(10, activation=\"softmax\")\n",
    "])"
   ]
  },
  {
   "cell_type": "code",
   "execution_count": 43,
   "id": "c1821ad2-1bb4-4c1c-a858-5484b2839e36",
   "metadata": {
    "tags": []
   },
   "outputs": [],
   "source": [
    "model.compile(\"adam\", \"sparse_categorical_crossentropy\")"
   ]
  },
  {
   "cell_type": "code",
   "execution_count": 44,
   "id": "630f0f9a-a6d7-4727-9b4a-68adc616c5e5",
   "metadata": {
    "tags": []
   },
   "outputs": [
    {
     "data": {
      "text/plain": [
       "array([5, 0, 4, ..., 5, 6, 8], dtype=uint8)"
      ]
     },
     "execution_count": 44,
     "metadata": {},
     "output_type": "execute_result"
    }
   ],
   "source": [
    "y_train"
   ]
  },
  {
   "cell_type": "code",
   "execution_count": 56,
   "id": "f5ac00fe-ec5f-43b3-87b3-6a8d6456e9cc",
   "metadata": {
    "tags": []
   },
   "outputs": [
    {
     "name": "stdout",
     "output_type": "stream",
     "text": [
      "Epoch 1/2\n",
      "938/938 [==============================] - 8s 8ms/step - loss: 0.6564 - val_loss: 0.6399\n",
      "Epoch 2/2\n",
      "938/938 [==============================] - 7s 7ms/step - loss: 0.6212 - val_loss: 0.5698\n"
     ]
    },
    {
     "data": {
      "text/plain": [
       "<keras.callbacks.History at 0x22c13ccf790>"
      ]
     },
     "execution_count": 56,
     "metadata": {},
     "output_type": "execute_result"
    }
   ],
   "source": [
    "model.fit(x=x_train, y=y_train, validation_data=(x_test, y_test), batch_size=64, epochs=2)"
   ]
  },
  {
   "cell_type": "code",
   "execution_count": 30,
   "id": "2c4bcd13-c999-4f9d-9b9c-7e89136af82f",
   "metadata": {
    "tags": []
   },
   "outputs": [],
   "source": [
    "from sklearn.metrics import accuracy_score, confusion_matrix, ConfusionMatrixDisplay"
   ]
  },
  {
   "cell_type": "code",
   "execution_count": 57,
   "id": "0026ceb9-e54f-4275-a7f3-afb8a89891d6",
   "metadata": {
    "tags": []
   },
   "outputs": [
    {
     "name": "stdout",
     "output_type": "stream",
     "text": [
      "313/313 [==============================] - 1s 2ms/step\n"
     ]
    }
   ],
   "source": [
    "pred = model.predict(x_test)"
   ]
  },
  {
   "cell_type": "code",
   "execution_count": 58,
   "id": "5157b857-d709-4286-88d0-52a41a8a488c",
   "metadata": {
    "tags": []
   },
   "outputs": [],
   "source": [
    "pred = np.argmax(pred, axis=1)"
   ]
  },
  {
   "cell_type": "code",
   "execution_count": 59,
   "id": "efe4465c-bf67-4077-bf8f-29eea4758a90",
   "metadata": {
    "tags": []
   },
   "outputs": [
    {
     "data": {
      "text/plain": [
       "0.8935"
      ]
     },
     "execution_count": 59,
     "metadata": {},
     "output_type": "execute_result"
    }
   ],
   "source": [
    "accuracy_score(y_test, pred)"
   ]
  },
  {
   "cell_type": "code",
   "execution_count": 61,
   "id": "cb6096a3-a984-40e9-9852-344431b6f554",
   "metadata": {
    "tags": []
   },
   "outputs": [
    {
     "data": {
      "text/plain": [
       "<sklearn.metrics._plot.confusion_matrix.ConfusionMatrixDisplay at 0x22c12c6f580>"
      ]
     },
     "execution_count": 61,
     "metadata": {},
     "output_type": "execute_result"
    },
    {
     "data": {
      "image/png": "[encoded data removed]",
      "text/plain": [
       "<Figure size 640x480 with 2 Axes>"
      ]
     },
     "metadata": {},
     "output_type": "display_data"
    }
   ],
   "source": [
    "ConfusionMatrixDisplay(confusion_matrix(y_test, pred)).plot()"
   ]
  }
 ],
 "metadata": {
  "kernelspec": {
   "display_name": "Python 3 (ipykernel)",
   "language": "python",
   "name": "python3"
  },
  "language_info": {
   "codemirror_mode": {
    "name": "ipython",
    "version": 3
   },
   "file_extension": ".py",
   "mimetype": "text/x-python",
   "name": "python",
   "nbconvert_exporter": "python",
   "pygments_lexer": "ipython3",
   "version": "3.9.7"
  }
 },
 "nbformat": 4,
 "nbformat_minor": 5
}
