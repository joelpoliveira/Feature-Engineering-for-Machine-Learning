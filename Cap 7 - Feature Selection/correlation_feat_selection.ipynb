{
 "cells": [
  {
   "cell_type": "code",
   "execution_count": 1,
   "id": "020288b5-990e-4313-9439-aceb241bed0c",
   "metadata": {
    "tags": []
   },
   "outputs": [],
   "source": [
    "import pandas as pd\n",
    "import numpy as np\n",
    "\n",
    "from sklearn.svm import SVC\n",
    "from sklearn.preprocessing import StandardScaler, LabelEncoder\n",
    "from sklearn.feature_selection import SelectKBest\n",
    "from sklearn.model_selection import cross_val_score, train_test_split"
   ]
  },
  {
   "cell_type": "code",
   "execution_count": 3,
   "id": "745f8677-f09a-412b-af61-a65a8e9ef92a",
   "metadata": {
    "tags": []
   },
   "outputs": [],
   "source": [
    "data = pd.read_csv(\"data/telescope.csv\")\n",
    "X = data.drop(columns=\"class\")\n",
    "y = LabelEncoder().fit_transform(data[\"class\"])\n",
    "\n",
    "X_train, X_test, y_train, y_test = train_test_split(X,y, test_size=0.2, random_state=13)"
   ]
  },
  {
   "cell_type": "code",
   "execution_count": 4,
   "id": "12f26dc4-6a53-47a4-9c61-a4f55046465f",
   "metadata": {
    "tags": []
   },
   "outputs": [],
   "source": [
    "ss=StandardScaler().set_output(transform=\"pandas\").fit(X_train)"
   ]
  },
  {
   "cell_type": "code",
   "execution_count": 17,
   "id": "ccaaf8f2-b2da-4b7b-9c32-534c90213e76",
   "metadata": {
    "tags": []
   },
   "outputs": [
    {
     "data": {
      "text/plain": [
       "fLength     0.008\n",
       "fWidth      0.014\n",
       "fSize       0.005\n",
       "fConc      -0.002\n",
       "fConc1     -0.005\n",
       "fAsym       0.008\n",
       "fM3Long    -0.007\n",
       "fM3Trans    0.011\n",
       "fAlpha      0.014\n",
       "fDist       0.004\n",
       "0           1.000\n",
       "Name: 0, dtype: float64"
      ]
     },
     "execution_count": 17,
     "metadata": {},
     "output_type": "execute_result"
    }
   ],
   "source": [
    "(pd.concat(\n",
    "    (ss.transform(X_train), pd.Series(y_train)), axis=1\n",
    ").corr()[0]).round(3)"
   ]
  },
  {
   "cell_type": "code",
   "execution_count": 11,
   "id": "554962b5-9bda-41c0-b280-36452a8d5e93",
   "metadata": {
    "tags": []
   },
   "outputs": [],
   "source": [
    "cols = [\"fLength\", \"fWidth\", \"fConc1\", \"fAsym\", \"fM3Long\", \"fM3Trans\", \"fAlpha\"]"
   ]
  },
  {
   "cell_type": "code",
   "execution_count": 14,
   "id": "af4f991c-4a43-4a0a-957e-e25a664939e4",
   "metadata": {
    "tags": []
   },
   "outputs": [
    {
     "data": {
      "text/plain": [
       "fLength     3\n",
       "fWidth      3\n",
       "fConc1      2\n",
       "fAsym       1\n",
       "fM3Long     1\n",
       "fM3Trans    1\n",
       "fAlpha      1\n",
       "dtype: int64"
      ]
     },
     "execution_count": 14,
     "metadata": {},
     "output_type": "execute_result"
    }
   ],
   "source": [
    "(ss.transform(X_train).corr() > 0.5).sum().loc[cols]"
   ]
  },
  {
   "cell_type": "code",
   "execution_count": 16,
   "id": "c0972604-3673-4b43-a676-0d6a0c00dd53",
   "metadata": {
    "tags": []
   },
   "outputs": [
    {
     "data": {
      "text/html": [
       "<div>\n",
       "<style scoped>\n",
       "    .dataframe tbody tr th:only-of-type {\n",
       "        vertical-align: middle;\n",
       "    }\n",
       "\n",
       "    .dataframe tbody tr th {\n",
       "        vertical-align: top;\n",
       "    }\n",
       "\n",
       "    .dataframe thead th {\n",
       "        text-align: right;\n",
       "    }\n",
       "</style>\n",
       "<table border=\"1\" class=\"dataframe\">\n",
       "  <thead>\n",
       "    <tr style=\"text-align: right;\">\n",
       "      <th></th>\n",
       "      <th>fLength</th>\n",
       "      <th>fWidth</th>\n",
       "      <th>fConc1</th>\n",
       "      <th>fAsym</th>\n",
       "      <th>fM3Long</th>\n",
       "      <th>fM3Trans</th>\n",
       "      <th>fAlpha</th>\n",
       "    </tr>\n",
       "  </thead>\n",
       "  <tbody>\n",
       "    <tr>\n",
       "      <th>fLength</th>\n",
       "      <td>True</td>\n",
       "      <td>True</td>\n",
       "      <td>False</td>\n",
       "      <td>False</td>\n",
       "      <td>False</td>\n",
       "      <td>False</td>\n",
       "      <td>False</td>\n",
       "    </tr>\n",
       "    <tr>\n",
       "      <th>fWidth</th>\n",
       "      <td>True</td>\n",
       "      <td>True</td>\n",
       "      <td>False</td>\n",
       "      <td>False</td>\n",
       "      <td>False</td>\n",
       "      <td>False</td>\n",
       "      <td>False</td>\n",
       "    </tr>\n",
       "    <tr>\n",
       "      <th>fConc1</th>\n",
       "      <td>False</td>\n",
       "      <td>False</td>\n",
       "      <td>True</td>\n",
       "      <td>False</td>\n",
       "      <td>False</td>\n",
       "      <td>False</td>\n",
       "      <td>False</td>\n",
       "    </tr>\n",
       "    <tr>\n",
       "      <th>fAsym</th>\n",
       "      <td>False</td>\n",
       "      <td>False</td>\n",
       "      <td>False</td>\n",
       "      <td>True</td>\n",
       "      <td>False</td>\n",
       "      <td>False</td>\n",
       "      <td>False</td>\n",
       "    </tr>\n",
       "    <tr>\n",
       "      <th>fM3Long</th>\n",
       "      <td>False</td>\n",
       "      <td>False</td>\n",
       "      <td>False</td>\n",
       "      <td>False</td>\n",
       "      <td>True</td>\n",
       "      <td>False</td>\n",
       "      <td>False</td>\n",
       "    </tr>\n",
       "    <tr>\n",
       "      <th>fM3Trans</th>\n",
       "      <td>False</td>\n",
       "      <td>False</td>\n",
       "      <td>False</td>\n",
       "      <td>False</td>\n",
       "      <td>False</td>\n",
       "      <td>True</td>\n",
       "      <td>False</td>\n",
       "    </tr>\n",
       "    <tr>\n",
       "      <th>fAlpha</th>\n",
       "      <td>False</td>\n",
       "      <td>False</td>\n",
       "      <td>False</td>\n",
       "      <td>False</td>\n",
       "      <td>False</td>\n",
       "      <td>False</td>\n",
       "      <td>True</td>\n",
       "    </tr>\n",
       "  </tbody>\n",
       "</table>\n",
       "</div>"
      ],
      "text/plain": [
       "          fLength  fWidth  fConc1  fAsym  fM3Long  fM3Trans  fAlpha\n",
       "fLength      True    True   False  False    False     False   False\n",
       "fWidth       True    True   False  False    False     False   False\n",
       "fConc1      False   False    True  False    False     False   False\n",
       "fAsym       False   False   False   True    False     False   False\n",
       "fM3Long     False   False   False  False     True     False   False\n",
       "fM3Trans    False   False   False  False    False      True   False\n",
       "fAlpha      False   False   False  False    False     False    True"
      ]
     },
     "execution_count": 16,
     "metadata": {},
     "output_type": "execute_result"
    }
   ],
   "source": [
    "(ss.transform(X_train).corr() > 0.5).loc[cols, cols]"
   ]
  },
  {
   "cell_type": "code",
   "execution_count": 18,
   "id": "35b2c0ca-4737-45e2-b9a0-20e3f22ce7a8",
   "metadata": {
    "tags": []
   },
   "outputs": [],
   "source": [
    "cols = [\"fWidth\", \"fConc1\", \"fAsym\", \"fM3Long\", \"fM3Trans\", \"fAlpha\"]"
   ]
  },
  {
   "cell_type": "code",
   "execution_count": 19,
   "id": "a1a3c872-6d8d-4263-af7f-24358adb3b77",
   "metadata": {
    "tags": []
   },
   "outputs": [],
   "source": [
    "scaler = StandardScaler().fit(X_train[cols])\n",
    "svm = SVC().fit(scaler.transform(X_train[cols]), y_train)"
   ]
  },
  {
   "cell_type": "code",
   "execution_count": 21,
   "id": "384603d4-e4d4-46aa-b503-fa5c6b4f69a2",
   "metadata": {
    "tags": []
   },
   "outputs": [
    {
     "data": {
      "text/plain": [
       "0.8179547844374343"
      ]
     },
     "execution_count": 21,
     "metadata": {},
     "output_type": "execute_result"
    }
   ],
   "source": [
    "svm.score(scaler.transform(X_train[cols]), y_train)"
   ]
  },
  {
   "cell_type": "code",
   "execution_count": 22,
   "id": "a246220f-41c1-4384-98e0-db8fc1b394aa",
   "metadata": {
    "tags": []
   },
   "outputs": [],
   "source": [
    "from sklearn.metrics import matthews_corrcoef, ConfusionMatrixDisplay, confusion_matrix"
   ]
  },
  {
   "cell_type": "code",
   "execution_count": 24,
   "id": "20d38c4d-40e4-4720-b0be-5bc58406c330",
   "metadata": {
    "tags": []
   },
   "outputs": [
    {
     "data": {
      "text/plain": [
       "0.5889343068925987"
      ]
     },
     "execution_count": 24,
     "metadata": {},
     "output_type": "execute_result"
    }
   ],
   "source": [
    "matthews_corrcoef(\n",
    "    svm.predict(\n",
    "        scaler.transform(X_train[cols])\n",
    "    ), y_train\n",
    ")"
   ]
  },
  {
   "cell_type": "code",
   "execution_count": 26,
   "id": "31da1c8d-922a-4fe7-9b04-c6be9a4dbb86",
   "metadata": {
    "tags": []
   },
   "outputs": [],
   "source": [
    "preds = svm.predict(\n",
    "    scaler.transform(X_test[cols])\n",
    ")"
   ]
  },
  {
   "cell_type": "code",
   "execution_count": 27,
   "id": "8baa4c1d-dab3-450f-812e-649a1bcb28c4",
   "metadata": {
    "tags": []
   },
   "outputs": [
    {
     "data": {
      "text/plain": [
       "0.8065194532071503"
      ]
     },
     "execution_count": 27,
     "metadata": {},
     "output_type": "execute_result"
    }
   ],
   "source": [
    "svm.score(scaler.transform(X_test[cols]), y_test)"
   ]
  },
  {
   "cell_type": "code",
   "execution_count": 28,
   "id": "b54a2171-f745-43a0-9c09-358f6cda5a24",
   "metadata": {
    "tags": []
   },
   "outputs": [
    {
     "data": {
      "text/plain": [
       "0.5693132475796726"
      ]
     },
     "execution_count": 28,
     "metadata": {},
     "output_type": "execute_result"
    }
   ],
   "source": [
    "matthews_corrcoef(preds, y_test)"
   ]
  },
  {
   "cell_type": "code",
   "execution_count": 29,
   "id": "a1a2207e-c2cb-4d84-a8e9-40a69cd7834e",
   "metadata": {
    "tags": []
   },
   "outputs": [
    {
     "data": {
      "text/plain": [
       "<sklearn.metrics._plot.confusion_matrix.ConfusionMatrixDisplay at 0x1a559f72f40>"
      ]
     },
     "execution_count": 29,
     "metadata": {},
     "output_type": "execute_result"
    },
    {
     "data": {
      "image/png": "[encoded data removed]",
      "text/plain": [
       "<Figure size 640x480 with 2 Axes>"
      ]
     },
     "metadata": {},
     "output_type": "display_data"
    }
   ],
   "source": [
    "ConfusionMatrixDisplay(\n",
    "    confusion_matrix(preds, y_test)\n",
    ").plot()"
   ]
  }
 ],
 "metadata": {
  "kernelspec": {
   "display_name": "Python 3 (ipykernel)",
   "language": "python",
   "name": "python3"
  },
  "language_info": {
   "codemirror_mode": {
    "name": "ipython",
    "version": 3
   },
   "file_extension": ".py",
   "mimetype": "text/x-python",
   "name": "python",
   "nbconvert_exporter": "python",
   "pygments_lexer": "ipython3",
   "version": "3.9.7"
  }
 },
 "nbformat": 4,
 "nbformat_minor": 5
}
